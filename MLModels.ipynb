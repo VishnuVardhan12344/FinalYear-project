{
 "cells": [
  {
   "cell_type": "code",
   "execution_count": 1,
   "metadata": {},
   "outputs": [],
   "source": [
    "import numpy as np\n",
    "import pandas as pd\n",
    "import matplotlib.pyplot as plt\n",
    "import seaborn as sns\n",
    "import collections\n",
    "import nltk\n",
    "import io\n",
    "from textblob import Word\n",
    "import re\n",
    "import sys, os, csv\n",
    "import string\n",
    "from sklearn import preprocessing\n",
    "from sklearn.feature_extraction.text import TfidfVectorizer\n",
    "from sklearn.feature_extraction.text import CountVectorizer\n",
    "from sklearn.metrics import accuracy_score\n",
    "from sklearn.naive_bayes import MultinomialNB\n",
    "from sklearn.linear_model import SGDClassifier\n",
    "from sklearn.linear_model import LogisticRegression\n",
    "from sklearn.ensemble import RandomForestClassifier\n",
    "from sklearn.base import BaseEstimator, TransformerMixin\n",
    "from emot.emo_unicode import UNICODE_EMOJI, EMOTICONS_EMO\n",
    "from nltk.corpus import stopwords\n",
    "from nltk.tokenize import word_tokenize\n",
    "from nltk.corpus import wordnet\n",
    "from nltk.stem import PorterStemmer\n",
    "from nltk.stem import WordNetLemmatizer\n",
    "from collections import Counter\n"
   ]
  },
  {
   "cell_type": "code",
   "execution_count": 2,
   "metadata": {},
   "outputs": [],
   "source": [
    "from collections import Counter\n",
    "from nltk.stem import PorterStemmer\n",
    "from nltk.stem import WordNetLemmatizer"
   ]
  },
  {
   "cell_type": "code",
   "execution_count": 3,
   "metadata": {},
   "outputs": [
    {
     "name": "stderr",
     "output_type": "stream",
     "text": [
      "[nltk_data] Downloading package averaged_perceptron_tagger to\n",
      "[nltk_data]     C:\\Users\\Vishnu Vardhan\\AppData\\Roaming\\nltk_data...\n",
      "[nltk_data]   Package averaged_perceptron_tagger is already up-to-\n",
      "[nltk_data]       date!\n",
      "[nltk_data] Downloading package wordnet to C:\\Users\\Vishnu\n",
      "[nltk_data]     Vardhan\\AppData\\Roaming\\nltk_data...\n",
      "[nltk_data]   Package wordnet is already up-to-date!\n",
      "[nltk_data] Downloading package stopwords to C:\\Users\\Vishnu\n",
      "[nltk_data]     Vardhan\\AppData\\Roaming\\nltk_data...\n",
      "[nltk_data]   Package stopwords is already up-to-date!\n"
     ]
    },
    {
     "data": {
      "text/plain": [
       "True"
      ]
     },
     "execution_count": 3,
     "metadata": {},
     "output_type": "execute_result"
    }
   ],
   "source": [
    "import nltk\n",
    "nltk.download('averaged_perceptron_tagger')\n",
    "nltk.download('wordnet')\n",
    "nltk.download('stopwords')"
   ]
  },
  {
   "cell_type": "markdown",
   "metadata": {},
   "source": [
    "# Data Cleaning"
   ]
  },
  {
   "cell_type": "code",
   "execution_count": null,
   "metadata": {},
   "outputs": [],
   "source": [
    "def word_prob(word): return dictionary[word] / total\n",
    "def words(text): return re.findall('[a-z]+', text.lower())\n",
    "dictionary = Counter(words(open('dataset/wordlists/merged.txt').read()))\n",
    "max_word_length = max(map(len, dictionary))\n",
    "total = float(sum(dictionary.values()))\n",
    "\n",
    "def viterbi_segment(text):\n",
    "    probs, lasts = [1.0], [0]\n",
    "    for i in range(1, len(text) + 1):\n",
    "        prob_k, k = max((probs[j] * word_prob(text[j:i]), j)\n",
    "                        for j in range(max(0, i - max_word_length), i))\n",
    "        probs.append(prob_k)\n",
    "        lasts.append(k)\n",
    "    words = []\n",
    "    i = len(text)\n",
    "    while 0 < i:\n",
    "        words.append(text[lasts[i]:i])\n",
    "        i = lasts[i]\n",
    "    words.reverse()\n",
    "    return words, probs[-1]\n",
    "\n",
    "def fix_hashtag(text):\n",
    "    text = text.group().split(\":\")[0]\n",
    "    text = text[1:] # remove '#'\n",
    "    try:\n",
    "        test = int(text[0])\n",
    "        text = text[1:]\n",
    "    except:\n",
    "        pass\n",
    "    output = ' '.join(viterbi_segment(text)[0])\n",
    "    return output\n",
    "\n",
    "def prep(tweet):\n",
    "    \"\"\"pattern = re.compile(r\"(.)\\1{2,}\")\n",
    "    tweet = pattern.sub(r\"\\1\\1\", str(tweet))\n",
    "    tweet = re.sub(r'http.?://[^\\s]+[\\s]?', '', str(tweet))\n",
    "    punct = string.punctuation\n",
    "    trantab = str.maketrans(punct, len(punct) * ' ')  # Every punctuation symbol will be replaced by a space\n",
    "    tweet = tweet.translate(trantab)\n",
    "    tweet = tweet.lower()\n",
    "    tweet = tweet.strip()\"\"\"\n",
    "    \n",
    "    tweet = tweet.lower()\n",
    "    tweet = re.sub(\"(#[A-Za-z0-9]+)\", fix_hashtag, tweet)\n",
    "    tweet = ' '.join(re.sub(\"(@[A-Za-z0-9]+)|([^0-9A-Za-z \\t])|(\\w+:\\/\\/\\S+)\", \" \", tweet).split())\n",
    "    \n",
    "    tweet = re.sub('\\d+', '', str(tweet))\n",
    "    def get_wordnet_pos(word):\n",
    "        tag = nltk.pos_tag([word])[0][1][0].upper()\n",
    "        tag_dict = {\"J\": wordnet.ADJ, \"N\": wordnet.NOUN, \"V\": wordnet.VERB, \"R\": wordnet.ADV}\n",
    "        return tag_dict.get(tag, wordnet.NOUN)     \n",
    "        \n",
    "    ps = PorterStemmer()\n",
    "    words = tweet.split()\n",
    "    lemmatizer = WordNetLemmatizer()\n",
    "    lemma_words = [lemmatizer.lemmatize(word, get_wordnet_pos(word)) for word in words]\n",
    "    tweet = \" \".join(lemma_words)\n",
    "    \n",
    "    stopwords_list = stopwords.words('english')\n",
    "    # Some words which might indicate a certain sentiment are kept via a whitelist\n",
    "    whitelist = [\"n't\", \"not\", \"no\"]\n",
    "    words = tweet.split()\n",
    "    clean_words = [word for word in words if (word not in stopwords_list or word in whitelist) and len(word) > 1]\n",
    "    tweet = \" \".join(clean_words)\n",
    "    \n",
    "    tweet = tweet.strip()\n",
    "    return tweet\n",
    "\n",
    "def vectorise_label(label):\n",
    "    if label == \"empty\":return 0\n",
    "    elif label == \"sadness\":return 2\n",
    "    elif label == \"enthusiasm\":return 1\n",
    "    elif label == \"neutral\":return 0\n",
    "    elif label == \"worry\":return 2\n",
    "    elif label == \"surprise\":return 1\n",
    "    elif label == \"love\":return 3\n",
    "    elif label == \"fun\":return 1\n",
    "    elif label == \"hate\":return 4\n",
    "    elif label == \"happiness\":return 1\n",
    "    elif label == \"boredom\":return 0\n",
    "    elif label == \"relief\":return 1\n",
    "    elif label == \"anger\":return 4\n",
    "    elif label == \"b*tch\": return 4\n",
    "    elif label == \"fu*k\": return 4"
   ]
  },
  {
   "cell_type": "code",
   "execution_count": null,
   "metadata": {},
   "outputs": [],
   "source": [
    "data1 = pd.read_csv(\"C:\\\\Users\\\\Vishnu Vardhan\\\\Desktop\\\\capstone project file\\\\crawled_csv\\\\processors\\\\capstonesad_processes.csv\",sep=\",\")\n",
    "dataWriter = csv.writer(open('crawled_csv/prep/capstonesad_prep.csv', 'w'), delimiter=',',lineterminator=\"\\n\")\n",
    "total = 2000\n",
    "for i in range(2000):\n",
    "    tweet= prep(data1.iloc[:,0][i])\n",
    "    dataWriter.writerow([tweet, 2])     \n",
    "print(\"Done!\")"
   ]
  },
  {
   "cell_type": "code",
   "execution_count": null,
   "metadata": {},
   "outputs": [],
   "source": [
    "data2 = pd.read_csv('dataset/data/text_emotion.csv', sep=',', encoding='utf-8')\n",
    "print(\"Dataset shape:\",data2.shape)\n",
    "print(data2.sentiment[0],\":\",data2.content[0])"
   ]
  },
  {
   "cell_type": "code",
   "execution_count": null,
   "metadata": {},
   "outputs": [],
   "source": [
    "dataWriter = csv.writer(open('cleaned_data/capstonedata_prep.csv', 'w', encoding='utf-8'), delimiter=',',lineterminator=\"\\n\")\n",
    "\n",
    "total = 40000\n",
    "for i in range(40000):\n",
    "    tweet= prep(data2.content[i])\n",
    "    dataWriter.writerow([tweet, str(vectorise_label(data2.sentiment[i]))])\n",
    "       \n",
    "print(\"Progress: \",100,\"\\nComplete!\")"
   ]
  },
  {
   "cell_type": "markdown",
   "metadata": {},
   "source": [
    "MODEL BULIDING\n"
   ]
  },
  {
   "cell_type": "code",
   "execution_count": 4,
   "metadata": {},
   "outputs": [
    {
     "name": "stdout",
     "output_type": "stream",
     "text": [
      "Dataset shape: (16000, 2)\n"
     ]
    }
   ],
   "source": [
    "data_train = pd.read_csv('C:\\\\Users\\\\Vishnu Vardhan\\\\Desktop\\\\capstone project file\\\\cleaned_data\\\\training.csv', sep=',')\n",
    "print(\"Dataset shape:\",data_train.shape)"
   ]
  },
  {
   "cell_type": "code",
   "execution_count": 5,
   "metadata": {},
   "outputs": [],
   "source": [
    "data_train['label'] += 1"
   ]
  },
  {
   "cell_type": "code",
   "execution_count": 6,
   "metadata": {},
   "outputs": [
    {
     "data": {
      "text/html": [
       "<div>\n",
       "<style scoped>\n",
       "    .dataframe tbody tr th:only-of-type {\n",
       "        vertical-align: middle;\n",
       "    }\n",
       "\n",
       "    .dataframe tbody tr th {\n",
       "        vertical-align: top;\n",
       "    }\n",
       "\n",
       "    .dataframe thead th {\n",
       "        text-align: right;\n",
       "    }\n",
       "</style>\n",
       "<table border=\"1\" class=\"dataframe\">\n",
       "  <thead>\n",
       "    <tr style=\"text-align: right;\">\n",
       "      <th></th>\n",
       "      <th>text</th>\n",
       "      <th>label</th>\n",
       "    </tr>\n",
       "  </thead>\n",
       "  <tbody>\n",
       "    <tr>\n",
       "      <th>0</th>\n",
       "      <td>i didnt feel humiliated</td>\n",
       "      <td>1</td>\n",
       "    </tr>\n",
       "    <tr>\n",
       "      <th>1</th>\n",
       "      <td>i can go from feeling so hopeless to so damned...</td>\n",
       "      <td>1</td>\n",
       "    </tr>\n",
       "    <tr>\n",
       "      <th>2</th>\n",
       "      <td>im grabbing a minute to post i feel greedy wrong</td>\n",
       "      <td>4</td>\n",
       "    </tr>\n",
       "    <tr>\n",
       "      <th>3</th>\n",
       "      <td>i am ever feeling nostalgic about the fireplac...</td>\n",
       "      <td>3</td>\n",
       "    </tr>\n",
       "    <tr>\n",
       "      <th>4</th>\n",
       "      <td>i am feeling grouchy</td>\n",
       "      <td>4</td>\n",
       "    </tr>\n",
       "  </tbody>\n",
       "</table>\n",
       "</div>"
      ],
      "text/plain": [
       "                                                text  label\n",
       "0                            i didnt feel humiliated      1\n",
       "1  i can go from feeling so hopeless to so damned...      1\n",
       "2   im grabbing a minute to post i feel greedy wrong      4\n",
       "3  i am ever feeling nostalgic about the fireplac...      3\n",
       "4                               i am feeling grouchy      4"
      ]
     },
     "execution_count": 6,
     "metadata": {},
     "output_type": "execute_result"
    }
   ],
   "source": [
    "data_train.head()"
   ]
  },
  {
   "cell_type": "code",
   "execution_count": 7,
   "metadata": {},
   "outputs": [
    {
     "data": {
      "text/plain": [
       "Text(0.5, 0, 'Emotions')"
      ]
     },
     "execution_count": 7,
     "metadata": {},
     "output_type": "execute_result"
    },
    {
     "data": {
      "image/png": "[encoded data removed]",
      "text/plain": [
       "<Figure size 648x504 with 1 Axes>"
      ]
     },
     "metadata": {
      "needs_background": "light"
     },
     "output_type": "display_data"
    }
   ],
   "source": [
    "import matplotlib.pyplot as plt\n",
    "import seaborn as sns\n",
    "\n",
    "count = data_train.iloc[:,1].value_counts()\n",
    "fig = plt.figure(figsize=(9,7))  # Rename plt to fig\n",
    "sns.barplot(x = count.index, y = count.values, alpha=0.8, palette=\"plasma\")\n",
    "plt.ylabel('Count', fontsize=12)\n",
    "plt.xlabel('Emotions', fontsize=12)\n",
    "\n",
    "#sadness (1)\n",
    "#joy (2)\n",
    "#love (3)\n",
    "#anger (4)\n",
    "#fear (5)\n",
    "#neutral (6)"
   ]
  },
  {
   "cell_type": "markdown",
   "metadata": {},
   "source": [
    "# Test Train Split"
   ]
  },
  {
   "cell_type": "code",
   "execution_count": 8,
   "metadata": {},
   "outputs": [],
   "source": [
    "X_train = data_train.iloc[:,0][:11199]\n",
    "#[:47583]\n",
    "y_train = data_train.iloc[:,-1][:11199]\n",
    "#[:47583]\n",
    "X_val = data_train.iloc[:,0][11200:]\n",
    "#[47584:]\n",
    "y_val = data_train.iloc[:,-1][11200:]\n",
    "#[47584:]"
   ]
  },
  {
   "cell_type": "markdown",
   "metadata": {},
   "source": [
    "# Count Vectorizer"
   ]
  },
  {
   "cell_type": "code",
   "execution_count": 9,
   "metadata": {
    "jupyter": {
     "outputs_hidden": true
    }
   },
   "outputs": [
    {
     "name": "stdout",
     "output_type": "stream",
     "text": [
      "{'didnt': 3642, 'feel': 4943, 'humiliated': 6448, 'can': 1910, 'go': 5694, 'from': 5404, 'feeling': 4947, 'so': 12298, 'hopeless': 6359, 'to': 13616, 'damned': 3233, 'hopeful': 6357, 'just': 7270, 'being': 1216, 'around': 729, 'someone': 12366, 'who': 14800, 'cares': 1980, 'and': 524, 'is': 7028, 'awake': 957, 'im': 6572, 'grabbing': 5750, 'minute': 8447, 'post': 10144, 'greedy': 5811, 'wrong': 15031, 'am': 462, 'ever': 4589, 'nostalgic': 9050, 'about': 60, 'the': 13419, 'fireplace': 5073, 'will': 14843, 'know': 7432, 'that': 13412, 'it': 7053, 'still': 12713, 'on': 9253, 'property': 10423, 'grouchy': 5849, 'ive': 7070, 'been': 1182, 'little': 7808, 'burdened': 1798, 'lately': 7536, 'wasnt': 14636, 'sure': 13046, 'why': 14818, 'was': 14629, 'taking': 13203, 'or': 9313, 'milligrams': 8406, 'times': 13578, 'recommended': 10819, 'amount': 492, 'fallen': 4841, 'asleep': 795, 'lot': 7910, 'faster': 4887, 'but': 1833, 'also': 443, 'like': 7738, 'funny': 5462, 'as': 773, 'confused': 2702, 'life': 7713, 'teenager': 13312, 'jaded': 7084, 'year': 15084, 'old': 9233, 'man': 8067, 'have': 6069, 'with': 14903, 'petronas': 9817, 'for': 5252, 'years': 15092, 'has': 6043, 'performed': 9745, 'well': 14723, 'made': 8008, 'huge': 6427, 'profit': 10381, 'romantic': 11319, 'too': 13664, 'make': 8043, 'suffering': 12953, 'seeing': 11691, 'mean': 8236, 'something': 12370, 'do': 3877, 'running': 11402, 'divine': 3862, 'experience': 4719, 'expect': 4709, 'some': 12359, 'type': 13975, 'of': 9193, 'spiritual': 12509, 'encounter': 4387, 'think': 13471, 'easiest': 4167, 'time': 13573, 'dissatisfied': 3817, 'low': 7928, 'energy': 4421, 'thirsty': 13478, 'immense': 6595, 'sympathy': 13159, 'general': 5552, 'point': 10045, 'possible': 10142, 'proto': 10452, 'writer': 15023, 'trying': 13899, 'find': 5049, 'write': 15022, 'in': 6651, 'corners': 2899, 'no': 8997, 'sign': 12018, 'an': 508, 'agent': 319, 'let': 7675, 'alone': 434, 'publishing': 10511, 'contract': 2822, 'this': 13481, 'feels': 4950, 'precious': 10212, 'not': 9053, 'reassured': 10779, 'anxiety': 606, 'each': 4139, 'side': 12000, 'really': 10769, 'embarrassed': 4312, 'pretty': 10290, 'pathetic': 9638, 'most': 8626, 'started': 12640, 'sentimental': 11757, 'dolls': 3905, 'had': 5929, 'child': 2233, 'began': 1194, 'collection': 2491, 'vintage': 14474, 'barbie': 1076, 'sixties': 12093, 'now': 9084, 'compromised': 2635, 'skeptical': 12104, 'value': 14348, 'every': 4592, 'unit': 14153, 'work': 14962, 'put': 10566, 'irritated': 7025, 'rejected': 10922, 'without': 14910, 'anyone': 613, 'doing': 3900, 'anything': 615, 'saying': 11538, 'completely': 2613, 'overwhelmed': 9458, 'two': 13967, 'strategies': 12781, 'help': 6168, 'me': 8232, 'grounded': 5851, 'pour': 10169, 'my': 8768, 'heart': 6112, 'out': 9372, 'journal': 7215, 'form': 5287, 'letter': 7681, 'god': 5698, 'then': 13432, 'end': 4394, 'list': 7789, 'five': 5092, 'things': 13469, 'grateful': 5794, 'she': 11870, 'amused': 503, 'delighted': 3431, 'able': 52, 'chai': 2118, 'lifeline': 7714, 'your': 15128, 'support': 13027, 'encouragement': 4391, 'great': 5804, 'glad': 5645, 'you': 15121, 'were': 14729, 'already': 441, 'fucked': 5428, 'up': 14254, 'though': 13492, 'because': 1167, 'dont': 3921, 'usually': 14313, 'eat': 4174, 'at': 843, 'all': 409, 'morning': 8611, 'wish': 14892, 'best': 1280, 'him': 6243, 'longer': 7872, 'tolerate': 13639, 'effect': 4225, 'bm': 1483, 'our': 9369, 'lives': 7817, 'fact': 4813, 'turned': 13934, 'into': 6954, 'bitter': 1368, 'angry': 544, 'person': 9780, 'always': 461, 'particularly': 9597, 'kind': 7380, 'people': 9723, 'when': 14758, 'he': 6081, 'stressed': 12797, 'inhibited': 6794, 'elses': 4294, 'kitchen': 7399, 'painting': 9517, 'picture': 9880, 'become': 1168, 'defeated': 3384, 'kinda': 7381, 'appalled': 644, 'needs': 8878, 'explain': 4729, 'wide': 14822, 'lenghth': 7653, 'her': 6183, 'body': 1500, 'measures': 8246, 'etc': 4550, 'pp': 10180, 'more': 8602, 'superior': 13008, 'dead': 3304, 'chicken': 2228, 'grieving': 5826, 'get': 5594, 'giddy': 5612, 'over': 9412, 'elegant': 4276, 'perfectly': 9741, 'fitted': 5090, 'pencil': 9711, 'skirt': 12127, 'remember': 10986, 'acutely': 184, 'distressed': 3842, 'few': 4986, 'days': 3295, 'seen': 11701, 'heard': 6108, 'read': 10741, 'past': 9627, 'couple': 2951, 'left': 7625, 'impressed': 6634, 'by': 1851, 'than': 13402, 'companies': 2580, 'climbed': 2385, 'hill': 6239, 'frustrated': 5421, 'id': 6518, 'much': 8694, 'paced': 9483, 'entirely': 4467, 'course': 2956, 'factor': 4814, 'never': 8930, 'hampered': 5962, 'such': 12937, 'dent': 3469, 'day': 3289, 'imagine': 6580, 'real': 10754, 'scenario': 11566, 'where': 14760, 'would': 14997, 'be': 1140, 'emotionally': 4341, 'connected': 2715, 'enough': 4439, 'totally': 13694, 'accepted': 97, 'safe': 11439, 'morally': 8597, 'acceptable': 94, 'close': 2403, 'prolonged': 10404, 'physical': 9858, 'contact': 2784, 'sex': 11812, 'won': 14938, 'expected': 4712, 'subsequently': 12913, 'what': 14747, 'content': 2801, 'if': 6542, 'need': 8869, 'creative': 3031, 'however': 6411, 'want': 14595, 'causing': 2057, 'less': 7668, 'splendid': 12519, 'self': 11718, 'step': 12689, 'away': 964, 'them': 13427, 'bit': 1356, 'rude': 11378, 'writing': 15027, 'elderly': 4267, 'gentleman': 5572, 'ask': 791, 'gifts': 5616, 'christmas': 2284, 'mild': 8394, 'greed': 5810, 'protected': 10442, 'small': 12209, 'myself': 8773, 'season': 11663, 'words': 14960, 'plan': 9963, 'share': 11852, 'everyday': 4596, 'stories': 12753, 'traveling': 13799, 'adventures': 260, 'inspirations': 6851, 'handmade': 5978, 'creations': 3030, 'hope': 6355, 'inspired': 6853, 'trees': 13821, 'got': 5736, 'festive': 4978, 'which': 14768, 'spurring': 12573, 'book': 1539, 'worn': 14980, 'once': 9254, 'its': 7064, 'own': 9468, 'concealer': 2643, 'brave': 1641, 'pale': 9531, 'perfect': 9739, 'very': 14424, 'strongly': 12832, 'passionate': 9622, 'jerk': 7145, 'off': 9194, 'decides': 3345, 'poke': 10054, 'fun': 5449, 'us': 14296, 'discouraged': 3746, 'we': 14661, 'are': 703, 'robbing': 11288, 'peter': 9814, 'pay': 9664, 'paul': 9654, 'cow': 2973, 'cant': 1929, 'afford': 294, 'way': 14657, 'listless': 7798, 'new': 8935, 'different': 3652, 'lost': 7909, 'special': 12460, 'mind': 8418, 'don': 3911, 'worry': 14983, 'sane': 11485, 'wanted': 14597, 'felt': 4959, 'while': 14770, 'reading': 10746, 'how': 6410, 'many': 8108, 'said': 11446, 'sam': 11468, 'guarantee': 5871, 'used': 14303, 'paragraph': 9565, 'did': 3640, 'tell': 13324, 'here': 6189, 'first': 5079, 'home': 6312, 'mine': 8424, 'boat': 1489, 'trip': 13856, 'denmark': 3464, 'stopped': 12746, 'cold': 2475, 'hot': 6393, 'dough': 3960, 'found': 5311, 'selfish': 11719, 'spoiled': 12525, 'stymied': 12884, 'wrote': 15036, 'unsure': 14229, 'might': 8386, 'somewhere': 12376, 'story': 12758, 'unintended': 14146, 'bag': 1024, 'qaf': 10579, 'look': 7879, 'cryin': 3123, 'jacynthe': 7083, 'lookin': 7881, 'good': 5718, 'feelin': 4946, 'gorgeous': 5731, 'rupaul': 11405, 'skins': 12122, 'scissor': 11599, 'sisters': 12078, 'valentine': 14339, 'sun': 12990, 'fed': 4927, 'kayle': 7321, 'daddy': 3214, 'gerling': 5585, 'unkind': 14163, 'basically': 1106, 'fake': 4838, 'realm': 10770, 'science': 11593, 'fiction': 4995, 'hate': 6052, 'living': 7819, 'under': 14053, 'dads': 3216, 'roof': 11326, 'gives': 5642, 'excuse': 4661, 'asshole': 818, 'hes': 6204, 'providing': 10466, 'live': 7810, 'unwelcome': 14245, 'ill': 6559, 'leave': 7613, 'keep': 7324, 'pleasantly': 10004, 'surprised': 13061, 'his': 6258, 'supportiveness': 13033, 'ease': 4163, 'situations': 12090, 'anymore': 612, 'vigorous': 14462, 'sexual': 11816, 'activity': 174, 'coming': 2539, 'yes': 15101, 'misspelt': 8484, 'cumming': 3148, 'parts': 9605, 'begin': 1197, 'fall': 4840, 'mom': 8545, 'graceful': 5753, 'warm': 14609, 'loving': 7927, 'smile': 12224, 'rob': 11286, 'nurture': 9114, 'heal': 6098, 'they': 13454, 'talk': 13211, 'brother': 1713, 'law': 7564, 'extremely': 4778, 'popular': 10102, 'one': 9257, 'stiff': 12712, 'ate': 846, 'could': 2927, 'gentle': 5571, 'tingle': 13586, 'throughout': 13524, 'almost': 432, 'healing': 6100, 'place': 9955, 'cellular': 2089, 'level': 7686, 'pressured': 10275, 'young': 15124, 'beautiful': 1162, 'thin': 13467, 'depending': 3483, 'trend': 13827, 'having': 6074, 'girls': 5635, 'rejuvenated': 10928, 'butt': 1836, 'implants': 6616, 'several': 11807, 'week': 14695, 'tortured': 13685, 'hallucinations': 5958, 'moving': 8677, 'figures': 5020, 'sounds': 12425, 'vibrations': 14437, 'nearly': 8859, 'finished': 5061, 'detox': 3579, 'amazing': 465, 'back': 999, 'former': 5292, 'posts': 10152, 'asked': 792, 'prayers': 10204, 'others': 9364, 'considered': 2745, 'there': 13446, 'may': 8214, 'deserve': 3520, 'their': 13425, 'answered': 583, 'before': 1189, 'pain': 9508, 'parents': 9579, 'enraged': 4442, 'becomes': 1169, 'violent': 14478, 'roller': 11312, 'coaster': 2441, 'emotions': 4344, 'these': 13452, 'supposed': 13036, 'feelings': 4949, 'unpleasant': 14186, 'suppose': 13035, 'truth': 13892, 'shared': 11853, 'havent': 6071, 'faithful': 4835, 'dwelled': 4131, 'doubt': 3953, 'uncertainty': 14032, 'faith': 4834, 'bought': 1583, 'clearly': 2366, 'makeup': 8048, 'miserable': 8460, 'proudest': 10455, 'mum': 8721, 'earth': 4159, 'figure': 5018, 'family': 4854, '2s': 20, 'matter': 8202, 'else': 4293, 'michelle': 8372, 'goes': 5706, 'ballistic': 1045, 'necessarily': 8862, 'bombs': 1523, 'necessary': 8863, 'see': 11687, 'print': 10321, 'journals': 7220, 'ovaries': 9408, 'aching': 146, 'talking': 13214, 'didn': 3641, 'chris': 2277, 'mostly': 8627, 'took': 13665, 'pictures': 9882, 'unimportant': 14140, 'stuff': 12859, 'tired': 13600, 'ready': 10751, 'finding': 5050, 'given': 5640, 'unsuitable': 14225, 'images': 6576, 'blamed': 1390, 'result': 11142, 'sit': 12079, 'successfully': 12933, 'manage': 8068, 'stretch': 12802, 'mxm': 8767, 'canvas': 1934, 'achievement': 143, 'itself': 7065, 'worthwhile': 14994, 'usage': 14298, 'money': 8564, 'use': 14302, 'future': 5473, 'briefs': 1681, 'nay': 8851, 'important': 6625, 'honored': 6345, 'influence': 6765, 'talented': 13207, 'fully': 5446, 'alive': 408, 'girl': 5631, 'woman': 14933, '3ed': 21, 'firey': 5074, 'piece': 9885, 'garbage': 5508, 'leanne': 7600, 'thought': 13493, 'miss': 8474, 'drove': 4056, 'dannika': 3250, 'school': 11587, 'rushed': 11410, 'greeted': 5815, 'corner': 2898, 'hellip': 6166, 'furious': 5464, 'shooter': 11933, 'happy': 6007, 'excited': 4652, 'since': 12051, 'learned': 7604, 'shows': 11977, 'show': 11968, 'horses': 6383, 'trusting': 13888, 'relaxed': 10945, 'quiet': 10609, 'handled': 5976, 'frequently': 5376, 'only': 9266, 'start': 12639, 'december': 3338, 'done': 3916, 'smug': 12247, 'realize': 10765, 'everything': 4600, 'ok': 9228, 'worthless': 14992, 'during': 4120, 'those': 13490, 'struggling': 12843, 'lay': 7571, 'bed': 1173, 'dark': 3255, 'terrified': 13371, 'least': 7611, 'meet': 8274, 'airport': 361, 'supportive': 13032, 'arms': 725, 'today': 13620, 'mood': 8585, 'strange': 12774, 'entire': 4465, 'guess': 5877, 'mums': 8726, 'passed': 9612, 'after': 306, 'involved': 6992, 'car': 1953, 'accident': 105, 'bringing': 1688, 'present': 10261, 'exams': 4633, 'flying': 5209, 'colours': 2511, 'letting': 7683, 'animosity': 554, 'towards': 13721, 'wronged': 15032, 'dogs': 3898, 'cannot': 1925, 'understand': 14067, 'decided': 3343, 'should': 11955, 'throwing': 13526, 'shitty': 11918, 'shit': 11916, 'paper': 9558, 'starting': 12643, 'wryly': 15038, 'banal': 1053, 'comedy': 2528, 'errors': 4521, 'turning': 13935, 'vital': 14502, 'bodies': 1497, 'hear': 6107, 'owners': 9471, 'victimized': 14442, 'associations': 829, 'attorneys': 897, 'manager': 8072, 'say': 11537, 'goodbye': 5719, 'fam': 4848, 'theyre': 13458, 'crying': 3124, 'heartless': 6123, 'bitch': 1357, 'hey': 6212, 'spend': 12485, 'another': 579, 'country': 2948, 'wont': 14948, 'cry': 3122, 'lily': 7749, 'going': 5708, 'opportunities': 9297, 'lasted': 7532, 'short': 11942, 'months': 8583, 'alba': 379, 'fitting': 5091, 'again': 313, 'ton': 13652, 'catching': 2037, 'word': 14959, 'helps': 6174, 'hard': 6013, 'works': 14974, 'obtain': 9164, 'high': 6225, 'technical': 13298, 'skill': 12110, 'wushu': 15043, 'ashamed': 781, 'somehow': 12363, 'motivated': 8636, 'saw': 11536, 'kids': 7367, 'performances': 9744, 'whole': 14803, 'heartedly': 6122, 'despite': 3545, 'tiredness': 13601, 'getting': 5598, 'overwhelming': 9459, 'spritz': 12568, 'toner': 13655, 'calm': 1889, 'soothe': 12398, 'effort': 4239, 'required': 11067, 'better': 1290, 'themselves': 13431, 'situation': 12089, 'whether': 14767, 'member': 8296, 'college': 2495, 'friend': 5388, 'neighbor': 8890, 'down': 3962, 'street': 12789, 'even': 4582, 'complete': 2611, 'str3': 12761, 'tree': 13820, 'soon': 12389, 've': 14375, 'goings': 5709, 'ons': 9267, 'coronation': 2902, 'seriously': 11781, 'alright': 442, 'class': 2343, 'combination': 2517, 'unsuccessful': 14224, 'stress': 12796, 'late': 7535, 'horrible': 6374, 'resulted': 11143, 'grappling': 5790, 'rarely': 10703, 'advances': 256, 'any': 609, 'cause': 2054, 'stick': 12706, 'rule': 11392, 'posting': 10148, 'online': 9264, 'wouldnt': 14999, 'prepared': 10252, 'somebodys': 12361, 'face': 4804, 'useful': 14304, 'pains': 9513, 'becoming': 1170, 'group': 5854, 'idea': 6520, 'ugly': 13994, 'inclined': 6684, 'wear': 14672, 'ratty': 10715, 'jeans': 7132, 'sweatshirt': 13114, 'dress': 4022, 'pair': 9520, 'heels': 6148, 'house': 6402, 'boost': 1548, 'esteem': 4543, 'slightly': 12166, 'definitely': 3405, 'bother': 1572, 'buy': 1845, 'homesick': 6325, 'yet': 15104, 'dance': 3238, 'workout': 14971, 'fabulous': 4803, 'eyes': 4794, 'touch': 13700, 'assuredly': 839, 'return': 11165, 'shall': 11836, 'vain': 14337, 'until': 14235, 'friday': 5385, 'awful': 970, 'cramps': 2998, 'honoured': 6346, 'call': 1881, 'friends': 5391, 'brotherhood': 1714, 'begun': 1202, 'apprehensive': 673, 'thick': 13461, 'black': 1376, 'rain': 10661, 'clouds': 2415, 'stormed': 12755, 'sky': 12131, 'above': 61, 'town': 13726, 'stated': 12654, 'reason': 10775, '4ful': 23, 'unsafe': 14208, 'shaken': 11832, 'tsa': 13901, 'quite': 10619, 'pulled': 10516, 'croissants': 3080, 'lunch': 7966, 'groups': 5855, 'awkward': 973, 'overcompensate': 9420, 'talkative': 13212, 'finally': 5042, 'companion': 2581, 'especially': 4533, 'lonely': 7867, 'disappoint': 3713, '2d': 15, 'blog': 1435, 'img': 6587, 'src': 12592, 'http': 6418, 'eager': 4141, 'quilting': 10615, 'horny': 6372, 'lets': 7679, 'poem': 10038, 'doesn': 3895, 'pressure': 10274, 'uncomfortable': 14038, 'sense': 11745, 'understanding': 14069, 'land': 7505, 'raising': 10670, 'son': 12377, 'father': 4895, 'ancestral': 520, 'shower': 11972, 'questioning': 10603, 'fantastic': 4868, 'confident': 2686, 'movement': 8670, 'effortlessly': 4240, 'energetic': 4414, 'bouncy': 1590, 'gym': 5918, 'run': 11396, 'outside': 9399, 'take': 13196, 'pram': 10195, 'long': 7869, 'walk': 14572, 'often': 9219, 'three': 13505, 'strong': 12829, 'burst': 1819, 'tears': 13290, 'other': 9363, 'devastating': 3585, 'release': 10947, 'thoughts': 13496, 'seemed': 11697, 'rich': 11218, 'through': 13523, 'space': 12436, 'dumping': 4106, 'pumpkin': 10526, 'spice': 12491, 'latte': 7543, 'last': 7531, 'thing': 13468, 'coffee': 2458, 'maybe': 8215, 'badly': 1020, 'shes': 11888, 'hyperchondria': 6493, 'exaggeration': 4625, 'habit': 5923, 'openly': 9282, 'questioned': 10602, 'clench': 2369, 'assured': 838, 'called': 1883, 'figured': 5019, 'right': 11233, 'name': 8804, 'utterly': 14325, 'affirmed': 293, 'question': 10600, 'perhaps': 9751, 'office': 9208, 'nice': 8956, 'hair': 5942, 'rebellious': 10785, 'celebrates': 2078, 'eid': 4254, 'wash': 14630, 'generous': 5565, 'sleep': 12149, 'deprived': 3499, 'sleeping': 12150, 'night': 8974, 'giving': 5643, 'bloging': 1439, 'sitting': 12087, 'amp': 495, 'cat': 2032, 'lucky': 7948, 'woke': 14930, 'sick': 11995, 'dog': 3897, 'protect': 10441, 'against': 314, 'witch': 14901, 'hunt': 6466, 'repressed': 11052, 'memory': 8304, 'therapy': 13445, 'disgusted': 3767, 'associated': 827, 'race': 10632, 'nationality': 8835, 'laughed': 7548, 'bitterly': 1369, 'couldn': 2928, 'wished': 14893, 'knew': 7418, 'hated': 6053, 'forever': 5274, 'mellow': 8285, 'soft': 12329, 'easy': 4172, 'beginning': 1198, 'told': 13637, 'indecisive': 6711, 'does': 3894, 'genre': 5569, 'disservice': 3819, 'resolved': 11100, 'artifically': 756, 'artistic': 762, 'manitz': 8095, 'draw': 4003, 'circle': 2311, 'dot': 3947, 'bigger': 1318, 'line': 7763, 'accent': 91, 'mark': 8129, 'spanish': 12443, 'pissed': 9937, 'brazil': 1644, 'bus': 1824, 'steep': 12681, 'mountain': 8654, 'hills': 6241, 'middle': 8378, 'big': 1316, 'storm': 12754, 'wondering': 14944, 'whimper': 14773, 'un2d': 14009, 'uncared': 14028, 'certainly': 2107, 'whats': 14751, 'personal': 9782, 'curious': 3158, 'youd': 15122, 'watch': 14641, 'sorry': 12411, 'humor': 6453, 'foot': 5247, 'door': 3932, 'world': 14976, 'walking': 14574, 'trails': 13751, 'fells': 4958, 'mountains': 8655, 'whatever': 14748, 'comes': 2529, 'directly': 3696, 'jealous': 7127, 'insecure': 6829, 'trust': 13886, 'worthy': 14995, 'sweet': 13120, 'holiday': 6296, 'influenced': 6766, 'dash': 3266, 'happiness': 6004, 'emily': 4330, 'dickinson': 3636, 'example': 4631, 'dashes': 3269, 'instead': 6862, 'colons': 2501, 'semi': 11728, 'enhance': 4432, 'enjambment': 4433, 'sonnet': 12384, 'fatter': 4900, 'remain': 10977, 'control': 2837, 'peanut': 9682, 'butter': 1837, 'bread': 1648, 'impossible': 6628, 'looking': 7882, 'third': 13477, 'hell': 6164, 'needy': 8879, 'neglected': 8886, 'claim': 2327, 'redeem': 10843, 'beating': 1158, 'head': 6082, 'wall': 14576, 'either': 4259, 'classes': 2344, 'intimidated': 6951, 'concept': 2648, 'lit': 7800, 'groggy': 5842, 'routine': 11358, 'view': 14454, 'isnt': 7040, 'thats': 13416, 'fine': 5052, 'hold': 6289, 'shocked': 11923, 'awe': 965, 'wonder': 14939, 'rumour': 11395, 'st': 12597, 'exam': 4626, 'results': 11145, 'failures': 4827, 'valued': 14349, 'appreciated': 669, 'arent': 708, 'anywhere': 619, 'nature': 8841, 'relationship': 10938, 'changes': 2142, 'distracted': 3836, 'regularly': 10910, 'relaxing': 10946, 'music': 8750, 'invigorated': 6984, 'afterward': 311, 'tend': 13345, 'practice': 10185, 'shut': 11987, 'youtube': 15134, 'influences': 6767, 'trends': 13829, 'specifically': 12468, 'tango': 13227, 'shy': 11990, 'maks': 8051, 'opposite': 9301, 'far': 4871, 'pics': 9879, 'lol': 7859, 'weird': 14714, 'slept': 12157, 'hers': 6200, 'okay': 9229, 'thinking': 13473, 'earlier': 4149, 'heres': 6190, 'cooped': 2870, 'restless': 11131, 'weight': 14707, 'fit': 5086, 'tiny': 13593, 'unable': 14010, 'presence': 10260, 'fan': 4857, 'current': 3166, 'president': 10270, 'conservative': 2738, 'enclose': 4383, 'verses': 14420, 'weigh': 14703, 'odd': 9185, 'complacent': 2604, 'vulnerable': 14545, 'parenting': 9578, 'punished': 10534, 'stupid': 12874, 'chastised': 2176, 'behaving': 1207, 'stay': 12669, 'same': 11469, 'simply': 12045, 'contented': 2802, 'cut': 3186, 'everyone': 4598, 'comfort': 2531, 'solitude': 12347, 'meditation': 8268, 'working': 14967, 'projects': 10403, 'nervous': 8910, 'act': 162, 'bird': 1344, 'air': 358, 'carefree': 1974, 'manner': 8099, 'revise': 11194, 'replies': 11038, 'reply': 11039, 'appropriate': 680, 'receive': 10790, 'offended': 9197, 'died': 3644, 'irrevocably': 7020, 'gone': 5715, 'alex': 391, 'matt': 8200, 'regretful': 10906, 'visit': 14494, 'educating': 4217, 'families': 4853, 'supporting': 13031, 'educationg': 4220, 'mamas': 8062, 'papas': 9557, 'key': 7342, 'hostile': 6391, 'toward': 13720, 'boring': 1560, 'sewing': 11811, 'makes': 8047, 'nothing': 9060, 'fabric': 4801, 'liked': 7741, 'original': 9344, 'fragrance': 5328, 'freshen': 5379, 'lightly': 7730, 'scent': 11570, 'underwear': 14077, 'drawer': 4004, 'gorgeously': 5732, 'glamorous': 5649, 'girly': 5636, 'apart': 624, 'push': 10559, 'succeed': 12927, 'successful': 12932, 'wounding': 15003, 'process': 10351, 'underway': 14076, 'sometimes': 12373, 'added': 191, 'antagonism': 586, 'misunderstanding': 8496, 'reluctant': 10973, 'wholeheartedly': 14804, 'traditional': 13742, 'armistice': 722, 'remembrances': 10991, 'legs': 7642, 'miles': 8397, 'come': 2523, 'unfair': 14107, 'reaction': 10736, 'ways': 14659, 'blessed': 1410, 'abused': 79, 'maligned': 8057, 'anticipating': 591, 'd3': 3207, 'typing': 13980, 'gosman': 5734, 'touristy': 13716, 'montauk': 8579, 'area': 704, 'infrequent': 6779, 'visitors': 14498, 'harbor': 6012, 'cawing': 2064, 'seagulls': 11653, 'lapping': 7519, 'water': 14647, 'wood': 14949, 'pilings': 9900, 'breeze': 1667, 'admit': 228, 'hilarious': 6237, 'cards': 1967, 'exactly': 4622, 'moment': 8547, 'hy': 6484, 'dull': 4095, 'inarticulate': 6663, 'normal': 9038, 'kick': 7356, 'gear': 5536, 'irritable': 7022, 'motivation': 8638, 'innocent': 6813, 'illustrating': 6569, 'satisfaction': 11512, 'contributing': 2834, 'looter': 7894, 'driven': 4044, 'consumerism': 2779, 'corpse': 2904, 'america': 477, 'revered': 11186, 'younger': 15125, 'resentful': 11079, 'vacation': 14332, 'obligations': 9147, 'headaches': 6084, 'emotional': 4340, 'blackmailed': 1378, 'places': 9958, 'herpes': 6198, 'checkup': 2194, 'clinic': 2388, 'wednesday': 14691, 'worked': 14964, 'try': 13896, 'disheartened': 3771, 'bitchy': 1361, 'upon': 14272, 'retrospect': 11164, 'wouldn': 14998, 'shake': 11831, 'second': 11671, 'terrible': 13368, 'making': 8050, 'definitive': 3407, 'decisions': 3348, 'certain': 2106, 'truths': 13895, 'eggs': 4247, 'benedict': 1254, 'll': 7823, 'equally': 4504, 'delicious': 3428, 'summery': 12986, 'elements': 4279, 'favorite': 4908, 'beach': 1142, 'bummin': 1778, 'smiled': 12225, 'continue': 2814, 'define': 3401, 'discover': 3749, 'amsterdam': 501, 'whenever': 14759, 'pang': 9543, 'blank': 1392, 'sickness': 11999, 'missing': 8480, 'cultural': 3141, 'mindset': 8423, 'american': 478, 'city': 2321, 'arcade': 695, 'simple': 12039, 'purpose': 10550, 'absolutely': 67, 'comfortable': 2532, 'physically': 9860, 'practically': 10184, 'sympathetic': 13153, 'hopped': 6364, 'tube': 13907, 'ride': 11225, 'eye': 4784, 'london': 7864, 'ignored': 6554, 'monitoring': 8569, 'across': 161, 'blogs': 1444, 'please': 10006, 'stop': 12745, 'cancer': 1919, 'theres': 13451, 'chance': 2136, 'dreams': 4017, 'true': 13879, 'cranky': 3001, 'puzzling': 10576, 'particular': 9596, 'administrator': 220, 'singled': 12060, 'praise': 10192, 'ability': 50, 'students': 12852, 'ssr': 12596, 'productive': 10369, 'tried': 13844, 'fill': 5026, 'befriending': 1191, 'using': 14310, 'care': 1968, 'needed': 8870, 'loser': 7904, 'cramp': 2995, 'peace': 9675, 'within': 14909, 'external': 4769, 'takes': 13202, 'positive': 10130, 'break': 1649, 'exhausted': 4679, 'guilty': 5891, 'hung': 6462, 'baby': 990, 'neglecting': 8888, 'be2d': 1141, 'shalt': 11838, 'cos': 2912, 'din': 3675, 'hw': 6483, 'keen': 7322, 'xxx': 15066, 'edge': 4201, 'precipice': 10213, 'staring': 12635, 'ahead': 341, 'front': 5408, 'uni': 14135, 'free': 5359, 'advocates': 274, 'die': 3643, 'lobbying': 7834, 'politicians': 10073, 'sympathic': 13154, 'views': 14460, 'paying': 9667, 'attention': 890, 'block': 1431, 'tingly': 13588, 'knowing': 7433, 'hours': 6401, 'examination': 4627, 'hesitant': 6206, 'suggestions': 12966, 'outcome': 9377, 'sincere': 12052, 'terribly': 13369, 'fond': 5238, 'majority': 8041, 'precise': 10214, 'gaining': 5485, 'damaged': 3229, 'goods': 5723, 'aspects': 798, 'security': 11685, 'bombed': 1518, 'interview': 6944, 'freaking': 5354, 'tastic': 13253, 'taken': 13199, 'build': 1761, 'inventory': 6976, 'sauces': 11519, 'oils': 9225, 'spices': 12492, 'non': 9016, 'perishables': 9756, 'single': 12059, 'item': 7059, 'recipe': 10799, 'advise': 271, 'whose': 14817, 'children': 2237, 'teenagers': 13313, 'cool': 2865, 'pull': 10515, 'kid': 7360, 'pick': 9868, 'smelly': 12221, 'jalopy': 7095, 'plants': 9976, 'windows': 14862, 'drag': 3984, 'heads': 6096, 'sand': 11478, 'traditionalists': 13743, 'hesitate': 6207, 'conservatives': 2739, 'offending': 9199, 'honest': 6338, 'created': 3026, 'ago': 329, 'skeletal': 12102, 'remains': 10981, 'hoax': 6277, 'materials': 8191, 'kits': 7402, 'site': 12081, 'beautifully': 1163, 'curated': 3153, 'bloods': 1451, 'proved': 10458, 'lethargic': 7678, 'rubbish': 11373, 'iron': 7007, 'prescribed': 10259, 'tablets': 13177, 'd3ous': 3208, 'compassionate': 2592, 'doesnt': 3896, 'capture': 1949, 'beauty': 1164, '2ly': 17, 'polish': 10066, 'main': 8032, 'roots': 11335, 'secure': 11683, 'financially': 5047, 'socially': 12317, 'bite': 1362, 'bullet': 1768, 'supported': 13028, 'obnoxiously': 9151, 'immature': 6591, 'sounding': 12424, 'verbal': 14409, 'tics': 13553, 'voice': 14517, 'nasal': 8825, 'sharpest': 11862, 'tool': 13666, 'shed': 11871, 'nightmare': 8979, 'disturbed': 3849, 'case': 2016, 'customers': 3183, 'sufferers': 12952, 'battle': 1129, 'exceptionally': 4643, 'tomorrow': 13650, 'monday': 8561, 'timetable': 13580, 'wheeeeee': 14754, 'forward': 5305, 'beaten': 1157, 'disappointment': 3715, 'husband': 6480, 'crappy': 3004, 'convinced': 2855, 'pattern': 9651, 'wearing': 14677, 'slutty': 12206, 'antique': 597, 'underwears': 14078, 'obviously': 9166, 'edgy': 4202, 'perverse': 9802, 'pride': 10306, 'managed': 8070, 'ordered': 9322, 'reach': 10729, 'tempting': 13342, 'human': 6434, 'flesh': 5140, 'impatient': 6609, 'easily': 4168, 'annoyed': 571, 'outraged': 9392, 'blatant': 1399, 'defiance': 3396, 'seems': 11700, 'olivias': 9241, 'prominent': 10406, 'characteristic': 2155, 'positively': 10131, 'official': 9211, 'mainly': 8034, 'text': 13386, 'clever': 2373, 'written': 15028, 'rather': 10709, 'spoken': 12530, 'seriouly': 11779, 'respected': 11111, 'privacy': 10331, 'devotee': 3604, 'relieved': 10961, 'title': 13608, 'deen': 3373, 'bandhu': 1057, 'afraid': 303, 'uplifter': 14267, 'devotees': 3605, 'consider': 2741, 'hence': 6178, 'unworthy': 14252, 'benefit': 1257, 'aspect': 797, 'personality': 9784, 'personalities': 9783, 'joseph': 7211, 'walt': 14585, 'mother': 8629, 'finances': 5045, 'six': 12092, 'defend': 3388, 'warming': 14613, 'excelent': 4637, 'video': 14448, 'games': 5498, 'anime': 552, 'movies': 8675, 'master': 8176, 'wanting': 14599, 'en1': 4367, 'attentions': 891, 'desire': 3529, 'affections': 285, 'savings': 11529, 'eaten': 4175, 'quickly': 10608, 'costs': 2919, 'burden': 1797, 'boyfriend': 1610, 'weve': 14741, 'brighter': 1684, 'maxs': 8213, 'isolated': 7042, 'crowd': 3092, 'anti': 589, 'social': 12312, 'turn': 13933, 'continuously': 2820, 'suicidalness': 12968, 'loyal': 7936, 'style': 12879, 'homeless': 6314, 'waste': 14637, 'agitated': 327, 'dose': 3946, 'shift': 11895, 'thief': 13464, 'nov': 9079, 'exit': 4698, 'store': 12750, 'kerry': 7340, 'civil': 2322, 'unions': 14150, 'gay': 5533, 'equality': 4503, 'judged': 7235, 'ridiculed': 11229, 'intelligent': 6892, 'insulted': 6878, 'light': 7723, 'yellow': 15098, 'brick': 1673, 'road': 11279, 'shining': 11906, 'actually': 181, 'sorrowful': 12409, 'women': 14936, 'boots': 1552, 'envious': 4482, 'curse': 3170, 'together': 13635, 'apologize': 637, 'bits': 1364, 'youre': 15129, 'naomi': 8814, 'klein': 7409, 'senses': 11747, 'unconsciousness': 14047, 'came': 1901, 'suspect': 13081, 'private': 10333, 'faux': 4904, 'hawk': 6076, 'must': 8760, 'looked': 7880, 'dykey': 4135, 're': 10727, 'cast': 2024, 'caveman': 2063, 'part': 9589, 'complimented': 2623, 'plus': 10026, 'diverse': 3857, 'price': 10301, 'tags': 13190, 'funds': 5458, 'plot': 10016, 'lighted': 7724, 'relatively': 10941, 'economically': 4194, 'empty': 4364, 'href': 6414, 'provokingbeauty': 10473, 'font': 5239, 'friendly': 5390, 'hand': 5965, 'beads': 1146, 'consciously': 2730, 'breathing': 1663, 'accomplish': 115, 'afternoon': 309, 'compare': 2584, 'rotten': 11345, 'checking': 2191, 'hemorrhoids': 6176, 'shoes': 11929, 'glamourous': 5651, 'designer': 3525, 'box': 1606, 'trimmings': 13853, 'largely': 7525, 'hidden': 6219, 'warmly': 14614, 'hugging': 6429, 'became': 1165, 'dismayed': 3782, 'studied': 12853, 'outfits': 9383, 'wax': 14654, 'unibrow': 14136, 'rid': 11222, 'spare': 12444, 'hairs': 5945, 'creeping': 3048, 'eyelid': 4791, 'width': 14825, 'li': 7693, 'border': 1554, 'px': 10577, 'margin': 8119, 'recall': 10789, 'longing': 7875, 'watched': 14642, 'olympic': 9244, 'runners': 11399, 'bodypump': 1502, 'dvd': 4128, 'gather': 5522, 'coaching': 2439, 'tips': 13597, 'compulsory': 2638, 'cues': 3135, 'limited': 7756, 'phone': 9840, 'arrangment': 736, 'bring': 1687, 'pass': 9609, 'pea': 9674, 'receiving': 10793, 'attack': 877, 'document': 3885, 'familiar': 4851, 'batch': 1115, 'files': 5025, 'thankful': 13405, 'blessings': 1412, 'hoping': 6363, 'weatherman': 14681, 'forecast': 5263, 'venture': 14404, 'microcosm': 8374, 'missed': 8476, 'party': 9606, 'learnt': 7608, 'instincts': 6868, 'blossoming': 1457, 'nemo': 8899, 'happen': 5994, 'outfit': 9382, 'session': 11792, 'gave': 5531, 'tools': 13667, 'move': 8668, 'loneliness': 7866, 'newtown': 8949, 'babies': 989, 'disappointed': 3714, 'paining': 9511, 'lord': 7896, 'betrayed': 1287, 'lose': 7903, 'loyalty': 7937, 'frantic': 5340, 'responsibilities': 11121, 'teacher': 13277, 'gift': 5613, 'honor': 6344, 'tranquil': 13762, 'lyrics': 7993, 'steve': 12699, 'broke': 1702, 'beared': 1152, 'witness': 14914, 'incredibly': 6708, 'bouncer': 1586, 'emo': 4335, 'smoker': 12235, 'quit': 10618, 'weeks': 14699, 'believe': 1222, 'cigarettes': 2304, 'mailbox': 8028, 'mailman': 8029, 'grocery': 5841, 'clerk': 2371, 'risk': 11264, 'total': 13691, 'willingness': 14849, 'sensations': 11744, 'emerge': 4322, 'insecurity': 6832, 'pictured': 9881, 'crave': 3009, 'submission': 12903, 'submissive': 12905, 'tender': 13348, 'wakes': 14565, 'falling': 4842, 'deep': 3374, 'slumber': 12199, 'sort': 12412, 'hindrance': 6246, 'keeping': 7326, 'sensitive': 11752, 'spelled': 12480, 'round': 11350, 'quarter': 10590, 'snow': 12288, 'accumulate': 127, 'conifer': 2713, 'shoveling': 11967, 'shirt': 11913, 'sleeves': 12156, 'honkerblonked': 6343, 'dream': 4013, 'gotten': 5740, 'taste': 13250, 'play': 9985, 'squeal': 12583, 'glee': 5664, 'mud': 8697, 'squishing': 12591, 'between': 1292, 'toes': 13632, 'outdoors': 9380, 'humorous': 6454, 'callers': 1884, 'busy': 1832, 'stuffs': 12863, 'threads': 13500, 'energized': 4419, 'potential': 10156, 'give': 5637, 'society': 12320, 'privileged': 10337, 'nauseated': 8847, 'thrilled': 13512, 'pitiful': 9948, 'wailing': 14556, 'cries': 3059, 'salty': 11462, 'hurt': 6475, 'saturating': 11516, 'virtually': 14486, 'fat': 4890, 'thousand': 13497, 'islands': 7034, 'large': 7524, 'quantities': 10586, 'substance': 12918, 'leaves': 7614, 'lettuce': 7684, 'cucumber': 3130, 'sugar': 12959, 'burn': 1810, 'folks': 5228, 'virginia': 14484, 'florida': 5179, 'handful': 5971, 'swing': 13135, 'states': 12658, 'agree': 333, 'constant': 2759, 'barrage': 1093, 'putting': 10572, 'death': 3319, 'row': 11359, 'wasn': 14635, 'smart': 12212, 'waking': 14567, 'devoted': 3603, 'lessons': 7671, 'learning': 7605, '0ness': 8, 'distinctly': 3832, 'clermont': 2372, 'focus': 5214, 'ones': 9259, 'seem': 11695, 'naughty': 8844, 'including': 6688, 'memories': 8301, 'cherish': 2216, 'sharing': 11856, 'instructables': 6870, 'weekend': 14696, 'continued': 2815, 'along': 435, 'lines': 7765, 'probably': 10342, 'dishes': 3772, 'wed': 14689, 'fight': 5009, 'finland': 5065, 'landed': 7506, 'paris': 9581, 'grade': 5758, 'student': 12851, 'janne': 7108, 'suominen': 13001, 'moments': 8549, 'aac': 32, 'scared': 11555, 'terrific': 13370, 'surgery': 13057, 'honestly': 6339, 'stunned': 12870, 'caring': 1990, 'attract': 898, 'nothings': 9062, 'buti': 1835, 'decide': 3342, 'staying': 12671, 'worse': 14986, 'cried': 3058, 'thanking': 13408, 'yardage': 15074, 'art': 749, 'gallery': 5488, 'losing': 7905, 'adapt': 187, 'thinks': 13475, 'whom': 14808, 'abdomen': 43, 'welcomed': 14720, 'tight': 13564, 'knit': 7421, 'doubtful': 3954, 'smaller': 12210, 'legos': 7641, 'motor': 8644, 'delays': 3422, 'exercise': 4670, 'meantime': 8243, 'fulfilling': 5440, 'misplaced': 8471, 'pity': 9951, 'amazed': 463, 'minutes': 8448, 'known': 7438, 'skip': 12123, 'lazy': 7579, 'devoid': 3601, 'comment': 2545, 'add': 190, 'pileon': 9896, 'clear': 2361, 'haven': 6070, 'experiences': 4721, 'nor': 9033, 'interested': 6917, 'applying': 666, 'communion': 2572, 'tremendous': 13823, 'importance': 6624, 'personally': 9786, 'theologically': 13435, 'depressed': 3493, 'trapped': 13790, 'near': 8855, 'cities': 2318, 'brig': 1682, 'both': 1571, 'building': 1762, 'strengthening': 12794, 'relationships': 10939, 'christianity': 2281, 'bike': 1322, 'rest': 11124, 'temples': 13335, 'toni': 13659, 'ight': 6547, 'excesses': 4647, 'merican': 8331, 'seldom': 11711, 'witnessed': 14915, 'er': 4510, 'hah': 5935, 'happpy': 6006, 'field': 4999, 'academics': 87, 'athletics': 859, 'anxious': 607, 'job': 7173, 'jobs': 7174, 'require': 11066, 'rules': 11393, 'pop': 10095, 'chair': 2121, 'theyd': 13456, 'navigating': 8850, 'punching': 10530, 'headed': 6088, 'onto': 9270, 'trail': 13749, 'woods': 14953, 'normally': 9041, 'size': 12095, 'perspective': 9791, 'sake': 11452, 'huckleberry': 6423, 'finn': 5066, 'censored': 2092, 'likes': 7745, 'kamiki': 7292, 'kun': 7461, 'laughs': 7550, 'nozomi': 9088, 'knot': 7428, 'stomach': 12738, 'fool': 5243, 'nonchan': 9019, 'choice': 2263, 'recognizing': 10815, 'kicks': 7359, 'choose': 2267, 'persistence': 9777, 'allowing': 427, 'celebrated': 2077, 'wait': 14559, 'till': 13570, 'spirit': 12507, 'guide': 5884, 'observant': 9153, 'cheerleader': 2203, 'depressing': 3495, 'grey': 5820, 'unrewarding': 14207, 'decision': 3347, 'sweaty': 13115, 'episodes': 4499, 'wonderful': 14941, 'beaubronz': 1161, 'tanning': 13230, 'brand': 1633, 'fits': 5089, 'latest': 7539, 'mantra': 8102, 'stolen': 12737, 'boudoir': 1581, 'lashes': 7530, 'asma': 796, 'docrat': 3880, 'watching': 14646, 'romcoms': 11322, 'entered': 4452, 'morris': 8617, 'changed': 2140, 'contemplating': 2798, 'recent': 10794, 'amongst': 488, 'belief': 1219, 'siege': 12005, 'di0vantaged': 3615, 'regard': 10892, 'chemo': 2213, 'toxins': 13727, 'washing': 14632, 'cell': 2086, 'cringe': 3066, 'hosted': 6389, 'series': 11775, 'threatened': 13503, 'allthingsbucks': 429, 'brought': 1716, 'lump': 7962, 'throat': 13517, 'upset': 14277, 'shouldnt': 11960, 'lame': 7502, 'determined': 3575, 'nomming': 9015, 'artists': 764, 'display': 3797, 'public': 10504, 'lively': 7814, 'dazed': 3298, 'twitter': 13966, 'hurting': 6477, 'assaulted': 804, 'wrap': 15008, 'thyroid': 13542, 'dramatic': 3996, 'whiny': 14783, 'blood': 1450, 'test': 13378, 'yesterday': 15102, 'doctors': 3884, 'needle': 8874, 'inside': 6835, 'spent': 12488, 'dizzy': 3871, 'meat': 8248, 'eating': 4179, 'nineteen': 8991, 'female': 4960, 'worried': 14981, 'cubicle': 3129, 'unless': 14167, 'fairly': 4832, 'clean': 2355, 'slate': 12144, 'unilaterally': 14138, 'forgiving': 5282, 'intentionally': 6904, 'carelessness': 1979, 'thereby': 13447, 'forget': 5276, 'perceived': 9729, 'insults': 6880, 'abuses': 80, 'teach': 13275, 'harder': 6018, 'bury': 1822, 'holy': 6309, 'gooooood': 5727, 'massage': 8171, 'reassuring': 10781, 'reached': 10730, 'career': 1971, 'highly': 6230, 'conversations': 2847, 'lots': 7911, 'bad': 1017, 'gigantic': 5618, 'slow': 12186, 'clumsy': 2428, 'google': 5725, 'seo': 11760, 'wink': 14871, 'next': 8950, 'mistake': 8487, 'sliding': 12162, 'throbbing': 13519, 'cock': 2447, 'novel': 9080, 'position': 10127, 'uncertain': 14030, 'stock': 12733, 'market': 8130, 'rally': 10671, 'judging': 7238, 'disbelieving': 3724, 'oh': 9221, 'super': 13002, 'closer': 2405, 'due': 4089, 'date': 3274, 'page': 9500, 'irresponcible': 7018, 'favourites': 4912, 'uk': 13997, 'limit': 7754, 'happier': 6001, 'confronted': 2700, 'activities': 173, 'player': 9988, 'benzema': 1268, 'mould': 8650, 'impending': 6610, 'prize': 10338, 'layered': 7573, 'forgiveness': 5281, 'expectation': 4710, 'gloomy': 5679, 'completed': 2612, 'lifestyle': 7717, 'change': 2139, 'porn': 10108, 'industry': 6741, 'satisfied': 11514, 'fulfilled': 5439, 'bucks': 1745, 'overhear': 9430, 'victory': 14447, 'tune': 13923, 'geeks': 5542, 'ringtone': 11251, 'triumphant': 13863, 'literature': 7805, 'authors': 930, 'dumb': 4099, 'soo': 12388, 'mixture': 8504, 'hungry': 6465, 'topic': 13671, 'backing': 1006, 'actual': 179, 'knowledge': 7435, 'facts': 4817, 'relying': 10976, 'solely': 12340, 'opinions': 9291, 'open': 9278, 'books': 1543, 'everytime': 4602, 'went': 14727, 'hike': 6236, 'jubilant': 7230, 'proud': 10454, 'touched': 13701, 'soccer': 12310, 'ball': 1043, 'game': 5494, 'accept': 93, 'limitations': 7755, 'older': 9235, 'held': 6162, 'charmed': 2166, 'exciting': 4655, 'chapter': 2150, 'judges': 7237, 'responsible': 11123, 'actions': 167, 'stem': 12686, 'mainstream': 8035, 'importantly': 6626, 'communities': 2573, 'seek': 11692, 'belongingness': 1239, 'edition': 4208, 'songs': 12380, 'constantly': 2760, 'fans': 4866, 'baker': 1035, 'thia': 13460, 'sandwich': 11482, 'scruncher': 11643, 'mini': 8430, 'rex': 11207, 'currently': 3167, 'tongue': 13657, 'carby': 1959, 'glycemic': 5689, 'meal': 8234, 'breakfast': 1651, 'dessert': 3548, 'encoding': 4384, 'utf': 14317, 'locale': 7837, 'en': 4366, 'isprivate': 7045, 'false': 4844, 'ismobile': 7037, 'mobileclass': 8513, 'isprivateblog': 7046, 'languagedirection': 7513, 'ltr': 7942, 'feedlinks': 4940, 'link': 7769, 'rel': 10931, 'alternate': 449, 'application': 662, 'atom': 868, 'xml': 15060, 'standing': 12626, 'ovation': 9409, 'nesting': 8918, 'homemaking': 6319, 'instinct': 6866, 'pregnant': 10238, 'gets': 5596, 'month': 8580, 'reprieve': 11054, 'youll': 15123, 'notice': 9065, 'halloween': 5955, 'opportunity': 9298, 'moz': 8679, 'gods': 5704, 'gracious': 5757, 'heat': 6127, 'resource': 11108, 'answers': 585, 'asking': 793, 'fitness': 5088, 'wise': 14889, 'calves': 1897, 'tire': 13599, 'darkness': 3259, 'ought': 9367, 'adding': 196, 'sarcastic': 11496, 'age': 315, 'couldnt': 2929, 'distraught': 3840, 'helpless': 6172, 'lorena': 7901, 'kidnapped': 7365, 'band': 1055, 'enemies': 4412, 'desperate': 3540, 'freedom': 5360, 'unfortunate': 14121, 'mister': 8490, 'magnum': 8023, 'cheers': 2204, 'travelling': 13801, 'periods': 9755, 'tragic': 13748, 'sparkle': 12446, 'drained': 3992, 'chatted': 2179, 'masturbate': 8181, 'stinkin': 12722, 'reviewer': 11190, 'sunday': 12992, 'silent': 12029, 'audience': 910, 'falsely': 4845, 'inflated': 6762, 'expressing': 4755, 'articulate': 753, 'nap': 8815, 'grumpy': 5868, 'studying': 12858, 'discovering': 3751, 'crossed': 3085, 'portray': 10114, 'exact': 4621, 'meaning': 8237, 'comments': 2547, 'truly': 13883, 'conditions': 2671, 'workers': 14966, 'fly': 5208, 'uae': 13983, 'oblivious': 9149, 'conflicts': 2694, 'plague': 9960, 'resolving': 11101, 'cena': 2091, 'kissing': 7397, 'maria': 8123, 'surprisingly': 13064, 'obnoxious': 9150, 'definately': 3399, 'weather': 14680, 'says': 11539, 'pressing': 10273, 'torso': 13683, 'siwons': 12091, 'faces': 4807, 'breath': 1659, 'indifferent': 6722, 'treasured': 13812, 'bloom': 1454, 'casual': 2030, 'lifts': 7722, 'sat': 11506, 'couch': 2924, 'checked': 2190, 'happened': 5996, 'milestone': 8398, 'snuggles': 12297, 'growing': 5858, 'kindness': 7387, 'allow': 423, 'conscious': 2729, 'interact': 6908, 'various': 14365, 'moisturizer': 8538, 'skin': 12115, 'oily': 9226, 'product': 10367, 'designed': 3524, 'contain': 2789, 'moisturizing': 8539, 'ingredients': 6788, 'environment': 4484, 'spider': 12493, 'discussions': 3758, 'color': 2502, 'georgia': 5583, 'serif': 11776, 'height': 6153, 'deny': 3472, 'crush': 3114, 'ache': 137, 'settled': 11801, 'weariness': 14676, 'slipped': 12170, 'shoulders': 11957, 'nowhere': 9086, 'closing': 2408, 'uncles': 14036, 'radio': 10651, 'accidentally': 106, '4ed': 22, 'playing': 9993, 'conflicted': 2693, 'follower': 5233, 'christ': 2278, 'celebrate': 2076, 'pagan': 9499, 'originated': 9348, 'modern': 8522, 'holidays': 6297, 'pills': 9905, 'weightless': 14709, 'repentant': 11027, 'opposition': 9303, 'rights': 11240, 'daycare': 3290, 'parent': 9577, 'relax': 10943, 'motives': 8643, 'inbalance': 6665, 'committment': 2558, 'counselling': 2937, 'reconciliation': 10823, 'valuable': 14347, 'emotion': 4339, 'training': 13756, 'grammar': 5769, 'language': 7512, 'comparing': 2586, 'sneha': 12268, 'wake': 14564, 'leaders': 7587, 'countries': 2947, 'depict': 3485, 'george': 5581, 'fulfill': 5438, 'ma': 7994, 'forgetting': 5278, 'handss': 5983, 'aahhh': 33, 'magic': 8016, 'scones': 11604, 'food': 5240, 'frugal': 5416, 'giggle': 5619, 'nervously': 8912, 'helplessness': 6173, 'kill': 7369, 'messy': 8347, 'photos': 9852, 'loathed': 7832, 'picked': 9869, 'numb': 9101, 'spiteful': 12515, 'vindictive': 14467, 'soundtrack': 12427, 'reassures': 10780, 'uptight': 14283, 'nervs': 8914, 'pursue': 10554, 'wedding': 14690, 'min': 8415, 'fast': 4886, 'stubborn': 12845, 'lacking': 7481, 'patience': 9641, 'twist': 13960, 'create': 3025, 'explanation': 4733, 'mad': 8006, 'yup': 15141, 'media': 8255, 'coverage': 2967, 'sometime': 12372, 'neglectful': 8887, 'fellow': 4956, 'bloggers': 1437, 'glasses': 5662, 'frames': 5334, 'paranoid': 9572, 'rewrite': 11205, 'fma': 5210, 'op': 9277, 'half': 5951, 'term': 13362, 'adventurous': 261, 'admire': 223, 'athleticism': 858, 'entertained': 4455, 'severely': 11809, 'shape': 11848, 'participate': 9595, 'events': 4586, 'secretary': 11676, 'eh': 4250, 'unhappy': 14131, 'flowers': 5190, 'wonderfully': 14943, 'hive': 6268, 'layer': 7572, 'moss': 8625, 'encased': 4380, 'shell': 11879, 'muffling': 8704, 'sharper': 11861, 'pleasant': 10003, 'painful': 9510, 'nameless': 8806, 'mid': 8376, 'bottom': 1579, 'graduate': 5762, 'finds': 5051, 'himself': 6244, 'marginally': 8122, 'attached': 875, 'awash': 963, 'sea': 11651, 'overeducated': 9428, 'underpaid': 14064, 'indentured': 6713, 'peers': 9702, 'duped': 4116, 'promise': 10407, 'debt': 3328, 'chemistry': 2212, 'contribute': 2832, 'writers': 15024, 'patient': 9642, 'daily': 3220, 'breast': 1656, 'milk': 8401, 'formula': 5294, 'trotted': 13871, 'enter': 4451, 'conversation': 2845, 'drunk': 4067, 'feminist': 4965, 'issues': 7051, 'faking': 4839, 'welcome': 14719, 'mommyhood': 8553, 'inability': 6653, 'breastfeed': 1657, 'peaceful': 9676, 'xox': 15061, 'itll': 7063, 'flawless': 5133, '1ful': 9, 'conspiracy': 2757, 'theories': 13436, 'unsolved': 14217, 'crimes': 3062, 'hugely': 6428, 'matters': 8204, 'feeds': 4941, 'melancholy': 8282, 'wither': 14908, 'culture': 3143, 'allowed': 425, 'awesome': 967, 'pleased': 10007, 'tonight': 13660, 'leads': 7591, 'actively': 170, 'borne': 1562, 'scares': 11556, 'tug': 13915, 'socket': 12322, 'nowwwwww': 9087, 'displayed': 3798, 'yearning': 15089, 'semblance': 11725, 'normality': 9040, 'appears': 656, 'dancing': 3245, 'arabs': 693, 'armed': 721, 'soldier': 12338, 'fixed': 5095, 'easier': 4166, 'blessing': 1411, 'research': 11074, 'trial': 13833, 'error': 4520, 'success': 12930, 'garden': 5509, 'whitleys': 14797, 'photo': 9843, 'shoot': 11932, 'tempted': 13341, 'anyways': 618, 'doha': 3899, 'urge': 14286, 'fix': 5093, 'upsets': 14278, 'brew': 1671, 'faired': 4830, 'compared': 2585, 'unrelated': 14202, 'permanent': 9759, 'someones': 12367, 'intellectual': 6889, 'progress': 10391, 'exert': 4674, 'speaking': 12458, 'japanese': 7111, 'arrangements': 735, 'passes': 9619, 'dating': 3278, 'record': 10824, 'wretched': 15017, 'glum': 5687, 'forelorn': 5271, 'heartbroken': 6118, 'horribly': 6375, 'join': 7187, 'ladies': 7490, 'celebration': 2080, 'womanhood': 14934, 'team': 13281, 'four': 5317, 'noticable': 9064, 'birding': 1345, 'squeak': 12582, 'baachan': 986, 'trolley': 13866, 'planned': 9968, 'summer': 12984, 'breathe': 1660, 'warning': 14620, 'benign': 1262, 'improve': 6643, 'prepare': 10251, 'heartbreak': 6116, 'danielle': 3249, 'military': 8400, 'wives': 14919, 'thru': 13529, 'suddenly': 12947, 'smarter': 12213, 'smells': 12220, 'bear': 1150, 'motion': 8634, 'bored': 1557, 'ended': 4398, 'shoeless': 11928, 'slowing': 12189, 'further': 5468, 'critical': 3071, 'dennis': 3466, 'covingtons': 2972, 'article': 751, 'merit': 8333, 'discussion': 3757, 'noted': 9058, 'chapters': 2151, 'business': 1828, 'refers': 10866, 'ironically': 7009, 'loudons': 7921, 'kate': 7310, 'mcgarrigle': 8225, 'rufus': 11385, 'wainwright': 14557, 'birthday': 1348, 'captured': 1950, 'looks': 7884, 'envisioned': 4488, 'intended': 6894, 'vision': 14492, 'intention': 6901, 'cute': 3187, 'rafael': 10652, 'bosch': 1565, 'attend': 887, 'blogging': 1438, 'relentless': 10953, 'offer': 9203, 'deal': 3310, 'prints': 10324, 'fandom': 4862, 'disoriented': 3791, 'zero': 15156, 'meds': 8272, 'vitamins': 14503, 'fluids': 5199, 'hopes': 6362, 'troubled': 13873, 'ongoing': 9261, 'relocation': 10971, 'healthy': 6105, 'optimistic': 9310, 'lack': 7479, 'gulam': 5897, 'ali': 398, 'classical': 2346, 'singers': 12057, 'guy': 5913, 'wants': 14600, 'genuine': 5576, 'treat': 13813, 'quality': 10585, 'favorites': 4909, 'sale': 11454, 'hiding': 6223, 'according': 122, 'keenly': 7323, 'greatly': 5808, 'shielding': 11893, 'offspring': 9217, 'health': 6102, 'problem': 10344, 'traitor': 13758, 'among': 487, 'covers': 2970, 'snotface': 12287, 'ass': 801, 'hole': 6294, 'hookah': 6350, 'reciprocated': 10802, 'bryan': 1731, 'differently': 3653, 'believed': 1223, 'truthful': 13893, 'sticky': 12711, 'droppings': 4054, 'feet': 4952, 'fault': 4902, 'behavior': 1208, 'existed': 4693, 'reveal': 11175, 'youve': 15135, 'tough': 13705, 'endeavoring': 4396, 'honesty': 6340, 'authenticity': 925, 'gwiyomi': 5917, 'press': 10271, 'shines': 11905, 'thighs': 13466, 'frightened': 5396, 'spending': 12486, 'poisoned': 10052, 'chalice': 2125, 'introvert': 6962, 'preferably': 10229, 'crew': 3054, 'galley': 5489, 'room': 11327, 'whale': 14744, 'noises': 9008, 'generic': 5563, 'bath': 1117, 'bodyworks': 1504, 'invest': 6978, 'throw': 13525, 'predictable': 10222, 'scents': 11572, 'liberated': 7699, 'recognize': 10813, 'discontent': 3742, 'happens': 5999, 'torture': 13684, 'dealing': 3312, 'fertility': 4972, 'irate': 7002, 'moronic': 8613, 'prep': 10248, 'sleepless': 12151, 'shaky': 11835, 'worst': 14990, 'hit': 6264, 'areas': 705, 'damage': 3228, 'destruction': 3559, 'ocean': 9182, 'win': 14856, 'oscar': 9359, 'narrated': 8820, 'erik': 4516, 'princes': 10318, 'autobiography': 935, 'civilian': 2323, 'warriors': 14625, 'blackwater': 1380, 'unsung': 14226, 'heroes': 6195, 'war': 14602, 'terror': 13374, 'released': 10948, 'th': 13395, 'dependency': 3481, 'neediness': 8872, 'prior': 10325, 'recently': 10795, 'mccarthy': 8223, 'isn': 7039, 'consistently': 2750, 'humanize': 6438, 'character': 2153, 'balancing': 1040, 'uneasy': 14095, 'transition': 13778, 'boy': 1609, 'inadequate': 6659, 'predominantly': 10226, 'functions': 5452, 'arranged': 733, 'twelve': 13952, 'previous': 10298, 'usual': 14312, 'recognized': 10814, 'autistic': 932, 'boys': 1612, 'guest': 5880, 'blogger': 1436, 'message': 8341, 'coursing': 2958, 'cycles': 3200, 'california': 1879, 'ness': 8916, 'pool': 10089, 'drinking': 4036, 'wine': 14864, 'spritzer': 12569, 'nagalene': 8788, 'connecting': 2717, 'via': 14430, 'wifi': 14831, 'stellarium': 12685, 'stars': 12638, 'washington': 14633, 'permanently': 9761, 'although': 454, 'torn': 13678, 'bleu': 1413, 'guilt': 5889, 'similarly': 12037, 'situated': 12088, 'neighborhood': 8891, 'blue': 1470, 'red': 10839, 'heavy': 6138, 'colors': 2507, 'tables': 13176, 'otherwise': 9365, 'tournament': 13717, 'decks': 3351, 'possibly': 10143, 'steps': 12693, 'zendikar': 15154, 'rotates': 11343, 'brandy': 1638, 'considering': 2746, 'pretending': 10285, 'period': 9754, 'detail': 3563, 'sharpe': 11860, 'cover': 2966, 'plateau': 9980, 'buying': 1846, 'wardrobe': 14604, 'shouldn': 11959, 'degree': 3413, 'biology': 1340, 'blown': 1463, 'incomplete': 6694, 'connection': 2718, 'poppy': 10100, 'unwanted': 14242, 'beast': 1155, 'shot': 11952, 'screamed': 11625, 'loud': 7918, 'ignorance': 6550, 'engage': 4422, 'debate': 3322, 'broaden': 1700, 'lousy': 7925, 'dismiss': 3783, 'bright': 1683, 'cheerful': 2199, 'dreary': 4020, 'tolerable': 13638, 'assume': 831, 'moral': 8595, 'obligation': 9146, 'damn': 3231, 'sweetly': 13123, 'ironic': 7008, 'broadly': 1701, 'tells': 13326, 'morals': 8598, 'respectful': 11112, 'belong': 1236, 'brad': 1619, 'eric': 4514, 'wat': 14640, 'extent': 4767, 'favours': 4913, 'shadows': 11827, 'amorous': 489, 'stage': 12607, 'experienced': 4720, 'realise': 10757, 'pray': 10201, '4s': 27, 'cancel': 1917, 'stressing': 12800, 'babysitting': 997, 'village': 14465, 'stared': 12633, 'ran': 10676, 'problems': 10347, 'kept': 7338, 'benevolent': 1260, 'inspiring': 6855, 'solace': 12335, 'proof': 10419, 'doubts': 3956, 'clenches': 2370, 'races': 10633, 'ros': 11336, 'anna': 559, 'wealth': 14667, 'en1s': 4372, 'blocks': 1434, 'tuck': 13911, 'belly': 1234, 'hen': 6177, 'coo': 2860, 'cuddle': 3131, 'doll': 3902, 'interest': 6916, 'firstborn': 5080, 'perceives': 9730, 'walia': 14571, 'suspicious': 13087, 'tarun': 13244, 'bani': 1064, 'fail': 4822, 'd3s': 3210, 'path': 9637, 'sorts': 12415, 'nine': 8990, 'wishes': 14894, 'dare': 3253, 'biggest': 1319, 'stiller': 12714, 'vaughn': 14372, 'haters': 6055, 'en1ment': 4371, 'movie': 8674, 'characters': 2156, 'punjabi': 10536, 'lobia': 7835, 'masala': 8161, 'winters': 14878, 'protein': 10448, 'punch': 10528, 'winter': 14876, 'warmer': 14611, 'terrifying': 13372, 'park': 9583, 'learnings': 7606, 'pensive': 9720, 'tense': 13354, 'readers': 10743, 'anticipation': 592, 'bqff': 1613, 'loaded': 7828, 'behind': 1211, 'investigate': 6980, 'mythology': 8782, 'subject': 12895, 'shopping': 11939, 'limiting': 7757, 'reasonably': 10776, 'greater': 5806, 'injury': 6806, 'impacted': 6606, 'olds': 9237, 'portland': 10113, 'stopping': 12747, 'fire': 5069, 'scientist': 11596, 'observing': 9157, 'moon': 8588, 'mentions': 8321, 'gravity': 5799, 'folk': 5226, 'sociable': 12311, 'forces': 5258, 'agnostics': 328, 'atheists': 854, 'judeo': 7233, 'christian': 2280, 'fundamentalists': 5454, 'excitement': 4654, 'hearts': 6125, 'wife': 14829, 'newborn': 8937, 'wee': 14692, '0ly': 7, 'outgrown': 9385, 'fave': 4905, 'thrifted': 13509, 'version': 14421, 'stand': 12623, 'finish': 5060, 'refuse': 10885, 'rate': 10707, 'publisher': 10510, 'snobbish': 12279, 'jeanette': 7130, 'winterson': 14879, 'essentially': 4540, 'scope': 11606, 'explore': 4741, 'petty': 9820, 'fleshed': 5141, 'fluttering': 5206, 'vertigo': 14423, 'handle': 5975, 'admitted': 231, 'defeat': 3383, 'lake': 7499, 'coz': 2978, 'journalists': 7219, 'combined': 2520, 'ridden': 11223, 'semester': 11727, 'leg': 7627, 'yours': 15130, 'lucy': 7949, 'crafted': 2990, 'click': 2377, 'switched': 13142, 'fuck': 5427, 'favor': 4906, 'sound': 12422, 'entitled': 4470, 'remorseful': 11002, 'diet': 3647, 'pill': 9901, 'loss': 7907, 'experiencing': 4722, 'imagining': 6582, 'hands': 5980, 'forearm': 5261, 'disappear': 3710, 'realized': 10766, 'larger': 7526, 'network': 8924, 'interactions': 6911, 'affectionate': 283, 'adore': 242, 'leonard': 7664, 'cohen': 2463, 'searching': 11661, 'tearful': 13288, 'bothers': 1575, 'evening': 4583, 'challenge': 2128, 'therefore': 13448, 'train': 13752, 'machine': 8000, 'printer': 10322, 'teenaged': 13311, 'devastated': 3584, 'pimple': 9908, 'prom': 10405, 'bookmark': 1542, 'april': 689, 'url': 14294, 'fn': 5211, 'www': 15047, 'mask': 8168, 'missgivings': 8478, 'supermarket': 13010, 'dinner': 3683, 'account': 123, 'terminando': 13364, 'com': 2514, 'eight': 4255, 'um': 14004, 'ano': 576, 'depois': 3489, 'project': 10398, 'full': 5442, 'inconsistent': 6697, 'euan': 4562, 'hauled': 6063, 'murder': 8734, 'experimented': 4724, 'paths': 9640, 'partners': 9603, 'ther': 13440, 'co': 2437, 'fuckin': 5430, 'chill': 2240, 'impacting': 6607, 'passion': 9621, 'chocolate': 2260, 'cookie': 2862, 'sits': 12085, 'spite': 12514, 'raging': 10656, 'pms': 10031, 'means': 8241, 'likely': 7744, 'erupt': 4523, 'victim': 14441, 'bothered': 1573, 'ehb': 4252, 'ow': 9463, 'resolve': 11099, 'grievances': 5824, 'attire': 894, 'regular': 10909, 'oil': 9222, 'based': 1100, 'primer': 10314, 'below': 1242, 'points': 10049, 'attainable': 882, 'hint': 6249, 'nouveau': 9078, 'era': 4511, 'bracelet': 1616, 'stairs': 12613, 'occasionally': 9169, 'number': 9102, 'consecutive': 2733, 'nights': 8982, 'bow': 1598, 'convenience': 2840, 'iphone': 6998, 'internet': 6929, 'tv': 13945, 'haves': 6072, 'concern': 2650, 'laced': 7478, 'pounded': 10166, 'pavement': 9660, 'male': 8054, 'men': 8306, 'telling': 13325, 'direction': 3693, 'childhood': 2234, 'holds': 6293, 'clues': 2425, 'joined': 7188, 'elihu': 4285, 'christmastime': 2286, 'mill': 8403, 'darkly': 3258, 'stately': 12655, 'meeting': 8275, 'adults': 252, 'praying': 10205, 'design': 3523, 'brain': 1625, 'dis': 3702, 'visiting': 14496, 'neglect': 8885, 'funeral': 5459, 'killed': 7371, 'ecstatic': 4197, 'proplems': 10424, 'bitched': 1358, 'expressed': 4754, 'intensity': 6898, 'spouse': 12552, 'agony': 332, 'waiting': 14561, 'news': 8944, 'uninspired': 14143, 'intimate': 6947, 'bodily': 1498, 'girlfriend': 5632, 'avoid': 947, 'elevated': 4280, 'lexicon': 7691, 'uncomposed': 14041, 'dressed': 4023, 'director': 3697, 'editor': 4209, 'teachable': 13276, 'tiphany': 13595, 'genuinely': 5577, 'interests': 6919, 'literary': 7804, 'legitimate': 7637, 'analyze': 515, 'ignoring': 6555, 'heartbreaking': 6117, 'alarming': 377, 'feed': 4936, 'compassion': 2591, 'email': 4301, 'deeply': 3379, 'steal': 12676, 'joshua': 7213, 'customer': 3182, 'sincerity': 12053, 'dontknow': 3922, 'linus': 7774, 'forgotten': 5284, 'suffer': 12950, 'produce': 10362, 'includes': 6687, 'increasing': 6705, 'dirty': 3701, 'trash': 13792, 'bin': 1328, 'streets': 12790, 'nobody': 8999, 'sought': 12416, 'curls': 3163, 'natural': 8839, 'lowlights': 7934, 'section': 11679, 'gonna': 5717, 'rainy': 10667, 'lapse': 7521, 'sanity': 11489, 'rampage': 10674, 'slightest': 12165, 'inconvenience': 6698, 'stare': 12632, 'computer': 2640, 'screen': 11628, 'scratch': 11620, 'drink': 4034, 'pots': 10160, 'sentence': 11755, 'consists': 2751, 'poop': 10091, 'joke': 7193, 'highs': 6231, 'mile': 8396, 'drop': 4051, 'excruciating': 4660, 'horrific': 6377, 'helping': 6171, 'fresh': 5378, 'figs': 5015, 'delicate': 3427, 'prettier': 10288, 'dried': 4029, 'hgtv': 6213, 'order': 9321, 'describing': 3514, 'express': 4753, 'gene': 5548, 'dominant': 3908, 'poet': 10040, 'crazy': 3021, 'covetousnes': 2971, 'hopelessness': 6361, 'disturbing': 3850, 'scar': 11551, 'covered': 2968, 'chest': 2220, 'rhythm': 11212, 'remind': 10992, 'favourite': 4911, 'terpene': 13366, 'flavour': 5129, 'gained': 5484, 'wieght': 14826, 'pounds': 10168, 'explains': 4732, 'resigned': 11092, 'docile': 3879, 'decades': 3331, 'jolly': 7198, 'cases': 2017, 'sons': 12386, 'reminds': 10997, 'ra': 10628, 'tries': 13845, 'sexually': 11818, 'attractive': 901, 'excluded': 4658, 'fantabulous': 4867, 'cheated': 2186, 'lie': 7707, 'frankly': 5339, 'lion': 7776, 'prey': 10300, 'surround': 13067, 'bible': 1309, 'transcend': 13765, 'awkwardly': 974, 'melbourne': 8283, 'throws': 13528, 'heavenly': 6133, 'slough': 12184, 'carapace': 1956, 'crud': 3100, 'enveloped': 4480, 'thirty': 13480, 'glasgow': 5660, 'leadingstrings': 7590, 'set': 11794, 'specific': 12467, 'needing': 8873, 'event': 4585, 'constraints': 2765, 'prayer': 10203, 'meditating': 8267, 'greatness': 5809, 'psalm': 10480, 'laze': 7577, 'pajamas': 9525, 'leader': 7586, 'study': 12857, 'terry': 13377, 'drive': 4042, 'yippee': 15108, 'societys': 12321, 'ideas': 6526, 'beyond': 1297, 'disagree': 3706, 'admission': 227, 'puts': 10570, 'category': 2040, 'puppies': 10539, 'clothes': 2411, 'backs': 1011, 'dickensian': 3635, 'orphans': 9355, 'pieces': 9886, 'generally': 5556, 'blanked': 1393, 'lesson': 7670, 'seamlessly': 11656, 'jumped': 7257, 'inferring': 6758, 'smell': 12218, 'taiwan': 13194, 'shop': 11936, 'bathrooms': 1120, 'depends': 3484, 'aroused': 730, 'chronically': 2288, 'enormous': 4437, 'pink': 9921, 'flamingo': 5110, 'shooting': 11934, 'afterwards': 312, 'guys': 5914, 'drinks': 4037, 'agreed': 334, 'rang': 10682, 'listening': 7795, 'atheism': 852, 'fails': 4825, 'log': 7849, 'yeah': 15083, 'nominated': 9013, 'award': 959, 'received': 10791, 'swings': 13137, 'sudden': 12946, 'outburst': 9374, 'hide': 6220, 'extra': 4772, 'biochem': 1336, 'ruach': 11368, 'hakodesh': 5949, 'attempted': 884, 'suck': 12938, 'nevermind': 8932, 'guests': 5881, 'pie': 9884, 'pound': 10165, 'posted': 10145, 'crap': 3003, 'zoom': 15172, 'difficulties': 3656, 'desert': 3518, 'voices': 14518, 'temporarily': 13337, 'loose': 7889, 'noone': 9030, 'anyway': 617, 'random': 10679, 'tick': 13546, 'keyboard': 7343, 'keys': 7347, 'spilled': 12498, 'travel': 13797, 'emails': 4302, 'scott': 11613, 'dale': 3224, 'frusterated': 5420, 'neurotic': 8927, 'freak': 5351, 'smoothly': 12243, 'twenty': 13953, 'adaption': 189, 'harden': 6016, 'toughen': 13706, 'myelf': 8770, 'enlist': 4434, 'difficult': 3655, 'mehow': 8279, 'casually': 2031, 'remarks': 10984, 'infield': 6761, 'insider': 6836, 'plain': 9962, 'tank': 13228, 'top': 13670, 'bottoms': 1580, 'zara': 15148, 'caught': 2052, 'occupying': 9175, 'spaces': 12437, 'chores': 2273, 'ex': 4620, 'sample': 11471, 'denied': 3461, 'teaching': 13280, 'stones': 12742, 'tag': 13189, 'grumble': 5865, 'groan': 5840, 'journey': 7221, 'thus': 13540, 'junk': 7267, 'thursday': 13539, 'foggy': 5219, 'mention': 8318, 'failure': 4826, 'rollercoaster': 11313, 'unplanned': 14185, 'failed': 4823, 'impressive': 6639, 'background': 1004, 'secretly': 11677, 'learn': 7603, 'common': 2561, 'ground': 5850, 'disliked': 3780, 'major': 8040, 'orgasm': 9340, 'screw': 11634, 'moves': 8673, 'aware': 961, 'complaining': 2606, 'achieve': 141, 'goals': 5696, 'surprise': 13060, 'successes': 12931, 'lyme': 7990, 'coinfections': 2470, 'amazingly': 466, 'weighing': 14705, 'filling': 5028, 'homework': 6328, 'olympics': 9245, 'rainbow': 10663, 'classroom': 2349, 'thanks': 13410, 'tissue': 13604, 'balls': 1048, 'idiotic': 6533, 'hadnt': 5931, 'yelled': 15096, 'frustration': 5423, 'million': 8407, 'sending': 11735, 'solved': 12355, 'hero': 6193, 'utter': 14322, 'gratitude': 5796, 'thankfulness': 13407, 'gesture': 5593, 'notions': 9074, 'ensuring': 4449, 'respect': 11110, 'survived': 13074, 'comprehensive': 2632, 'survive': 13073, 'winner': 14872, 'access': 100, 'hollywood': 6308, 'sofa': 12328, 'pm': 10030, 'button': 1841, 'layout': 7576, 'function': 5450, 'haptic': 6009, 'feedback': 4937, 'buttons': 1842, 'herrman': 6199, 'aren': 706, 'haptics': 6010, 'hardcore': 6014, 'sxe': 13148, 'chocolating': 2262, 'signals': 12019, 'agreement': 336, 'straight': 12763, 'readily': 10745, 'aside': 790, 'cared': 1969, 'rounded': 11352, 'bopping': 1553, 'singing': 12058, 'charming': 2167, 'exchange': 4649, 'oatmeal': 9132, 'separated': 11765, 'todays': 13621, 'schedule': 11577, 'backed': 1002, 'mere': 8327, 'tall': 13216, 'espresso': 4535, 'fingers': 5058, 'arm': 719, 'beneath': 1253, 'clawed': 2353, 'distance': 3824, 'sampled': 11472, 'stretches': 12804, 'scratchy': 11623, 'marge': 8118, 'simpson': 12046, 'sore': 12407, 'whisper': 14790, 'rooms': 11331, 'craft': 2989, 'closet': 2407, 'niggling': 8973, 'abilities': 49, 'communing': 2571, 'virtual': 14485, 'affecting': 281, 'accounted': 124, 'trauma': 13793, 'wound': 15001, 'starts': 12646, 'negative': 8881, 'influencing': 6768, 'answer': 582, 'complicated': 2620, 'questions': 10605, 'convince': 2854, 'believes': 1226, 'relish': 10966, 'squelching': 12586, 'contents': 2806, 'gathered': 5523, 'tricks': 13842, 'advantage': 257, 'incase': 6669, 'runs': 11404, 'bell': 1230, 'yay': 15080, 'loathing': 7833, 'sinking': 12064, 'unwarranted': 14243, 'unnecessary': 14180, 'depression': 3496, 'supremely': 13044, 'acting': 165, 'darker': 3256, 'worth': 14991, 'duty': 4127, 'lady': 7491, 'kiss': 7393, 'disregard': 3804, 'societal': 12318, 'pertain': 9797, 'preferences': 10231, 'challenged': 2129, 'unleashed': 14166, 'fromthe': 5406, 'virgin': 14483, 'sell': 11723, 'pet': 9811, 'exercising': 4673, 'strength': 12791, 'condition': 2668, 'throngs': 13522, 'fervor': 4974, 'green': 5812, 'wallet': 14577, 'encouraged': 4390, 'angle': 541, 'batting': 1128, 'approaching': 679, 'forgot': 5283, 'core': 2892, 'silly': 12033, 'brilliant': 1685, 'comic': 2537, 'actor': 175, 'hearted': 6121, 'marathon': 8112, 'strangely': 12775, 'impostor': 6629, 'contracts': 2825, 'reinforcement': 10919, 'cognitive': 2461, 'reframing': 10877, 'diminishing': 3673, 'dissolving': 3823, 'deferring': 3394, 'reality': 10763, 'rapture': 10701, '0dened': 1, 'horsey': 6384, 'rare': 10702, 'brag': 1622, 'fattie': 4901, 'pre': 10206, 'teen': 13309, 'active': 169, 'homeschooling': 6324, 'dubai': 4077, 'kicked': 7357, 'appreciative': 672, 'partly': 9601, 'annie': 561, 'churn': 2300, 'kinds': 7388, 'esp': 4531, 'doubles': 3950, 'brown': 1717, 'struff': 12839, 'filled': 5027, 'fedtastic': 4933, 'tennis': 13353, 'emm': 4333, 'hoped': 6356, 'attempt': 883, 'ambleside': 472, 'curtains': 3173, 'firmly': 5077, 'closed': 2404, 'warmest': 14612, 'sunniest': 12996, 'remorse': 11001, 'corinthians': 2894, 'progressing': 10393, '4less': 25, 'incrementally': 6710, 'seemingly': 11699, 'rigid': 11241, 'boundaries': 1592, 'paranoia': 9571, 'belongings': 1240, 'insignificant': 6841, 'slipping': 12172, 'gaps': 5506, 'tad': 13187, 'browsers': 1722, 'booth': 1551, 'focused': 5215, 'purchase': 10541, 'develop': 3587, 'unknown': 14165, 'settling': 11803, 'vineman': 14471, 'racin': 10637, 'spot': 12546, 'mentally': 8316, 'ller': 7824, 'expensive': 4718, 'stands': 12628, 'sales': 11455, 'assistants': 825, 'unsatisfied': 14209, 'led': 7619, 'search': 11659, 'phrases': 9856, 'awfully': 971, 'engine': 4426, 'netflix': 8922, 'army': 726, 'misinformed': 8466, 'denounced': 3467, 'unafraid': 14012, 'chills': 2243, 'glimpse': 5667, 'vibrant': 14433, 'gain': 5483, 'virtuous': 14487, 'spin': 12500, 'driving': 4049, 'blackburn': 1377, 'manual': 8103, 'unsupervised': 14227, 'sucessfully': 12936, 'handbrake': 5968, 'interviews': 6945, 'fulsome': 5447, 'manners': 8100, 'reasons': 10778, 'scale': 11544, 'evolution': 4614, 'education': 4218, 'system': 13169, 'vast': 14370, 'lil': 7748, 'company': 2582, 'ac': 84, 'difference': 3650, 'shafted': 11828, 'reaching': 10732, 'finals': 5043, 'randomly': 10680, 'ultimate': 14000, 'restore': 11134, 'kneel': 7414, 'worship': 14988, 'attain': 881, 'hapiness': 5993, 'desp': 3537, 'sympathies': 13155, 'gatsby': 5527, 'evident': 4608, 'met': 8348, 'lock': 7841, 'vault': 14373, 'profession': 10372, 'poetry': 10042, 'poor': 10093, 'tragedy': 13747, 'trusted': 13887, 'incapable': 6667, 'brothers': 1715, 'concert': 2654, 'achieving': 145, 'baseball': 1099, 'bat': 1114, 'doctor': 3882, 'apt': 691, 'description': 3515, 'overwhelmingly': 9460, 'television': 13323, 'dramas': 3995, 'tipping': 13596, 'backwards': 1014, 'ambitious': 471, 'spinning': 12504, 'info': 6771, 'vent': 14401, 'vicious': 14440, 'nasty': 8828, 'adult': 250, 'contracted': 2823, 'sti': 12704, 'defination': 3400, 'romance': 11318, 'regained': 10890, 'crucified': 3099, 'forsaken': 5296, 'enemy': 4413, 'disabled': 3705, 'dignity': 3664, 'shunned': 11985, 'foolish': 5245, 'born': 1561, 'opening': 9281, 'doors': 3934, 'reduce': 10846, 'jealousy': 7128, 'commands': 2543, 'jew': 7155, 'religious': 10965, 'obey': 9140, 'prohibition': 10397, 'flustered': 5204, 'english': 4430, 'foundry': 5315, 'shield': 11892, 'bay': 1134, 'conceal': 2642, 'lending': 7651, 'appearance': 652, 'lies': 7712, 'wherewithal': 14766, 'uggs': 13989, 'ballet': 1044, 'pump': 10523, 'bandwagon': 1059, 'driver': 4045, 'adolescence': 235, 'revert': 11188, 'powers': 10179, 'belmont': 1235, 'library': 7703, 'electric': 4272, 'orchestra': 9317, 'bless': 1409, 'appreciate': 668, 'wiped': 14883, 'oxygen': 9477, 'alcest': 385, 'album': 382, 'roommate': 11329, 'goodnight': 5722, 'mike': 8392, 'lighter': 7727, 'talks': 13215, 'dunham': 4111, 'portrayed': 10117, 'hannahs': 5991, 'happening': 5997, 'minimise': 8434, 'distress': 3841, 'contort': 2821, 'stumbling': 12868, 'quote': 10626, 'urging': 14291, 'meant': 8242, 'dedicate': 3364, 'efforts': 4241, 'prayed': 10202, 'details': 3566, 'barely': 1082, 'pit': 9944, 'sexy': 11820, 'pose': 10121, 'voicing': 14520, 'upper': 14273, 'weak': 14662, 'wanna': 14594, 'accomplished': 116, 'ritz': 11273, 'crackers': 2986, 'desk': 3533, 'tenure': 13359, 'protects': 10447, 'teachers': 13278, 'hateful': 6054, 'harmful': 6027, 'taught': 13261, 'wrongly': 15034, 'undo': 14085, 'bigotry': 1321, 'binds': 1331, 'sloth': 12182, 'geared': 5537, 'higher': 6226, 'altitudes': 455, 'watchers': 14644, 'program': 10386, 'count': 2940, 'fought': 5309, 'confidence': 2685, 'essence': 4538, 'soul': 12417, 'hopefully': 6358, 'escape': 4525, 'stuck': 12848, 'cliquey': 2396, 'roll': 11310, 'suffocated': 12958, 'pauses': 9659, 'logic': 7853, 'thanksgiving': 13411, 'hour': 6399, 'jimmys': 7167, 'coped': 2879, 'wrung': 15037, 'uploaded': 14270, 'upload': 14269, 'hyperemesis': 6494, 'copying': 2889, 'handsome': 5981, 'hanging': 5987, 'underage': 14054, 'angels': 539, 'intermarrying': 6922, 'humans': 6440, 'tour': 13711, 'lane': 7511, 'soley': 12343, 'doomed': 3930, 'gladiator': 5646, 'stadium': 12603, 'constructed': 2766, 'cardboard': 1963, 'copies': 2880, 'romeo': 11323, 'juliet': 7252, 'outsiders': 9401, 'screaming': 11626, 'rolled': 11311, 'performance': 9743, 'wayne': 14658, 'nikki': 8985, 'minaj': 8416, 'drake': 3993, 'dope': 3936, 'glancing': 5655, 'rucksack': 11376, 'partner': 9602, 'cosmically': 2914, 'deed': 3368, 'expectations': 4711, 'contractions': 2824, 'caused': 2055, 'vs': 14542, 'flung': 5200, 'suitcase': 12972, 'crossing': 3088, 'explode': 4736, 'pressurized': 10278, 'cabin': 1859, 'listen': 7791, 'song': 12379, 'seeking': 11694, 'acceptance': 95, 'provide': 10461, 'teammates': 13283, 'scum': 11647, 'lisa': 7787, 'charge': 2158, 'nurturing': 9116, 'headphones': 6095, 'address': 203, 'congratulations': 2708, 'slugging': 12196, 'massive': 8173, 'takeaways': 13197, 'choccy': 2259, 'binges': 1333, 'instantly': 6861, 'hearing': 6109, 'believers': 1225, 'ending': 4399, 'begins': 1200, 'benefits': 1259, 'assertive': 811, 'aggressive': 323, 'chasing': 2173, 'swim': 13130, 'perceive': 9728, 'dint': 3685, 'drops': 4055, 'condemning': 2666, 'amounting': 493, 'saving': 11528, 'preacher': 10208, 'podium': 10037, 'counselor': 2939, 'motivational': 8639, 'speaker': 12456, 'chose': 2275, 'desires': 3531, 'talked': 13213, 'treated': 13814, 'violence': 14477, 'impractical': 6632, 'laugh': 7546, 'hurts': 6479, 'vellas': 14391, 'speak': 12455, 'conclusion': 2660, 'entail': 4450, 'civilly': 2326, 'del': 3419, 'jades': 7085, 'prone': 10417, 'spencers': 12484, 'derfwadmanor': 3506, 'sucks': 12943, 'achieved': 142, 'positions': 10129, 'yarns': 15076, 'businesses': 1829, 'allows': 428, 'products': 10371, 'aunt': 916, 'reliving': 10969, 'keeps': 7328, 'enthralled': 4461, 'independent': 6715, 'la': 7468, 'destinys': 3555, 'gracias': 5756, 'por': 10104, 'todo': 13627, 'introduction': 6961, 'boss': 1566, 'fooled': 5244, 'lied': 7710, 'sensing': 11751, 'shock': 11922, 'idealistic': 6522, 'proported': 10425, 'gun': 5901, 'rescue': 11073, 'morose': 8614, 'power': 10175, 'distract': 3835, 'intensely': 6896, 'nowadays': 9085, 'socks': 12323, 'useless': 14305, 'film': 5030, 'nicos': 8966, 'ears': 4158, 'showed': 11971, 'contributed': 2833, 'medium': 8271, 'intelligence': 6891, 'sensible': 11749, 'visual': 14501, 'arts': 765, 'players': 9989, 'clicking': 2379, 'option': 9311, 'vomity': 14533, 'mistakes': 8489, 'responded': 11116, 'listed': 7790, 'slalom': 12137, 'hating': 6058, 'haze': 6077, 'curl': 3160, 'balks': 1042, 'soup': 12428, 'smoke': 12233, 'portion': 10112, 'vunerable': 14547, 'eighteen': 4256, 'ups': 14276, 'downs': 3966, 'invite': 6988, 'send': 11733, 'detailing': 3565, 'unedited': 14096, 'names': 8807, 'sticking': 12709, 'benches': 1251, 'favs': 4914, 'tackling': 13182, 'hedge': 6142, 'trudging': 13878, 'initially': 6799, 'revovles': 11200, 'toys': 13729, 'ansi': 581, 'exhausting': 4680, 'machines': 8002, 'lbs': 7581, 'average': 943, 'butterflies': 1838, 'government': 5742, 'gulped': 5898, 'lipstick': 7781, 'rouge': 11347, 'artist': 761, 'intense': 6895, 'region': 10899, 'visibly': 14491, 'outer': 9381, 'carniola': 1994, 'somewhat': 12375, 'evidence': 4606, 'suburban': 12924, 'palm': 9534, 'blowing': 1461, 'universe': 14160, 'reaches': 10731, 'mothers': 8633, 'advice': 270, 'court': 2959, 'devils': 3598, 'suited': 12974, 'playboy': 9986, 'forum': 5303, 'previously': 10299, 'ebay': 4181, 'catch': 2036, 'fish': 5083, 'dejected': 3417, 'congress': 2712, 'approach': 676, 'kairi': 7287, 'herself': 6201, 'lab': 7469, 'rat': 10705, 'ceases': 2073, 'en1ed': 4369, 'gown': 5745, 'plastic': 9977, 'slippers': 12171, 'dopey': 3937, 'holier': 6298, 'thou': 13491, 'constructive': 2768, 'fashioned': 4885, 'graphics': 5788, 'illustrations': 6570, 'fucking': 5431, 'values': 14350, 'hugs': 6431, 'hoards': 6276, 'anybody': 610, 'mcas': 8221, 'tasks': 13249, 'idealized': 6523, 'respond': 11115, 'forgive': 5279, 'demotivated': 3457, 'curriculum': 3168, 'material': 8187, 'possession': 10137, 'disillusioned': 3775, 'startled': 12644, 'comparison': 2587, 'immediately': 6593, 'remembered': 10987, 'jack': 7076, 'blink': 1420, 'threw': 13507, 'cajoled': 1870, 'bullied': 1770, 'slowly': 12190, 'debts': 3329, 'janelle': 7105, 'mon': 8556, 'elle': 4289, 'canada': 1911, 'february': 4926, 'plea': 9999, 'insincere': 6842, 'nosy': 9052, 'jump': 7256, 'museums': 8746, 'paintings': 9518, 'unprepared': 14190, 'liking': 7747, 'triggered': 13847, 'virus': 14488, 'flu': 5193, 'envelope': 4479, 'literally': 7803, 'hundreds': 6461, 'mass': 8170, 'eucharist': 4563, 'include': 6685, 'professors': 10378, 'bankers': 1067, 'liberals': 7698, 'arrogant': 744, 'pinched': 9912, 'crust': 3119, 'struggled': 12841, 'window': 14861, 'fighting': 5011, 'awhile': 972, 'teeth': 13318, 'earn': 4152, 'star': 12630, 'stills': 12716, 'jumps': 7260, 'regulated': 10911, 'limits': 7758, 'sustained': 13091, 'lords': 7898, 'timing': 13582, 'lead': 7584, 'brings': 1689, 'conor': 2722, 'flow': 5187, 'skills': 12112, 'teams': 13284, 'drafting': 3982, 'spots': 12551, 'dieting': 3648, 'secrets': 11678, 'annoy': 569, 'shirts': 11914, 'migraine': 8389, 'attacks': 880, 'excellent': 4639, 'service': 11789, 'educate': 4215, 'trick': 13840, 'bashful': 1103, 'note': 9056, 'dislike': 3779, 'harvest': 6040, 'attempting': 885, 'ruined': 11389, 'damp': 3235, 'motorway': 8649, 'telephone': 13320, 'lived': 7812, 'frame': 5332, 'properly': 10422, 'plenty': 10013, 'repeat': 11023, 'grin': 5832, 'role': 11307, 'grandmother': 5777, 'grandma': 5776, 'defective': 3386, 'pisses': 9938, 'failing': 4824, 'perform': 9742, 'duties': 4126, 'worrying': 14984, 'typed': 13976, 'idiot': 6532, 'sighed': 12012, 'quietly': 10611, 'anguished': 548, 'remarkable': 10982, 'unavoidably': 14019, 'shortcomings': 11944, 'runner': 11398, 'beneficial': 1256, 'employees': 4354, 'specially': 12463, 'rapidly': 10696, 'ramadan': 10672, 'verge': 14414, 'tenderly': 13349, 'cheeks': 2196, 'cheering': 2202, 'nd': 8852, 'vlog': 14509, 'cloudy': 2416, 'easter': 4170, 'retarted': 11156, 'bursts': 1821, 'hesitations': 6209, 'engaged': 4423, 'rhythmic': 11213, 'hops': 6366, 'technically': 13299, 'ten': 13344, 'sites': 12082, 'basis': 1108, 'bs': 1733, 'immedietly': 6594, 'wal': 14568, 'mart': 8148, 'andover': 528, 'patients': 9643, 'definition': 3406, 'trouble': 13872, 'engaging': 4425, 'aim': 350, 'whos': 14816, 'autumn': 939, 'early': 4151, 'andthenwear': 533, 'sent': 11754, 'shiny': 11908, 'linda': 7761, 'spiritually': 12511, 'tempered': 13332, 'ring': 11248, 'incapacitated': 6668, 'flaring': 5113, 'fifteen': 5006, 'wave': 14651, 'crashing': 3008, 'covering': 2969, 'downright': 3965, 'amusing': 505, 'slugged': 12195, 'daughter': 3280, 'strutting': 12844, 'creepy': 3050, 'macabre': 7996, 'fountain': 5316, 'abit': 51, 'darn': 3262, 'itttt': 7067, 'tensions': 13357, 'friendships': 5393, 'recommend': 10817, 'serve': 11785, 'consuming': 2782, 'hovel': 6409, 'grandfather': 5774, 'demand': 3441, 'creativecommons': 3032, 'tat': 13256, 'errrr': 4522, 'dun': 4109, 'noe': 9005, 'depths': 3501, 'underrated': 14065, 'records': 10827, 'nonetheless': 9021, 'humbled': 6442, 'hardships': 6023, 'sum': 12980, 'associate': 826, 'interrupted': 6938, 'aid': 345, 'benadryl': 1248, 'naturally': 8840, 'renewed': 11012, 'endurance': 4407, 'worries': 14982, 'herzog': 6203, 'relates': 10934, 'deck': 3350, 'soak': 12299, 'warmth': 14616, 'judgment': 7239, 'ridiculously': 11231, 'zayne': 15150, 'available': 940, 'churchoffuck': 2298, 'bathroom': 1119, 'renovations': 11013, 'mammoth': 8066, 'task': 13247, 'angel': 537, 'devil': 3597, 'harsh': 6036, 'nvm': 9122, 'state': 12653, 'deliberations': 3426, 'firm': 5075, 'believer': 1224, 'salon': 11457, 'lift': 7719, 'spirits': 12508, 'predatory': 10218, 'deform': 3409, 'asylum': 842, 'seeker': 11693, 'intermittent': 6925, 'lacklustre': 7482, 'pen': 9709, 'diego': 3645, 'vaguely': 14336, 'spacy': 12439, 'effective': 4227, 'married': 8143, 'clubs': 2422, 'intimated': 6948, 'nauseous': 8848, 'laundry': 7555, 'hamper': 5961, 'weaknesses': 14666, 'ordinances': 9325, 'phrase': 9855, 'implies': 6620, 'orderly': 9324, 'procession': 10355, 'remove': 11006, 'proclaim': 10356, 'alot': 438, 'white': 14795, 'considerable': 2742, 'fractured': 5324, 'wrist': 15020, 'excessive': 4648, 'continues': 2816, 'correction': 2906, 'powerless': 10177, 'suffered': 12951, 'nightmares': 8980, 'resentment': 11081, 'blow': 1460, 'tuesday': 13914, 'hilmari': 6242, 'independence': 6714, 'contribution': 2835, 'unsophisticated': 14218, 'immune': 6604, 'alteration': 446, 'whining': 14782, 'ungrateful': 14129, 'fascinated': 4879, 'challenges': 2130, 'katja': 7314, 'disallusioned': 3709, 'beholder': 1212, 'compliment': 2622, 'statement': 12656, 'everyones': 4599, 'harm': 6025, 'chore': 2272, 'uninteresting': 14148, 'anansi': 518, 'tiger': 13561, 'nathans': 8831, 'spurts': 12575, 'sidelines': 12001, 'wet': 14738, 'capable': 1939, 'ipod': 6999, 'suits': 12975, 'reved': 11178, 'pulp': 10519, 'conference': 2679, 'continuing': 2817, 'cash': 2018, 'gas': 5515, 'save': 11525, 'sets': 11797, 'rings': 11250, 'jewellery': 7156, 'buys': 1847, 'passing': 9620, 'pregnancy': 10237, 'assumptions': 835, 'snippet': 12276, 'petrified': 9816, 'dukes': 4094, 'watcher': 14643, 'quick': 10606, 'sister': 12077, 'nephew': 8904, 'cheered': 2198, 'knows': 7439, 'sally': 11456, 'mop': 8592, 'atop': 870, 'hormones': 6370, 'yourself': 15131, 'judge': 7234, 'chased': 2172, 'clutched': 2432, 'bore': 1556, 'testimony': 13381, 'follow': 5231, 'impressions': 6638, 'ourselves': 9371, 'distant': 3827, 'sequel': 11772, 'overrated': 9441, 'deem': 3371, 'instance': 6859, 'guessing': 5879, 'entirety': 4468, 'consumption': 2783, 'un': 14007, 'visitor': 14497, 'collective': 2493, 'club': 2419, 'increasingly': 6706, 'unsettled': 14214, 'disconnected': 3739, 'members': 8297, 'remotely': 11004, 'related': 10933, 'homosexuality': 6334, 'occured': 9177, 'profile': 10380, 'cuz': 3193, 'shamed': 11840, 'dr': 3978, 'bundle': 1784, 'layers': 7574, 'sight': 12015, 'improved': 6644, 'untrieds': 14237, 'generator': 5562, 'worker': 14965, 'john': 7182, 'boehner': 1505, 'copious': 2882, 'blurring': 1477, 'spray': 12555, 'tanned': 13229, 'nicotine': 8967, 'stained': 12611, 'cantor': 1933, 'speakership': 12457, 'resonance': 11102, 'classic': 2345, 'symptom': 13160, 'windy': 14863, 'thoroughly': 13489, 'vowed': 14539, 'climb': 2384, 'scafell': 11543, 'dependence': 3480, 'surrounded': 13068, 'numerous': 9107, 'broken': 1703, 'mixer': 8502, 'extension': 4764, 'pic': 9867, 'courage': 2955, 'idreamculture': 6539, 'surgeries': 13056, 'emergencies': 4325, 'enormously': 4438, 'included': 6686, 'unmotivated': 14177, 'cup': 3150, 'bursting': 1820, 'seams': 11657, 'coloring': 2506, 'later': 7537, 'saturday': 11517, 'battered': 1126, 'app': 643, 'maker': 8045, 'leeches': 7622, 'reagan': 10753, 'slimmed': 12167, 'visible': 14490, 'stack': 12602, 'papers': 9560, 'illness': 6564, 'veterinary': 14427, 'surgeon': 13054, 'dying': 4134, 'roster': 11341, 'housekeep': 6406, 'albeit': 380, 'ebayed': 4182, 'toon': 13668, 'guild': 5888, 'maid': 8026, 'frown': 5412, 'upside': 14280, 'goal': 5695, 'hastings': 6048, 'cops': 2886, 'disorder': 3787, 'insisted': 6845, 'beside': 1278, 'hat': 6049, 'harrass': 6033, 'oppressed': 9304, 'selective': 11715, 'privacys': 10332, 'relate': 10932, 'motivations': 8640, 'crushing': 3117, 'lulled': 7956, 'fantasy': 4870, 'remote': 11003, 'location': 7840, 'sunset': 12999, 'cliched': 2376, 'pumped': 10524, 'rage': 10654, 'yoga': 15113, 'crossfit': 3086, 'coach': 2438, 'plank': 9967, 'closest': 2406, 'stammer': 12619, 'bones': 1531, 'anguish': 547, 'grappled': 5789, 'relatives': 10942, 'communicate': 2565, 'burlesque': 1808, 'updates': 14259, 'links': 7773, 'unique': 14151, 'communications': 2569, 'replaced': 11033, 'mouth': 8664, 'bf': 1299, 'speaks': 12459, 'friendship': 5392, 'silence': 12027, 'unconscious': 14045, 'racism': 10639, 'overt': 9450, 'grown': 5860, 'bleed': 1402, 'lucks': 7947, 'hahaha': 5937, 'nikos': 8988, 'worlds': 14978, 'fate': 4893, 'niko': 8986, 'speechless': 12476, 'cramping': 2997, 'dorky': 3941, 'hipster': 6254, 'bastard': 1112, 'intellect': 6888, 'encountered': 4388, 'ends': 4406, 'sharp': 11859, 'objects': 9144, 'inevitably': 6748, 'sipping': 12070, 'coke': 2471, 'swimming': 13131, 'aggravated': 321, 'mousekins': 8662, 'listeners': 7794, 'compensate': 2595, 'sunshine': 13000, 'buffy': 1757, 'multiple': 8716, 'flight': 5151, 'pan': 9539, 'accomplishing': 117, 'author': 926, 'readings': 10747, 'si': 11992, 'botany': 1570, 'lec': 7616, 'nursery': 9111, 'helped': 6169, 'en1able': 4368, 'interesting': 6918, 'pupils': 10538, 'douevenlift': 3959, 'incredible': 6707, 'despair': 3538, 'module': 8527, 'interacted': 6909, 'definite': 3404, 'development': 3592, 'settle': 11800, 'arrived': 740, 'blame': 1389, 'consequences': 2735, 'framework': 5335, 'branches': 1632, 'chickie': 2229, 'scene': 11567, 'depth': 3500, 'factors': 4815, 'cooking': 2864, 'mystique': 8779, 'acheivment': 139, 'surrounding': 13069, 'unexpected': 14104, 'insane': 6822, 'housewife': 6407, 'sue': 12948, 'bloater': 1429, 'laughing': 7549, 'chosen': 2276, 'uber': 13984, 'ignore': 6553, 'pretend': 10283, 'reiterate': 10920, 'despondent': 3546, 'incidents': 6680, 'mermaidhaire': 8334, 'intuition': 6968, 'julie': 7251, 'baileys': 1033, 'treatment': 13816, 'stood': 12743, 'nhs': 8953, 'community': 2574, 'binge': 1332, 'hardly': 6020, 'compete': 2598, 'justify': 7275, 'improvements': 6646, 'breakdowns': 1650, 'hrs': 6415, 'quilt': 10612, 'archeological': 697, 'dine': 3676, 'guinea': 5893, 'pigs': 9893, 'flat': 5121, 'wholly': 14807, 'technique': 13300, 'proven': 10459, 'slide': 12161, 'regret': 10905, 'baltimore': 1051, 'introduce': 6958, 'heaven': 6132, 'jesus': 7153, 'sparrow': 12449, 'watches': 14645, 'dilute': 3669, 'givings': 5644, 'creating': 3028, 'grow': 5857, 'powerful': 10176, 'concerned': 2651, 'choices': 2264, 'upbeat': 14255, 'mournful': 8659, 'bulletin': 1769, 'myspace': 8774, 'embrace': 4319, 'hug': 6426, 'careess': 1973, 'curled': 3161, 'hu': 6420, 'jia': 7161, 'dread': 4009, 'thank': 13403, 'certified': 2110, 'ace': 136, 'burned': 1811, 'ridiculous': 11230, 'execute': 4663, 'dishwasher': 3774, 'lower': 7930, 'idol': 6537, 'grab': 5748, 'discarding': 3726, 'neck': 8866, 'kg': 7349, 'approx': 684, 'screwed': 11635, 'brows': 1720, 'pondered': 10086, 'teasing': 13295, 'scrutiny': 11645, 'compelled': 2594, 'meek': 8273, 'asian': 788, 'vividly': 14505, 'belt': 1243, 'instructors': 6874, 'dojo': 3901, 'richard': 11219, 'destiny': 3554, 'obedience': 9135, 'pianos': 9866, 'newer': 8940, 'cheaper': 2183, 'offend': 9196, 'foreign': 5269, 'tourists': 13715, 'island': 7033, 'begging': 1196, 'ur': 14284, 'beat': 1156, 'replace': 11032, 'conversing': 2849, 'sheer': 11875, 'familiarity': 4852, 'protectiveness': 10446, 'slight': 12163, 'franz': 5342, 'liebkind': 7708, 'producers': 10365, 'fuhrer': 5436, 'dancer': 3241, 'weepy': 14702, 'haha': 5936, 'stepped': 12691, 'candyland': 1923, 'haggard': 5933, 'radiant': 10646, 'goddamn': 5700, 'aconfident': 155, 'overcomet': 9418, 'caffeined': 1866, 'ad': 185, 'vista': 14499, 'pro': 10341, 'incorporate': 6699, 'recovery': 10833, 'mental': 8314, 'breeds': 1666, 'economy': 4195, 'recession': 10798, 'stressful': 12799, 'unemployment': 14100, 'divorce': 3866, 'britain': 1691, 'louis': 7922, 'xvi': 15063, 'marie': 8125, 'antoinette': 601, 'russia': 11415, 'comparatively': 2583, 'lemon': 7646, 'bars': 1096, 'crocs': 3079, 'fashionable': 4884, 'shoe': 11926, 'icon': 6515, 'eyeglasses': 4788, 'authoritative': 927, 'stasia': 12652, 'foundation': 5312, 'ya': 15067, 'allah': 410, 'puff': 10514, 'mastered': 8177, 'smiling': 12228, 'spa': 12435, 'intervene': 6942, 'scribble': 11636, 'notebook': 9057, 'ghd': 5604, 'straightener': 12765, 'unlikeable': 14169, 'fluffy': 5196, 'yunhos': 15140, 'raps': 10700, 'wtf': 15041, 'range': 10683, 'russell': 11414, 'crowe': 3094, 'robin': 11292, 'hood': 6348, 'merida': 8332, 'phoenix': 9839, 'illustrators': 6571, 'designers': 3526, 'trappings': 13791, 'crosshatching': 3087, 'lensflares': 7660, 'artistry': 763, 'darren': 3264, 'none': 9020, 'ti': 13543, 'dozens': 3974, 'final': 5038, 'assignments': 821, 'unfortunately': 14122, 'inspiration': 6850, 'whinging': 14781, 'temperature': 13330, 'undutiful': 14091, 'church': 2296, 'oomph': 9274, 'emanating': 4303, 'naked': 8800, 'longingly': 7876, 'probing': 10343, 'tip': 13594, 'hardness': 6021, 'foist': 5221, 'headache': 6083, 'scabbed': 11540, 'surface': 13049, 'raw': 10720, 'unhealed': 14132, 'underneath': 14063, 'tween': 13950, 'moms': 8555, 'babysit': 995, 'whirlwind': 14788, 'distinct': 3830, 'ultimately': 14001, 'turnout': 13937, 'retirement': 11158, 'struggle': 12840, 'overwhelms': 9461, 'apparently': 646, 'offends': 9200, 'overworked': 9462, 'exclusively': 4659, 'peoples': 9724, 'smiles': 12226, 'str3s': 12762, 'boisterous': 1511, 'magical': 8017, 'frombut': 5405, 'moody': 8587, 'reader': 10742, 'subscriber': 12910, 'informed': 6775, 'butterfly': 1839, 'marketing': 8132, 'bank': 1066, 'chunky': 2295, 'commissions': 2552, 'factory': 4816, 'butchery': 1834, 'affected': 280, 'tornadoes': 13680, 'hav': 6068, 'cop': 2876, 'babychaser': 991, 'childish': 2235, 'headmaster': 6094, 'served': 11786, 'diversity': 3859, 'ratbagx': 10706, 'vomit': 14530, 'neighbors': 8893, 'hang': 5985, 'causes': 2056, 'volunteer': 14527, 'introduced': 6959, 'organization': 9334, 'packs': 9495, 'rations': 10713, 'hadn': 5930, 'influential': 6769, 'scales': 11545, 'nicer': 8958, 'conventional': 2844, 'walls': 14582, 'ceiling': 2075, 'surfaces': 13050, 'imdoing': 6586, 'balance': 1038, 'skinny': 12120, 'fiber': 4993, 'wonders': 14946, 'catholic': 2047, 'vortex': 14535, 'entertaining': 4457, 'levels': 7688, 'provided': 10462, 'alcohol': 386, 'crash': 3006, 'apartment': 625, 'signed': 12020, 'petition': 9815, 'switch': 13141, 'sufficient': 12955, 'dad': 3213, 'rampant': 10675, 'lawrencewashington': 7567, 'coat': 2442, 'rock': 11295, 'swag': 13096, 'fade': 4819, 'disturb': 3848, '2r': 18, 'lips': 7780, 'professional': 10373, 'unpressed': 14191, 'outlet': 9389, 'walked': 14573, 'experiment': 4723, 'equation': 4506, 'describe': 3511, 'deadline': 3306, 'quitting': 10621, 'rugby': 11386, 'mothering': 8631, 'boobs': 1538, 'spreads': 12558, 'pronounced': 10418, 'accordance': 121, 'faithfulness': 4836, 'julia': 7248, 'witty': 14918, 'published': 10509, 'anyones': 614, 'exception': 4641, 'complaints': 2608, 'forced': 5256, 'creme': 3051, 'counter': 2942, 'redhead': 10844, 'boot': 1550, 'sumthg': 12989, 'thk': 13483, 'irc': 7003, 'mi': 8366, 'enthusiasm': 4462, 'listener': 7793, 'bb': 1136, 'denying': 3473, 'possibility': 10141, 'realised': 10758, 'leather': 7612, 'sandals': 11479, 'hopelessly': 6360, 'tasty': 13255, 'goodness': 5721, 'abound': 59, 'santa': 11491, 'cruz': 3121, 'unseen': 14213, 'ambient': 469, 'pot': 10153, 'swear': 13107, 'laid': 7495, 'university': 14161, 'renowned': 11014, 'sports': 12543, 'unhealthy': 14133, 'greys': 5821, 'anatomy': 519, 'ty': 13972, 'effects': 4230, 'loathe': 7831, 'gamer': 5496, 'molyneux': 8544, 'issue': 7049, 'regarded': 10893, 'highest': 6227, 'urgency': 14287, 'uploading': 14271, 'lemme': 7645, 'arena': 707, 'representing': 11049, 'clients': 2380, 'treats': 13817, 'cagey': 1869, 'leaving': 7615, 'settings': 11799, 'eyebrows': 4786, 'waxed': 14655, 'behaved': 1205, 'chipping': 2254, 'allergies': 415, 'cycling': 3201, 'quaker': 10581, 'announced': 565, 'excitedly': 4653, 'fortnight': 5299, 'duck': 4083, 'aged': 316, 'understood': 14071, 'contained': 2790, 'similar': 12035, 'contrast': 2831, 'differ': 3649, 'disgust': 3766, 'quantum': 10588, 'leap': 7601, 'struck': 12835, 'focuses': 5216, 'named': 8805, 'types': 13977, 'hop': 6354, 'kleinkinders': 7410, 'medication': 8261, 'piles': 9897, 'pack': 9487, 'bedroom': 1175, 'perpetually': 9767, 'breaking': 1652, 'gawd': 5532, 'footballer': 5249, 'admired': 224, 'extrememly': 4779, 'overly': 9436, 'potentially': 10157, 'impulsive': 6650, 'indulge': 6736, 'emerges': 4327, 'coordinates': 2875, 'cave': 2062, 'tibris': 13545, 'directions': 3695, 'discuss': 3754, 'daydreamed': 3292, 'standards': 12624, 'dreamworld': 4018, 'caffeine': 1865, 'withdrawal': 14905, 'fab': 4799, 'direct': 3690, 'instruction': 6871, 'lee': 7621, 'yo': 15112, 'handheld': 5973, 'cam': 1899, 'sickened': 11996, 'lances': 7504, 'laying': 7575, 'disappeared': 3712, 'adjectives': 213, 'wierd': 14828, 'collar': 2486, 'bounce': 1585, 'electricity': 4273, 'paw': 9662, 'wasted': 14638, 'sniffles': 12273, 'itchy': 7056, 'sooner': 12390, 'greg': 5817, 'native': 8837, 'abandoned': 37, 'volumes': 14525, 'expansion': 4705, 'apologise': 636, 'relieving': 10962, 'asset': 817, 'bands': 1058, 'musicianship': 8755, 'hits': 6266, 'genres': 5570, 'resurrect': 11149, 'lengthy': 7656, 'history': 6263, 'celebrity': 2084, 'crushes': 3116, 'graduation': 5765, 'yk': 15110, 'identify': 6527, 'destructive': 3560, 'behaviors': 1209, 'bathing': 1118, 'suit': 12970, 'october': 9184, 'disease': 3761, 'rachel': 10635, 'leisurely': 7644, 'split': 12521, 'weirdly': 14716, 'sams': 11474, 'angsty': 546, 'headspace': 6097, 'jensens': 7141, 'bon': 1525, 'jovi': 7223, 'prove': 10457, 'refusing': 10888, 'fiance': 4992, 'zone': 15168, 'pushover': 10563, 'willing': 14847, 'deliver': 3434, 'attribute': 902, 'score': 11607, 'poles': 10062, 'pairs': 9523, 'stats': 12665, 'review': 11189, 'grand': 5770, 'plans': 9971, 'baking': 1036, 'pouting': 10171, 'pained': 9509, 'annoyance': 570, 'wouldve': 15000, 'separation': 11769, 'explained': 4730, 'described': 3512, 'luck': 7945, 'chat': 2177, 'rustie': 11416, 'dean': 3315, 'hometown': 6327, 'moose': 8590, 'jaw': 7118, 'pregant': 10235, 'pub': 10502, 'stayed': 12670, 'played': 9987, 'stunningly': 12871, 'darling': 3260, 'samuel': 11475, 'tinge': 13585, 'nutrition': 9118, 'track': 13733, 'exes': 4676, 'extremley': 4780, 'eventually': 4588, 'lenses': 7659, 'likeaudrey': 7740, 'hepburn': 6182, 'tiffanys': 13560, 'flounders': 5182, 'luckily': 7946, 'complain': 2605, 'facebook': 4805, 'offline': 9215, 'thanked': 13404, 'amos': 491, 'retrofitting': 11163, 'cohens': 2464, 'basic': 1105, 'arrangement': 734, 'piano': 9865, 'merely': 8329, 'homage': 6311, 'restart': 11125, 'flirtiing': 5159, 'pages': 9501, 'argument': 712, 'sessions': 11793, 'ice': 6511, 'perfection': 9740, 'alise': 406, 'jeremy': 7144, 'demands': 3443, 'burdens': 1800, 'overtake': 9451, 'financial': 5046, 'induced': 6734, 'nightlife': 8977, 'speed': 12477, 'evenings': 4584, 'clock': 2398, 'daylight': 3294, 'provides': 10465, 'stash': 12651, 'snapped': 12258, 'lecture': 7617, 'cancelled': 1918, 'spitting': 12516, 'somebody': 12360, 'disrespect': 3807, 'percieve': 9735, 'drank': 3999, 'crunk': 3113, 'injustice': 6807, 'rises': 11262, 'mg': 8365, 'seroquel': 11784, 'syndrome': 13163, 'expression': 4756, 'blogpost': 1443, 'lipbalms': 7778, 'subje': 12894, 'reminder': 10994, 'wrestling': 15015, 'outrageous': 9393, 'inches': 6677, 'separating': 11768, 'vocal': 14512, 'opinion': 9289, 'discussed': 3755, 'blending': 1408, 'plodded': 10015, 'recording': 10825, 'programme': 10387, 'placce': 9954, 'outright': 9395, 'colleagues': 2488, 'compliments': 2624, 'jubilations': 7231, 'bar': 1073, 'twitchy': 13965, 'organisation': 9330, 'intentions': 6905, 'demostrators': 3455, 'losses': 7908, 'shapeshifter': 11850, 'activism': 171, 'construes': 2771, 'update': 14258, 'hubby': 6422, 'uses': 14308, 'talent': 13206, 'glory': 5681, 'damaging': 3230, 'indeed': 6712, 'adjust': 214, 'center': 2095, 'bask': 1109, 'ahaha': 339, 'retarded': 11155, 'calmed': 1890, 'determination': 3573, 'shots': 11953, 'acctually': 126, 'wonderfull': 14942, 'israel': 7047, 'securities': 11684, 'casserole': 2023, 'relating': 10935, 'meals': 8235, 'local': 7836, 'hall': 5953, 'pitch': 9945, 'ins': 6821, 'picnics': 9877, 'luncheons': 7967, 'wishful': 14895, 'responsibility': 11122, 'planning': 9970, 'commitment': 2554, 'belonging': 1238, 'recognised': 10811, 'confusion': 2703, 'shifty': 11900, 'attributes': 904, 'overshadowed': 9446, 'weakness': 14665, 'subconsciously': 12890, 'wired': 14885, 'measure': 8244, 'cleaning': 2358, 'nursing': 9113, 'jean': 7129, 'actors': 176, 'announce': 564, 'aoa': 620, 'feature': 4920, 'mat': 8182, 'anyhow': 611, 'circuits': 2313, 'spine': 12502, 'serious': 11780, 'healthcare': 6103, 'tramples': 13760, 'anothers': 580, 'beliefs': 1220, 'encapsulate': 4379, 'energised': 4418, 'socialise': 12313, 'smiley': 12227, 'bah': 1030, 'rejecting': 10923, 'firefly': 5072, 'serenity': 11774, 'mixed': 8501, 'upcoming': 14257, 'adventure': 259, 'chinese': 2248, 'china': 2245, 'fester': 4975, 'despised': 3544, 'texture': 13391, 'mystery': 8776, 'overall': 9413, 'check': 2189, 'detached': 3561, 'squeeze': 12585, 'riled': 11246, 'action': 166, 'offensive': 9202, 'unsheathe': 14216, 'sword': 13145, 'defenses': 3392, 'rise': 11260, 'athletic': 857, 'definetly': 3403, 'yuuki': 15142, 'titanium': 13606, 'hedgehog': 6143, 'detested': 3577, 'trepidatious': 13832, 'idiocy': 6530, 'fastforwarding': 4888, 'scenes': 11569, 'column': 2513, 'logging': 7852, 'empowering': 4359, 'thousands': 13498, 'weaning': 14669, 'drama': 3994, 'ia': 6505, 'owe': 9464, 'sooooo': 12393, 'columbia': 2512, 'nail': 8793, 'concoction': 2662, 'soaked': 12300, 'bod': 1495, 'browness': 1718, 'tremors': 13825, 'resent': 11077, 'shaming': 11844, 'alternative': 452, 'cashier': 2019, 'deaf': 3309, 'antsy': 604, 'fabrics': 4802, 'quicker': 10607, 'deeper': 3376, 'necklace': 8867, 'combing': 2521, 'bourbon': 1594, 'weaker': 14663, 'digging': 3661, 'postponing': 10151, 'labor': 7474, 'teens': 13314, 'maury': 8209, 'logan': 7850, 'evaporate': 4579, 'cyberspace': 3197, 'wisdom': 14888, 'ahahahaha': 340, 'morbidly': 8600, 'bites': 1363, 'stpm': 12760, 'sigh': 12011, 'blossoms': 1458, 'vine': 14468, 'murakami': 8732, 'captures': 1951, 'nostalgia': 9049, 'canaglia': 1915, 'personalized': 9785, 'lick': 7706, 'lollypop': 7863, 'hausa': 6067, 'motorcyclist': 8647, 'bears': 1154, 'resemblance': 11076, 'north': 9044, 'circles': 2312, 'tendency': 13347, 'laziness': 7578, 'narcissism': 8819, 'justifying': 7276, 'disclosure': 3733, 'collaboration': 2482, 'stole': 12736, 'represents': 11050, 'warner': 14619, 'edit': 4206, 'arriving': 742, 'format': 5289, 'blu': 1467, 'ray': 10723, 'website': 14688, 'frequented': 5375, 'silently': 12030, 'scream': 11624, 'urbanite': 14285, 'myriad': 8771, 'disaster': 3718, 'york': 15117, 'optimist': 9309, 'laps': 7520, 'political': 10071, 'unravels': 14195, 'inevitable': 6747, 'personnel': 9789, 'buzzy': 1850, 'mildly': 8395, 'panicky': 9548, 'unprotected': 14194, 'mil': 8393, 'mouthed': 8665, 'rattled': 10714, 'confirmed': 2690, 'gripped': 5836, 'breaths': 1664, 'lungs': 7973, 'exhaling': 4678, 'vapor': 14358, 'bridge': 1677, 'continuity': 2818, 'lacy': 7485, 'string': 12815, 'returned': 11166, 'insides': 6837, 'cookies': 2863, 'youthful': 15133, 'employment': 4357, 'lush': 7982, 'unfulfilled': 14125, 'paint': 9515, 'progressive': 10395, 'babysitter': 996, 'cross': 3084, 'eyed': 4787, 'reevaluating': 10856, 'moved': 8669, 'czech': 3206, 'republic': 11058, 'package': 9488, 'underground': 14060, 'toby': 13618, 'tunji': 13925, 'bonding': 1528, 'wardrode': 14605, 'decade': 3330, 'relived': 10968, 'truely': 13880, 'excercising': 4645, 'cafe': 1862, 'chaotic': 2148, 'besides': 1279, 'british': 1692, 'timid': 13581, 'marvelous': 8156, 'irresistible': 7017, 'frock': 5402, 'endure': 4408, 'discomfort': 3736, 'transferred': 13770, 'operating': 9286, 'shallow': 11837, 'bunk': 1789, 'affend': 287, 'nonsense': 9024, 'gladly': 5647, 'miyavi': 8505, 'fair': 4829, 'xia': 15057, 'eagerly': 4142, 'andri': 532, 'abroad': 63, 'leaned': 7597, 'horizon': 6367, 'freedoms': 5361, 'wallets': 14578, 'pilfered': 9898, 'corporate': 2903, 'vote': 14536, 'treating': 13815, 'league': 7594, 'proper': 10421, 'skater': 12099, 'attitude': 895, 'practices': 10187, 'trivial': 13865, 'snacking': 12250, 'stickiness': 12708, 'lingering': 7767, 'blurry': 1478, 'dave': 3283, 'atell': 848, 'solemn': 12341, 'render': 11011, 'thearchitecturality': 13420, 'utopian': 14321, 'garage': 5507, 'strive': 12821, 'soooo': 12392, 'income': 6690, 'hobbies': 6278, 'busting': 1831, 'scoffing': 11601, 'christians': 2282, 'kim': 7377, 'kardashion': 7299, 'tutorials': 13943, 'justice': 7272, 'west': 14734, 'tear': 13286, 'element': 4277, 'adorable': 240, 'garments': 5512, 'survival': 13072, 'onwards': 9272, 'tranny': 13761, 'blake': 1388, 'trepidation': 13831, 'statistics': 12664, 'information': 6774, 'departure': 3478, 'woop': 14958, 'surroundings': 13070, 'bunch': 1782, 'safety': 11442, 'wading': 14550, 'waters': 14649, 'dialog': 3623, 'individual': 6729, 'deflated': 3408, 'fran': 5336, 'dublin': 4080, 'whim': 14772, 'holyhead': 6310, 'plant': 9972, 'pesky': 9805, 'bunnies': 1791, 'raiding': 10658, 'nagging': 8790, 'concepts': 2649, 'drags': 3989, 'motivating': 8637, 'sighs': 12014, 'except': 4640, 'floating': 5163, 'sidewalk': 12003, 'pothole': 10158, 'unearthly': 14092, 'puzzles': 10575, 'teaches': 13279, 'instructions': 6872, 'manipulkated': 8093, 'charlie': 2163, 'liz': 7820, 'earle': 4147, 'coolum': 2869, 'whilst': 14771, 'calling': 1886, 'outgoing': 9384, 'smooch': 12238, 'candle': 1920, 'drawn': 4007, 'grayish': 5801, 'cd': 2069, 'listened': 7792, 'relations': 10937, 'thereof': 13450, 'ward': 14603, 'investigators': 6981, 'ponder': 10085, 'temple': 13334, 'seconds': 11674, 'reflect': 10868, 'police': 10063, 'sheriff': 11886, 'larry': 7527, 'ppl': 10181, 'dragged': 3985, 'rte': 11367, 'emoticons': 4338, 'embaressed': 4307, 'believing': 1227, 'polling': 10077, 'yall': 15069, 'consequently': 2736, 'obligated': 9145, 'deserves': 3522, 'inner': 6812, 'conflict': 2692, 'flew': 5142, 'distances': 3826, 'hotels': 6395, 'naught': 8843, 'disco': 3734, 'appearances': 653, 'increases': 6704, 'someday': 12362, 'eternal': 4551, 'repetition': 11030, 'futile': 5470, 'plane': 9964, 'skipped': 12124, 'uruk': 14295, 'hai': 5939, 'tolerated': 13640, 'maine': 8033, 'darned': 3263, 'partying': 9607, 'wasting': 14639, 'unloving': 14173, 'evaluate': 4574, 'solution': 12352, 'drastic': 4001, 'proposal': 10426, 'presents': 10267, 'banana': 1054, 'roast': 11283, 'tea': 13274, 'likewise': 7746, 'attracted': 899, 'tangible': 13223, 'philips': 9833, 'reaura': 10782, 'terms': 13365, 'firming': 5076, 'smoothing': 12242, 'clique': 2394, 'twice': 13955, 'chooses': 2268, 'triple': 13857, 'pompous': 10083, 'notoriety': 9075, 'ism': 7035, 'espouse': 4534, 'relaxation': 10944, 'discovered': 3750, 'borrowed': 1564, 'bumper': 1780, 'destroyed': 3556, 'cheap': 2182, 'asserting': 810, 'bids': 1315, 'neighbour': 8894, 'muze': 8766, 'mujhe': 8707, 'kay': 7320, 'zay': 15149, 'ladybits': 7492, 'frozen': 5415, 'thaw': 13417, 'ensue': 4446, 'instigated': 6863, 'unfolding': 14117, 'aussie': 918, 'followed': 5232, 'dumplings': 4107, 'chinatown': 2247, 'lemonade': 7647, 'leafy': 7593, 'beer': 1183, 'labour': 7476, 'brunswick': 1728, 'attending': 889, 'backyard': 1015, 'barbecue': 1074, 'edinburgh': 4205, 'gardens': 5511, 'hockey': 6284, 'pig': 9891, 'duke': 4093, 'parmesan': 9587, 'truffle': 13881, 'wings': 14870, 'prawn': 10199, 'lollipops': 7862, 'worldly': 14977, 'mentioned': 8319, 'retail': 11150, 'kingdom': 7390, 'enviously': 4483, 'luka': 7954, 'innovations': 6814, 'adjustment': 216, 'economic': 4193, 'structure': 12836, 'productivity': 10370, 'chakotay': 2124, 'approached': 677, 'strengths': 12795, 'rush': 11409, 'ebb': 4183, 'waves': 14652, 'drives': 4047, 'fashion': 4883, 'pretentious': 10287, 'chewing': 2222, 'swallowing': 13099, 'grieve': 5825, 'essential': 4539, 'component': 2625, 'sox': 12434, 'tampa': 13220, 'rays': 10724, 'skilled': 12111, 'presentational': 10263, 'backgrounds': 1005, 'wilder': 14839, 'loads': 7829, 'downers': 3963, 'mess': 8340, 'carry': 2005, 'photography': 9851, 'persuade': 9794, 'retired': 11157, 'photographer': 9846, 'winston': 14875, 'churchill': 2297, 'merge': 8330, 'international': 6928, 'youngsters': 15127, 'fads': 4820, 'foul': 5310, 'pedestrians': 9692, 'impolite': 6622, 'passengers': 9615, 'resources': 11109, 'formed': 5291, 'themes': 13430, 'wrapped': 15009, 'kissed': 7394, 'expecting': 4713, 'emotionless': 4343, 'target': 13238, 'annoying': 572, 'analogy': 511, 'anxiously': 608, 'bearing': 1153, 'ww': 15045, 'waited': 14560, 'delayed': 3421, 'occurring': 9179, 'psychological': 10488, 'noah': 8998, 'alliance': 419, 'constructively': 2769, 'studies': 12854, 'rant': 10687, 'organising': 9333, 'partially': 9593, 'resist': 11094, 'shifts': 11899, 'excess': 4646, 'snicker': 12269, 'reminded': 10993, 'everywhere': 4603, 'nurse': 9109, 'commit': 2553, 'engagement': 4424, 'newbie': 8936, 'scripture': 11638, 'abandonment': 39, 'subside': 12914, 'pinpoint': 9927, 'assess': 813, 'carbohydrates': 1957, 'expand': 4702, 'waistline': 14558, 'heck': 6139, 'targeted': 13239, 'hi': 6214, 'tech': 13297, 'splendor': 12520, 'hansen': 5992, 'cha': 2115, 'ching': 2249, 'silver': 12034, 'glitter': 5673, 'forth': 5297, 'violently': 14479, 'musically': 8752, 'lessen': 7669, 'mooching': 8584, 'attachment': 876, 'maintain': 8036, 'xanax': 15049, 'mixing': 8503, 'teddy': 13306, 'possibilities': 10140, 'dreaming': 4015, 'caption': 1947, 'lash': 7529, 'blocked': 1432, 'mulling': 8712, 'tossing': 13690, 'nudge': 9096, 'vibrate': 14434, 'morph': 8615, 'solid': 12344, 'turbillion': 13927, 'hong': 6342, 'kong': 7446, 'oft': 9218, 'planting': 9975, 'weeding': 14694, 'harvesting': 6041, 'occupied': 9173, 'minds': 8422, 'marlins': 8137, 'equal': 4502, 'production': 10368, 'wimbledon': 14853, 'blanket': 1394, 'protective': 10445, 'worshiping': 14989, 'realising': 10759, 'defeating': 3385, 'readership': 10744, 'perception': 9732, 'misscariage': 8475, 'conscience': 2727, 'suspense': 13083, 'springer': 12561, 'references': 10863, 'programming': 10389, 'letdown': 7676, 'seeped': 11702, 'legend': 7632, 'inquire': 6818, 'incheswhyinches': 6678, 'relocating': 10970, 'droves': 4057, 'metal': 8350, 'wherever': 14765, 'exboyfriend': 4634, 'shout': 11962, 'midnight': 8380, 'loop': 7887, 'messages': 8342, 'knight': 7420, 'texted': 13387, 'stages': 12608, 'nervousness': 8913, 'feeble': 4935, 'sickly': 11998, 'coconut': 2451, 'tropical': 13870, 'finishing': 5063, 'knitting': 7424, 'temporary': 13338, 'outing': 9386, 'milestones': 8399, 'gut': 5910, 'rewarded': 11203, 'embarrased': 4310, 'wimpy': 14855, 'credits': 3043, 'capital': 1943, 'intensive': 6899, 'fields': 5001, 'zackmdavis': 15145, 'pulse': 10521, 'chase': 2171, 'dragon': 3987, 'translate': 13780, 'sorrow': 12408, 'mercy': 8326, 'unfold': 14116, 'standby': 12625, 'comprehend': 2631, 'lestat': 7674, 'senior': 11738, 'trace': 13731, 'disgrace': 3764, 'embracing': 4321, 'snack': 12249, 'wearily': 14675, 'unusual': 14240, 'derp': 3508, 'lrt': 7939, 'packed': 9492, 'rode': 11305, 'misfortunes': 8462, 'befall': 1186, 'warns': 14622, 'tribulation': 13838, 'linked': 7770, 'happywarmworld': 6008, 'heartsick': 6126, 'connections': 2719, 'studio': 12855, 'bizarre': 1373, 'magazine': 8013, 'presenting': 10266, 'practical': 10183, 'editors': 4210, 'adverse': 263, 'nicely': 8957, 'sums': 12988, 'pursuits': 10558, 'forms': 5293, 'bagel': 1026, 'jalapeno': 7094, 'internally': 6927, 'shortness': 11949, 'cherished': 2217, 'burnt': 1816, 'giver': 5641, 'reluctantly': 10974, 'epidural': 4494, 'predicted': 10224, 'gallows': 5491, 'wins': 14874, 'orphan': 9354, 'crisis': 3068, 'sing': 12054, 'pirate': 9936, 'landlubber': 7508, 'zipline': 15164, 'picnic': 9876, 'grove': 5856, 'horse': 6382, 'clearer': 2364, 'integrity': 6887, 'intact': 6883, 'image': 6574, 'popped': 10098, 'shoelace': 11927, 'rot': 11342, 'opposed': 9300, 'xd': 15052, 'commodore': 2560, 'officer': 9209, 'nicholsons': 8960, 'psychologist': 10490, 'poo': 10088, 'doubting': 3955, 'km': 7412, 'deteriorated': 3572, 'sabrina': 11431, 'notting': 9076, 'vile': 14464, 'digesting': 3659, 'ish': 7031, 'unnaturally': 14179, 'tightly': 13567, 'brutality': 1730, 'awareness': 962, 'readjust': 10748, 'centre': 2098, 'shaking': 11834, 'cyst': 3205, 'connect': 2714, 'touches': 13702, 'lap': 7516, 'holding': 6292, 'carl': 1991, 'clarke': 2340, 'potatoes': 10155, 'gathers': 5525, 'handed': 5969, 'reacted': 10734, 'supporters': 13030, 'betraying': 1288, 'contagious': 2788, 'entertain': 4454, 'mulatto': 8709, 'albino': 381, 'mosquito': 8624, 'libido': 7702, 'hello': 6167, 'packing': 9494, 'bye': 1852, 'displacement': 3796, 'flirtiness': 5160, 'peeta': 9703, 'heroine': 6197, 'katnisss': 7316, 'centered': 2096, 'embarrassment': 4314, 'shame': 11839, 'features': 4922, 'hasnt': 6046, 'tests': 13383, 'mite': 8499, 'primary': 10312, 'tension': 13356, 'drecky': 4021, 'vj': 14508, 'banter': 1070, 'seth': 11796, 'apologizes': 638, 'locks': 7845, 'provocative': 10470, 'east': 4169, 'dig': 3658, 'subdued': 12893, 'tone': 13653, 'bond': 1526, 'beginnings': 1199, 'heinously': 6160, 'psychotic': 10495, 'episode': 4498, 'crazily': 3019, 'religion': 10963, 'souls': 12421, 'reilly': 10916, 'cats': 2050, 'crawl': 3014, 'suitably': 12971, 'panel': 9542, 'deemed': 3372, 'notify': 9071, 'infidelity': 6760, 'sweety': 13125, 'savingyourmarriagebeforeitstarts': 11530, 'plagued': 9961, 'uncanny': 14027, 'delight': 3430, 'yell': 15095, 'staffs': 12606, 'laetshi': 7493, 'appreciates': 670, 'prevalent': 10295, 'unreality': 14199, 'repair': 11017, 'fifty': 5008, 'unbearable': 14021, 'tgt': 13394, 'context': 2810, 'unimaginable': 14139, 'saba': 11428, 'waleeds': 14570, 'appointment': 667, 'bummed': 1777, 'vbac': 14374, 'snatched': 12265, 'birth': 1347, 'hesitation': 6208, 'temptation': 13339, 'multiplayer': 8715, 'flash': 5114, 'agenda': 318, 'desirable': 3528, 'pace': 9482, 'officially': 9212, 'caresse': 1982, 'elitist': 4287, 'deepika': 3378, 'silhouette': 12031, 'friggin': 5395, 'dissipate': 3820, 'resolution': 11097, 'following': 5235, 'drug': 4063, 'separate': 11764, 'cede': 2074, 'prevent': 10296, 'doomnation': 3931, 'damnation': 3232, 'changing': 2143, 'sew': 11810, 'competing': 2600, 'fedex': 4930, 'affects': 286, 'flaws': 5134, 'empowerment': 4360, 'justification': 7273, 'leading': 7589, 'brainless': 1626, 'dorm': 3942, 'liberty': 7701, 'adopt': 237, 'mythical': 8780, 'representative': 11046, 'ie': 6541, 'waning': 14593, 'portrayals': 10116, 'unconformable': 14044, 'unliked': 14170, 'ab': 35, 'reads': 10750, 'wiser': 14891, 'response': 11119, 'praises': 10193, 'grasp': 5791, 'rustle': 11417, 'intent': 6900, 'leo': 7663, 'clara': 2335, 'krupke': 7457, 'insist': 6844, 'assistant': 824, 'takings': 13204, 'charity': 2162, 'donated': 3913, 'easel': 4164, 'hmmmmm': 6271, 'dazzling': 3300, 'cert': 2105, 'toronto': 13682, 'outdoor': 9379, 'exhibitions': 4685, 'intellectually': 6890, 'recognition': 10812, 'persona': 9781, 'whod': 14801, 'insecured': 6830, 'parties': 9599, 'malaysia': 8053, 'menswear': 8313, 'medical': 8258, 'entry': 4477, 'david': 3285, 'shortlisted': 11947, 'entries': 4475, 'dingler': 3679, 'heading': 6090, 'abyss': 83, 'refer': 10858, 'joining': 7189, 'fortunate': 5300, 'examine': 4628, 'boyfriends': 1611, 'exempted': 4669, 'promises': 10409, 'wally': 14583, 'lamb': 7500, 'chick': 2227, 'synthetic': 13166, 'pearls': 9685, 'jewelry': 7157, 'trinkets': 13855, 'heartache': 6113, 'nurses': 9112, 'boo': 1536, 'friggety': 5394, 'hoo': 6347, 'moisturiser': 8535, 'lasting': 7533, 'cleansing': 2360, 'moisturising': 8536, 'discovery': 3752, 'dorks': 3940, 'censorship': 2093, 'doom': 3929, 'nodded': 9003, 'procure': 10361, 'provoking': 10472, 'histories': 6262, 'registration': 10903, 'uneventful': 14103, 'adherence': 212, 'appear': 650, 'accomplishment': 118, 'august': 915, 'medal': 8254, 'despairing': 3539, 'ties': 13559, 'unfit': 14114, 'rotund': 11346, 'buffed': 1755, 'fierce': 5002, 'bloke': 1447, 'bullying': 1774, 'defensive': 3393, 'defending': 3390, 'quaking': 10582, 'shore': 11941, 'pia': 9864, 'limb': 7750, 'facing': 4812, 'lying': 7988, 'sexaholic': 11813, 'offering': 9205, 'discount': 3745, 'totes': 13697, 'wondered': 14940, 'contrary': 2830, 'ludicrous': 7950, 'concerning': 2652, 'dining': 3680, 'table': 13175, 'population': 10103, 'hitting': 6267, 'fuel': 5434, 'yoshidas': 15120, 'grows': 5861, 'mishandled': 8464, 'alongside': 436, 'initial': 6798, 'avoiding': 950, 'calls': 1888, 'contributions': 2836, 'insights': 6840, 'professionals': 10376, 'pun': 10527, 'varvel': 14368, 'inspires': 6854, 'imagined': 6581, 'attraction': 900, 'camp': 1905, 'accommodation': 111, 'services': 11790, 'entertainment': 4458, 'hypersexual': 6495, 'tartlets': 13242, 'rihanna': 11244, 'admiration': 222, 'saudi': 11520, 'perfume': 9748, 'scented': 11571, 'terminal': 13363, 'dulles': 4096, 'confrontation': 2698, 'july': 7253, 'crushed': 3115, 'rolex': 11309, 'publish': 10508, 'collections': 2492, 'novels': 9081, 'drafts': 3983, 'giant': 5610, 'glass': 5661, 'vigilant': 14461, 'whoosh': 14814, 'dipshit': 3687, 'laptop': 7522, 'recipes': 10800, 'nachos': 8784, 'hostel': 6390, 'revealed': 11176, 'benefited': 1258, 'futures': 5474, 'shiver': 11919, 'tummy': 13921, 'em': 4300, 'ubuntu': 13985, 'user': 14306, 'linux': 7775, 'platform': 9982, 'execution': 4666, 'fathom': 4897, 'craving': 3012, 'ewan': 4618, 'medicine': 8263, 'desiring': 3532, 'clue': 2423, 'bravely': 1643, 'barry': 1095, 'almond': 431, 'redcoat': 10840, 'camera': 1902, 'decent': 3339, 'youngest': 15126, 'visable': 14489, 'spotlighted': 12550, 'unfashionable': 14111, 'calgary': 1878, 'pb': 9670, 'simplest': 12041, 'lj': 7822, 'suspicions': 13086, 'germs': 5589, 'conditioned': 2669, 'calming': 1892, 'dunno': 4113, 'overtly': 9454, 'pretends': 10286, 'disagreement': 3708, 'rightly': 11238, 'flee': 5136, 'baltic': 1050, 'universality': 14157, 'unconditional': 14043, 'voluntary': 14526, 'mankind': 8096, 'host': 6388, 'credit': 3042, 'equals': 4505, 'plight': 10014, 'turkish': 13931, 'vet': 14426, 'cadore': 1860, 'impact': 6605, 'bloodshed': 1452, 'clarity': 2339, 'reigns': 10915, 'nyquil': 9128, 'consolidate': 2755, 'vicarious': 14438, 'sarcasm': 11495, 'desperately': 3541, 'sides': 12002, 'oceans': 9183, 'vendors': 14395, 'distribution': 3843, 'releases': 10949, 'offered': 9204, 'overweight': 9457, 'finger': 5055, 'gfathers': 5601, 'ute': 14316, 'load': 7827, 'prefer': 10228, 'manure': 8106, 'compost': 2628, 'simultaneously': 12048, 'inferior': 6756, 'elated': 4263, 'subjects': 12898, 'chatting': 2181, 'addition': 199, 'hihi': 6233, 'undesired': 14082, 'typically': 13979, 'walks': 14575, 'persist': 9776, 'wintry': 14880, 'dignified': 3663, 'tasteful': 13251, 'inaction': 6655, 'default': 3382, 'reactions': 10737, 'reconcile': 10821, 'unease': 14093, 'martin': 8151, 'wwii': 15046, 'france': 5337, 'bleeding': 1403, 'dang': 3246, 'motherhood': 8630, 'blush': 1481, 'resting': 11130, 'kai': 7285, 'passport': 9626, 'washroom': 14634, 'fps': 5321, 'cough': 2925, 'combat': 2516, 'trainer': 13755, 'ba': 985, 'backpacking': 1009, 'raised': 10669, 'originals': 9347, 'rebekah': 10784, 'satisfactory': 11513, 'klaus': 7408, 'stefan': 12682, 'damon': 3234, 'regardless': 10895, 'horrid': 6376, 'guts': 5911, 'rough': 11348, 'ample': 499, 'confess': 2680, 'wears': 14678, 'supermarkets': 13011, 'banks': 1069, 'dentists': 3471, 'gap': 5504, 'status': 12667, 'arches': 698, 'footbed': 5250, 'goliath': 5713, 'undone': 14086, 'humblest': 6443, 'davids': 3286, 'stealing': 12677, 'collected': 2489, 'items': 7060, 'tribute': 13839, 'generosity': 5564, 'scabi': 11541, 'verona': 14417, 'cope': 2878, 'capacity': 1941, 'resistant': 11095, 'stretching': 12805, 'mirror': 8454, 'untrustworthy': 14238, 'disagreeable': 3707, 'islam': 7032, 'alternating': 451, 'felling': 4955, 'opened': 9279, 'stronger': 12830, 'tougher': 13707, 'emphasize': 4352, 'ethical': 4555, 'pillow': 9903, 'subtly': 12923, 'husbands': 6481, 'indication': 6719, 'breakthrough': 1654, 'imminent': 6602, 'hed': 6141, 'knuckles': 7440, 'spreading': 12557, 'uneven': 14102, 'nails': 8796, 'oscillating': 9361, 'patterns': 9652, 'screenwriter': 11632, 'roberto': 11290, 'orcis': 9319, 'adoration': 241, 'dubya': 4082, 'pampered': 9538, 'bush': 1825, 'carried': 2001, 'orci': 9318, 'criticism': 3073, 'stinks': 12724, 'yoked': 15115, 'stupidly': 12876, 'eagles': 4144, 'd3ously': 3209, 'internship': 6932, 'moe': 8528, 'beings': 1217, 'jane': 7104, 'eyre': 4797, 'bigged': 1317, 'hollow': 6303, 'smiths': 12231, 'abou': 58, 'grabbed': 5749, 'disability': 3704, 'unsettling': 14215, 'explored': 4742, 'styles': 12880, 'remained': 10979, 'pretended': 10284, 'treassured': 13810, 'psyche': 10483, 'neither': 8896, 'dickish': 3637, 'troubles': 13874, 'enacting': 4377, 'succumb': 12934, 'docs': 3881, 'arrogance': 743, 'clarify': 2337, 'feelbut': 4944, 'hardest': 6019, 'mindful': 8420, 'minister': 8438, 'beforehand': 1190, 'bladder': 1381, 'threatening': 13504, 'overdoing': 9423, 'hmmm': 6270, 'fri': 5383, 'shannon': 11847, 'trainable': 13753, 'habits': 5924, 'cumberland': 3146, 'homes': 6321, 'pap': 9554, 'smears': 12217, 'hacking': 5927, 'coughing': 2926, 'spluttering': 12523, 'mircowaved': 8453, 'cage': 1867, 'testing': 13382, 'colorful': 2505, 'rated': 10708, 'constitution': 2762, 'adopting': 238, 'twists': 13962, 'hints': 6251, 'moffat': 8529, 'obvious': 9165, 'foreshadowing': 5272, 'narrative': 8821, 'builds': 1764, 'casting': 2028, 'reread': 11071, 'documented': 3887, 'empathy': 4350, 'mm': 8507, 'composition': 2627, 'grinned': 5834, 'dharma': 3613, 'hears': 6111, 'endless': 4401, 'bouncing': 1589, 'backpacker': 1008, 'overland': 9433, 'admitting': 233, 'gloating': 5674, 'fairy': 4833, 'lights': 7734, 'delivered': 3435, 'admires': 225, 'gifted': 5614, 'escorting': 4529, 'relative': 10940, 'ranbir': 10678, 'directors': 3698, 'ayan': 981, 'mukerji': 8708, 'filmfare': 5032, 'interpretation': 6934, 'misunderstood': 8497, 'impatience': 6608, 'reexplain': 10857, 'lip': 7777, 'birthmoms': 1351, 'implement': 6617, 'stores': 12752, 'exploration': 4740, 'wild': 14838, 'refined': 10867, 'acuity': 182, 'feasted': 4917, 'knees': 7416, 'memorized': 8302, 'cars': 2007, 'rocking': 11301, 'graders': 5759, 'wreck': 15011, 'recollection': 10816, 'choke': 2266, 'ordinary': 9326, 'gates': 5520, 'suppressed': 13041, 'exhilarated': 4686, 'base': 1098, 'wander': 14588, 'afield': 298, 'salons': 11458, 'btw': 1736, 'playlist': 9994, 'nudges': 9097, 'happenstances': 6000, 'lambrusco': 7501, 'wines': 14866, 'bubbly': 1741, 'zumba': 15178, 'understands': 14070, 'bearable': 1151, 'preface': 10227, 'disclaimer': 3732, 'peta': 9812, 'hyper': 6492, 'cousin': 2964, 'commercialism': 2549, 'exposure': 4751, 'decidedly': 3344, 'cheer': 2197, 'humbugs': 6446, 'holistic': 6299, 'enthusiastic': 4463, 'brush': 1729, 'returning': 11167, 'spain': 12441, 'sob': 12304, 'techniques': 13301, 'expert': 4727, 'liquid': 7784, 'sephora': 11770, 'mineral': 8425, 'powder': 10173, 'magnitude': 8022, 'liebster': 7709, 'equivalent': 4509, 'crack': 2983, 'cushions': 3176, 'derek': 3505, 'singapore': 12055, 'sara': 11492, 'div': 3854, 'clearboth': 2362, 'padding': 9496, 'restaurant': 11126, 'mandarin': 8077, 'grill': 5828, 'stellar': 12684, 'reputation': 11063, 'impression': 6636, 'extended': 4762, 'edible': 4203, 'decorative': 3361, 'garnishes': 5513, 'samphire': 11470, 'perplexed': 9770, 'liam': 7695, 'johnny': 7183, 'everybody': 4594, 'stoned': 12740, 'veil': 14387, 'lifted': 7720, 'scrapbook': 11618, 'holly': 6306, 'ingrained': 6785, 'pole': 10060, 'enables': 4375, 'crumbling': 3108, 'motivate': 8635, 'likeguy': 7742, 'aint': 357, 'sink': 12063, 'sin': 12049, 'channel': 2144, 'sport': 12542, 'genealogical': 5549, 'strains': 12770, 'rupees': 11406, 'cost': 2917, 'resort': 11106, 'europe': 4569, 'england': 4429, 'noticing': 9070, 'incoming': 6692, 'stoop': 12744, 'refresh': 10879, 'huhuhu': 6432, 'battling': 1132, 'blues': 1472, 'whizzes': 14799, 'adoring': 244, 'assumed': 832, 'legacy': 7628, 'overeating': 9427, 'fullness': 5445, 'hangover': 5988, 'sugary': 12961, 'finality': 5041, 'repercussions': 11028, 'orleans': 9353, 'massively': 8174, 'consumes': 2781, 'amounts': 494, 'processing': 10354, 'pc': 9671, 'gt': 5870, 'realistic': 10761, 'whiney': 14779, 'ear': 4145, 'strands': 12773, 'tickle': 13549, 'irregardless': 7012, 'remix': 10999, 'padlock': 9497, 'empowered': 4358, 'suicide': 12969, 'severe': 11808, 'disregarded': 3805, 'absolutly': 68, 'flourishing': 5186, 'admits': 229, 'outbursts': 9375, 'centuries': 2100, 'hone': 6336, 'wielded': 14827, 'razor': 10725, 'hindsight': 6247, 'withstand': 14911, 'choir': 2265, 'bogged': 1507, 'fasts': 4889, 'burner': 1812, 'cigarette': 2303, 'ethnicity': 4559, 'racist': 10640, 'asians': 789, 'smoking': 12237, 'haul': 6062, 'lava': 7560, 'planet': 9966, 'export': 4746, 'port': 10109, 'moxie': 8678, 'cath': 2043, 'script': 11637, 'relief': 10959, 'melting': 8293, 'applebees': 660, 'ceo': 2102, 'behaves': 1206, 'chain': 2119, 'starved': 12649, 'consumers': 2780, 'cleaned': 2356, 'blender': 1407, 'uninspiring': 14144, 'sodden': 12326, 'shattered': 11865, 'sardonic': 11499, 'squat': 12581, 'muscles': 8742, 'locked': 7842, 'ivy': 7073, 'zimmerman': 15162, 'prick': 10304, 'paused': 9658, 'dramatically': 3997, 'alton': 457, 'towers': 13725, 'beak': 1147, 'nearest': 8857, 'rounds': 11355, 'floors': 5173, 'secondary': 11672, 'excuses': 4662, 'staff': 12605, 'rooster': 11332, 'underwhelmed': 14079, 'swelling': 13127, 'playful': 9990, 'ritalin': 11269, 'flias': 5145, 'exposed': 4748, 'recover': 10830, 'amvassago': 506, 'beefy': 1181, 'amkris': 485, 'toshibalol': 13687, 'amits': 484, 'epic': 4493, 'beef': 1180, 'cake': 1871, 'nooo': 9031, 'doubly': 3952, 'momma': 8551, 'novice': 9083, 'warehouse': 14606, 'distributors': 3844, 'floral': 5176, 'stationary': 12662, 'accessories': 103, 'bags': 1029, 'billy': 1327, 'waxing': 14656, 'ambulatory': 474, 'fell': 4954, 'marginalized': 8121, 'wacky': 14549, 'percentage': 9731, 'anne': 560, 'coulter': 2931, 'ed': 4199, 'schultz': 11590, 'viewers': 14457, 'outrage': 9391, 'tirades': 13598, 'tryed': 13897, 'theme': 13428, 'longed': 7871, 'pcm': 9672, 'whipped': 14785, 'station': 12661, 'fled': 5135, 'underbelly': 14056, 'central': 2097, 'subway': 12926, 'map': 8109, 'frazzle': 5349, 'meltdown': 8292, 'thrown': 13527, 'hundred': 6460, 'euros': 4571, 'hooker': 6352, 'concise': 2658, 'guitar': 5894, 'accurately': 131, 'singular': 12061, 'starring': 12637, 'nesty': 8920, 'teeny': 13315, 'weeny': 14700, 'clothing': 2412, 'volunteered': 14528, 'downtempo': 3969, 'melancholic': 8281, 'dm': 3875, 'jeff': 7135, 'xs': 15062, 'hurtful': 6476, 'realization': 10764, 'coherent': 2465, 'granted': 5784, 'cornbread': 2896, 'honey': 6341, 'dripping': 4040, 'innate': 6811, 'birds': 1346, 'lavender': 7562, 'orange': 9315, 'substitute': 12921, 'solutions': 12353, 'moaning': 8509, 'cluttered': 2434, 'strasbourg': 12779, 'wore': 14961, 'sketch': 12105, 'seat': 11666, 'suppress': 13040, 'tiring': 13602, 'spark': 12445, 'curiosity': 3157, 'prestige': 10279, 'atm': 866, 'viewed': 14455, 'deciding': 3346, 'cream': 3022, 'journeys': 7222, 'yearn': 15087, 'deceased': 3334, 'ridding': 11224, 'rekindle': 10929, 'phase': 9825, 'circumstances': 2315, 'hats': 6060, 'tickets': 13548, 'doc': 3878, 'marten': 8149, 'soles': 12342, 'barbies': 1077, 'mirrors': 8455, 'arugh': 768, 'adomen': 236, 'rice': 11217, 'anticipated': 590, 'spontaneously': 12535, 'erratic': 4519, 'swoons': 13144, 'obese': 9138, 'contest': 2807, 'sustainability': 13089, 'ini': 6796, 'smacked': 12208, 'puppy': 10540, 'seas': 11662, 'skies': 12109, 'quarters': 10591, 'bodega': 1496, 'oddly': 9186, 'coin': 2469, 'ch3': 2114, 'hatred': 6059, 'juice': 7245, 'veggie': 14382, 'cozy': 2979, 'cocoa': 2450, 'flannel': 5111, 'nighties': 8976, 'evidenced': 4607, 'muse': 8743, 'quoted': 10627, 'protests': 10451, 'protest': 10449, 'protesting': 10450, 'direspected': 3699, 'alittle': 407, 'originally': 9346, 'united': 14154, 'counted': 2941, 'quo': 10625, 'traumatised': 13795, 'stranded': 12772, 'fraser': 5345, 'submerged': 12902, 'wd': 14660, 'hire': 6255, 'vehicle': 14386, 'iolani': 6995, 'leveled': 7687, 'accumulation': 129, 'elusive': 4297, 'followers': 5234, 'newest': 8941, 'sponsor': 12531, 'rippling': 11259, 'floated': 5162, 'bonus': 1535, 'pools': 10090, 'australia': 922, 'aloft': 433, 'reflection': 10871, 'sunny': 12997, 'climate': 2382, 'mates': 8193, 'bonded': 1527, 'touchy': 13704, 'feely': 4951, 'regarding': 10894, 'mormons': 8610, 'depressants': 3492, 'startling': 12645, 'producer': 10364, 'onscreen': 9268, 'boxing': 1608, 'jt': 7228, 'developing': 3591, 'fever': 4983, 'roy': 11361, 'philosophy': 9836, 'salutary': 11463, 'ged': 5539, 'infuriated': 6780, 'adequately': 209, 'kassim': 7306, 'selamat': 11710, 'swallows': 13100, 'uniform': 14137, 'g2': 5476, 'brains': 1627, 'atleast': 863, 'leaf': 7592, 'c2r': 1855, 'clay': 2354, 'mastery': 8180, 'freezing': 5367, 'stream': 12788, 'en1ing': 4370, 'uncommon': 14040, 'sees': 11704, 'atheist': 853, 'sharknado': 11858, 'trade': 13739, 'joking': 7196, 'westerner': 14736, 'ached': 138, 'liver': 7815, 'promised': 10408, 'cupcake': 3151, 'bt': 1735, 'thn': 13484, 'apply': 665, 'discussing': 3756, 'inform': 6772, 'glamour': 5650, 'pets': 9818, 'danced': 3239, 'cx': 3194, 'adams': 186, 'assistance': 823, 'cook': 2861, 'thorough': 13488, 'preschool': 10257, 'spotless': 12547, 'viewing': 14458, 'aesthetics': 275, 'bull': 1767, 'skinnyg': 12121, 'provider': 10464, 'sacred': 11435, 'venerate': 14397, 'regards': 10896, 'bride': 1675, 'reeeeeeeeally': 10851, 'yelling': 15097, 'marry': 8144, 'clog': 2402, 'pores': 10107, 'prompted': 10414, 'validity': 14345, 'nations': 8836, 'witches': 14902, 'someway': 12374, 'manila': 8090, 'nearing': 8858, 'priority': 10326, 'tugs': 13917, 'gold': 5710, 'nest': 8917, 'grass': 5793, 'divided': 3861, 'commercial': 2548, 'housing': 6408, 'rejection': 10924, 'nonchalant': 9018, 'easi': 4165, 'diabetics': 3617, 'sugars': 12960, 'fortune': 5302, 'mince': 8417, 'wheat': 14753, 'pasta': 9628, 'spelt': 12482, 'fruit': 5417, 'sorbet': 12406, 'scary': 11562, 'uttering': 14324, 'relevant': 10956, 'fruits': 5418, 'gross': 5844, 'wind': 14859, 'scattered': 11563, 'strawberry': 12783, 'agiatated': 324, 'sis': 12075, 'geek': 5540, 'amy': 507, 'balanced': 1039, 'significantly': 12022, 'dollar': 3903, 'picking': 9870, 'mane': 8078, 'lp': 7938, 'diary': 3632, 'trap': 13789, 'kit': 7398, 'dezinesamaze': 3610, 'cavalier': 2061, 'trimmed': 13852, 'spoils': 12528, 'breed': 1665, 'unfairness': 14109, 'dear': 3316, 'ambulance': 473, 'hospital': 6385, 'halfway': 5952, 'dam': 3227, 'stance': 12622, 'chiharu': 2232, 'blind': 1415, 'istanbul': 7052, 'homesickish': 6326, 'burger': 1804, 'king': 7389, 'snowpea': 12291, 'nissan': 8994, 'stanza': 12629, 'rt': 11366, 'extreme': 4777, 'disrupt': 3809, 'downvoted': 3972, 'pagetitle': 9502, 'rugmi': 11387, 'overcome': 9416, 'claustrophobic': 2352, 'administrators': 221, 'readmit': 10749, 'collin': 2497, 'finnerty': 5067, 'jan': 7103, 'refreshed': 10880, 'golden': 5711, 'adoption': 239, 'audiences': 911, 'creativity': 3035, 'buuuuuut': 1844, 'rach': 10634, 'subcontinent': 12891, 'lightening': 7726, 'umbrella': 14005, 'christine': 2283, 'peruse': 9800, 'skull': 12130, 'kicking': 7358, 'dreaded': 4010, 'panicked': 9547, 'juices': 7246, 'rinsing': 11253, 'putrid': 10569, 'flavors': 5128, 'lend': 7650, 'promotion': 10411, 'weismans': 14718, 'disney': 3786, 'pangs': 9544, 'wallowing': 14580, 'arrive': 739, 'bruise': 1724, 'urges': 14289, 'participants': 9594, 'speech': 12475, 'competition': 2601, 'pinnacle': 9923, 'materialistic': 8190, 'bitches': 1359, 'distracting': 3837, 'thoughtless': 13495, 'assuming': 833, 'earned': 4153, 'effectively': 4228, 'killing': 7374, 'starve': 12648, 'careeeeee': 1970, 'savage': 11524, 'thoughtful': 13494, 'sec': 11670, 'arrivals': 738, 'gate': 5519, 'silky': 12032, 'elaborate': 4261, 'nitche': 8995, 'sweating': 13112, 'nuts': 9120, 'bolts': 1515, 'tangled': 13225, 'entertainments': 4459, 'highschool': 6232, 'stable': 12600, 'couldve': 2930, 'muaz': 8693, 'abruptly': 64, 'softball': 12330, 'noticed': 9068, 'pelvic': 9707, 'bone': 1530, 'chatter': 2180, 'lighten': 7725, 'compere': 2597, 'rolling': 11315, 'thwarted': 13541, 'immobile': 6603, 'fuss': 5469, 'bestfriend': 1281, 'bff': 1301, 'coeur': 2457, 'alene': 389, 'restricted': 11139, 'stems': 12687, 'therapeutic': 13441, 'spoiler': 12526, 'cuts': 3190, 'badass': 1018, 'considerate': 2743, 'welcoming': 14721, 'compress': 2633, 'difficulty': 3657, 'neatly': 8861, 'stuffed': 12860, 'animals': 550, 'extraordinarily': 4774, 'lured': 7975, 'champagne': 2134, 'bestselling': 1283, 'kathy': 7312, 'lette': 7680, 'phobia': 9838, 'empathtic': 4349, 'mexican': 8364, 'cray': 3017, 'prequel': 10256, 'jedi': 7133, 'queen': 10593, 'secret': 11675, 'tbh': 13268, 'bobo': 1494, 'echoes': 4187, 'slacked': 12134, 'sympathize': 13157, 'length': 7654, 'january': 7109, 'wicked': 14821, 'acknowledge': 150, 'males': 8055, 'pushing': 10562, 'pulling': 10517, 'drum': 4066, 'puzzle': 10573, 'abuse': 78, 'smash': 12216, 'deployment': 3488, 'addicted': 193, 'symptoms': 13161, 'cravings': 3013, 'concentrate': 2645, 'dry': 4069, 'homis': 6330, 'kites': 7400, 'shelter': 11881, 'jon': 7201, 'jacque': 7082, 'hasn': 6045, 'forgiven': 5280, 'meath': 8250, 'pinging': 9919, 'jokes': 7195, 'rudolph': 11381, 'valentino': 14341, 'performing': 9747, 'unspeakable': 14219, 'acts': 178, 'engineering': 4428, 'wars': 14626, 'missile': 8479, 'dropping': 4053, 'spy': 12576, 'planes': 9965, 'chromosomes': 2287, 'conquerer': 2724, 'yearned': 15088, 'homey': 6329, 'river': 11276, 'shorts': 11950, 'toughest': 13708, 'wipe': 14882, 'engineer': 4427, 'dsp': 4073, 'crunching': 3111, 'software': 12332, 'pushed': 10560, 'apple': 659, 'ou': 9366, 'strongest': 12831, 'squad': 12578, 'options': 9312, 'costly': 2918, 'harms': 6032, 'tidbit': 13554, 'cynicism': 3203, 'clubbed': 2420, 'immediate': 6592, 'earning': 4154, 'irrational': 7010, 'creep': 3046, 'overreacting': 9443, 'amplified': 500, 'merry': 8335, 'falter': 4846, 'criminal': 3063, 'century': 2101, 'abusive': 82, 'criticized': 3075, 'unza': 14253, 'courses': 2957, 'sarah': 11493, 'excitment': 4656, 'xdd': 15053, 'hohoho': 6288, 'foward': 5320, 'tmr': 13614, 'cya': 3195, 'bsc': 1734, 'allies': 420, 'marvellous': 8155, 'prank': 10198, 'skillzz': 12114, 'hiccups': 6217, 'onset': 9269, 'tourist': 13714, 'panic': 9546, 'heathen': 6130, 'arousing': 731, 'animal': 549, 'drastically': 4002, 'swirling': 13140, 'paralysed': 9568, 'shuts': 11988, 'snoring': 12285, 'dreamland': 4016, 'misery': 8461, 'demanding': 3442, 'tossed': 13689, 'rag': 10653, 'handbag': 5966, 'sachaying': 11432, 'pickles': 9872, 'fridge': 5387, 'passages': 9611, 'strike': 12812, 'fetched': 4981, 'pile': 9895, 'kenny': 7335, 'rely': 10975, 'shadow': 11826, 'giggly': 5620, 'sombre': 12358, 'stevens': 12700, 'dumps': 4108, 'melts': 8294, 'charitable': 2161, 'donations': 3915, 'sodding': 12327, 'nuclear': 9094, 'canteen': 1931, 'undercurrent': 14057, 'subtle': 12922, 'natives': 8838, 'childs': 2239, 'inviting': 6990, 'involving': 6994, 'ministries': 8440, 'individuality': 6730, 'sold': 12337, 'transgender': 13776, 'brainwashing': 1629, 'deceive': 3335, 'physicians': 9861, 'germany': 5588, 'intersex': 6940, 'maggie': 8014, 'lees': 7624, 'titled': 13609, 'vol': 14523, 'humungous': 6457, 'federer': 4929, 'awesomness': 969, 'doused': 3961, 'freind': 5368, 'asasoulawakens': 775, 'feeli': 4945, 'shoots': 11935, 'ne': 8853, 'designing': 3527, 'famous': 4856, 'cathartic': 2044, 'mychem': 8769, 'cred': 3040, 'apology': 640, 'backdrop': 1001, 'phenomenon': 9829, 'untouched': 14236, 'checklists': 2193, 'assholes': 819, 'thailand': 13399, 'catalyst': 2034, 'doucher': 3958, 'ptsd': 10501, 'showing': 11975, 'musical': 8751, 'burmeister': 1809, 'flirty': 5161, 'coloured': 2509, 'lipsticks': 7782, 'bold': 1512, 'uncertainties': 14031, 'sorrows': 12410, 'lurking': 7980, 'ivory': 7071, 'themed': 13429, 'furnitures': 5466, 'spacious': 12438, 'consultants': 2773, 'awaiting': 955, 'reception': 10796, 'suppous': 13038, 'hobble': 6279, 'rack': 10641, 'barefoot': 1081, 'seed': 11688, 'soil': 12333, 'flaw': 5131, 'possess': 10134, 'judgments': 7240, 'delusions': 3438, 'denial': 3460, 'counsellor': 2938, 'chained': 2120, 'serves': 11788, 'continually': 2813, 'plummeting': 10022, 'tots': 13698, 'improving': 6647, 'paratroopers': 9575, 'conduct': 2674, 'missions': 8483, 'addiction': 194, 'specialness': 12464, 'suggest': 12962, 'occassionally': 9171, 'earrings': 4157, 'plugs': 10021, 'morbid': 8599, 'mu': 8690, 'tou': 13699, 'begged': 1195, 'suppport': 13039, 'travelled': 13800, 'usa': 14297, 'picks': 9873, 'diane': 3628, 'von': 14534, 'furstenberg': 5467, 'rodarte': 11304, 'jason': 7115, 'wu': 15042, 'unlike': 14168, 'sophomore': 12403, 'whack': 14743, 'messed': 8344, 'psychologically': 10489, 'plunging': 10024, 'insensitive': 6833, 'latter': 7544, 'drainage': 3991, 'intolerably': 6955, 'polar': 10059, 'sour': 12429, 'indigo': 6725, 'narrator': 8822, 'drawing': 4005, 'attacked': 878, 'dispersed': 3794, 'fragmented': 5327, 'eternity': 4553, 'rediculous': 10845, 'justified': 7274, 'idk': 6534, 'negatively': 8882, 'crake': 2994, 'woodlands': 14952, 'farm': 4877, 'presentation': 10262, 'trips': 13860, 'endeavors': 4397, 'occasional': 9168, 'musings': 8757, 'monroe': 8575, 'launch': 7553, 'incorporated': 6700, 'remodeled': 11000, 'amenities': 476, 'lookout': 7883, 'pr': 10182, 'doer': 3893, 'worrys': 14985, 'toll': 13642, 'supply': 13026, 'producing': 10366, 'leopard': 7665, 'hallucinate': 5957, 'needlessly': 8877, 'select': 11712, 'variants': 14360, 'workouts': 14972, 'supposedly': 13037, 'supplement': 13021, 'liteheaded': 7802, 'illicits': 6562, 'laser': 7528, 'perserverence': 9773, 'fishing': 5084, 'squirts': 12590, 'resulting': 11144, 'bloat': 1427, 'rundown': 11397, 'duno': 4114, 'sloppy': 12180, 'wondrous': 14947, 'creator': 3036, 'spill': 12497, 'outsider': 9400, 'maschke': 8164, 'unsavory': 14211, 'cruel': 3102, 'dire': 3689, 'triggering': 13848, 'barrier': 1094, 'vomiting': 14532, 'pragmatic': 10191, 'bump': 1779, 'professor': 10377, 'generated': 5558, 'usmleasy': 14311, 'pavilion': 9661, 'exhibition': 4683, 'immigration': 6601, 'province': 10467, 'national': 8833, 'prudent': 10476, 'interrupts': 6939, 'reared': 10773, 'evangelical': 4577, 'isolation': 7044, 'absorbed': 69, 'quest': 10599, 'revelation': 11180, 'lined': 7764, 'ancient': 522, 'tomes': 13646, 'strewn': 12806, 'bake': 1034, 'noodle': 9026, 'overcoming': 9419, 'shackles': 11823, 'norms': 9043, 'pearly': 9686, 'snaps': 12261, 'comfy': 2536, 'justanswer': 7271, 'viewpoint': 14459, 'goddess': 5702, 'rising': 11263, 'investing': 6982, 'minimum': 8436, 'card': 1962, 'courtesy': 2960, 'lean': 7596, 'chaos': 2147, 'qualified': 10583, 'venue': 14406, 'observations': 9155, 'turd': 13929, 'bliss': 1423, 'warn': 14617, 'toast': 13617, 'stylesheet': 12881, 'css': 3126, 'jdelivery': 7126, 'chiefs': 2231, 'ccw': 2068, 'yanked': 15072, 'mommy': 8552, 'grew': 5819, 'strokes': 12824, 'baptized': 1072, 'whingeing': 14780, 'airports': 362, 'occur': 9176, 'luggage': 7952, 'exceptional': 4642, 'assessments': 816, 'applied': 664, 'impressing': 6635, 'parcel': 9576, 'timer': 13577, 'shown': 11976, 'workings': 14968, 'evolve': 4615, 'belittle': 1228, 'diabetes': 3616, 'persons': 9790, 'uncle': 14034, 'shockingly': 11925, 'waits': 14563, 'alterations': 447, 'elsewhere': 4295, 'ibleeditout': 6508, 'kodi': 7442, 'brat': 1640, 'jakun': 7093, 'glam': 5648, 'nuptials': 9108, 'dragging': 3986, 'combo': 2522, 'schedules': 11580, 'schizofrenic': 11585, 'fights': 5012, 'removing': 11008, 'selling': 11724, 'maryland': 8159, 'shifting': 11897, 'forefront': 5266, 'transport': 13786, 'invaded': 6972, 'kinship': 7392, 'mounting': 8656, 'nausea': 8845, 'binding': 1330, 'football': 5248, 'woken': 14931, 'customary': 3181, 'siesta': 12007, 'tbr': 13269, 'boxes': 1607, 'consistent': 2749, 'workload': 14969, 'improvement': 6645, 'gabapentin': 5477, 'zonisamide': 15170, 'explorer': 4743, 'enuff': 4478, 'bedrooms': 1176, 'baffroom': 1023, 'divulge': 3868, 'stylings': 12882, 'crunched': 3110, 'awaken': 958, 'musicians': 8754, 'uplifting': 14268, 'props': 10429, 'graduating': 5764, 'glued': 5686, 'freshman': 5381, 'technology': 13303, 'embarrassing': 4313, 'immerse': 6597, 'bfd': 1300, 'command': 2541, 'strictly': 12809, 'jo': 7171, 'bucket': 1743, 'anaesthetic': 509, 'mission': 8481, 'eyebrow': 4785, 'youth': 15132, 'spook': 12536, 'users': 14307, 'spiral': 12505, 'debates': 3324, 'sympathise': 13156, 'bernards': 1272, 'invitation': 6987, 'code': 2452, 'fanatics': 4859, 'yard': 15073, 'ain': 356, 'ativan': 861, 'answering': 584, 'dumpee': 4105, 'slighted': 12164, 'replacement': 11034, 'unbearably': 14022, 'crushingly': 3118, 'creativeliar': 3033, 'decently': 3340, 'subconscious': 12889, 'wherein': 14764, 'drain': 3990, 'exist': 4691, 'lunge': 7971, 'crumble': 3106, 'nonexistence': 9022, 'sneakily': 12266, 'mas': 8160, 'prance': 10196, 'eartha': 4160, 'kitt': 7403, 'blares': 1397, 'fervent': 4973, 'bruce': 1723, 'yiling': 15106, 'salvation': 11467, 'merciless': 8324, 'miracle': 8450, 'alert': 390, 'stays': 12672, 'guard': 5873, 'unreliable': 14203, 'portrayal': 10115, 'biblical': 1310, 'pressed': 10272, 'meditated': 8266, 'altogether': 456, 'msm': 8688, 'spontaneous': 12534, 'lists': 7799, 'urgh': 14290, 'campaign': 1906, 'senator': 11732, 'jackson': 7080, 'cnn': 2436, 'flag': 5101, 'tubs': 13910, 'divorcee': 3867, 'brd': 1646, 'armor': 723, 'brds': 1647, 'san': 11476, 'antonio': 602, 'spurs': 12574, 'nl': 8996, 'cog': 2460, 'championship': 2135, 'precisely': 10215, 'bowled': 1602, 'welling': 14724, 'procrastinator': 10360, 'unresolved': 14204, 'built': 1765, 'reel': 10852, 'pros': 10430, 'journalism': 7217, 'sibling': 11993, 'bro': 1697, 'passionately': 9623, 'hyperventilating': 6497, 'september': 11771, 'foodie': 5241, 'occasion': 9167, 'threaten': 13502, 'conducting': 2676, 'aircleaner': 359, 'michael': 8370, 'epiphanies': 4496, 'toned': 13654, 'validation': 14344, 'handing': 5974, 'letters': 7682, 'protection': 10444, 'sublime': 12899, 'theyll': 13457, 'insult': 6877, 'wispy': 14898, 'vibe': 14431, 'schemes': 11583, 'organizational': 9335, 'masochist': 8169, 'flipped': 5156, 'accumulated': 128, 'leaked': 7595, 'paid': 9505, 'dues': 4090, 'stagnate': 12610, 'fullest': 5444, 'addressing': 205, 'sheri': 11885, 'shares': 11854, 'lottery': 7914, 'itd': 7057, 'misbehavior': 8457, 'unavoidable': 14018, 'argue': 710, 'graphic': 5787, 'curtain': 3172, 'snacks': 12251, 'vampires': 14352, 'acknowledgment': 153, 'origins': 9349, 'mayhem': 8216, 'vale': 14338, 'realities': 10762, 'bum': 1775, 'transient': 13777, 'jacket': 7078, 'mesh': 8338, 'fare': 4873, 'disregarding': 3806, 'gandhigiri': 5502, 'euphoria': 4566, 'source': 12430, 'munnabhai': 8731, 'inescapable': 6746, 'hindu': 6248, 'fanatic': 4858, 'printing': 10323, 'quiltcon': 10613, 'lizzy': 7821, 'frustrations': 5424, 'pinterest': 9929, 'canning': 1924, 'tomatoes': 13645, 'obsession': 9159, 'sleeps': 12153, 'uplifted': 14266, 'martinez': 8152, 'association': 828, 'occupy': 9174, 'promptings': 10416, 'familys': 4855, 'sage': 11444, 'headachie': 6085, 'blah': 1385, 'taboo': 13179, 'oversized': 9448, 'tee': 13308, 'baggy': 1028, 'pants': 9552, 'sweat': 13109, 'streaked': 12786, 'smallest': 12211, 'double': 3949, 'hehe': 6150, 'aiiiiighhhht': 348, 'monogamous': 8572, 'recommendation': 10818, 'web': 14685, 'shops': 11940, 'searched': 11660, 'advertising': 269, 'withdraw': 14904, 'greatest': 5807, 'poll': 10075, 'hangs': 5989, 'contradictory': 2828, 'vow': 14538, 'gasp': 5517, 'marybeth': 8158, 'isabella': 7030, 'groundless': 5852, 'dlk': 3873, 'butttt': 1843, 'semuanya': 11731, 'sudah': 12945, 'terlambat': 13361, 'dan': 3237, 'ignorant': 6551, 'african': 304, 'healers': 6099, 'appeared': 654, 'xbla': 15051, 'sony': 12387, 'elders': 4268, 'pelvis': 9708, 'dish': 3770, 'complainy': 2609, 'soap': 12302, 'politics': 10074, 'menu': 8322, 'repetetive': 11029, 'accepting': 98, 'lb': 7580, 'testicle': 13380, 'decrease': 3362, 'urinate': 14293, 'semen': 11726, 'suicidal': 12967, 'comfortably': 2533, 'maintaining': 8038, 'norah': 9034, 'jones': 7205, 'multitude': 8720, 'omega': 9248, 'reverses': 11187, 'weightlessly': 14710, 'restores': 11136, 'flowing': 5191, 'raphael': 10694, 'laiya': 7497, 'jennifer': 7138, 'scampering': 11546, 'unintentionally': 14147, 'roles': 11308, 'alfred': 395, 'molina': 8542, 'dimensional': 3671, 'caricatures': 1988, 'exhaustion': 4681, 'elation': 4264, 'exposing': 4750, 'intervention': 6943, 'behalf': 1203, 'int': 6882, 'citizen': 2319, 'bash': 1102, 'knowlege': 7437, 'reinforce': 10918, 'delusion': 3437, 'increase': 6702, 'chances': 2137, 'investment': 6983, 'wanderlust': 14591, 'loquacious': 7895, 'hunters': 6467, 'flower': 5189, 'plug': 10019, 'dung': 4110, 'grievance': 5823, 'comforting': 2535, 'taller': 13217, 'bombing': 1521, 'coca': 2446, 'cola': 2472, 'warhound': 14608, 'model': 8518, 'fieldi': 5000, 'scroll': 11640, 'admiring': 226, 'envying': 4491, 'twentysomething': 13954, 'stinky': 12725, 'ravenous': 10718, 'manuscript': 8107, 'reporting': 11043, 'fellowship': 4957, 'requirements': 11069, 'tighter': 13566, 'grief': 5822, 'jesse': 7152, 'tought': 13709, 'destinies': 3553, 'banking': 1068, 'fold': 5222, 'demotivate': 3456, 'diwali': 3869, 'spurned': 12572, 'tended': 13346, 'nursed': 9110, 'sitter': 12086, 'strategy': 12782, 'presented': 10265, 'italy': 7055, 'wheel': 14755, 'rested': 11128, 'dreamy': 4019, 'cyber': 3196, 'slut': 12205, 'craves': 3011, 'gathering': 5524, 'craziness': 3020, 'throne': 13521, 'despise': 3543, 'bundles': 1785, 'shades': 11825, 'claimed': 2328, 'sabotaging': 11430, 'bedriacum': 1174, 'henrietta': 6180, 'ariel': 715, 'chelmsford': 2209, 'unreal': 14196, 'stepping': 12692, 'noticeable': 9066, 'homely': 6316, 'ingrain': 6784, 'sprint': 12567, 'register': 10901, 'undoubtedly': 14087, 'incident': 6679, 'pundits': 10533, 'vinegary': 14470, 'calli': 1885, 'submarine': 12901, 'cartwheel': 2013, 'ankle': 556, 'board': 1484, 'pointless': 10047, 'uneffected': 14097, 'clubbing': 2421, 'destashing': 3550, 'visited': 14495, 'sai': 11445, 'implementing': 6618, 'booked': 1540, 'sundays': 12993, 'procedure': 10348, 'sympathizing': 13158, 'demons': 3449, 'cinderalla': 2305, 'prizecompetition': 10339, 'beats': 1160, 'scoop': 11605, 'republicans': 11060, 'overload': 9435, 'moods': 8586, 'spinach': 12501, 'feta': 4979, 'cranberry': 3000, 'salad': 11453, 'balsamic': 1049, 'viniagrette': 14472, 'unemotional': 14098, 'marriage': 8141, 'figuring': 5021, 'tub': 13906, 'perfumed': 9749, 'salts': 11461, 'figuratively': 5017, 'preservation': 10268, 'temperatures': 13331, 'heartburn': 6119, 'tilt': 13571, 'shoulder': 11956, 'coercive': 2456, 'pushy': 10564, 'packet': 9493, 'miracles': 8451, 'individually': 6731, 'heals': 6101, 'helpful': 6170, 'report': 11040, 'korean': 7449, 'italian': 7054, 'whitley': 14796, 'sleek': 12148, 'smoother': 12240, 'revenge': 11183, 'handling': 5977, 'blaster': 1398, 'relieve': 10960, 'caregiver': 1977, 'belittled': 1229, 'keyed': 7345, 'trigger': 13846, 'laughable': 7547, 'flattened': 5124, 'knowledgeable': 7436, 'sluggish': 12197, 'tychelle': 13973, 'nonexistent': 9023, 'thepage': 13438, 'evil': 4609, 'offerings': 9206, 'hunting': 6468, 'birthdays': 1349, 'entertainers': 4456, 'williams': 14846, 'natasha': 8829, 'gan': 5500, 'suede': 12949, 'colour': 2508, 'chadstone': 2117, 'tonite': 13662, 'obedient': 9136, 'commandments': 2542, 'strengthened': 12793, 'starving': 12650, 'ethiopia': 4557, 'metier': 8361, 'arise': 716, 'quirky': 10617, 'doodly': 3928, 'puzzled': 10574, 'trendy': 13830, 'pious': 9931, 'uppity': 14274, 'montagues': 8577, 'tales': 13209, 'rmb': 11278, 'maternal': 8192, 'disgruntled': 3765, 'dick': 3634, 'hobbs': 6280, 'rebecca': 10783, 'mcpherson': 8227, 'bgr': 1303, 'dumped': 4104, 'steady': 12674, 'dump': 4103, 'dylan': 4136, 'tends': 13351, 'bets': 1289, 'parody': 9588, 'shine': 11904, 'dorama': 3938, 'aaaaand': 30, 'tis': 13603, 'treadmill': 13809, 'appreciation': 671, 'whined': 14777, 'hobby': 6281, 'posed': 10122, 'cutesy': 3188, 'pg': 9822, 'roundly': 11354, 'ravaged': 10716, 'sensation': 11741, 'painless': 9512, 'expense': 4717, 'elliptical': 4290, 'theyve': 13459, 'ambition': 470, 'unhappiness': 14130, 'abc': 42, 'stature': 12666, 'lauren': 7558, 'clocking': 2399, 'hospitals': 6387, 'jimmy': 7166, 'superman': 13009, 'blocking': 1433, 'knitter': 7422, 'sources': 12431, 'apathy': 627, '1s': 12, 'teetering': 13317, 'hoarding': 6275, 'insanity': 6824, 'apothecary': 642, 'shortlist': 11946, 'congratulate': 2706, 'nominees': 9014, 'tonights': 13661, 'awards': 960, 'scotland': 11612, 'intro': 6957, 'fff': 4988, 'trebuchet': 13819, 'ms': 8686, 'helvetica': 6175, 'bitstream': 1365, 'vera': 14408, 'sans': 11490, 'typical': 13978, 'sucker': 12940, 'apparent': 645, 'discernment': 3727, 'sack': 11434, 'comedies': 2527, 'woody': 14956, 'allen': 412, 'jim': 7165, 'brooks': 1709, 'earl': 4146, 'films': 5035, 'mundane': 8730, 'paperwork': 9561, 'bureaucrats': 1802, 'revel': 11179, 'clung': 2429, 'verse': 14419, 'pause': 9657, 'colourful': 2510, 'turns': 13939, 'heaving': 6137, 'unrest': 14206, 'warp': 14623, 'dallas': 3226, 'operation': 9287, 'californians': 1880, 'stumped': 12869, 'legitemately': 7636, 'saint': 11450, 'reluctance': 10972, 'federal': 4928, 'authorities': 928, 'employ': 4353, 'force': 5255, 'vibration': 14436, 'dust': 4122, 'cluster': 2430, 'profoundly': 10384, 'joints': 7192, 'backaches': 1000, 'majorly': 8042, 'ol': 9231, 'feefyefo': 4942, 'blabber': 1375, 'transparent': 13784, 'defended': 3389, 'sanctity': 11477, 'span': 12442, 'webkit': 14686, 'auto': 934, 'stroke': 12823, 'inline': 6809, 'swept': 13128, 'mistreated': 8491, 'flipping': 5157, 'conclusions': 2661, 'noise': 9007, 'phoned': 9841, 'needles': 8875, 'kook': 7447, 'contains': 2793, 'lloyd': 7826, 'grossman': 5847, 'ditched': 3851, 'showered': 11973, 'vuitton': 14543, 'lv': 7986, 'grandparents': 5780, 'impressionable': 6637, 'confessed': 2681, 'sonipro': 12383, 'geekparty': 5541, 'linkedin': 7771, 'tumblr': 13920, 'nofollow': 9006, 'snuggle': 12295, 'feeding': 4939, 'outcomes': 9378, 'psyched': 10484, 'penn': 9717, 'sifted': 12008, 'mounds': 8652, 'atari': 845, 'taker': 13201, 'risks': 11266, 'cdn': 2071, 'entrusted': 4476, 'markets': 8134, 'gush': 5907, 'janis': 7107, 'sanders': 11481, 'abusing': 81, 'gander': 5501, 'donut': 3924, 'bet': 1284, 'mac': 7995, 'shade': 11824, 'originality': 9345, 'conformity': 2696, 'prius': 10330, 'al': 372, 'gore': 5729, 'patagonia': 9633, 'alaska': 378, 'insidious': 6838, 'route': 11356, 'strings': 12816, 'lectures': 7618, 'warrick': 14624, 'naivety': 8798, 'stupidity': 12875, 'artwork': 766, 'efficient': 4235, 'joan': 7172, 'demonstrations': 3452, 'specimens': 12470, 'glistening': 5671, 'accentuating': 92, 'jackets': 7079, 'surgeons': 13055, 'evaluating': 4575, 'sterile': 12697, 'smelling': 12219, 'brimming': 1686, 'devices': 3596, 'cans': 1928, 'yeast': 15094, 'infection': 6755, 'vagina': 14334, 'foods': 5242, 'sheltered': 11882, 'tale': 13205, 'gal': 5486, 'swung': 13147, 'regain': 10889, 'alarmed': 376, 'flattered': 5125, 'spring': 12560, 'enriching': 4444, 'traditions': 13744, 'earthquake': 4162, 'christchurch': 2279, 'zealand': 15151, 'depart': 3476, 'northwestern': 9046, 'superstorm': 13016, 'sandy': 11484, 'descriptions': 3516, 'november': 9082, 'eagleandhammer': 4143, 'reserved': 11083, 'lighting': 7729, 'toss': 13688, 'bam': 1052, 'shimmy': 11902, 'ing': 6782, 'whitney': 14798, 'absence': 65, 'tempura': 13343, 'sundaes': 12991, 'pining': 9920, 'unlock': 14172, 'reflected': 10869, 'estrangement': 4546, 'batman': 1122, 'informing': 6776, 'shatter': 11864, 'crystal': 3125, 'imagination': 6579, 'radiator': 10649, 'admittedly': 232, 'affection': 282, 'effecting': 4226, 'dearly': 3317, 'remedy': 10985, 'skinned': 12117, 'highlight': 6228, 'peas': 9687, 'carrots': 2003, 'mush': 8747, 'sounded': 12423, 'clip': 2392, 'gere': 5584, 'roberts': 11291, 'boutique': 1596, 'condescending': 2667, 'leas': 7609, 'pleasent': 10008, 'smooth': 12239, 'monetarily': 8563, 'sickening': 11997, 'kakashi': 7288, 'antisocial': 599, 'creature': 3038, 'cooperation': 2872, 'rapist': 10697, 'rigorously': 11243, 'hanged': 5986, 'manifesting': 8088, 'significant': 12021, 'toddlerhood': 13625, 'popping': 10099, 'primetime': 10315, 'murderer': 8735, 'predict': 10221, 'freaked': 5352, 'angles': 543, 'scheduling': 11581, 'notch': 9054, 'etsy': 4561, 'pies': 9890, 'xmas': 15059, 'goodie': 5720, 'eschew': 4528, 'foraging': 5253, 'palate': 9529, 'messianic': 8346, 'biceps': 1312, 'shaping': 11851, 'introducing': 6960, 'sprinkling': 12566, 'historian': 6259, 'strapping': 12778, 'sturdy': 12878, 'patrick': 9645, 'avery': 946, 'nightly': 8978, 'clueless': 2424, 'wandering': 14590, 'meaningful': 8238, 'squares': 12580, 'caf': 1861, 'lupron': 7974, 'budget': 1751, 'spreadsheet': 12559, 'someplace': 12368, 'whir': 14787, 'stir': 12727, 'likeable': 7739, 'amish': 482, 'commented': 2546, 'mda': 8231, 'telethon': 13322, 'spiraling': 12506, 'agonised': 330, 'solo': 12348, 'bookstore': 1544, 'shelf': 11878, 'floor': 5171, 'continental': 2812, 'purely': 10547, 'asbestos': 776, 'iframe': 6543, 'allowfullscreen': 426, 'frameborder': 5333, 'gm': 5691, 'insatiably': 6826, 'digital': 3662, 'rabbits': 10630, 'alphabet': 440, 'rose': 11339, 'jsk': 7227, 'lengths': 7655, 'lolita': 7861, 'dresses': 4025, 'knee': 7413, 'austen': 920, 'hydration': 6486, 'advance': 253, 'everythings': 4601, 'psychically': 10486, 'galvanised': 5492, 'wrestle': 15013, 'pinning': 9925, 'nanashi': 8809, 'bills': 1326, 'pyongyang': 10578, 'preceptor': 10211, 'winners': 14873, 'gleefully': 5665, 'roasting': 11285, 'marshmallows': 8147, 'luh': 7953, 'overseas': 9445, 'exhilarating': 4687, 'scenery': 11568, 'muscle': 8741, 'mudder': 8699, 'closure': 2409, 'occurs': 9180, 'luminaries': 7960, 'swinelord': 13134, 'deluxe': 3439, 'colored': 2504, 'pencils': 9712, 'insomnia': 6846, 'ji': 7160, 'kin': 7378, 'spores': 12540, 'mailorder': 8030, 'kome': 7444, 'til': 13569, 'bench': 1249, 'georges': 5582, 'asks': 794, 'deffinately': 3395, 'berate': 1269, 'reproduce': 11055, 'academic': 86, 'analyses': 512, 'silences': 12028, 'mariah': 8124, 'carey': 1986, 'splashes': 12518, 'threat': 13501, 'subdue': 12892, 'rewriting': 11206, 'woeful': 14927, 'teeter': 13316, 'totering': 13696, 'ds': 4071, 'rd': 10726, 'dd': 3302, 'angst': 545, 'yelping': 15100, 'wantd': 14596, 'uw': 14328, 'fulfil': 5437, 'uwilnevrknow': 14329, 'describes': 3513, 'reset': 11084, 'mount': 8653, 'adapted': 188, 'milonga': 8411, 'depleted': 3486, 'checklist': 2192, 'acclimated': 108, 'observer': 9156, 'snapping': 12259, 'traffic': 13745, 'match': 8183, 'starred': 12636, 'susan': 13078, 'gaping': 5505, 'cum': 3145, 'hardening': 6017, 'smoothie': 12241, 'vegan': 14378, 'roads': 11280, 'perpetuate': 9768, 'dynamic': 4137, 'educators': 4221, 'legitimize': 7639, 'guilted': 5890, 'bio': 1335, 'dancers': 3242, 'flailing': 5103, 'gaia': 5481, 'potter': 10162, 'bridget': 1678, 'bunnysuit': 1793, 'entrance': 4471, 'admittance': 230, 'chaste': 2175, 'persom': 9779, 'wickdly': 14820, 'deodorant': 3475, 'snob': 12278, 'stumbleupon': 12867, 'ssba': 12595, 'alt': 445, 'marrying': 8145, 'mr': 8682, 'elementary': 4278, 'coerce': 2454, 'file': 5023, 'lunchroom': 7969, 'likelihood': 7743, 'processed': 10352, 'wobbly': 14925, 'projector': 10402, 'displeasing': 3800, 'musty': 8763, 'grimaced': 5830, 'yknow': 15111, 'vegitarianism': 14384, 'district': 3845, 'elder': 4266, 'explaining': 4731, 'concerns': 2653, '1ous': 11, 'vomited': 14531, 'katniss': 7315, 'depresses': 3494, 'happiuness': 6005, 'absurdity': 74, 'chalk': 2126, 'pigeons': 9892, 'uninhabited': 14142, 'spouting': 12554, 'muck': 8695, 'citizens': 2320, 'gallivanting': 5490, 'escaped': 4526, 'interminable': 6924, 'bouts': 1597, 'bods': 1499, 'dressing': 4026, 'gowns': 5746, 'lapels': 7517, 'spectacle': 12471, 'intents': 6906, 'purposes': 10553, 'steroids': 12698, 'beacuse': 1145, 'scratcheverything': 11622, 'discomforting': 3737, 'plays': 9997, 'interpreted': 6936, 'blackpool': 1379, 'holloway': 6304, 'seafood': 11652, 'paella': 9498, 'sangria': 11487, 'recreational': 10835, 'unwillingly': 14248, 'willingly': 14848, 'succeeded': 12928, 'unpaid': 14183, 'rushing': 11412, 'gambia': 5493, 'supping': 13020, 'ideal': 6521, 'therapist': 13443, 'presumably': 10281, 'necessity': 8865, 'uniqueness': 14152, 'wholeness': 14805, 'presupposition': 10282, 'clown': 2417, 'fling': 5154, 'unfurling': 14126, 'junior': 7266, 'refused': 10886, 'ta': 13172, 'jz': 7281, 'phases': 9826, 'unattractive': 14017, 'anonymous': 577, 'submitted': 12907, 'apathetic': 626, 'zack': 15144, 'lola': 7860, 'falls': 4843, 'demographic': 3447, 'responding': 11117, 'dt': 4074, 'ccs': 2067, 'wit': 14900, 'handedly': 5970, 'lawn': 7566, 'racing': 10638, 'relentlessly': 10954, 'upsetting': 14279, 'paige': 9506, 'deke': 3418, 'gel': 5544, 'residue': 11091, 'brownish': 1719, 'tint': 13592, 'politician': 10072, 'bodyguard': 1501, 'carries': 2002, 'afternoons': 310, 'refreshing': 10881, 'sting': 12720, 'colognes': 2498, 'energizing': 4420, 'johann': 7181, 'accompany': 114, 'khartoum': 7351, 'descara': 3509, 'observation': 9154, 'thebalm': 13423, 'nude': 9095, 'tude': 13913, 'palette': 9532, 'broomfield': 1711, 'grim': 5829, 'lifting': 7721, 'weights': 14712, 'laughter': 7551, 'weighed': 14704, 'heavier': 6134, 'responses': 11120, 'booking': 1541, 'pe': 9673, 'janine': 7106, 'inflicted': 6764, 'optimism': 9308, 'refusal': 10884, 'jun': 7262, 'crone': 3082, 'struggles': 12842, 'remembering': 10989, 'nao': 8813, 'selfs': 11722, 'sir': 12072, 'mba': 8219, 'ths': 13530, 'ages': 320, 'arguments': 713, 'fleeting': 5139, 'triumphs': 13864, 'bitterness': 1370, 'eloquent': 4292, 'charm': 2165, 'array': 737, 'delights': 3433, 'legard': 7631, 'penny': 9719, 'buck': 1742, 'soapbox': 12303, 'accepts': 99, 'disrespected': 3808, 'whiff': 14769, 'chats': 2178, 'cracks': 2988, 'systems': 13171, 'numbers': 9103, 'unnoticeable': 14181, 'burrowed': 1817, 'absolute': 66, 'topics': 13672, 'ny': 9124, 'sweater': 13110, 'lowest': 7932, 'hotshot': 6397, 'dashed': 3268, 'lunajubilee': 7963, 'mcdonalds': 8224, 'pete': 9813, 'edochie': 4214, 'responds': 11118, 'olajideolafunmbi': 9232, 'fiddly': 4998, 'necessities': 8864, 'purposely': 10552, 'immensely': 6596, 'gotta': 5739, 'dollars': 3904, 'dropped': 4052, 'totaled': 13692, 'canvases': 1935, 'entering': 4453, 'egalitarian': 4243, 'jonalyn': 7203, 'finchers': 5048, 'soulation': 12418, 'shouldve': 11961, 'compartmentalised': 2589, 'flicking': 5148, 'dials': 3625, 'twd': 13948, 'dual': 4075, 'excellence': 4638, 'tedious': 13307, 'superhero': 13007, 'nellie': 8897, 'leslie': 7667, 'detailed': 3564, 'girlfriends': 5633, 'involves': 6993, 'whimsical': 14775, 'photoshoots': 9854, 'decorations': 3360, 'flutter': 5205, 'hairstyle': 5947, 'droop': 4050, 'frizz': 5400, 'straightforward': 12766, 'appeal': 647, 'envous': 4489, 'tomfoolery': 13647, 'shenanigans': 11884, 'advocate': 273, 'sobbed': 12305, 'crisp': 3069, 'rollered': 11314, 'twins': 13959, 'pee': 9695, 'tied': 13558, 'diapers': 3630, 'blade': 1383, 'thinner': 13476, 'object': 9142, 'sensational': 11742, 'ash': 779, 'stench': 12688, 'greasy': 5803, 'mode': 8517, 'ticket': 13547, 'caress': 1981, 'palms': 9535, 'tail': 13192, 'cesspool': 2111, 'metaphorically': 8354, 'sixty': 12094, 'michigans': 8373, 'yorks': 15118, 'governor': 5744, 'prostitutes': 10439, 'wifes': 14830, 'daughters': 3281, 'simplify': 12044, 'demonstration': 3451, 'stares': 12634, 'soaking': 12301, 'castanets': 2025, 'raposa': 10698, 'crested': 3053, 'washed': 14631, 'dirt': 3700, 'idling': 6536, 'polishes': 10068, 'jacked': 7077, 'mornings': 8612, 'snooze': 12283, 'tenge': 13352, 'considers': 2747, 'weapons': 14671, 'riots': 11255, 'governments': 5743, 'laws': 7568, 'calorie': 1894, 'intake': 6884, 'eternally': 4552, 'continuous': 2819, 'fiddle': 4997, 'liveagainsttheflow': 7811, 'genius': 5568, 'cruising': 3105, 'duluth': 4098, 'tasting': 13254, 'raped': 10692, 'systematically': 13170, 'assassinated': 802, 'callous': 1887, 'unfaithful': 14110, 'estimate': 4545, 'nepali': 8903, 'german': 5586, 'tith': 13607, 'ath': 850, 'afp': 300, 'forehead': 5268, 'scrunching': 11644, 'wrinkles': 15019, 'robot': 11294, 'scanned': 11549, 'seized': 11708, 'mis': 8456, 'dishonoring': 3773, 'eerily': 4223, 'parallels': 9567, 'unnatural': 14178, 'uncaring': 14029, 'flexy': 5144, 'minor': 8442, 'dew': 3608, 'south': 12432, 'encourage': 4389, 'advancement': 255, 'cassandra': 2021, 'locking': 7844, 'attics': 892, 'barns': 1091, 'warmed': 14610, 'ginger': 5628, 'abelard': 46, 'instagram': 6857, 'unused': 14239, 'limbs': 7753, 'plateaus': 9981, 'pgce': 9823, 'existing': 4696, 'symbol': 13152, 'disgusting': 3768, 'eaters': 4178, 'gina': 5627, 'misgivings': 8463, 'bandaid': 1056, 'cap': 1936, 'setting': 11798, 'developed': 3588, 'pedestrian': 9691, 'critically': 3072, 'flawed': 5132, 'ryodan': 11426, 'computers': 2641, 'lingers': 7768, 'tomorrows': 13651, 'alight': 402, 'hotel': 6394, 'bellmen': 1233, 'glances': 5654, 'adress': 247, 'undeservedly': 14080, 'harmed': 6026, 'acknowledgement': 152, 'eddie': 4200, 'eg': 4242, 'rapport': 10699, 'sacrificed': 11437, 'net': 8921, 'rape': 10691, 'whistles': 14794, 'grossly': 5846, 'campus': 1908, 'runny': 11403, 'nose': 9047, 'ebooks': 4185, 'mighty': 8388, 'roar': 11282, 'forego': 5267, 'futon': 5471, 'paparazzi': 9556, 'zq': 15175, 'jcho': 7125, 'cpine': 2980, 'ailments': 349, 'fandoms': 4863, 'remaining': 10980, 'saints': 11451, 'prelim': 10241, 'maths': 8197, 'limbo': 7752, 'poggy': 10043, 'cambodia': 1900, 'lax': 7570, 'bi': 1305, 'irresistable': 7016, 'expload': 4735, 'unmentioned': 14175, 'unity': 14155, 'highlights': 6229, 'rehearsals': 10913, 'greet': 5814, 'per': 9727, 'guides': 5886, 'obsessively': 9161, 'exceptions': 4644, 'varnish': 14366, 'brazilian': 1645, 'numbness': 9106, 'calmer': 1891, 'aftermath': 308, 'laura': 7557, 'gilbert': 5622, 'theybf': 13455, 'whore': 14815, 'sniiiiifff': 12274, 'freely': 5364, 'telstra': 13327, 'pessimistic': 9806, 'carson': 2009, 'sooo': 12391, 'happily': 6003, 'bobbing': 1492, 'exploring': 4744, 'abstract': 72, 'glanced': 5653, 'strolling': 12828, 'sidewalks': 12004, 'transformed': 13773, 'anesthetized': 535, 'movements': 8671, 'bunion': 1788, 'copy': 2887, 'baba': 987, 'emote': 4337, 'madre': 8010, 'possessive': 10139, 'harry': 6035, 'sinus': 12067, 'bailed': 1032, 'stereotype': 12694, 'incorrect': 6701, 'complex': 2617, 'cooper': 2871, 'bladders': 1382, 'nerve': 8908, 'ted': 13304, 'simplicity': 12043, 'sneeze': 12267, 'proving': 10468, 'americans': 480, 'dependent': 3482, 'shavings': 11868, 'precision': 10216, 'decaf': 3332, 'parting': 9600, 'drugged': 4064, 'delightful': 3432, 'opinionated': 9290, 'whoop': 14812, 'holler': 6301, 'constipated': 2761, 'yhhhay': 15105, 'femme': 4966, 'fatale': 4891, 'britneys': 1694, 'corey': 2893, 'whispered': 14791, 'generation': 5559, 'learns': 7607, 'ashame': 780, 'fourth': 5319, 'bottle': 1577, 'reckless': 10805, 'deceived': 3336, 'shrugged': 11982, 'educational': 4219, 'territory': 13373, 'constitutional': 2763, 'bureaucracies': 1801, 'bully': 1773, 'regimented': 10898, 'deedee': 3369, 'spell': 12479, 'curiously': 3159, 'sophist': 12402, 'examples': 4632, 'physics': 9862, 'midterm': 8383, 'oblige': 9148, 'homeschool': 6322, 'scolding': 11603, 'sobriety': 12309, 'attempts': 886, 'crime': 3061, 'committed': 2555, 'restaurants': 11127, 'eateries': 4177, 'flavor': 5127, 'intentional': 6902, 'monster': 8576, 'ecstasy': 4196, 'triumph': 13862, 'nightmarish': 8981, 'visions': 14493, 'prospect': 10435, 'dvds': 4129, 'permeates': 9763, 'dismisses': 3784, 'blindly': 1418, 'disinterested': 3777, 'estate': 4542, 'proceed': 10349, 'tingles': 13587, 'tickles': 13551, 'accustomed': 135, 'dominican': 3910, 'guessed': 5878, 'brooklyn': 1708, 'latch': 7534, 'skipping': 12125, 'purchased': 10542, 'riva': 11274, 'harvey': 6042, 'weinstein': 14713, 'oscars': 9360, 'patronize': 9649, 'seeming': 11698, 'accord': 120, 'patriotism': 9648, 'cautiously': 2060, 'md': 8230, 'guidance': 5883, 'weave': 14682, 'prowl': 10474, 'jungle': 7265, 'deserted': 3519, 'possessions': 10138, 'hates': 6056, 'steam': 12678, 'hummpffff': 6452, 'winterpaysforsummer': 14877, 'journalist': 7218, 'dedicated': 3365, 'eurovision': 4572, 'sh': 11821, 'versus': 14422, 'harmonious': 6030, 'veering': 14377, 'stereotypes': 12695, 'tatsuma': 13257, 'aoi': 621, 'ron': 11325, 'confuse': 2701, 'rite': 11270, 'flashback': 5115, 'accessory': 104, 'department': 3477, 'insecurities': 6831, 'referred': 10864, 'hypocrite': 6501, 'palin': 9533, 'matty': 8206, 'unexplained': 14106, 'canon': 1927, 'iii': 6557, 'mummy': 8725, 'toilet': 13636, 'clinique': 2390, 'ffs': 4989, 'ashlotte': 784, 'talim': 13210, 'costume': 2920, 'gucci': 5875, 'jeered': 7134, 'resorted': 11107, 'peak': 9681, 'housebound': 6403, 'peckish': 9689, 'mica': 8368, 'gratefulness': 5795, 'slash': 12143, 'kuwait': 7464, 'asserted': 809, 'reject': 10921, 'listens': 7796, 'translated': 13781, 'approval': 682, 'coward': 2974, 'grandchildren': 5772, 'revolve': 11198, 'ew': 4617, 'maze': 8218, 'attended': 888, 'preclude': 10217, 'serving': 11791, 'derby': 3503, 'tings': 13589, 'raining': 10666, 'detoxified': 3580, 'iws': 7074, 'thankfully': 13406, 'suggested': 12963, 'outlandish': 9388, 'unresponsive': 14205, 'driftingthroughlife': 4032, 'moulding': 8651, 'theirs': 13426, 'gloominess': 5678, 'ffviii': 4990, 'liquor': 7785, 'compagnon': 2579, 'expressions': 4757, 'ripped': 11258, 'advanced': 254, 'coupled': 2952, 'appropriately': 681, 'persevere': 9774, 'reacting': 10735, 'burying': 1823, 'crotch': 3091, 'faced': 4806, 'emerging': 4328, 'coppers': 2884, 'remarkably': 10983, 'snowboarding': 12289, 'betty': 1291, 'blinds': 1419, 'jolt': 7199, 'dh': 3611, 'diagnosis': 3618, 'generalised': 5553, 'compounds': 2630, 'substances': 12919, 'joie': 7186, 'de': 3303, 'vivre': 14507, 'jumbleupon': 7255, 'disciple': 3729, 'regurgitate': 10912, 'eva': 4573, 'battles': 1131, 'wow': 15005, 'frenh': 5370, 'tutor': 13941, 'dontt': 3923, 'coldness': 2476, 'vulnerability': 14544, 'manipulated': 8092, 'beijing': 1214, 'blows': 1466, 'horror': 6380, 'plurals': 10025, 'snarky': 12264, 'disinfected': 3776, 'commuters': 2577, 'reliable': 10957, 'caffeinated': 1864, 'individuals': 6732, 'attitudes': 896, 'sauna': 11521, 'goldilocks': 5712, 'gameplay': 5495, 'disdain': 3759, 'acted': 164, 'busier': 1827, 'melody': 8289, 'asd': 778, 'toy': 13728, 'lego': 7640, 'motivator': 8641, 'scheduler': 11579, 'repairman': 11020, 'wimp': 14854, 'conducted': 2675, 'survey': 13071, 'onel': 9258, 'creators': 3037, 'eminent': 4332, 'patriotic': 9647, 'deeds': 3370, 'mushroom': 8748, 'pizza': 9953, 'pitcher': 9946, 'rhetoric': 11209, 'conscientious': 2728, 'organic': 9329, 'lunchtime': 7970, 'dao': 3252, 'buried': 1806, 'ethan': 4554, 'teased': 13293, 'fancied': 4860, 'energies': 4417, 'mary': 8157, 'harmony': 6031, 'alabama': 373, 'emptied': 4361, 'controlled': 2838, 'displaced': 3795, 'todd': 13623, 'caleb': 1875, 'veer': 14376, 'disorientated': 3790, 'queasy': 10592, 'frumpy': 5419, 'forgave': 5275, 'established': 4541, 'resisting': 11096, 'peregrinos': 9738, 'piling': 9899, 'decorate': 3358, 'slacking': 12136, 'viewer': 14456, 'ratings': 10711, 'iris': 7004, 'arc': 694, 'gwen': 5916, 'stacey': 12601, 'ruin': 11388, 'freakin': 5353, 'heap': 6106, 'orthodox': 9357, 'duplex': 4117, 'dsl': 4072, 'wireless': 14886, 'blair': 1387, 'twin': 13957, 'nephews': 8905, 'admin': 218, 'landing': 7507, 'homepage': 6320, 'depend': 3479, 'keywords': 7348, 'cru': 3097, 'careful': 1975, 'teddies': 13305, 'decline': 3354, 'realness': 10771, 'apologies': 635, 'waving': 14653, 'election': 4270, 'liverpool': 7816, 'kisses': 7396, 'taunted': 13262, 'frailty': 5331, 'exterior': 4768, 'existance': 4692, 'masculinity': 8166, 'upstream': 14282, 'strip': 12817, 'ole': 9238, 'fathomed': 4898, 'alec': 388, 'liar': 7696, 'stab': 12598, 'commons': 2563, 'unattainable': 14016, 'contacts': 2787, 'discontented': 3743, 'flighty': 5152, 'ignites': 6548, 'knowingly': 7434, 'wistful': 14899, 'alexis': 394, 'ego': 4248, 'lone': 7865, 'wah': 14555, 'nationalism': 8834, 'aryans': 771, 'jews': 7158, 'pent': 9721, 'worthlessness': 14993, 'condemned': 2665, 'numbing': 9104, 'pleasures': 10011, 'pressures': 10276, 'foment': 5237, '0dle': 3, 'slapping': 12142, 'boil': 1509, 'limply': 7759, 'focusing': 5217, 'aspieness': 799, 'iq': 7000, 'seven': 11805, 'norm': 9036, 'bounces': 1587, 'earliest': 4150, 'dawn': 3287, 'tbt': 13270, 'straits': 12771, 'atmosphere': 867, 'fertile': 4971, 'stubbornly': 12846, 'refuses': 10887, 'roundabouts': 11351, 'annoyingly': 573, 'murmurs': 8737, 'skinner': 12118, 'seduce': 11686, 'conned': 2720, 'connived': 2721, 'fired': 5070, 'stresses': 12798, 'sensory': 11753, 'stoic': 12735, 'icky': 6514, 'cited': 2317, 'scarce': 11552, 'legality': 7630, 'tatters': 13259, 'messaging': 8343, 'prop': 10420, 'slap': 12140, 'boredom': 1558, 'briton': 1695, 'germans': 5587, 'monogrammed': 8573, 'thicker': 13462, 'mascara': 8162, 'dubbed': 4078, 'somethings': 12371, 'apendages': 631, 'organs': 9339, 'temper': 13329, 'tantrum': 13232, 'hobnob': 6283, 'calories': 1895, 'douche': 3957, 'canoes': 1926, 'acne': 154, 'pimples': 9909, 'karen': 7300, 'fronts': 5409, 'branding': 1634, 'actuality': 180, 'bohemian': 1508, 'beachy': 1144, 'haiku': 5940, 'devin': 3599, 'clutter': 2433, 'inherently': 6793, 'gender': 5547, 'rekindled': 10930, 'lease': 7610, 'superficial': 13006, 'moderately': 8521, 'twat': 13947, 'collaborative': 2483, 'conducive': 2673, 'comeback': 2524, 'willy': 14852, 'nilly': 8989, 'uhuru': 13996, 'persecuted': 9772, 'martha': 8150, 'karua': 7305, 'carrying': 2006, 'essay': 4537, 'differs': 3654, 'victorious': 14446, 'cautious': 2059, 'ryan': 11422, 'spats': 12452, 'consequence': 2734, 'scheme': 11582, 'anchorage': 521, 'joint': 7190, 'stroll': 12825, 'imagebox': 6575, 'hurtled': 6478, 'pines': 9916, 'jersey': 7150, 'consumed': 2777, 'drowning': 4060, 'swamp': 13101, 'unfeeling': 14112, 'humanbeings': 6435, 'asses': 812, 'pollution': 10078, 'luxurious': 7984, 'deer': 3380, 'mice': 8369, 'parade': 9564, 'permalink': 9757, 'thomas': 13486, 'spasms': 12451, 'diarrhea': 3631, 'mouthfuls': 8666, 'defriended': 3411, 'drugs': 4065, 'fee': 4934, 'frank': 5338, 'catholics': 2048, 'workshop': 14975, 'pleasing': 10009, 'werner': 14732, 'musician': 8753, 'convey': 2852, 'khi': 7354, 'au': 905, 'ng': 8952, 'rephrase': 11031, 'heidi': 6152, 'mrs': 8685, 'unspoilt': 14221, 'ladder': 7487, 'documentaries': 3886, 'void': 14521, 'usarious': 14300, 'stuffing': 12861, 'parlor': 9586, 'hamburger': 5959, 'steak': 12675, 'oooh': 9275, 'officials': 9213, 'achy': 147, 'blahness': 1386, 'preference': 10230, 'identity': 6529, 'mia': 8367, 'beaches': 1143, 'restful': 11129, 'fared': 4874, 'fob': 5212, 'telegram': 13319, 'anniversary': 562, 'guardian': 5874, 'contests': 2809, 'indiscriminately': 6727, 'appearing': 655, 'jaeryong': 7087, 'jungeuns': 7264, 'scratches': 11621, 'barbeque': 1075, 'disabilities': 3703, 'sensationalist': 11743, 'reports': 11044, 'connecticut': 2716, 'polyvore': 10080, 'boards': 1485, 'advent': 258, 'muslim': 8758, 'bombings': 1522, 'defense': 3391, 'universally': 14159, 'bent': 1267, 'thaliad': 13401, 'environmentally': 4486, 'victims': 14443, 'lex': 7690, 'misty': 8495, 'bombardment': 1517, 'notcied': 9055, 'wildly': 14841, 'swallow': 13097, 'backward': 1013, 'copycat': 2888, 'sifting': 12009, 'personals': 9787, 'unappreciated': 14014, 'earplugs': 4155, 'frustrating': 5422, 'okc': 9230, 'eharmony': 4251, 'meaningless': 8239, 'rrreeaallyy': 11365, 'tracifishbowl': 13732, 'ian': 6507, 'sensibly': 11750, 'flame': 5108, 'prepping': 10255, 'supervisor': 13019, 'nailed': 8795, 'politely': 10070, 'shook': 11931, 'expansive': 4706, 'transfer': 13769, 'dismissing': 3785, 'disconnects': 3740, 'trials': 13835, 'pioneers': 9930, 'eve': 4581, 'roomates': 11328, 'shermin': 11887, 'joey': 7177, 'surmise': 13058, 'sitcom': 12080, 'rightful': 11236, 'predecessor': 10220, 'lacks': 7483, 'emptiness': 4363, 'baggage': 1027, 'renaissance': 11010, 'baroque': 1092, 'jamie': 7100, 'inanimate': 6661, 'purged': 10548, 'tremendously': 13824, 'dunstable': 4115, 'preposterous': 10254, 'motors': 8648, 'slopes': 12179, 'trialling': 13834, 'marks': 8136, 'entitiled': 4469, 'unwisely': 14250, 'spooky': 12537, 'matin': 8198, 'screening': 11629, 'stewarts': 12702, 'legion': 7634, 'referring': 10865, 'dpns': 3975, 'sleepy': 12154, 'witnessing': 14916, 'offender': 9198, 'surfacing': 13051, 'diamond': 3626, 'richie': 11220, 'mix': 8500, 'taylor': 13266, 'swift': 13129, 'represent': 11045, 'mingle': 8428, 'allergy': 416, 'stupor': 12877, 'wildstar': 14842, 'interacting': 6910, 'empathize': 4347, 'cycle': 3198, 'yummy': 15139, 'sandwiches': 11483, 'leftovers': 7626, 'lands': 7509, 'tonguey': 13658, 'pulsed': 10522, 'bud': 1746, 'clit': 2397, 'aa': 28, 'insight': 6839, 'shonas': 11930, 'notes': 9059, 'athe': 851, 'clinical': 2389, 'abstinence': 71, 'specialists': 12461, 'tomato': 13644, 'indulging': 6740, 'sinuses': 12068, 'sloshy': 12181, 'deepening': 3375, 'murt': 8739, 'clarinet': 2338, 'stropped': 12834, 'instill': 6864, 'quivering': 10623, 'shivering': 11920, 'growth': 5862, 'accelerated': 90, 'flickering': 5147, 'heralding': 6184, 'exposes': 4749, 'gluten': 5688, 'mediocre': 8264, '0dled': 4, 'pissing': 9939, 'nestled': 8919, 'extends': 4763, 'segments': 11705, 'sundry': 12994, 'recreate': 10834, 'fog': 5218, 'awaits': 956, 'blogstalkers': 1446, 'nearness': 8860, 'datey': 3277, 'commonplace': 2562, 'revis': 11193, 'reporters': 11042, 'jets': 7154, 'locker': 7843, 'dom': 3906, 'rip': 11256, 'tide': 13555, 'inch': 6676, 'logged': 7851, 'calvaryccv': 1896, 'preparations': 10250, 'captivity': 1948, 'formulate': 5295, 'reflects': 10873, 'fraction': 5323, 'nakahara': 8799, 'mai': 8025, 'mightily': 8387, 'crashed': 3007, 'hiring': 6256, 'scandalized': 11547, 'nfl': 8951, 'fingernail': 5056, 'scheduled': 11578, 'envy': 4490, 'fro': 5401, 'playoffs': 9995, 'wing': 14869, 'ruslan': 11413, 'fedotenko': 4931, 'sights': 12016, 'concentrated': 2646, 'aroma': 727, 'bhubaneswar': 1304, 'orissa': 9351, 'evans': 4578, 'captain': 1946, 'donor': 3920, 'shocking': 11924, 'seasons': 11665, 'cdm': 2070, 'flac': 5099, 'custodes': 3179, 'alibi': 399, 'download': 3964, 'resume': 11146, 'premium': 10244, 'philippines': 9832, 'prime': 10313, 'variety': 14364, 'gosh': 5733, 'dwelling': 4132, 'managing': 8074, 'pat': 9632, 'bertram': 1276, 'ptbertram': 10497, 'pawn': 9663, 'impress': 6633, 'countless': 2946, 'hospitalized': 6386, 'pervert': 9803, 'abnormally': 54, 'staked': 12614, 'feeder': 4938, 'endzone': 4410, 'itsy': 7066, 'bitsy': 1366, 'vogue': 14516, 'summary': 12982, 'uganda': 13987, 'crafting': 2991, 'screenwriters': 11633, 'sheepish': 11874, 'pleasure': 10010, 'workmates': 14970, 'transcribe': 13768, 'accused': 132, 'tak': 13195, 'bare': 1080, 'dryers': 4070, 'counting': 2945, 'backfires': 1003, 'solondz': 12350, 'gimmicks': 5626, 'hackles': 5928, 'tia': 13544, 'marketer': 8131, 'gaga': 5480, 'transforms': 13775, 'seventy': 11806, 'twosongs': 13968, 'aiming': 352, 'drips': 4041, 'psychologists': 10491, 'challenging': 2131, 'cents': 2099, 'anxieties': 605, 'manipulate': 8091, 'positioned': 10128, 'prupose': 10477, 'prospects': 10436, 'rolls': 11316, 'dinks': 3681, 'prettymuch': 10291, 'acronym': 160, 'venting': 14403, 'choosing': 2269, 'plate': 9979, 'werent': 14731, 'antipasti': 596, 'mozzarella': 8680, 'proscuito': 10431, 'excel': 4636, 'luxury': 7985, 'scolded': 11602, 'cottage': 2922, 'rustling': 11418, 'blogspot': 1445, 'twitches': 13964, 'fb': 4915, 'siren': 12073, 'echoing': 4188, 'aids': 347, 'pakistan': 9526, 'explodes': 4738, 'debris': 3327, 'compiled': 2603, 'rooted': 11334, 'sucking': 12942, 'carcenogenic': 1961, 'pleasantness': 10005, 'illusion': 6566, 'differences': 3651, 'declare': 3352, 'songy': 12381, 'camilla': 1903, 'rainbows': 10664, 'veins': 14389, 'bill': 1325, 'empathizing': 4348, 'passengered': 9614, 'cab': 1856, 'cutie': 3189, 'spoon': 12538, 'mathematical': 8195, 'exhilirated': 4689, 'tpt': 13730, 'aversary': 944, 'gunk': 5902, 'sinks': 12065, 'treader': 13807, 'hardcover': 6015, 'internal': 6926, 'boundary': 1593, 'dissolve': 3822, 'projecting': 10400, 'suspected': 13082, 'weightloss': 14711, 'chefs': 2208, 'academy': 88, 'spying': 12577, 'devour': 3607, 'assist': 822, 'profound': 10383, 'psychology': 10492, 'preparation': 10249, 'caregivers': 1978, 'yuck': 15138, 'adequate': 208, 'entrenched': 4473, 'gerrymandered': 5590, 'reelected': 10853, 'gabriella': 5478, 'embark': 4308, 'biscuits': 1353, 'crisps': 3070, 'tastes': 13252, 'sonam': 12378, 'genelia': 5550, 'tubelight': 13908, 'reflecting': 10870, 'glossy': 5683, 'bra': 1615, 'ediths': 4207, 'meanness': 8240, 'stoners': 12741, 'meing': 8280, 'emotionaly': 4342, 'bareminerals': 1083, 'filmed': 5031, 'inhaler': 6790, 'muay': 8692, 'thai': 13398, 'blinked': 1421, 'mall': 8059, 'weirdo': 14717, 'peep': 9700, 'toe': 13629, 'kangna': 7294, 'ranaut': 10677, 'invisible': 6986, 'chunk': 2294, 'hum': 6433, 'dubstep': 4081, 'subjected': 12896, 'thunder': 13536, 'encouraging': 4393, 'kindergarteners': 7384, 'vm': 14510, 'superduperreally': 13005, 'blurt': 1479, 'obstacle': 9162, 'leaden': 7585, 'placed': 9956, 'coldsores': 2478, 'ranks': 10685, 'antics': 593, 'improv': 6642, 'carolina': 1998, 'vastly': 14371, 'intimacy': 6946, 'lifetime': 7718, 'rut': 11419, 'enabled': 4374, 'abstain': 70, 'withdrawing': 14906, 'ashley': 783, 'rommel': 11324, 'jaws': 7119, 'flashing': 5118, 'climbing': 2386, 'horizontal': 6368, 'cramped': 2996, 'masters': 8179, 'creation': 3029, 'shamefully': 11842, 'gurus': 5906, 'persuasively': 9796, 'phenomena': 9827, 'ovations': 9410, 'axel': 979, 'meetings': 8276, 'pooped': 10092, 'comp': 2578, 'bugs': 1760, 'buzzing': 1849, 'shortage': 11943, 'compromise': 2634, 'portable': 10110, 'compatible': 2593, 'cohesive': 2466, 'arist': 717, 'lucas': 7944, 'uplift': 14265, 'aaron': 34, 'dorothy': 3944, 'kelsey': 7332, 'machinery': 8001, 'programs': 10390, 'socializing': 12316, 'rememberiing': 10988, 'marillac': 8127, 'residential': 11088, 'freezer': 5366, 'nostril': 9051, 'sole': 12339, 'historical': 6261, 'imply': 6621, 'method': 8357, 'vein': 14388, 'gig': 5617, 'march': 8115, 'biopsies': 1341, 'maps': 8110, 'cynical': 3202, 'measuring': 8247, 'tracking': 13734, 'unfocused': 14115, 'swaddled': 13095, 'wrapping': 15010, 'woefully': 14928, 'illogically': 6565, 'mysalvagedtreasures': 8772, 'hunger': 6463, 'homelessness': 6315, 'theory': 13437, 'whereby': 14762, 'detatched': 3567, 'grandsons': 5781, 'jolted': 7200, 'thawing': 13418, 'sledding': 12147, 'refrain': 10876, 'acquaintances': 157, 'mentioning': 8320, 'makin': 8049, 'cineplex': 2309, 'destroying': 3558, 'cultures': 3144, 'religions': 10964, 'mythologies': 8781, 'photographically': 9849, 'volunteers': 14529, 'passersby': 9618, 'weekends': 14697, 'surf': 13048, 'broom': 1710, 'scrubbing': 11642, 'vinegar': 14469, 'newspapers': 8946, 'cooler': 2866, 'holden': 6290, 'caulfield': 2053, 'ordeal': 9320, 'rent': 11015, 'enamoured': 4378, 'porcelain': 10105, 'tap': 13234, 'richness': 11221, 'cgi': 2113, 'starter': 12641, 'refrigerator': 10882, 'bonka': 1533, 'neva': 8929, 'fa': 4798, 'illinois': 6563, 'horrendously': 6373, 'pristine': 10329, 'affords': 296, 'mortuary': 8622, 'compasionate': 2590, 'greiving': 5818, 'slung': 12203, 'embalming': 4304, 'rightness': 11239, 'dreadful': 4011, 'mbourgon': 8220, 'educated': 4216, 'susceptible': 13080, 'deserved': 3521, 'electing': 4269, 'traded': 13740, 'chairs': 2122, 'management': 8071, 'rotation': 11344, 'caretaker': 1984, 'celebratory': 2082, 'gona': 5714, 'decribe': 3363, 'disorders': 3788, 'recovered': 10831, 'congestion': 2705, 'mondays': 8562, 'enchanting': 4382, 'evar': 4580, 'bc': 1139, 'heartbeat': 6114, 'consultation': 2774, 'efficiently': 4236, 'classwork': 2350, 'dittmar': 3853, 'instructor': 6873, 'math': 8194, 'grandmothers': 5778, 'chendol': 2215, 'kacang': 7283, 'tensed': 13355, 'facilities': 4811, 'cent': 2094, 'ivspirit': 7072, 'translatethis': 13782, 'intercessor': 6914, 'da': 3211, 'bul': 1766, 'taewuhbeoryeo': 13188, 'niga': 8969, 'ulbujitneun': 13999, 'nal': 8802, 'ah': 338, 'neoneun': 8902, 'wiheomhae': 14834, 'ttaekkaji': 13903, 'gatsseo': 5528, 'woooo': 14957, 'becuz': 1172, 'denim': 3462, 'debated': 3323, 'shandur': 11846, 'polo': 10079, 'located': 7839, 'western': 14735, 'tweet': 13951, 'bubble': 1738, 'dudley': 4088, 'dursley': 4121, 'cornelius': 2897, 'fudge': 5432, 'minerva': 8426, 'mcgonnagall': 8226, 'neville': 8934, 'longbottom': 7870, 'pettigrew': 9819, 'oliver': 9239, 'frequencies': 5372, 'draft': 3979, 'neuroticworkaholic': 8928, 'circumstance': 2314, 'twas': 13946, 'bedside': 1178, 'bowl': 1601, 'magi': 8015, 'herod': 6194, 'exaggerated': 4623, 'eyelids': 4792, 'indulgence': 6738, 'audacity': 908, 'fifth': 5007, 'yearbook': 15085, 'commemorate': 2544, 'rudy': 11382, 'graduated': 5763, 'automation': 937, 'memset': 8305, 'pocket': 10034, 'tab': 13173, 'trafford': 13746, 'stamford': 12618, 'socialize': 12315, 'texts': 13390, 'grudgingly': 5864, 'uncharacteristically': 14033, 'enlivened': 4435, 'rockabilly': 11296, 'occasions': 9170, 'blossom': 1456, 'moisture': 8534, 'juicy': 7247, 'unreasonable': 14200, 'lent': 7661, 'scissors': 11600, 'seated': 11667, 'insufficiency': 6875, 'inherent': 6792, 'furniture': 5465, 'additional': 200, 'snuck': 12293, 'snooping': 12281, 'indigestion': 6724, 'guitarist': 5895, 'prideful': 10308, 'loopy': 7888, 'exaggerating': 4624, 'angie': 540, 'unmitigated': 14176, 'carol': 1996, 'atletico': 865, 'stored': 12751, 'clasheen': 2342, 'nicola': 8964, 'keepmeinstitchez': 7327, 'mature': 8207, 'strain': 12768, 'nervouse': 8911, 'usain': 14299, 'bolt': 1514, 'intruder': 6964, 'griff': 5827, 'retreat': 11161, 'whine': 14776, 'touching': 13703, 'tornado': 13679, 'sentiments': 11758, 'schindlers': 11584, 'chambers': 2133, 'ghosts': 5609, 'trained': 13754, 'trav': 13796, 'homosexual': 6333, 'moping': 8593, 'onion': 9262, 'slows': 12191, 'compounded': 2629, 'accomplishments': 119, 'acknowledged': 151, 'nod': 9002, 'soothing': 12400, 'cosmetic': 2913, 'sasuke': 11505, 'fatally': 4892, 'moriartys': 8606, 'horrified': 6378, 'evilness': 4610, 'bridal': 1674, 'taps': 13237, 'racked': 10642, 'ugliness': 13993, 'steinbeck': 12683, 'enriched': 4443, 'validate': 14343, 'broadcasting': 1699, 'protocols': 10453, 'consults': 2776, 'handsomefamily': 5982, 'peeps': 9701, 'snidey': 12270, 'soooooooooooo': 12396, 'embraced': 4320, 'bibliography': 1311, 'bachelorette': 998, 'shifted': 11896, 'engrains': 4431, 'prejudiced': 10240, 'hannah': 5990, 'montana': 8578, 'nick': 8961, 'colbert': 2473, 'owen': 9465, 'morgan': 8604, 'undertaking': 14073, 'disorients': 3792, 'experimenting': 4725, 'lemony': 7648, 'cakes': 1872, 'vanilla': 14355, 'buttermilk': 1840, 'inducing': 6735, 'deprecation': 3491, 'multitasking': 8719, 'ragged': 10655, 'destination': 3551, 'feverish': 4984, 'premature': 10242, 'graying': 5800, 'demise': 3444, 'respects': 11114, 'caged': 1868, 'womb': 14935, 'owned': 9469, 'pinky': 9922, 'dysphoria': 4138, 'fend': 4967, 'giveaway': 5638, 'revisiting': 11197, 'celebrations': 2081, 'smokes': 12236, 'ome': 9247, 'blubbering': 1468, 'chanel': 2138, 'fist': 5085, 'infantry': 6753, 'motorbike': 8645, 'zhu': 15158, 'snapbacks': 12257, 'lotus': 7915, 'wholesale': 14806, 'snapback': 12256, 'prosecutions': 10433, 'mongering': 8565, 'elashis': 4262, 'noor': 9032, 'courthouse': 2961, 'suppliments': 13025, 'abandoning': 38, 'affirm': 289, 'disastrous': 3721, 'aches': 140, 'unemployed': 14099, 'aku': 370, 'merasa': 8323, 'luar': 7943, 'biasa': 1308, 'karena': 7301, 'kulihat': 7460, 'sendi': 11734, 'simplethoughtsonthings': 12042, 'maeve': 8012, 'promotional': 10412, 'advertisements': 267, 'commercials': 2550, 'dialogue': 3624, 'assignment': 820, 'nevertheless': 8933, 'superstition': 13014, 'caution': 2058, 'determine': 3574, 'possesses': 10135, 'consciousness': 2731, 'millions': 8408, 'comings': 2540, 'competent': 2599, 'consideration': 2744, 'videos': 14449, 'subscribers': 12911, 'perspiring': 9793, 'muddy': 8701, 'worsen': 14987, 'voters': 14537, 'bruises': 1726, 'hips': 6253, 'elbows': 4265, 'banged': 1061, 'celebrating': 2079, 'grandiosely': 5775, 'collapses': 2484, 'shortsighted': 11951, 'oakland': 9130, 'databases': 3273, 'donate': 3912, 'proceeds': 10350, 'totality': 13693, 'indicated': 6718, 'blowouts': 1465, 'tantrums': 13233, 'privilege': 10336, 'extend': 4761, 'raids': 10659, 'luftwaffe': 7951, 'kerouac': 7339, 'marbles': 8114, 'maelstrom': 8011, 'sur': 13045, 'prince': 10317, 'abundantly': 77, 'addict': 192, 'frazzled': 5350, 'railway': 10660, 'suggestion': 12965, 'grimacing': 5831, 'flip': 5155, 'knife': 7419, 'pearl': 9684, 'pistols': 9943, 'incomes': 6691, 'mombasa': 8546, 'stirrings': 12729, 'duckie': 4084, 'commies': 2551, 'feds': 4932, 'daring': 3254, 'corset': 2911, 'postgraduate': 10147, 'hijacked': 6235, 'wiggle': 14833, 'fudgy': 5433, 'doodles': 3926, 'tutorial': 13942, 'sassy': 11504, 'bunny': 1792, 'taryn': 13245, 'jumping': 7259, 'whooped': 14813, 'unsteady': 14223, 'duration': 4118, 'hurry': 6474, 'resonate': 11103, 'simon': 12038, 'teenage': 13310, 'jag': 7088, 'jointly': 7191, 'reviews': 11192, 'brendon': 1669, 'replacing': 11035, 'interpersonal': 6933, 'restored': 11135, 'crossroads': 3089, 'thrift': 13508, 'roughly': 11349, 'wishing': 14896, 'bargain': 1084, 'segregate': 11706, 'liberal': 7697, 'intimidation': 6953, 'mira': 8449, 'castle': 2029, 'safely': 11440, 'creeps': 3049, 'referee': 10860, 'partial': 9592, 'stirred': 12728, 'conveniently': 2842, 'unwind': 14249, 'breather': 1662, 'pussy': 10565, 'swimsuit': 13132, 'ushering': 14309, 'traumatic': 13794, 'capacities': 1940, 'tracy': 13737, 'intrigued': 6956, 'chugged': 2292, 'addressed': 204, 'worms': 14979, 'tethered': 13385, 'suitcases': 12973, 'cashmere': 2020, 'sweaters': 13111, 'rainboots': 10662, 'owner': 9470, 'everybodys': 4595, 'tons': 13663, 'andy': 534, 'chemicals': 2210, 'classy': 2351, 'goth': 5737, 'punk': 10537, 'getyourprettyon': 5600, 'lends': 7652, 'projected': 10399, 'guiding': 5887, 'principles': 10320, 'recount': 10828, 'obama': 9133, 'thatll': 13414, 'bang': 1060, 'wuss': 15044, 'hyenas': 6488, 'heated': 6128, 'contemplation': 2799, 'consolidation': 2756, 'scriptures': 11639, 'elf': 4282, 'flaky': 5107, 'streaky': 12787, 'disasters': 3720, 'sacrifice': 11436, 'swath': 13106, 'frequency': 5373, 'gook': 5726, 'presentations': 10264, 'relishing': 10967, 'mathematics': 8196, 'fourteen': 5318, 'altered': 448, 'perceptions': 9733, 'solve': 12354, 'opposites': 9302, 'global': 5675, 'practiced': 10186, 'echo': 4186, 'chamber': 2132, 'correctness': 2908, 'incompetent': 6693, 'trousers': 13875, 'looser': 7891, 'truthfully': 13894, 'cloud': 2414, 'bitten': 1367, 'irrationally': 7011, 'benny': 1265, 'dumbfounded': 4101, 'kidding': 7362, 'iya': 7075, 'painted': 9516, 'uncomfterble': 14039, 'skips': 12126, 'pacing': 9486, 'distanced': 3825, 'shh': 11889, 'patio': 9644, 'storming': 12756, 'flush': 5201, 'foster': 5308, 'accommodate': 110, 'mediterranean': 8270, 'sucked': 12939, 'charade': 2157, 'hobica': 6282, 'frosting': 5410, 'shortening': 11945, 'trans': 13764, 'uglier': 13991, 'deformed': 3410, 'yarn': 15075, 'enought': 4440, 'yorkshire': 15119, 'ha': 5920, 'statements': 12657, 'twisted': 13961, 'sinister': 12062, 'inaccurate': 6654, 'compulsion': 2637, 'bludgeon': 1469, 'onlookers': 9265, 'labels': 7473, 'acquire': 159, 'ho': 6272, 'weighins': 14706, 'aout': 623, 'signifies': 12023, 'undue': 14089, 'remembrance': 10990, 'justin': 7277, 'aryiku': 772, 'aimless': 353, 'sor': 12405, 'doubling': 3951, 'accurate': 130, 'payoff': 9668, 'grabby': 5751, 'shinae': 11903, 'mentality': 8315, 'cinema': 2307, 'redden': 10841, 'manhood': 8082, 'laundering': 7554, 'stumbled': 12866, 'infrastructure': 6778, 'inequality': 6745, 'creatively': 3034, 'surely': 13047, 'pursuing': 10556, 'fancy': 4861, 'evey': 4604, 'french': 5369, 'directing': 3692, 'mercilessly': 8325, 'abominable': 56, 'declaring': 3353, 'hump': 6455, 'newsprint': 8947, 'articles': 752, 'chicago': 2226, 'jordan': 7210, 'bulls': 1771, 'belongs': 1241, 'celtics': 2090, 'permanence': 9758, 'fingertips': 5059, 'oak': 9129, 'bushes': 1826, 'recycled': 10838, 'coworkers': 2976, 'happend': 5995, 'tallinn': 13219, 'pimp': 9907, 'raini': 10665, 'rocky': 11302, 'giveaways': 5639, 'suppressing': 13042, 'mommys': 8554, 'adversely': 264, 'publicity': 10506, 'hearnsays': 6110, 'overpowers': 9440, 'baht': 1031, 'usd': 14301, 'alway': 460, 'elusively': 4298, 'boob': 1537, 'misrepresent': 8472, 'occurred': 9178, 'increased': 6703, 'dosage': 3945, 'hormone': 6369, 'supplemental': 13022, 'estrogen': 4547, 'schools': 11589, 'succumbed': 12935, 'commuter': 2576, 'mama': 8061, 'ingrate': 6786, 'momentarily': 8548, 'empathetic': 4345, 'sweeney': 13118, 'cease': 2072, 'facial': 4808, 'modifying': 8526, 'biannual': 1306, 'mammogram': 8065, 'unusually': 14241, 'bla': 1374, 'scare': 11553, 'invade': 6971, 'shutting': 11989, 'woodstock': 14954, 'lightning': 7733, 'nerves': 8909, 'defiant': 3397, 'thrilling': 13514, 'theatre': 13422, 'bashing': 1104, 'gw': 5915, 'karma': 7303, 'contentment': 2805, 'knelt': 7417, 'mutual': 8765, 'communicated': 2566, 'pure': 10545, 'sober': 12307, 'supports': 13034, 'behave': 1204, 'outcast': 9376, 'trendier': 13828, 'unfriendly': 14124, 'menopause': 8309, 'floods': 5170, 'baring': 1085, 'staggering': 12609, 'upstairs': 14281, 'allocated': 422, 'pennies': 9718, 'irresponsible': 7019, 'auster': 921, 'pounding': 10167, 'fatigue': 4899, 'bleak': 1401, 'noconscience': 9001, 'prevail': 10293, 'sucky': 12944, 'counterproductive': 2944, 'nic': 8955, 'missy': 8486, 'abandon': 36, 'obstacles': 9163, 'pokemon': 10056, 'boldly': 1513, 'warned': 14618, 'opener': 9280, 'thugs': 13532, 'confrontational': 2699, 'thrive': 13516, 'executive': 4667, 'permeate': 9762, 'photograph': 9844, 'regents': 10897, 'planted': 9974, 'lightness': 7732, 'torned': 13681, 'nathan': 8830, 'haley': 5950, 'noisy': 9010, 'animesh': 553, 'whip': 14784, 'cloth': 2410, 'napkin': 8816, 'reusable': 11170, 'grit': 5838, 'shoulding': 11958, 'prisoner': 10327, 'guidelines': 5885, 'lds': 7582, 'moreso': 8603, 'chiangmai': 2224, 'crowded': 3093, 'restrain': 11137, 'su': 12885, 'wen': 14725, 'repay': 11022, 'oakwood': 9131, 'metabolism': 8349, 'hyperthyroidism': 6496, 'rating': 10710, 'firstly': 5082, 'madness': 8009, 'secondly': 11673, 'scariest': 11558, 'hooked': 6351, 'kitwe': 7405, 'amma': 486, 'atlanta': 862, 'noon': 9029, 'poignant': 10044, 'piercing': 9889, 'penetrating': 9715, 'figment': 5014, 'suspiciously': 13088, 'offers': 9207, 'sections': 11680, 'amorphous': 490, 'rhythms': 11214, 'ryder': 11423, 'apples': 661, 'baffled': 1022, 'luke': 7955, 'spitball': 12513, 'luring': 7977, 'lair': 7496, 'chewie': 2221, 'affect': 279, 'gunong': 5904, 'ledang': 7620, 'puteri': 10567, 'evoking': 4613, 'legends': 7633, 'fairies': 4831, 'nicole': 8965, 'grandeur': 5773, 'legitimately': 7638, 'await': 953, 'andrew': 531, 'cycled': 3199, 'sulfate': 12977, 'reputable': 11062, 'geocentric': 5578, 'towel': 13723, 'statistic': 12663, 'hsps': 6417, 'hsp': 6416, 'brands': 1637, 'cheaply': 2184, 'locate': 7838, 'margaret': 8117, 'superpowers': 13012, 'il': 6558, 'rosa': 11337, 'deals': 3313, 'chasm': 2174, 'comforted': 2534, 'oncologist': 9255, 'snap': 12255, 'universal': 14156, 'metaphor': 8353, 'etries': 4560, 'upheaval': 14263, 'mormon': 8609, 'gatorade': 5526, 'uncontrollably': 14048, 'shelves': 11883, 'satan': 11507, 'hyde': 6485, 'kat': 7308, 'denningss': 3465, 'deadpan': 3308, 'delivery': 3436, 'crabs': 2982, 'aol': 622, 'verizon': 14415, 'repeatedly': 11025, 'ari': 714, 'ben': 1247, 'menashe': 8307, 'profits': 10382, 'mousavi': 8660, 'manuchehr': 8104, 'ghorbani': 5606, 'cia': 2301, 'oxford': 9475, 'skype': 12132, 'hurricane': 6471, 'correspond': 2909, 'catsa': 2051, 'afrad': 301, 'flab': 5098, 'migrate': 8390, 'snake': 12253, 'teary': 13291, 'hardship': 6022, 'stimulating': 12718, 'chuffed': 2291, 'spirituality': 12510, 'partnership': 9604, 'nipping': 8992, 'ministry': 8441, 'custom': 3180, 'orthotics': 9358, 'fic': 4994, 'writting': 15030, 'writters': 15029, 'heartdesire': 6120, 'mentel': 8317, 'whatsoever': 14752, 'disjointed': 3778, 'surprising': 13063, 'decluttering': 3356, 'safer': 11441, 'motivators': 8642, 'peeing': 9696, 'irritability': 7021, 'sniffer': 12272, 'gag': 5479, 'reflex': 10874, 'euphermal': 4565, 'soporific': 12404, 'luscious': 7981, 'hazy': 6078, 'dee': 3367, 'triangle': 13836, 'kara': 7296, 'ounce': 9368, 'treacherous': 13805, 'ecker': 4189, 'festivals': 4977, 'belonged': 1237, 'classmates': 2348, 'tuned': 13924, 'bullshit': 1772, 'beware': 1293, 'spoilers': 12527, 'kitties': 7404, 'spiders': 12494, 'racial': 10636, 'slur': 12204, 'aimed': 351, 'inverted': 6977, 'suspension': 13084, 'vampire': 14351, 'pits': 9949, 'healthier': 6104, 'stripped': 12819, 'pinch': 9911, 'quantity': 10587, 'awesomeness': 968, 'togehter': 13634, 'addison': 197, 'reed': 10850, 'collector': 2494, 'coldstone': 2479, 'waaaaayyyy': 14548, 'delicous': 3429, 'creaminess': 3023, 'peacefulness': 9677, 'reactive': 10738, 'frantically': 5341, 'apron': 690, 'lounge': 7923, 'swap': 13104, 'gorge': 5730, 'disgustingly': 3769, 'supporter': 13029, 'undergo': 14058, 'rep': 11016, 'reciting': 10804, 'spiel': 12495, 'scarlet': 11559, 'maladaptive': 8052, 'architecturally': 701, 'quilts': 10616, 'americana': 479, 'benjamin': 1263, 'forest': 5273, 'gump': 5900, 'stayviolation': 12673, 'pistil': 9941, 'manliness': 8097, 'concerts': 2655, 'wig': 14832, 'inspection': 6849, 'tidying': 13557, 'daytime': 3296, 'arlovski': 718, 'ufc': 13986, 'robbed': 11287, 'dismantle': 3781, 'beet': 1185, 'rabiola': 10631, 'fresca': 5377, 'ravioli': 10719, 'encompass': 4385, 'yin': 15107, 'yang': 15070, 'savory': 11533, 'pastas': 9629, 'pops': 10101, 'prosperity': 10437, 'slice': 12159, 'seattle': 11668, 'showcase': 11969, 'concidence': 2656, 'uneasiness': 14094, 'cupcakes': 3152, 'velvet': 14393, 'wallpaper': 14581, 'mobile': 8512, 'ploy': 10018, 'ashraf': 785, 'pakistani': 9527, 'authority': 929, 'counts': 2949, 'overboard': 9415, 'hip': 6252, 'nigga': 8971, 'unpopular': 14188, 'ominous': 9251, 'radiation': 10648, 'initally': 6797, 'internist': 6931, 'sarcoma': 11498, 'aimlessly': 354, 'narrow': 8823, 'jeannie': 7131, 'grip': 5835, 'keith': 7331, 'detoured': 3578, 'xela': 15054, 'resented': 11078, 'unspecified': 14220, 'equipment': 4508, 'friendfeed': 5389, 'dearwendy': 3318, 'entrenchedly': 4474, 'pureland': 10546, 'buddhism': 1747, 'whereas': 14761, 'negativity': 8884, 'leadership': 7588, 'avoided': 949, 'chabad': 2116, 'sukkah': 12976, 'sunlight': 12995, 'filter': 5036, 'woven': 15004, 'schach': 11574, 'lattice': 7545, 'verbalize': 14410, 'imagi': 6577, 'toenails': 13631, 'risked': 11265, 'nigeria': 8970, 'olden': 9234, 'sarawak': 11494, 'parallel': 9566, 'jugra': 7244, 'chronicles': 2289, 'pointlessness': 10048, 'cu': 3127, 'beg': 1193, 'administration': 219, 'stamped': 12621, 'medically': 8259, 'chaperone': 2149, 'unlikely': 14171, 'punctual': 10531, 'distractions': 3839, 'vexed': 14428, 'mohammed': 8531, 'hussein': 6482, 'xango': 15050, 'yahoo': 15068, 'verrrrrrrryyyy': 14418, 'ntoward': 9091, 'breaks': 1653, 'dissect': 3818, 'knock': 7425, 'backlogs': 1007, 'lindo': 7762, 'arose': 728, 'jumble': 7254, 'inhalers': 6791, 'culprit': 3139, 'wounded': 15002, 'matches': 8184, 'tiggers': 13563, 'sip': 12069, 'compliant': 2619, 'voip': 14522, 'institution': 6869, 'telephony': 13321, 'desktop': 3534, 'phones': 9842, 'quieter': 10610, 'shushing': 11986, 'insert': 6834, 'arun': 769, 'harmless': 6029, 'insect': 6828, 'overpowered': 9439, 'bothering': 1574, 'yash': 15077, 'fateh': 4894, 'intrusion': 6965, 'vengeance': 14398, 'granny': 5782, 'panties': 9551, 'quilted': 10614, 'psycho': 10487, 'cuddling': 3133, 'thrillers': 13513, 'prevails': 10294, 'betrayal': 1286, 'pluto': 10028, 'input': 6817, 'pacesetter': 9484, 'invincible': 6985, 'hp': 6413, 'plugged': 10020, 'charging': 2160, 'supervising': 13017, 'dealer': 3311, 'philters': 9837, 'paaker': 9480, 'certifiably': 2109, 'cunt': 3149, 'scarred': 11560, 'mso': 8689, 'bidi': 1314, 'concurrently': 2663, 'trajectory': 13759, 'costumes': 2921, 'grandchild': 5771, 'fil': 5022, 'evoke': 4611, 'julian': 7249, 'spazzing': 12453, 'thingy': 13470, 'gikwang': 5621, 'cardio': 1965, 'emilyhursh': 4331, 'surprises': 13062, 'consumer': 2778, 'requires': 11070, 'childlike': 2236, 'craps': 3005, 'ply': 10029, 'tweedy': 13949, 'rowan': 11360, 'shawl': 11869, 'melt': 8291, 'mishaps': 8465, 'toddler': 13624, 'discouraging': 3748, 'mereka': 8328, 'penyeri': 9722, 'sheet': 11876, 'dreamed': 4014, 'turkey': 13930, 'tofurkey': 13633, 'transparence': 13783, 'cliff': 2381, 'contentedly': 2803, 'canal': 1916, 'dictated': 3638, 'shaun': 11866, 'inclination': 6682, 'jamies': 7101, 'nerdy': 8907, 'sciences': 11594, 'daydreaming': 3293, 'shove': 11965, 'assuage': 830, 'yelp': 15099, 'realism': 10760, 'mumbai': 8722, 'slums': 12202, 'drafted': 3981, 'suckered': 12941, 'ads': 249, 'siri': 12074, 'honduras': 6335, 'equilibrium': 4507, 'sims': 12047, 'reduced': 10847, 'bernie': 1274, 'guaranteed': 5872, 'whipping': 14786, 'reground': 10908, 'nutrient': 9117, 'dense': 3468, 'spaghetti': 12440, 'meatballs': 8249, 'workaholic': 14963, 'mating': 8199, 'assessed': 814, 'signs': 12025, 'calculated': 1874, 'dates': 3276, 'revealthestaryoutrulyare': 11177, 'blushes': 1482, 'corrupting': 2910, 'reminders': 10995, 'lulls': 7957, 'foreigners': 5270, 'experts': 4728, 'zombie': 15166, 'thunk': 13538, 'charged': 2159, 'kala': 7289, 'africans': 305, 'fangirls': 4865, 'transformations': 13772, 'exited': 4699, 'trimester': 13851, 'emerged': 4323, 'realizing': 10768, 'quell': 10596, 'dodd': 3890, 'deceives': 3337, 'analyzed': 516, 'overanalyzed': 9414, 'aversion': 945, 'license': 7705, 'hibernating': 6216, 'compunction': 2639, 'brink': 1690, 'adf': 210, 'consecrated': 2732, 'satiated': 11509, 'reps': 11057, 'affordable': 295, 'pompoms': 10082, 'multi': 8713, 'braided': 1624, 'flaps': 5112, 'lyman': 7989, 'malignant': 8056, 'melonoma': 8290, 'revisit': 11196, 'shoplifting': 11937, 'gummy': 5899, 'cliques': 2395, 'architectural': 700, 'wowed': 15006, 'respecting': 11113, 'ios': 6996, 'galaxy': 5487, 'sii': 12026, 'lumia': 7959, 'species': 12466, 'rave': 10717, 'newborns': 8938, 'photographed': 9845, 'bald': 1041, 'blonde': 1449, 'grandpa': 5779, 'bishop': 1355, 'stave': 12668, 'requests': 11065, 'remainder': 10978, 'mock': 8515, 'promising': 10410, 'emphasise': 4351, 'speculation': 12474, 'ugh': 13990, 'naight': 8792, 'spurging': 12571, 'degrees': 3414, 'humid': 6447, 'advocacy': 272, 'veggies': 14383, 'grains': 5768, 'hudson': 6425, 'authentic': 924, 'ebony': 4184, 'dances': 3243, 'labeled': 7471, 'accuser': 133, 'mashmellows': 8167, 'dork': 3939, 'request': 11064, 'agonized': 331, 'treble': 13818, 'handbook': 5967, 'discharged': 3728, 'flavours': 5130, 'doctorate': 3883, 'tyler': 13974, 'durden': 4119, 'unpleasantly': 14187, 'noticer': 9069, 'phil': 9830, 'racking': 10643, 'organised': 9332, 'jess': 7151, 'omg': 9250, 'chicks': 2230, 'ka': 7282, 'daunting': 3282, 'romanticising': 11321, 'pairing': 9522, 'castiel': 2027, 'corn': 2895, 'adds': 206, 'earreading': 4156, 'audiobooks': 912, 'sweetness': 13124, 'recess': 10797, 'digress': 3665, 'zimbabwe': 15160, 'zimbabweans': 15161, 'bruised': 1725, 'harshness': 6038, 'wearied': 14674, 'relentlessness': 10955, 'fabolous': 4800, 'awaited': 954, 'losos': 7906, 'graham': 5766, 'rylin': 11425, 'carrry': 2004, 'jahmene': 7089, 'contacted': 2785, 'congregations': 2711, 'fundraiser': 5457, 'calle': 1882, 'blister': 1426, 'flops': 5175, 'unheard': 14134, 'possessing': 10136, 'fleece': 5137, 'prejudice': 10239, 'ened': 4411, 'farewell': 4875, 'longest': 7873, 'sponsors': 12533, 'confession': 2683, 'airplane': 360, 'announcement': 566, 'platitudes': 9983, 'cuffs': 3137, 'anklets': 557, 'flats': 5123, 'coats': 2443, 'pockets': 10036, 'survives': 13075, 'cooperative': 2873, 'slam': 12138, 'bosses': 1567, 'harass': 6011, 'museum': 8745, 'drowsy': 4061, 'exspress': 4760, 'appriciation': 674, 'deteriorate': 3571, 'taryns': 13246, 'ringing': 11249, 'taxes': 13265, 'imposed': 6627, 'valentines': 14340, 'confessing': 2682, 'jin': 7168, 'hee': 6145, 'lotte': 7913, 'illusions': 6567, 'lunapads': 7964, 'wap': 14601, 'folder': 5224, 'queries': 10598, 'dashboard': 3267, 'containing': 2792, 'nickname': 8963, 'thesis': 13453, 'moanday': 8508, 'murdering': 8736, 'cells': 2088, 'maximise': 8211, 'effed': 4232, 'detrimental': 3582, 'finke': 5064, 'nation': 8832, 'begleiter': 1201, 'randythomas': 10681, 'irwins': 7027, 'mattered': 8203, 'norma': 9037, 'stalled': 12617, 'pulls': 10518, 'pesticides': 9809, 'contaminated': 2794, 'adrift': 248, 'underwater': 14075, 'lenten': 7662, 'transitory': 13779, 'guns': 5905, 'align': 403, 'gusto': 5909, 'smothered': 12245, 'clearing': 2365, 'cobwebs': 2445, 'psychopathology': 10494, 'adjusting': 215, 'terrain': 13367, 'tackle': 13180, 'follows': 5236, 'mojo': 8540, 'rawly': 10721, 'decorated': 3359, 'loft': 7848, 'claret': 2336, 'jug': 7242, 'rod': 11303, 'ditlevsen': 3852, 'queer': 10594, '2box': 13, 'division': 3865, 'comedian': 2525, 'defence': 3387, 'mechanism': 8252, 'katrinas': 7318, 'sniping': 12275, 'cleared': 2363, 'insdie': 6827, 'negatives': 8883, 'curry': 3169, 'immersed': 6598, 'dialed': 3622, 'recluse': 10809, 'swan': 13102, 'appetite': 658, 'noodles': 9027, 'potatoe': 10154, 'miso': 8470, 'flies': 5150, 'dusted': 4124, 'insanely': 6823, 'philadelphia': 9831, 'pa': 9479, 'cascades': 2015, 'sexualy': 11819, 'napping': 8817, 'wealthy': 14668, 'resenting': 11080, 'tuition': 13918, 'concentrating': 2647, 'jongwoon': 7207, 'teases': 13294, 'ryeowook': 11424, 'ghosting': 5608, 'mph': 8681, 'funky': 5461, 'retorted': 11160, 'sensed': 11746, 'reestablish': 10855, 'qualify': 10584, 'offence': 9195, 'delhi': 3424, 'sang': 11486, 'zen': 15152, 'approaches': 678, 'possesive': 10133, 'hallmark': 5954, 'marriages': 8142, 'deaths': 3320, 'seriousness': 11782, 'oven': 9411, 'greatbritain': 5805, 'daisy': 3222, 'hatch': 6050, 'holland': 6300, 'msg': 8687, 'blur': 1475, 'bikini': 1324, 'completing': 2615, 'loudly': 7920, 'basks': 1110, 'writes': 15025, 'utmost': 14319, 'froze': 5414, 'odds': 9187, 'replica': 11036, 'spock': 12524, 'reciprocate': 10801, 'courthouses': 2962, 'intimidate': 6950, 'cheerfully': 2201, 'ritual': 11271, 'sweden': 13116, 'parable': 9563, 'sentences': 11756, 'publicly': 10507, 'laminate': 7503, 'lifes': 7715, 'assessment': 815, 'executing': 4665, 'transportation': 13787, 'truley': 13882, 'resupplied': 11148, 'pipsqueak': 9935, 'outstanding': 9402, 'bragging': 1623, 'algebra': 396, 'stephanie': 12690, 'setbacks': 11795, 'tackles': 13181, 'diy': 3870, 'bernd': 1273, 'sportsbook': 12544, 'khatsii': 7352, 'capturing': 1952, 'mug': 8705, 'polite': 10069, 'longevity': 7874, 'bowler': 1603, 'urgings': 14292, 'longings': 7877, 'frickin': 5384, 'employers': 4356, 'turmoil': 13932, 'ordering': 9323, 'kisser': 7395, 'nijifagilie': 8983, 'wip': 14881, 'cheating': 2187, 'awkwardness': 975, 'biological': 1339, 'extras': 4776, 'selection': 11714, 'le': 7583, 'grace': 5752, 'haircut': 5943, 'methodically': 8358, 'antidote': 595, 'unlucky': 14174, 'genetics': 5567, 'orthodontist': 9356, 'pediatric': 9693, 'dentist': 3470, 'glimpsed': 5668, 'aftereffects': 307, 'coupon': 2954, 'naive': 8797, 'boardwalk': 1486, 'sunrise': 12998, 'immigrants': 6600, 'refugees': 10883, 'israelites': 7048, 'donning': 3919, 'vip': 14481, 'sticker': 12707, 'perpetrator': 9766, 'crim': 3060, 'hefty': 6149, 'weighting': 14708, 'buckets': 1744, 'blades': 1384, 'quarrel': 10589, 'embarrass': 4311, 'burgos': 1805, 'rash': 10704, 'https': 6419, 'ep': 4492, 'auggie': 914, 'refered': 10859, 'outta': 9404, 'pip': 9932, 'disruptive': 3812, 'sins': 12066, 'electrified': 4274, 'unworthiness': 14251, 'penance': 9710, 'crunch': 3109, 'lurgy': 7976, 'needless': 8876, 'stops': 12748, 'bellingham': 1232, 'copping': 2885, 'preparing': 10253, 'behaviour': 1210, 'apc': 630, 'practise': 10190, 'suffocate': 12957, 'blankets': 1395, 'avoidable': 948, 'forgets': 5277, 'mangoes': 8080, 'walmart': 14584, 'maceys': 7998, 'midst': 8382, 'allergen': 413, 'restrictions': 11140, 'loner': 7868, 'accidents': 107, 'appearanc': 651, 'ewhich': 4619, 'movign': 8676, 'romantically': 11320, 'tidy': 13556, 'uv': 14327, 'tyrant': 13981, 'dedicates': 3366, 'uh': 13995, 'pander': 9540, 'misinterpreted': 8467, 'deceptively': 3341, 'curb': 3154, 'sophat': 12401, 'kandal': 7293, 'colorado': 2503, 'progression': 10394, 'pneumonia': 10032, 'pony': 10087, 'uncoiling': 14037, 'chesley': 2219, 'invited': 6989, 'hoard': 6273, 'max': 8210, 'blanks': 1396, 'fierceness': 5004, 'proclaiming': 10357, 'specialties': 12465, 'mechanical': 8251, 'utilize': 14318, 'languages': 7514, 'oldest': 9236, 'klysta': 7411, 'andrea': 529, 'data': 3272, 'et': 4548, 'cetera': 2112, 'drinkin': 4035, 'whiskey': 14789, 'les': 7666, 'strop': 12833, 'ruffling': 11384, 'inflating': 6763, 'gradually': 5761, 'morphed': 8616, 'zucchini': 15176, 'tarts': 13243, 'cereal': 2104, 'pagetype': 9503, 'mimedoger': 8412, 'measurements': 8245, 'upfront': 14261, 'perpetuating': 9769, 'mes': 8337, 'sod': 12324, 'aubrey': 906, 'baptism': 1071, 'depressive': 3497, 'jumpy': 7261, 'seoul': 11761, 'nothingness': 9061, 'repulsion': 11061, 'awoke': 976, 'transpired': 13785, 'roethisberger': 11306, 'stating': 12660, 'steelers': 12680, 'offense': 9201, 'households': 6405, 'avon': 951, 'criticizing': 3076, 'praising': 10194, 'heartrending': 6124, 'oprah': 9306, 'dealt': 3314, 'xx': 15065, 'xelliealicex': 15055, 'affair': 277, 'wod': 14926, 'twinges': 13958, 'aaaaaaand': 29, 'argued': 711, 'verdicts': 14413, 'baton': 1123, 'ganging': 5503, 'subsided': 12915, 'shakiness': 11833, 'exiting': 4700, 'freakishly': 5355, 'wyatt': 15048, 'bowie': 1600, 'iman': 6583, 'limbed': 7751, 'striding': 12811, 'lounging': 7924, 'hardworking': 6024, 'memorizing': 8303, 'strikes': 12813, 'anythings': 616, 'consulted': 2775, 'counsel': 2935, 'copay': 2877, 'trophy': 13869, 'confessions': 2684, 'planner': 9969, 'bridezillas': 1676, 'grooms': 5843, 'uninformed': 14141, 'specifics': 12469, 'rubber': 11371, 'dong': 3917, 'tna': 13615, 'crimson': 3065, 'sweeteners': 13121, 'untidiness': 14234, 'hoarders': 6274, 'subaru': 12887, 'maximize': 8212, 'trustworthy': 13890, 'upgrade': 14262, 'flashy': 5120, 'explosions': 4745, 'desperation': 3542, 'adversary': 262, 'geez': 5543, 'cara': 1954, 'mord': 8601, 'sith': 12083, 'chilling': 2242, 'hendricks': 6179, 'heaviness': 6136, 'dreading': 4012, 'enmayi': 4436, 'granting': 5785, 'passions': 9624, 'discipline': 3731, 'infertility': 6759, 'counseling': 2936, 'menses': 8312, 'conversion': 2850, 'rounder': 11353, 'heights': 6156, 'prompt': 10413, 'convicted': 2853, 'prizes': 10340, 'getty': 5599, 'photographic': 9848, 'stray': 12784, 'predictably': 10223, 'ima': 6573, 'redundant': 10849, 'credential': 3041, 'recordings': 10826, 'presidency': 10269, 'synod': 13164, 'irreplaceable': 7015, 'idrc': 6538, 'violated': 14475, 'fron': 5407, 'traders': 13741, 'wonderland': 14945, 'battalion': 1124, 'dehydrated': 3415, 'girlie': 5634, 'chocolates': 2261, 'caribbean': 1987, 'diving': 3863, 'dive': 3856, 'carole': 1997, 'karaoke': 7297, 'bewertung': 1294, 'ifyouwanttoknow': 6544, 'smitten': 12232, 'eyelashes': 4790, 'tapped': 13236, 'snowglobe': 12290, 'mustered': 8762, 'christmassy': 2285, 'bloody': 1453, 'incessant': 6672, 'bitching': 1360, 'rammstein': 10673, 'soda': 12325, 'turbulently': 13928, 'container': 2791, 'exchanging': 4651, 'thirteen': 13479, 'shishido': 11915, 'senpai': 11740, 'nauseas': 8846, 'gently': 5573, 'magnificent': 8020, 'creatures': 3039, 'clams': 2333, 'prawns': 10200, 'shark': 11857, 'fins': 5068, 'lethal': 7677, 'overdose': 9425, 'supreme': 13043, 'ect': 4198, 'naps': 8818, 'mollusk': 8543, 'stabbed': 12599, 'solopgangfor': 12351, 'barnog': 1090, 'unconsciously': 14046, 'recite': 10803, 'shiftless': 11898, 'browse': 1721, 'dart': 3265, 'exhibit': 4682, 'joked': 7194, 'undressing': 14088, 'inspite': 6856, 'combinations': 2518, 'yogurt': 15114, 'trudgers': 13877, 'glance': 5652, 'robins': 11293, 'egg': 4246, 'ig': 6545, 'lore': 7899, 'cartoonish': 2011, 'vocalize': 14514, 'perfumes': 9750, 'alignment': 405, 'snooped': 12280, 'strengthen': 12792, 'divas': 3855, 'wrestlers': 15014, 'accrue': 125, 'barista': 1086, 'psychopath': 10493, 'titles': 13610, 'forcing': 5259, 'carbs': 1958, 'addictive': 195, 'laurie': 7559, 'structures': 12838, 'artefacts': 750, 'locomotive': 7846, 'atrocious': 872, 'colleague': 2487, 'babe': 988, 'peaches': 9679, 'pickle': 9871, 'hurricanes': 6472, 'storms': 12757, 'marilyn': 8128, 'fame': 4849, 'directionless': 3694, 'adulthood': 251, 'artificially': 758, 'def': 3381, 'cure': 3155, 'ripe': 11257, 'multiband': 8714, 'effectual': 4231, 'asami': 774, 'muttered': 8764, 'violin': 14480, 'plunge': 10023, 'icy': 6517, 'vocab': 14511, 'poetic': 10041, 'springpad': 12563, 'abdominal': 44, 'fathers': 4896, 'convoluted': 2857, 'tom': 13643, 'duality': 4076, 'upright': 14275, 'manifestation': 8086, 'fulfillment': 5441, 'protagonist': 10440, 'curveballs': 3174, 'tattoo': 13260, 'peggy': 9705, 'mara': 8111, 'disdainful': 3760, 'babysat': 994, 'blinded': 1416, 'examining': 4630, 'dimple': 3674, 'thigh': 13465, 'sag': 11443, 'serendipity': 11773, 'collide': 2496, 'slacker': 12135, 'mcslackerson': 8229, 'endorphin': 4403, 'seizing': 11709, 'trillion': 13850, 'premonition': 10245, 'dewi': 3609, 'lestari': 7673, 'metaphors': 8355, 'patent': 9635, 'metallic': 8351, 'clutch': 2431, 'ugliest': 13992, 'dayummm': 3297, 'inspire': 6852, 'synthwave': 13167, 'neds': 8868, 'atomic': 869, 'dustbin': 4123, 'candy': 1922, 'posies': 10126, 'pixies': 9952, 'james': 7099, 'springhouse': 12562, 'morrissey': 8618, 'incision': 6681, 'neuropathy': 8925, 'residual': 11090, 'unproductive': 14192, 'exposures': 4752, 'crudely': 3101, 'ancients': 523, 'sacrifices': 11438, 'zooming': 15173, 'trinity': 13854, 'tuxedos': 13944, 'cufflinks': 3136, 'drowned': 4059, 'aspire': 800, 'somethign': 12369, 'passage': 9610, 'disciples': 3730, 'ayumi': 982, 'edits': 4211, 'strollers': 12827, 'stroller': 12826, 'bodys': 1503, 'aging': 326, 'constrained': 2764, 'extrovert': 4782, 'digg': 3660, '2rs': 19, 'sooooooooooo': 12395, 'aligncenter': 404, 'wp': 15007, 'mrdanbaird': 8683, 'tumor': 13922, 'amiss': 483, 'jareths': 7113, 'labyrinth': 7477, 'achievements': 144, 'righteous': 11234, 'consoled': 2754, 'digust': 3666, 'permission': 9764, 'buns': 1794, 'reveling': 11182, 'nuh': 9100, 'ballroom': 1047, 'va': 14330, 'prandi': 10197, 'npr': 9089, 'motherland': 8632, 'bittersweet': 1371, 'tape': 13235, 'masterpiece': 8178, 'giardina': 5611, 'sandblog': 11480, 'craftisan': 2992, 'muffled': 8703, 'hideakis': 6221, 'forcefully': 5257, 'daiki': 3218, 'amusement': 504, 'knitters': 7423, 'olympians': 9243, 'darlings': 3261, 'hugh': 6430, 'aka': 367, 'sarcoidosis': 11497, 'gyp': 5919, 'opens': 9284, 'iced': 6512, 'capp': 1944, 'endorphins': 4404, 'hyphen': 6498, 'courtney': 2963, 'hows': 6412, 'affirmation': 290, 'slug': 12194, 'vented': 14402, 'unstable': 14222, 'pastor': 9631, 'glaring': 5658, 'inexperience': 6750, 'spitak': 12512, 'shouting': 11964, 'lotta': 7912, 'heinous': 6159, 'insular': 6876, 'minuscule': 8446, 'xviith': 15064, 'strick': 12807, 'van': 14353, 'den': 3458, 'velde': 14390, 'wince': 14857, 'tightness': 13568, 'opted': 9307, 'hiit': 6234, 'interval': 6941, 'sms': 12246, 'communication': 2568, 'bookstores': 1545, 'believ': 1221, 'beers': 1184, 'unexpectedly': 14105, 'aiw': 365, 'alice': 400, 'haunts': 6066, 'phantomwise': 9824, 'apologetic': 634, 'drivel': 4043, 'advertises': 268, 'stupendous': 12873, 'incredulity': 6709, 'harshly': 6037, 'kills': 7375, 'ghost': 5607, 'debacle': 3321, 'josh': 7212, 'shubhi': 11983, 'feb': 4925, 'juliannas': 7250, 'resonates': 11104, 'exists': 4697, 'snooty': 12282, 'gauche': 5529, 'cruise': 3104, 'expressway': 4759, 'munch': 8728, 'knotted': 7430, 'hyena': 6487, 'platonic': 9984, 'zoned': 15169, 'dated': 3275, 'synchronicity': 13162, 'lite': 7801, 'reali': 10755, 'afrade': 302, 'swarming': 13105, 'rejuvenate': 10927, 'therell': 13449, 'wallow': 14579, 'blaming': 1391, 'punishing': 10535, 'moonlighting': 8589, 'drill': 4033, 'desserts': 3549, 'unencumberedness': 14101, 'exhilaration': 4688, 'opis': 9293, 'sashy': 11501, 'purple': 10549, 'lavander': 7561, 'mesmerism': 8339, 'zest': 15157, 'bipolar': 1343, 'casablanca': 2014, 'vinnie': 14473, 'kompany': 7445, 'joleon': 7197, 'kolo': 7443, 'toure': 13712, 'innovative': 6815, 'overpower': 9438, 'shrouded': 11981, 'flaccid': 5100, 'penis': 9716, 'colic': 2480, 'imma': 6590, 'exclaim': 4657, 'positivity': 10132, 'personifying': 9788, 'progeny': 10385, 'genuflecting': 5575, 'unjust': 14162, 'snippy': 12277, 'tracks': 13735, 'momentum': 8550, 'frailties': 5330, 'isolating': 7043, 'titanic': 13605, 'pinned': 9924, 'inferiority': 6757, 'pumpin': 10525, 'undeserving': 14081, 'variations': 14362, 'wage': 14553, 'inept': 6744, 'tax': 13263, 'payers': 9666, 'bungling': 1787, 'erm': 4517, 'naega': 8786, 'deo': 3474, 'apaya': 629, 'hae': 5932, 'dasi': 3270, 'neol': 8900, 'chajeul': 2123, 'itge': 7062, 'sigani': 12010, 'heureulsurok': 6211, 'gaseumi': 5516, 'apawa': 628, 'hanbeon': 5964, 'manirado': 8094, 'wo': 14923, 'doedollil': 3892, 'suman': 12981, 'itdamyeon': 7058, 'gotong': 5738, 'ttawin': 13904, 'naegen': 8787, 'fightstar': 5013, 'catchy': 2038, 'preformed': 10234, 'fantastically': 4869, 'ceramics': 2103, 'repairment': 11021, 'atelier': 847, 'artisans': 760, 'patrimony': 9646, 'specialized': 12462, 'primitive': 10316, 'antiquities': 598, 'ashtray': 787, 'divert': 3860, 'monthe': 8581, 'flirt': 5158, 'identifying': 6528, 'striking': 12814, 'biking': 1323, 'tulip': 13919, '0hana': 5, 'hyped': 6491, 'diners': 3677, 'hype': 6490, 'oppies': 9295, 'ethics': 4556, 'desolation': 3536, 'consolation': 2752, 'sasha': 11500, 'beyonc': 1296, 'label': 7470, 'seal': 11654, 'akin': 368, 'hitler': 6265, 'lawless': 7565, 'innuendo': 6816, 'picky': 9875, 'favorable': 4907, 'starters': 12642, 'bishan': 1354, 'fetch': 4980, 'filmic': 5033, 'orgy': 9342, 'depravity': 3490, 'blissfully': 1425, 'unaware': 14020, 'subsidization': 12917, 'looses': 7892, 'chip': 2252, 'heather': 6131, 'mills': 8409, 'settlement': 11802, 'separately': 11766, 'riding': 11232, 'recurring': 10837, 'inexcusable': 6749, 'bestial': 1282, 'macho': 8003, 'lagging': 7494, 'repeated': 11024, 'explanations': 4734, 'pleas': 10002, 'pins': 9928, 'gaze': 5534, 'wandered': 14589, 'botanical': 1569, 'tor': 13675, 'craved': 3010, 'footing': 5251, 'poseur': 10124, 'keiko': 7329, 'zoll': 15165, 'twitch': 13963, 'blissed': 1424, 'spotlight': 12549, 'craziest': 3018, 'weirdest': 14715, 'karin': 7302, 'conspiring': 2758, 'distortion': 3834, 'existent': 4695, 'sloughed': 12185, 'kathumped': 7311, 'enthusiasts': 4464, 'shells': 11880, 'therapi': 13442, 'skincare': 12116, 'packaging': 9491, 'luxe': 7983, 'retains': 11153, 'papermakeupstamps': 9559, 'overdo': 9422, 'welfare': 14722, 'nyc': 9125, 'alarm': 375, 'bass': 1111, 'shahzad': 11829, 'ismaily': 7036, 'wrinkle': 15018, 'prevention': 10297, 'vegetable': 14380, 'glycerin': 5690, 'learing': 7602, 'square': 12579, 'diktats': 3667, 'indonesia': 6733, 'gary': 5514, 'jeoffrey': 7142, 'eyo': 4796, 'dies': 3646, 'looming': 7885, 'deadlines': 3307, 'whales': 14746, 'seals': 11655, 'horned': 6371, 'owls': 9467, 'bout': 1595, 'introverted': 6963, 'cathy': 2049, 'wanders': 14592, 'techno': 13302, 'slander': 12139, 'snail': 12252, 'mucus': 8696, 'nokia': 9011, 'gp': 5747, 'suggesting': 12964, 'articulated': 754, 'katanya': 7309, 'ulysses': 14003, 'parted': 9591, 'speedy': 12478, 'filmmaker': 5034, 'conceiving': 2644, 'peasy': 9688, 'anipike': 555, 'fanfictions': 4864, 'belle': 1231, 'sebastian': 11669, 'idle': 6535, 'snowy': 12292, 'pine': 9914, 'destined': 3552, 'southern': 12433, 'unfolds': 14118, 'venturing': 14405, 'discriminated': 3753, 'nugget': 9099, 'serina': 11777, 'cleaner': 2357, 'tch': 13271, 'accessaries': 101, 'device': 3595, 'coaxed': 2444, 'reminding': 10996, 'gratuitously': 5797, 'nastily': 8827, 'homophobic': 6332, 'kinison': 7391, 'grounds': 5853, 'ax': 978, 'forked': 5285, 'tounges': 13710, 'mouths': 8667, 'indide': 6720, 'bereft': 1270, 'persistent': 9778, 'nothnig': 9063, 'someoen': 12365, 'lauging': 7552, 'kiddos': 7363, 'daniel': 3248, 'sweetheart': 13122, 'biggie': 1320, 'kevin': 7341, 'hart': 6039, 'wiz': 14920, 'khalifa': 7350, 'bu': 1737, 'thaim': 13400, 'jay': 7120, 'outweighs': 9407, 'lurker': 7979, 'demos': 3454, 'communal': 2564, 'vendor': 14394, 'trusty': 13891, 'memorable': 8300, 'squint': 12587, 'magnifying': 8021, 'dictionary': 3639, 'wrecking': 15012, 'eyesight': 4795, 'quixote': 10624, 'blinding': 1417, 'windmill': 14860, 'eventual': 4587, 'outings': 9387, 'residents': 11089, 'lin': 7760, 'chubby': 2290, 'diminish': 3672, 'ocd': 9181, 'insulting': 6879, 'managers': 8073, 'informal': 6773, 'collecting': 2490, 'strict': 12808, 'torment': 13677, 'korea': 7448, 'kj': 7407, 'middot': 8379, 'vanquished': 14356, 'mooshilu': 8591, 'nylons': 9126, 'weeded': 14693, 'victoria': 14444, 'rubies': 11375, 'professionalism': 10374, 'boiling': 1510, 'imperturbable': 6614, 'cataclysmic': 2033, 'manufacturing': 8105, 'finance': 5044, 'ollie': 9242, 'legions': 7635, 'indy': 6742, 'careers': 1972, 'founder': 5314, 'poverty': 10172, 'clots': 2413, 'resolutions': 11098, 'clint': 2391, 'fund': 5453, 'drawings': 4006, 'fetish': 4982, 'projection': 10401, 'repression': 11053, 'wising': 14897, 'womens': 14937, 'befc': 1187, 'giraffes': 5630, 'majestic': 8039, 'appealing': 648, 'household': 6404, 'creates': 3027, 'descriptive': 3517, 'stillness': 12715, 'shyness': 11991, 'aloof': 437, 'analyzing': 517, 'smirking': 12230, 'wherefore': 14763, 'ableness': 53, 'indulgent': 6739, 'gmc': 5692, 'denali': 3459, 'conquering': 2725, 'explorable': 4739, 'ungodly': 14127, 'approve': 683, 'disapprove': 3717, 'yesubais': 15103, 'professionally': 10375, 'smother': 12244, 'misrepresented': 8473, 'acco': 109, 'nahariya': 8791, 'hogmanay': 6287, 'capability': 1938, 'stride': 12810, 'nonstop': 9025, 'maintained': 8037, 'outset': 9398, 'mccanns': 8222, 'disappearance': 3711, 'sci': 11591, 'stuffy': 12864, 'congested': 2704, 'thrill': 13511, 'velocity': 14392, 'picoult': 9878, 'sporkgasm': 12541, 'backstage': 1012, 'phenomenal': 9828, 'travesty': 13803, 'drivers': 4046, 'bobby': 1493, 'melodramatically': 8288, 'taco': 13183, 'ade': 207, 'dakota': 3223, 'hiatus': 6215, 'reaffirmed': 10752, 'inclusive': 6689, 'chemotherapy': 2214, 'pinching': 9913, 'niggles': 8972, 'poaching': 10033, 'agtalk': 337, 'krem': 7452, 'ye': 15081, 'tget': 13392, 'continent': 2811, 'messes': 8345, 'rightfully': 11237, 'albums': 383, 'lyric': 7992, 'imbicilic': 6585, 'smartest': 12214, 'elizabeth': 4288, 'unbelievable': 14023, 'shouted': 11963, 'undeveloped': 14083, 'cools': 2868, 'oranges': 9316, 'fools': 5246, 'extensive': 4766, 'ping': 9918, 'endings': 4400, 'devote': 3602, 'atrophies': 873, 'muas': 8691, 'declined': 3355, 'rlsh': 11277, 'gimmick': 5625, 'lacked': 7480, 'eco': 4191, 'charts': 2170, 'drew': 4027, 'focalors': 5213, 'sigil': 12017, 'opium': 9294, 'incense': 6670, 'wooden': 14950, 'smack': 12207, 'divinity': 3864, 'sizzler': 12098, 'rv': 11421, 'dinette': 3678, 'driveway': 4048, 'trembly': 13822, 'scores': 11609, 'expanding': 4703, 'heavily': 6135, 'johnson': 7185, 'pi': 9863, 'ata': 844, 'spewing': 12490, 'kristie': 7456, 'colby': 2474, 'reshaped': 11085, 'pressuring': 10277, 'jhbdjhdfbjdfhbfd': 7159, 'upbringing': 14256, 'contradicts': 2829, 'notion': 9073, 'cocky': 2449, 'alhamdulillah': 397, 'breastfeeding': 1658, 'hoops': 6353, 'enable': 4373, 'befuddled': 1192, 'bengals': 1261, 'degrassi': 3412, 'weep': 14701, 'oftentimes': 9220, 'coasted': 2440, 'tangle': 13224, 'stewing': 12703, 'urgent': 14288, 'stalker': 12616, 'receivers': 10792, 'steamy': 12679, 'strangling': 12776, 'bastards': 1113, 'banging': 1062, 'boats': 1490, 'syaing': 13149, 'wisely': 14890, 'milly': 8410, 'concieve': 2657, 'sexuality': 11817, 'logo': 7857, 'inadvertently': 6660, 'smidgen': 12223, 'negligible': 8889, 'blip': 1422, 'benched': 1250, 'disappointments': 3716, 'injuring': 6805, 'sizes': 12097, 'melty': 8295, 'energetically': 4415, 'spoke': 12529, 'atlephobia': 864, 'returns': 11168, 'mail': 8027, 'jasons': 7116, 'employer': 4355, 'discontinued': 3744, 'integral': 6885, 'theif': 13424, 'copper': 2883, 'pipes': 9934, 'contemplated': 2797, 'flowed': 5188, 'outward': 9405, 'instinctively': 6867, 'passer': 9616, 'sausage': 11523, 'nw': 9123, 'skinnies': 12119, 'cumbersome': 3147, 'additionally': 201, 'clumsiness': 2427, 'muses': 8744, 'knocking': 7426, 'victorian': 14445, 'niece': 8968, 'woah': 14924, 'phyica': 9857, 'owl': 9466, 'jigsaw': 7162, 'clich': 2374, 'smirk': 12229, 'outlook': 9390, 'adores': 243, 'derbyshire': 3504, 'county': 2950, 'borders': 1555, 'suburbs': 12925, 'midwest': 8384, 'heimbuch': 6157, 'midwestern': 8385, 'manly': 8098, 'pointing': 10046, 'gaming': 5499, 'actauly': 163, 'storage': 12749, 'saved': 11526, 'willis': 14850, 'flick': 5146, 'monkeys': 8571, 'shack': 11822, 'follicles': 5230, 'beluga': 1245, 'embarassing': 4306, 'seeps': 11703, 'formation': 5290, 'tec': 13296, 'parishes': 9582, 'percieves': 9736, 'albuquerque': 384, 'preferred': 10232, 'earthly': 4161, 'sufficiently': 12956, 'haircute': 5944, 'athlete': 856, 'jonti': 7209, 'valorized': 14346, 'developers': 3590, 'cig': 2302, 'colomn': 2500, 'conservatish': 2737, 'tha': 13396, 'bfs': 1302, 'unwell': 14246, 'sheets': 11877, 'reuse': 11171, 'scrap': 11617, 'ashton': 786, 'isaac': 7029, 'irritation': 7026, 'organized': 9336, 'indulged': 6737, 'lovin': 7926, 'cafeteria': 1863, 'pocketbooks': 10035, 'antm': 600, 'beam': 1148, 'metres': 8362, 'materialise': 8188, 'pas': 9608, 'metals': 8352, 'sector': 11681, 'volume': 14524, 'oversharing': 9447, 'zach': 15143, 'orgasmic': 9341, 'envelops': 4481, 'brokeup': 1704, 'schoolgirl': 11588, 'utopia': 14320, 'spoonful': 12539, 'innanimate': 6810, 'carpet': 1999, 'zenden': 15153, 'boston': 1568, 'reuters': 11172, 'dutch': 4125, 'kidnapper': 7366, 'magnate': 8019, 'freddy': 5358, 'heineken': 6158, 'injured': 6803, 'assault': 803, 'devoting': 3606, 'retribution': 11162, 'incentives': 6671, 'regrets': 10907, 'premonitions': 10246, 'cheese': 2205, 'cindy': 2306, 'atticus': 893, 'ttc': 13905, 'programmed': 10388, 'koyama': 7451, 'jene': 7137, 'braved': 1642, 'poorly': 10094, 'crochet': 3078, 'glands': 5656, 'swollen': 13143, 'bug': 1758, 'stone': 12739, 'cm': 2435, 'thickness': 13463, 'slats': 12145, 'mattress': 8205, 'unsurprisingly': 14231, 'bob': 1491, 'relented': 10952, 'corrected': 2905, 'angled': 542, 'sweep': 13119, 'hollows': 6305, 'chin': 2244, 'daisies': 3221, 'solitary': 12346, 'krista': 7454, 'putter': 10571, 'kubricks': 7458, 'ediebloom': 4204, 'ibs': 6509, 'bowel': 1599, 'unreasonably': 14201, 'idiosyncrasies': 6531, 'diversified': 3858, 'enchanted': 4381, 'inclinations': 6683, 'shire': 11911, 'reunited': 11169, 'placement': 9957, 'yearnings': 15090, 'misjudged': 8468, 'unsuspecting': 14232, 'oneself': 9260, 'bowling': 1604, 'texting': 13389, 'facilitating': 4810, 'societies': 12319, 'blogoversary': 1442, 'lightheaded': 7728, 'clumps': 2426, 'homeschooled': 6323, 'freelance': 5363, 'deity': 3416, 'intrusive': 6966, 'offset': 9216, 'forays': 5254, 'unacceptable': 14011, 'cursing': 3171, 'omitted': 9252, 'questionable': 10601, 'nyps': 9127, 'webpage': 14687, 'crutches': 3120, 'disconnect': 3738, 'marlon': 8138, 'brando': 1636, 'ferocious': 4969, 'bradbury': 1620, 'ipad': 6997, 'ugg': 13988, 'lightweight': 7736, 'payday': 9665, 'loans': 7830, 'monthly': 8582, 'narrowed': 8824, 'babys': 993, 'logically': 7855, 'spectator': 12472, 'assumption': 834, 'functioning': 5451, 'midori': 8381, 'getaway': 5595, 'doorway': 3935, 'cruelty': 3103, 'azul': 984, 'doodle': 3925, 'pac': 9481, 'perils': 9753, 'deranged': 3502, 'villian': 14466, 'schalm': 11576, 'radical': 10650, 'embarked': 4309, 'mislead': 8469, 'woes': 14929, 'meditative': 8269, 'pam': 9537, 'grotesque': 5848, 'unrealistic': 14197, 'cal': 1873, 'pear': 9683, 'blueberry': 1471, 'harrassment': 6034, 'implications': 6619, 'microsoft': 8375, 'glitches': 5672, 'panorma': 9549, 'superbike': 13003, 'cbs': 2066, 'sportsline': 12545, 'irl': 7005, 'expands': 4704, 'kiddy': 7364, 'communicator': 2570, 'quitter': 10620, 'morrow': 8619, 'runnin': 11401, 'bein': 1215, 'confined': 2688, 'stic': 12705, 'dangle': 3247, 'tgirl': 13393, 'whoever': 14802, 'ignorantly': 6552, 'convenient': 2841, 'paralysis': 9569, 'barking': 1088, 'squirrels': 12589, 'owning': 9473, 'spread': 12556, 'wets': 14739, 'flames': 5109, 'singed': 12056, 'frail': 5329, 'patch': 9634, 'birthed': 1350, 'catapulted': 2035, 'filtered': 5037, 'chart': 2169, 'workplace': 14973, 'kuya': 7465, 'buddy': 1749, 'angee': 536, 'homemade': 6317, 'tugging': 13916, 'fluffed': 5195, 'ruining': 11390, 'cbc': 2065, 'jazzyboy': 7124, 'fucker': 5429, 'lowests': 7933, 'zap': 15147, 'standouts': 12627, 'feist': 4953, 'performer': 9746, 'lawyer': 7569, 'shits': 11917, 'tested': 13379, 'effectiveness': 4229, 'methods': 8359, 'snare': 12262, 'trusts': 13889, 'sd': 11649, 'fridays': 5386, '1fully': 10, 'illegitimate': 6560, 'flop': 5174, 'bouncier': 1588, 'midcentury': 8377, 'paired': 9521, 'dresser': 4024, 'battled': 1130, 'whelming': 14757, 'belts': 1244, 'tightened': 13565, 'eradication': 4512, 'envision': 4487, 'splash': 12517, 'nearby': 8856, 'commodities': 2559, 'frosty': 5411, 'cube': 3128, 'bloated': 1428, 'fraud': 5346, 'abducted': 45, 'hinterlands': 6250, 'gaige': 5482, 'bind': 1329, 'scraped': 11619, 'nook': 9028, 'cranny': 3002, 'morsels': 8621, 'coping': 2881, 'resident': 11087, 'vacancy': 14331, 'sciatica': 11592, 'swinging': 13136, 'brakes': 1630, 'pedals': 9690, 'heir': 6161, 'wills': 14851, 'normative': 9042, 'blogosphere': 1441, 'realizes': 10767, 'crol': 3081, 'tl': 13612, 'skews': 12106, 'encourages': 4392, 'grits': 5839, 'polenta': 10061, 'convos': 2858, 'updating': 14260, 'broad': 1698, 'categorie': 2039, 'theater': 13421, 'imping': 6615, 'distraction': 3838, 'hook': 6349, 'unsurprising': 14230, 'poems': 10039, 'activist': 172, 'abide': 48, 'exercises': 4672, 'rewarding': 11204, 'exuberance': 4783, 'latex': 7540, 'hungover': 6464, 'marketplace': 8133, 'sycf': 13150, 'minority': 8443, 'indie': 6721, 'sorted': 12414, 'edmontonians': 4213, 'scandalous': 11548, 'swimwear': 13133, 'jazz': 7122, 'crowed': 3095, 'morsel': 8620, 'appease': 657, 'audie': 909, 'mona': 8557, 'multiplied': 8718, 'abated': 40, 'vegetarian': 14381, 'eater': 4176, 'coworker': 2975, 'mails': 8031, 'andintrupte': 527, 'trad': 13738, 'slave': 12146, 'bagan': 1025, 'nakedness': 8801, 'recovering': 10832, 'umlungu': 14006, 'hahahahahha': 5938, 'capabilities': 1937, 'ingredient': 6787, 'screenshots': 11631, 'carefully': 1976, 'knots': 7429, 'variation': 14361, 'accessibility': 102, 'warfighter': 14607, 'marveling': 8154, 'waterside': 14650, 'ranging': 10684, 'brooding': 1707, 'gnawing': 5693, 'forefoot': 5265, 'lateral': 7538, 'repaired': 11018, 'chalking': 2127, 'academia': 85, 'controlling': 2839, 'wary': 14628, 'risen': 11261, 'desolate': 3535, 'soundscapes': 12426, 'couples': 2953, 'detoxing': 3581, 'scarecrow': 11554, 'wizard': 14921, 'oz': 9478, 'drown': 4058, 'salt': 11460, 'batter': 1125, 'lard': 7523, 'throes': 13520, 'ownership': 9472, 'culturally': 3142, 'pegged': 9704, 'savouring': 11535, 'unbound': 14025, 'embossed': 4318, 'feather': 4919, 'orihime': 9350, 'imaginary': 6578, 'blunt': 1474, 'relation': 10936, 'dir': 3688, 'henypire': 6181, 'brassed': 1639, 'happenings': 5998, 'contention': 2804, 'header': 6089, 'blowjob': 1462, 'igniting': 6549, 'senegal': 11737, 'rejections': 10925, 'farafina': 4872, 'cassava': 2022, 'burdening': 1799, 'raise': 10668, 'weekly': 14698, 'modes': 8523, 'assaults': 805, 'rapes': 10693, 'pleading': 10001, 'pin': 9910, 'faults': 4903, 'nurtured': 9115, 'committing': 2557, 'transported': 13788, 'loreal': 7900, 'adn': 234, 'someobdy': 12364, 'rests': 11141, 'transcends': 13767, 'cinematic': 2308, 'awoken': 977, 'kindly': 7386, 'loki': 7858, 'survivor': 13077, 'florence': 5178, 'obeys': 9141, 'lunar': 7965, 'whims': 14774, 'papamoka': 9555, 'fahad': 4821, 'leaning': 7599, 'skeleton': 12103, 'everchanging': 4590, 'sailormoon': 11449, 'gateway': 5521, 'unsupported': 14228, 'avril': 952, 'lavigne': 7563, 'happiest': 6002, 'psych': 10482, 'defined': 3402, 'jayson': 7121, 'clicked': 2378, 'ken': 7333, 'arrives': 741, 'mensa': 8311, 'sharia': 11855, 'european': 4570, 'union': 14149, 'policy': 10065, 'glc': 5663, 'maddening': 8007, 'splurge': 12522, 'spur': 12570, 'hurling': 6470, 'epithets': 4500, 'immigrant': 6599, 'soooooooo': 12394, 'suffers': 12954, 'arrange': 732, 'rearrange': 10774, 'assemble': 806, 'interlochen': 6921, 'jonathan': 7204, 'incessantly': 6673, 'livevideo': 7818, 'ptk': 10498, 'convention': 2843, 'vey': 14429, 'oncology': 9256, 'dpt': 3977, 'paranoiud': 9573, 'nicest': 8959, 'kindest': 7385, 'katy': 7319, 'perry': 9771, 'comfident': 2530, 'cheerfull': 2200, 'loosing': 7893, 'tigger': 13562, 'wendy': 14726, 'alexa': 392, 'glare': 5657, 'directed': 3691, 'perspectives': 9792, 'exchanged': 4650, '4ing': 24, 'iv': 7069, 'mouse': 8661, 'tripped': 13858, 'vigorously': 14463, 'signing': 12024, 'oriented': 9343, 'pursuit': 10557, 'hyundai': 6503, 'tucson': 13912, 'savor': 11532, 'mistreatment': 8492, 'lurk': 7978, 'theo': 13433, 'eli': 4283, 'skillz': 12113, 'rebuilding': 10787, 'satans': 11508, 'fingernails': 5057, 'rudley': 11380, 'distinction': 3831, 'blurred': 1476, 'bumbed': 1776, 'strained': 12769, 'manifestations': 8087, 'sculpt': 11646, 'brewing': 1672, 'mystical': 8777, 'culmination': 3138, 'dancefloor': 3240, 'tempo': 13336, 'humming': 6451, 'targeting': 13240, 'developer': 3589, 'burns': 1815, 'ecology': 4192, 'joe': 7175, 'prosperous': 10438, 'photographing': 9850, 'radiates': 10647, 'in2': 6652, 'sean': 11658, 'faris': 4876, 'sleepover': 12152, 'scavenger': 11565, 'subsiding': 12916, 'grazed': 5802, 'imporant': 6623, 'vermont': 14416, 'farther': 4878, 'tabloids': 13178, 'comedic': 2526, 'alva': 459, 'suuuper': 13092, 'stinging': 12721, 'nipples': 8993, 'donation': 3914, 'slew': 12158, 'announcements': 567, 'agreeing': 335, 'fitch': 5087, 'mihm': 8391, 'kyuhyun': 7467, 'apgujeong': 632, 'hyunjin': 6504, 'breathed': 1661, 'sceptical': 11573, 'mopping': 8594, 'boast': 1487, 'india': 6716, 'gracefully': 5754, 'humbly': 6444, 'rubble': 11374, 'deborah': 3325, 'lippmann': 7779, 'staining': 12612, 'exceedingly': 4635, 'ws': 15039, 'modified': 8525, 'peachy': 9680, 'jelly': 7136, 'sation': 11510, 'byte': 1854, 'dotting': 3948, 'pursued': 10555, 'submit': 12906, 'proposals': 10427, 'crop': 3083, 'biofuels': 1338, 'fossil': 5307, 'peril': 9752, 'unwashed': 14244, 'bomb': 1516, 'drier': 4030, 'mascaras': 8163, 'addisons': 198, 'revision': 11195, 'prompting': 10415, 'ampatuan': 497, 'odor': 9191, 'glowy': 5685, 'afaerytaleinmakebelieve': 276, 'marvel': 8153, 'salvaging': 11466, 'bbq': 1138, 'gutted': 5912, 'halls': 5956, 'residence': 11086, 'powell': 10174, 'clan': 2334, 'colombians': 2499, 'gringa': 5833, 'el': 4260, 'amparo': 496, 'reckoned': 10807, 'inquired': 6819, 'creeped': 3047, 'softer': 12331, 'eurodancemix': 4568, 'fortitude': 5298, 'omegle': 9249, 'balloons': 1046, 'kiyoshi': 7406, 'impromptu': 6641, 'tampons': 13221, 'firs': 5078, 'ii': 6556, 'installment': 6858, 'globe': 5676, 'hairstye': 5946, 'disengaged': 3762, 'embedding': 4316, 'tsunami': 13902, 'prenatal': 10247, 'legtimately': 7643, 'hammered': 5960, 'pilates': 9894, 'katie': 7313, 'munching': 8729, 'craisins': 2993, 'thinker': 13472, 'jerald': 7143, 'rue': 11383, 'dianne': 3629, 'realisation': 10756, 'berk': 1271, 'stitch': 12730, 'repeating': 11026, 'lisas': 7788, 'shred': 11978, 'lt': 7941, 'folkeskole': 5227, 'lowdown': 7929, 'countering': 2943, 'aims': 355, 'provoke': 10471, 'ink': 6808, 'spilling': 12499, 'scim': 11598, 'makers': 8046, 'analysis': 514, 'sep': 11762, 'moribund': 8607, 'mingled': 8429, 'certainty': 2108, 'valid': 14342, 'complaint': 2607, 'subjective': 12897, 'mri': 8684, 'semipro': 11730, 'embarassed': 4305, 'sharply': 11863, 'fumes': 5448, 'progressively': 10396, 'wire': 14884, 'princess': 10319, 'sauntered': 11522, 'flickr': 5149, 'hatchet': 6051, 'apologizing': 639, 'skdd': 12100, 'regional': 10900, 'astonishment': 840, 'inauguration': 6664, 'maturestudenthanginginthere': 8208, 'miniscule': 8437, 'thumbnail': 13533, 'changeling': 2141, 'easygoing': 4173, 'scars': 11561, 'cutting': 3191, 'cabbage': 1857, 'venison': 14399, 'components': 2626, 'stew': 12701, 'pomegranate': 10081, 'seeds': 11689, 'oiliness': 9224, 'kali': 7290, 'ni': 8954, 'dah': 3217, 'bertukar': 1277, 'jadi': 7086, 'benci': 1252, 'bothersome': 1576, 'kenya': 7337, 'shiraishi': 11910, 'reflective': 10872, 'punctures': 10532, 'tyres': 13982, 'mediate': 8256, 'condone': 2672, 'revalidation': 11173, 'portfolio': 10111, 'jerry': 7149, 'hun': 6458, 'cello': 2087, 'glories': 5680, 'hath': 6057, 'constructivism': 2770, 'solomon': 12349, 'affiliate': 288, 'humble': 6441, 'neil': 8895, 'odonnell': 9190, 'interceptions': 6913, 'pittsburgh': 9950, 'chivalry': 2257, 'magnanimity': 8018, 'pesach': 9804, 'ethnic': 4558, 'flowy': 5192, 'jingly': 7169, 'royal': 11362, 'ars': 746, 'nes': 8915, 'croatians': 3077, 'moist': 8533, 'stuffings': 12862, 'ahhh': 343, 'shopper': 11938, 'potted': 10161, 'fuchsia': 5426, 'cuttings': 3192, 'unfairly': 14108, 'supervisions': 13018, 'heroic': 6196, 'humiliating': 6449, 'guffaw': 5882, 'flooding': 5169, 'unconcern': 14042, 'automatically': 936, 'trope': 13867, 'minimize': 8435, 'pricked': 10305, 'complications': 2621, 'bound': 1591, 'flogger': 5167, '4lessness': 26, 'tribal': 13837, 'wheels': 14756, 'medications': 8262, 'wisconsin': 14887, 'bugging': 1759, 'insyallah': 6881, 'sublimed': 12900, 'deprive': 3498, 'cracking': 2987, 'fullbright': 5443, 'reference': 10862, 'rereading': 11072, 'portraying': 10118, 'pacified': 9485, 'coordinate': 2874, 'selfless': 11721, 'gospel': 5735, 'holes': 6295, 'northern': 9045, 'saskatchewan': 11502, 'truck': 13876, 'buffalo': 1754, 'sauce': 11518, 'med': 8253, 'drip': 4039, 'widow': 14824, 'poked': 10055, 'newspaper': 8945, 'ridgerunner': 11228, 'solberg': 12336, 'lightsync': 7735, 'mistresses': 8494, 'blouse': 1459, 'jumper': 7258, 'spiked': 12496, 'warsaw': 14627, 'nutshell': 9121, 'rabbit': 10629, 'emillionstars': 4329, 'soothes': 12399, '0istic': 6, 'opinons': 9292, 'restlessness': 11132, 'listing': 7797, 'haunt': 6065, 'videotape': 14450, 'naman': 8803, 'na': 8783, 'recommending': 10820, 'marshal': 8146, 'glenn': 5666, 'unwilling': 14247, 'shameful': 11841, 'revelations': 11181, 'allegation': 411, 'untalented': 14233, 'scored': 11608, 'handrail': 5979, 'basement': 1101, 'grumbling': 5867, 'organise': 9331, 'gauge': 5530, 'flogged': 5166, 'pierced': 9888, 'folded': 5223, 'mines': 8427, 'dip': 3686, 'defiled': 3398, 'ski': 12107, 'slope': 12178, 'mulligans': 8711, 'traction': 13736, 'denise': 3463, 'annual': 574, 'outbreak': 9373, 'ptpt': 10500, 'te': 13273, 'pouhere': 10164, 'mistaken': 8488, 'normalcy': 9039, 'wearers': 14673, 'flexible': 5143, 'toddlers': 13626, 'prestigious': 10280, 'unclear': 14035, 'joel': 7176, 'musing': 8756, 'scrubbed': 11641, 'slum': 12198, 'huddled': 6424, 'masses': 8172, 'cousins': 2965, 'congregated': 2709, 'rhinebeck': 11210, 'percolated': 9737, 'synonym': 13165, 'homemaker': 6318, 'edmonton': 4212, 'dodging': 3891, 'seedy': 11690, 'ducts': 4087, 'deepest': 3377, 'permanenter': 9760, 'zum': 15177, 'eintrag': 4258, 'mediation': 8257, 'delay': 3420, 'funk': 5460, 'prematurely': 10243, 'manifest': 8085, 'tactic': 13185, 'multiplication': 8717, 'tremus': 13826, 'solves': 12357, 'surmountable': 13059, 'brittneys': 1696, 'amped': 498, 'peppermint': 9726, 'patties': 9653, 'breakup': 1655, 'runneth': 11400, 'improvising': 6648, 'omangy': 9246, 'heung': 6210, 'fuzzy': 5475, 'clash': 2341, 'laconic': 7484, 'polished': 10067, 'hogging': 6286, 'interrupt': 6937, 'deliberate': 3425, 'hercules': 6187, 'voicesfromkrypton': 14519, 'paulie': 9655, 'correctly': 2907, 'bezos': 1298, 'grant': 5783, 'plots': 10017, 'chorus': 2274, 'outro': 9396, 'aforementioned': 299, 'schmidt': 11586, 'esily': 4530, 'airritated': 363, 'converse': 2848, 'gears': 5538, 'forums': 5304, 'dnt': 3876, 'yu': 15137, 'fr': 5322, 'knwing': 7441, 'nthing': 9090, 'plastikan': 9978, 'makeover': 8044, 'roslin': 11340, 'acause': 89, 'caps': 1945, 'lightmeter': 7731, 'processes': 10353, 'existence': 4694, 'godly': 5703, 'jamba': 7098, 'frappucino': 5344, 'reckon': 10806, 'downtime': 3970, 'teresa': 13360, 'bottling': 1578, 'unforgettable': 14120, 'epiphany': 4497, 'expansiveperspective': 4707, 'walter': 14586, 'eastern': 4171, 'devastation': 3586, 'danny': 3251, 'stalk': 12615, 'erica': 4515, 'willed': 14844, 'tx': 13970, 'sassiness': 11503, 'javascript': 7117, 'membres': 8298, 'tones': 13656, 'recless': 10808, 'mamma': 8063, 'headlock': 6093, 'whooooos': 14811, 'whooooooooos': 14810, 'whooooo': 14809, 'craaaaaaack': 2981, 'ensigns': 4445, 'camper': 1907, 'stinking': 12723, 'noisiest': 9009, 'atoshealthcare': 871, 'represented': 11048, 'paraphrase': 9574, 'ranted': 10688, 'revulsion': 11201, 'elicits': 4284, 'fascination': 4881, 'eats': 4180, 'trite': 13861, 'flourishes': 5185, 'bartender': 1097, 'kx': 7466, 'forks': 5286, 'disc': 3725, 'lowering': 7931, 'paypal': 9669, 'chinas': 2246, 'copyright': 2890, 'violations': 14476, 'machiavellian': 7999, 'temptations': 13340, 'announcing': 568, 'lens': 7658, 'witted': 14917, 'alleys': 417, 'gentrified': 5574, 'ghettos': 5605, 'muffin': 8702, 'draws': 4008, 'nerd': 8906, 'chukey': 2293, 'inapporpriate': 6662, 'fergie': 4968, 'coffin': 2459, 'downwards': 3973, 'fluid': 5197, 'riders': 11226, 'scientific': 11595, 'playhousecomm': 9992, 'executed': 4664, 'topping': 13673, 'olivia': 9240, 'adhere': 211, 'unintelligent': 14145, 'memoir': 8299, 'surviving': 13076, 'elections': 4271, 'holli': 6302, 'reese': 10854, 'tease': 13292, 'witnesed': 14913, 'coiled': 2468, 'springs': 12564, 'submissions': 12904, 'conforming': 2695, 'rockers': 11298, 'buffs': 1756, 'agencies': 317, 'demoralized': 3453, 'beirut': 1218, 'distaste': 3828, 'mounts': 8657, 'saves': 11527, 'godaddy': 5699, 'privellege': 10335, 'domain': 3907, 'vehemently': 14385, 'oppose': 9299, 'shoved': 11966, 'elvive': 4299, 'strayed': 12785, 'sls': 12193, 'dim': 3670, 'sinai': 12050, 'sheep': 11873, 'bewildered': 1295, 'amd': 475, 'undiscovered': 14084, 'mega': 8277, 'clingy': 2387, 'todayyy': 13622, 'habitual': 5925, 'wh': 14742, 'initiation': 6800, 'inconsequential': 6695, 'illicit': 6561, 'ungraciously': 14128, 'bomber': 1519, 'convoy': 2859, 'haulers': 6064, 'zine': 15163, 'root': 11333, 'developments': 3593, 'sience': 12006, 'feminism': 4964, 'bauer': 1133, 'proclaims': 10358, 'unconvinced': 14049, 'venus': 14407, 'swell': 13126, 'quiver': 10622, 'smugly': 12248, 'textiles': 13388, 'appts': 687, 'confirming': 2691, 'acker': 149, 'recognise': 10810, 'drunken': 4068, 'agility': 325, 'pester': 9807, 'srcurl': 12593, 'draftbloger': 3980, 'lsd': 7940, 'chemist': 2211, 'shroomery': 11980, 'smarty': 12215, 'templates': 13333, 'cherry': 2218, 'placing': 9959, 'dubied': 4079, 'dampening': 3236, 'sentinel': 11759, 'hanford': 5984, 'councilman': 2934, 'chins': 2251, 'proposed': 10428, 'committee': 2556, 'summed': 12983, 'justly': 7278, 'wristwatch': 15021, 'judgement': 7236, 'homophobia': 6331, 'mend': 8308, 'burgeoning': 1803, 'therapists': 13444, 'indian': 6717, 'cricket': 3056, 'sri': 12594, 'lankas': 7515, 'flatmate': 5122, 'ours': 9370, 'imprinted': 6640, 'vibrates': 14435, 'shoudlnt': 11954, 'jacksonville': 7081, 'seminar': 11729, 'inadequacies': 6657, 'linklater': 7772, 'confidential': 2687, 'intermediaries': 6923, 'pollicino': 10076, 'mourn': 8658, 'overeat': 9426, 'piddi': 9883, 'floats': 5164, 'eurgh': 4567, 'scouts': 11615, 'pinewood': 9917, 'cleat': 2368, 'duct': 4086, 'smoked': 12234, 'flooring': 5172, 'cox': 2977, 'liv': 7809, 'pail': 9507, 'tommy': 13648, 'candles': 1921, 'flashlight': 5119, 'ashers': 782, 'beds': 1177, 'distill': 3829, 'mull': 8710, 'complexities': 2618, 'objective': 9143, 'tantric': 13231, 'pry': 10478, 'reconciled': 10822, 'natures': 8842, 'partaking': 9590, 'feast': 4916, 'litte': 7806, 'carping': 2000, 'cheek': 2195, 'extremly': 4781, 'spends': 12487, 'setups': 11804, 'ffxi': 4991, 'duh': 4092, 'flusher': 5202, 'preaching': 10209, 'trumpeters': 13885, 'gazing': 5535, 'eqafe': 4501, 'dailies': 3219, 'monopoly': 8574, 'artisan': 759, 'cocktail': 2448, 'adrenaline': 246, 'inquisitive': 6820, 'barcial': 1078, 'whines': 14778, 'acceptances': 96, 'allowances': 424, 'conditioning': 2670, 'segregated': 11707, 'reducing': 10848, 'empties': 4362, 'surreal': 13065, 'etape': 4549, 'rides': 11227, 'caledonia': 1876, 'gervase': 5592, 'piped': 9933, 'unfollows': 14119, 'stocking': 12734, 'crown': 3096, 'decite': 3349, 'avalanche': 941, 'wesleyan': 14733, 'kitoben': 7401, 'playground': 9991, 'condemn': 2664, 'linger': 7766, 'queezy': 10595, 'carcass': 1960, 'nordstroms': 9035, 'contacting': 2786, 'hatter': 6061, 'subpar': 12909, 'alternated': 450, 'reproductive': 11056, 'pregnancies': 10236, 'everybitterthingissweet': 4593, 'jonesing': 7206, 'ineffective': 6743, 'similarities': 12036, 'chiuv': 2256, 'kaddish': 7284, 'daven': 3284, 'amud': 502, 'straightforwardness': 12767, 'cantina': 1932, 'skirts': 12128, 'inadequacy': 6658, 'marginalised': 8120, 'deployed': 3487, 'weapon': 14670, 'civilians': 2324, 'panty': 9553, 'council': 2932, 'becasue': 1166, 'assert': 808, 'drift': 4031, 'decompress': 3357, 'freeer': 5362, 'eyeliner': 4793, 'eyelash': 4789, 'curler': 3162, 'acquainted': 158, 'ensure': 4448, 'atention': 849, 'misstreated': 8485, 'affeccion': 278, 'charlies': 2164, 'zoo': 15171, 'mags': 8024, 'cordial': 2891, 'selected': 11713, 'exemplified': 4668, 'blowout': 1464, 'rocked': 11297, 'apprised': 675, 'approximately': 685, 'disrupted': 3810, 'savior': 11531, 'dinners': 3684, 'buddys': 1750, 'buff': 1753, 'disgestive': 3763, 'verbally': 14411, 'eighth': 4257, 'suzanne': 13094, 'vegas': 14379, 'formal': 5288, 'evaluation': 4576, 'inconsiderate': 6696, 'sissy': 12076, 'bubbling': 1740, 'branch': 1631, 'missionary': 8482, 'submitting': 12908, 'palcebowhores': 9530, 'paternal': 9636, 'procrastinating': 10359, 'rational': 10712, 'enquiries': 4441, 'notifying': 9072, 'ministers': 8439, 'solidarity': 12345, 'iraq': 7001, 'prisoners': 10328, 'stripping': 12820, 'ducks': 4085, 'ptl': 10499, 'dabble': 3212, 'pubicly': 10503, 'caste': 2026, 'creed': 3044, 'elite': 4286, 'mogul': 8530, 'comatose': 2515, 'timely': 13576, 'fragile': 5325, 'kremlin': 7453, 'bombers': 1520, 'chechens': 2188, 'afghan': 297, 'mujahedin': 8706, 'siting': 12084, 'tacos': 13184, 'flakiness': 5105, 'materialist': 8189, 'newton': 8948, 'panthers': 9550, 'dkang': 3872, 'acumen': 183, 'ensues': 4447, 'gifting': 5615, 'subscription': 12912, 'andreas': 530, 'annotation': 563, 'thequeenbuzz': 13439, 'criminals': 3064, 'mun': 8727, 'bumps': 1781, 'thumps': 13535, 'wrongs': 15035, 'nutritional': 9119, 'demonstrate': 3450, 'shedding': 11872, 'stumble': 12865, 'humping': 6456, 'injected': 6801, 'venom': 14400, 'outrageously': 9394, 'tourette': 13713, 'unpredictability': 14189, 'carnage': 1993, 'skudrive': 12129, 'becsuse': 1171, 'physicality': 9859, 'bacuse': 1016, 'generate': 5557, 'passerby': 9617, 'sulk': 12979, 'sensibilities': 11748, 'revolves': 11199, 'yank': 15071, 'threes': 13506, 'kiat': 7355, 'obsessive': 9160, 'anal': 510, 'reddit': 10842, 'dispairing': 3793, 'poser': 10123, 'libertine': 7700, 'jail': 7090, 'inhuman': 6795, 'netherlands': 8923, 'macendarfer': 7997, 'justquiltn': 7279, 'sticks': 12710, 'unfinished': 14113, 'thrifty': 13510, 'neighborhoods': 8892, 'tdy': 13272, 'converting': 2851, 'currency': 3165, 'reviewing': 11191, 'radar': 10645, 'unnoticed': 14182, 'slink': 12168, 'invariably': 6973, 'indirectly': 6726, 'manhandled': 8081, 'hertha': 6202, 'rejoice': 10926, 'err': 4518, 'jurys': 7269, 'verdict': 14412, 'reincarnation': 10917, 'arabia': 692, 'indigenous': 6723, 'meditate': 8265, 'heater': 6129, 'muddling': 8700, 'wot': 14996, 'acquaint': 156, 'zombies': 15167, 'sailing': 11448, 'marching': 8116, 'saluting': 11465, 'grades': 5760, 'temp': 13328, 'rudderless': 11377, 'murua': 8740, 'wakeup': 14566, 'simpler': 12040, 'nourished': 9077, 'lajoie': 7498, 'famers': 4850, 'dwell': 4130, 'lowly': 7935, 'khezef': 7353, 'females': 4961, 'effeminacy': 4233, 'gettin': 5597, 'scad': 11542, 'nailart': 8794, 'headlamp': 6091, 'tent': 13358, 'dharavi': 3612, 'turnovers': 13938, 'stitching': 12732, 'daddys': 3215, 'feelingless': 4948, 'nighters': 8975, 'poison': 10051, 'hierarchies': 6224, 'shampoo': 11845, 'sulfates': 12978, 'lather': 7541, 'bubbles': 1739, 'selectively': 11716, 'chinks': 2250, 'sustainabilitys': 13090, 'hindered': 6245, 'barn': 1089, 'genentech': 5551, 'takeover': 13200, 'hernia': 6192, 'pageviews': 9504, 'reaaallyyyy': 10728, 'jens': 7140, 'mobility': 8514, 'occupational': 9172, 'rego': 10904, 'instant': 6860, 'refocus': 10875, 'epileptic': 4495, 'melee': 8284, 'dps': 3976, 'exertion': 4675, 'proves': 10460, 'pendant': 9713, 'mousse': 8663, 'swedish': 13117, 'turnips': 13936, 'involve': 6991, 'requirement': 11068, 'metropolitan': 8363, 'mushy': 8749, 'feverishly': 4985, 'ship': 11909, 'sailed': 11447, 'bleeds': 1404, 'warms': 14615, 'inter': 6907, 'generational': 5560, 'feat': 4918, 'bridgewater': 1679, 'contemplate': 2796, 'reactor': 10739, 'rebels': 10786, 'funding': 5456, 'alien': 401, 'wt': 15040, 'txl': 13971, 'esteemed': 4544, 'ultralight': 14002, 'newcomers': 8939, 'collapsing': 2485, 'tangent': 13222, 'jerked': 7146, 'emma': 4334, 'hypnosis': 6499, 'porcupine': 10106, 'landscape': 7510, 'inexplicably': 6751, 'unfounded': 14123, 'slumps': 12201, 'dial': 3621, 'warnings': 14621, 'wrongfully': 15033, 'astray': 841, 'sonia': 12382, 'yixuan': 15109, 'atiqah': 860, 'shortly': 11948, 'react': 10733, 'circus': 2316, 'pitied': 9947, 'chilled': 2241, 'ambience': 468, 'cantankerous': 1930, 'marijuana': 8126, 'lunches': 7968, 'js': 7226, 'jilted': 7164, 'vows': 14540, 'screenshot': 11630, 'environmental': 4485, 'architects': 699, 'whatevers': 14749, 'bee': 1179, 'swore': 13146, 'swallowed': 13098, 'effing': 4238, 'kristi': 7455, 'gastric': 5518, 'iterations': 7061, 'fiercely': 5003, 'superdrug': 13004, 'bunches': 1783, 'clips': 2393, 'slogging': 12177, 'sips': 12071, 'substantially': 12920, 'generations': 5561, 'slowed': 12187, 'ml': 8506, 'wafts': 14552, 'charred': 2168, 'classmate': 2347, 'humility': 6450, 'hypocritical': 6502, 'bard': 1079, 'hillary': 6240, 'eluded': 4296, 'brooms': 1712, 'colin': 2481, 'misses': 8477, 'entirelly': 4466, 'undertaken': 14072, 'dawning': 3288, 'marlowe': 8139, 'humanitys': 6437, 'ruthless': 11420, 'rapacity': 10690, 'susanna': 13079, 'visting': 14500, 'devestated': 3594, 'grave': 5798, 'andangry': 525, 'glint': 5670, 'pathological': 9639, 'autistics': 933, 'overslept': 9449, 'drape': 4000, 'conection': 2678, 'customized': 3184, 'winey': 14868, 'scummy': 11648, 'killer': 7372, 'accompanied': 112, 'autism': 931, 'witless': 14912, 'bontoc': 1534, 'ribbon': 11215, 'prices': 10303, 'daydream': 3291, 'flossing': 5181, 'sabbatical': 11429, 'embedded': 4315, 'oxbow': 9474, 'kentucky': 7336, 'preakness': 10210, 'sloan': 12175, 'utah': 14315, 'wept': 14728, 'replied': 11037, 'logistics': 7856, 'predictions': 10225, 'mate': 8186, 'fixing': 5096, 'cathing': 2046, 'pierce': 9887, 'thrills': 13515, 'thatrupert': 13415, 'intend': 6893, 'jam': 7096, 'jazzed': 7123, 'biz': 1372, 'confirm': 2689, 'kierkegaard': 7368, 'philosopher': 9834, 'facilitate': 4809, 'interference': 6920, 'stunted': 12872, 'instilled': 6865, 'headcold': 6087, 'assure': 837, 'perusal': 9799, 'intensifying': 6897, 'recruiters': 10836, 'opiates': 9288, 'infant': 6752, 'clairee': 2330, 'undecorating': 14050, 'cornish': 2900, 'cornwall': 2901, 'katrina': 7317, 'imbibed': 6584, 'incalculable': 6666, 'mischief': 8458, '2di': 16, 'baths': 1121, 'slicing': 12160, 'creamy': 3024, 'cheesecake': 2206, 'seemad': 11696, 'favour': 4910, 'humanity': 6436, 'nadia': 8785, 'neal': 8854, 'frappes': 5343, 'cliche': 2375, 'overtook': 9456, 'parked': 9584, 'soulbitesblog': 12419, 'louder': 7919, 'raider': 10657, 'methinks': 8356, 'hurl': 6469, 'egypt': 4249, 'extensions': 4765, 'goddamned': 5701, 'stereotypical': 12696, 'grain': 5767, 'confront': 2697, 'openness': 9283, 'disorganised': 3789, 'logical': 7854, 'uuuugh': 14326, 'recourse': 10829, 'cabeal': 1858, 'viral': 14482, 'hotline': 6396, 'revving': 11202, 'reliant': 10958, 'soulmate': 12420, 'zooms': 15174, 'foibles': 5220, 'entertains': 4460, 'storytelling': 12759, 'scattering': 11564, 'pews': 9821, 'inundated': 6970, 'dominate': 3909, 'dissappear': 3814, 'qq': 10580, 'impoverished': 6631, 'folds': 5225, 'traveler': 13798, 'freestone': 5365, 'irritant': 7023, 'fundamentally': 5455, 'democratic': 3445, 'primaries': 10311, 'burning': 1813, 'alexander': 393, 'mins': 8444, 'hectic': 6140, 'canadian': 1913, 'publications': 10505, 'espa': 4532, 'hd': 6080, 'brethren': 1670, 'surge': 13052, 'marbled': 8113, 'murrelets': 8738, 'conductor': 2677, 'oiut': 9227, 'minibus': 8432, '0dest': 2, 'restrained': 11138, 'impotent': 6630, 'artificial': 757, 'crawled': 3015, 'externally': 4770, 'faithsedge': 4837, 'melodies': 8286, 'archdiocese': 696, 'restoration': 11133, 'cathedral': 2045, 'strategic': 12780, 'esque': 4536, 'iam': 6506, 'bondmusings': 1529, 'hickory': 6218, 'lenoir': 7657, 'morganton': 8605, 'lathi': 7542, 'yea': 15082, 'foreboding': 5262, 'fragment': 5326, 'pillar': 9902, 'vietnam': 14452, 'tazi': 13267, 'strives': 12822, 'compromising': 2636, 'devised': 3600, 'bias': 1307, 'anthology': 588, 'drs': 4062, 'tubes': 13909, 'lh': 7692, 'herd': 6188, 'mindless': 8421, 'cohort': 2467, 'inadaquate': 6656, 'tether': 13384, 'vocalists': 14513, 'femininely': 4963, 'leaner': 7598, 'overrrrrrrrrrrr': 9444, 'lapped': 7518, 'applications': 663, 'sachets': 11433, 'manifests': 8089, 'brandish': 1635, 'abortion': 57, 'overdone': 9424, 'exotic': 4701, 'matte': 8201, 'laden': 7489, 'roasted': 11284, 'understandable': 14068, 'bioware': 1342, 'roommates': 11330, 'brief': 1680, 'invested': 6979, 'proximity': 10475, 'playroom': 9996, 'bombsite': 1524, 'conservatory': 2740, 'escaping': 4527, 'coolness': 2867, 'timeline': 13575, 'carseat': 2008, 'energetics': 4416, 'cinnamon': 2310, 'egan': 4244, 'kurt': 7463, 'dissipated': 3821, 'intentionality': 6903, 'interactive': 6912, 'travelogue': 13802, 'june': 7263, 'peeking': 9698, 'boughs': 1582, 'separates': 11767, 'cardiff': 1964, 'pervasive': 9801, 'showers': 11974, 'wagon': 14554, 'par': 9562, 'faculties': 4818, 'crosswords': 3090, 'milkshake': 8402, 'tooth': 13669, 'killers': 7373, 'habanero': 5922, 'onions': 9263, 'rad': 10644, 'poking': 10058, 'stimulation': 12719, 'shirley': 11912, 'maclaine': 8005, 'sub': 12886, 'claims': 2329, 'abundance': 76, 'extraordinary': 4775, 'obesity': 9139, 'invented': 6975, 'hail': 5941, 'ember': 4317, 'flake': 5104, 'whalentee': 14745, 'pillows': 9904, 'benson': 1266, 'hedges': 6144, 'monica': 8567, 'relegated': 10951, 'wanatribe': 14587, 'tranquility': 13763, 'spotlessly': 12548, 'tattered': 13258, 'gust': 5908, 'knocks': 7427, 'luminary': 7961, 'paints': 9519, 'plein': 10012, 'dlpt': 3874, 'stressors': 12801, 'consignment': 2748, 'goodwill': 5724, 'scarf': 11557, 'humbug': 6445, 'injuries': 6804, 'flux': 5207, 'biochemistry': 1337, 'zambia': 15146, 'ransom': 10686, 'nancy': 8810, 'alotta': 439, 'mumbling': 8724, 'sonogram': 12385, 'coldplays': 2477, 'manicure': 8084, 'overtones': 9455, 'jonny': 7208, 'offing': 9214, 'cardiovascular': 1966, 'absurd': 73, 'emoexaderistic': 4336, 'sorta': 12413, 'providence': 10463, 'protecting': 10443, 'evgeni': 4605, 'malkin': 8058, 'timmy': 13583, 'ytear': 15136, 'justwhen': 7280, 'futrue': 5472, 'timesa': 13579, 'efeeling': 4224, 'slitting': 12174, 'throats': 13518, 'tartandheathered': 13241, 'inspected': 6848, 'louche': 7917, 'suspicion': 13085, 'studs': 12856, 'attach': 874, 'revenue': 11184, 'disbelief': 3723, 'fixture': 5097, 'jajaja': 7091, 'overtaken': 9452, 'florals': 5177, 'greenery': 5813, 'harmfully': 6028, 'jogless': 7180, 'stripes': 12818, 'oogle': 9273, 'actresses': 177, 'vague': 14335, 'contradicting': 2827, 'sexier': 11814, 'forefingers': 5264, 'thumbs': 13534, 'persevered': 9775, 'idaho': 6519, 'kudos': 7459, 'organizers': 9337, 'summit': 12987, 'carlas': 1992, 'detest': 3576, 'reacts': 10740, 'burkie': 1807, 'demon': 3448, 'banishes': 1065, 'displays': 3799, 'exhibitionism': 4684, 'newrhinegargoyle': 8943, 'adrasteius': 245, 'eulalias': 4564, 'tho': 13485, 'incest': 6674, 'marred': 8140, 'prose': 10432, 'particulary': 9598, 'packages': 9490, 'folksy': 5229, 'intercourse': 6915, 'rawr': 10722, 'fictional': 4996, 'jillian': 7163, 'kneels': 7415, 'expose': 4747, 'crumbles': 3107, 'pineapple': 9915, 'grapes': 5786, 'watermelon': 14648, 'berries': 1275, 'chopped': 2270, 'mint': 8445, 'liqueur': 7783, 'rum': 11394, 'drambuie': 3998, 'documenti': 3888, 'ffayths': 4987, 'affirmations': 291, 'armpits': 724, 'bracelets': 1617, 'fleet': 5138, 'hoppers': 6365, 'widely': 14823, 'prided': 10307, 'dianam': 3627, 'cricnepal': 3057, 'faint': 4828, 'lll': 7825, 'filed': 5024, 'karmardav': 7304, 'unappreciative': 14015, 'peeling': 9699, 'allergic': 414, 'distrustful': 3847, 'touted': 13718, 'cognize': 2462, 'cosmos': 2916, 'yearses': 15093, 'hamster': 5963, 'sylvanian': 13151, 'flocked': 5165, 'fur': 5463, 'zenos': 15155, 'talents': 13208, 'bust': 1830, 'generalization': 5554, 'solvers': 12356, 'sermon': 11783, 'practicing': 10189, 'scotty': 11614, 'priced': 10302, 'snug': 12294, 'mural': 8733, 'officers': 9210, 'painstakingly': 9514, 'rigorous': 11242, 'experiments': 4726, 'ingenious': 6783, 'dummies': 4102, 'pariah': 9580, 'lve': 7987, 'homelands': 6313, 'mansion': 8101, 'preached': 10207, 'pistol': 9942, 'plantar': 9973, 'fascitis': 4882, 'reported': 11041, 'dissassociated': 3815, 'grudge': 5863, 'glowing': 5684, 'expressive': 4758, 'jasmine': 7114, 'teapot': 13285, 'pretzel': 10292, 'downstairs': 3967, 'athf': 855, 'tactics': 13186, 'minded': 8419, 'sweatpants': 13113, 'commuted': 2575, 'trains': 13757, 'ferries': 4970, 'armani': 720, 'blazer': 1400, 'overthink': 9453, 'disbanding': 3722, 'server': 11787, 'lad': 7486, 'herbal': 6185, 'autonomy': 938, 'purchases': 10543, 'perceptive': 9734, 'disposable': 3801, 'ukrainian': 13998, 'pani': 9545, 'discourages': 3747, 'nonbipartisan': 9017, 'aluminum': 458, 'conversational': 2846, 'deader': 3305, 'predawn': 10219, 'scape': 11550, 'goat': 5697, 'fills': 5029, 'ehh': 4253, 'canadas': 1912, 'govern': 5741, 'woodland': 14951, 'lungfuls': 7972, 'hideously': 6222, 'guily': 5892, 'befoe': 1188, 'tod': 13619, 'keeper': 7325, 'journaling': 7216, 'suzanna': 13093, 'idyllic': 6540, 'vacationer': 14333, 'breezing': 1668, 'seniors': 11739, 'batchmates': 1116, 'aggression': 322, 'aretha': 709, 'jamaica': 7097, 'festival': 4976, 'models': 8520, 'thundershowers': 13537, 'ginormous': 5629, 'adjustments': 217, 'earley': 4148, 'alan': 374, 'un2able': 14008, 'foundations': 5313, 'graces': 5755, 'exfoliate': 4677, 'trophies': 13868, 'mimic': 8413, 'longlasting': 7878, 'winehouse': 14865, 'ford': 5260, 'mysterious': 8775, 'intimately': 6949, 'buoyed': 1796, 'surrender': 13066, 'transcendent': 13766, 'jerks': 7147, 'unsatisfying': 14210, 'internetsphere': 6930, 'sojourn': 12334, 'judy': 7241, 'glasberg': 5659, 'unduly': 14090, 'battery': 1127, 'detector': 3568, 'flaking': 5106, 'anthem': 587, 'practicies': 10188, 'cult': 3140, 'falun': 4847, 'gong': 5716, 'bemused': 1246, 'childrens': 2238, 'hurried': 6473, 'frayed': 5348, 'slips': 12173, 'spinner': 12503, 'detachedly': 3562, 'jammed': 7102, 'nosebands': 9048, 'infusion': 6781, 'screams': 11627, 'sponsored': 12532, 'unkindness': 14164, 'selfishness': 11720, 'distorted': 3833, 'liek': 7711, 'grasping': 5792, 'eloquence': 4291, 'slip': 12169, 'vienna': 14451, 'endorsed': 4405, 'littered': 7807, 'uttered': 14323, 'swingsets': 13138, 'tiniest': 13590, 'curfew': 3156, 'progresses': 10392, 'hb': 6079, 'nemesis': 8898, 'tow': 13719, 'pickup': 9874, 'britney': 1693, 'los': 7902, 'angeles': 538, 'orlando': 9352, 'hirsi': 6257, 'ingrid': 6789, 'caressed': 1983, 'affectionately': 284, 'sparsh': 12450, 'honed': 6337, 'peek': 9697, 'climaxed': 2383, 'quenched': 10597, 'extinguished': 4771, 'cracked': 2984, 'mold': 8541, 'rivalry': 11275, 'riley': 11247, 'republican': 11059, 'unseat': 14212, 'democrats': 3446, 'insatiable': 6825, 'mistress': 8493, 'frilly': 5399, 'bloomers': 1455, 'babydoll': 992, 'hehehehehe': 6151, 'scientists': 11597, 'dissatisfactions': 3816, 'misused': 8498, 'apostrophe': 641, 'bbc': 1137, 'spelling': 12481, 'itv': 7068, 'jittery': 7170, 'meh': 8278, 'looooong': 7886, 'melodious': 8287, 'benno': 1264, 'finishes': 5062, 'motorcycle': 8646, 'teamed': 13282, 'slouchy': 12183, 'studded': 12850, 'resilience': 11093, 'royally': 11363, 'var': 14359, 'bogart': 1506, 'arvo': 770, 'joeys': 7178, 'benedictine': 1255, 'monastery': 8559, 'monastic': 8560, 'statesmen': 12659, 'mobbed': 8511, 'lynched': 7991, 'mob': 8510, 'contend': 2800, 'morality': 8596, 'pediatrician': 9694, 'aaaand': 31, 'rinse': 11252, 'detergent': 3570, 'satisfying': 11515, 'newly': 8942, 'addled': 202, 'emtyness': 4365, 'labors': 7475, 'weary': 14679, 'smelt': 12222, 'taint': 13193, 'unbelievably': 14024, 'jot': 7214, 'thug': 13531, 'pestilence': 9810, 'starvation': 12647, 'pepper': 9725, 'chips': 2255, 'zico': 15159, 'elevation': 4281, 'leers': 7623, 'firsthand': 5081, 'outstretched': 9403, 'purposeless': 10551, 'hermione': 6191, 'summers': 12985, 'crampy': 2999, 'di': 3614, 'spazzola': 12454, 'prima': 10310, 'andare': 526, 'dormire': 3943, 'weakest': 14664, 'compensated': 2596, 'flushing': 5203, 'diligently': 3668, 'districts': 3846, 'underlined': 14061, 'interpretations': 6935, 'manageable': 8069, 'oxtail': 9476, 'tomoe': 13649, 'theofilou': 13434, 'nods': 9004, 'kastrioti': 7307, 'sleeve': 12155, 'impenetrable': 6611, 'crescents': 3052, 'havet': 6073, 'basics': 1107, 'gloss': 5682, 'heed': 6146, 'obsessing': 9158, 'hilariously': 6238, 'lodged': 7847, 'oesophagus': 9192, 'insipid': 6843, 'featured': 4921, 'illustrated': 6568, 'boomers': 1547, 'oregon': 9327, 'shies': 11894, 'unamerican': 14013, 'detention': 3569, 'blurting': 1480, 'alternatives': 453, 'figt': 5016, 'withdrawn': 14907, 'emergence': 4324, 'badman': 1021, 'cammie': 1904, 'sobbing': 12306, 'combine': 2519, 'headless': 6092, 'contested': 2808, 'competitive': 2602, 'shrinking': 11979, 'risky': 11267, 'varies': 14363, 'icons': 6516, 'destroyer': 3557, 'imitates': 6589, 'reminisced': 10998, 'millennia': 8404, 'brainstorming': 1628, 'vices': 14439, 'sanitiation': 11488, 'snoozel': 12284, 'winced': 14858, 'pesters': 9808, 'contractual': 2826, 'vietnamese': 14453, 'unbreakable': 14026, 'writin': 15026, 'aided': 346, 'gs': 5869, 'cheat': 2185, 'customs': 3185, 'fireflies': 5071, 'dwindle': 4133, 'arsenal': 748, 'mack': 8004, 'michaels': 8371, 'revamped': 11174, 'impulse': 6649, 'resonating': 11105, 'nik': 8984, 'pertaining': 9798, 'dinn': 3682, 'retain': 11151, 'roam': 11281, 'pubs': 10512, 'tickled': 13550, 'tunnel': 13926, 'whistle': 14793, 'opponent': 9296, 'disqualifications': 3803, 'fines': 5053, 'hawaiian': 6075, 'prettiest': 10289, 'starbucks': 12631, 'slower': 12188, 'serioulsy': 11778, 'jreyez': 7224, 'jenny': 7139, 'persuasion': 9795, 'alll': 421, 'veryy': 14425, 'crunchy': 3112, 'packaged': 9489, 'waitrose': 14562, 'parking': 9585, 'encompassing': 4386, 'snuggled': 12296, 'spencer': 12483, 'endured': 4409, 'shimmer': 11901, 'yearly': 15086, 'hollyoaks': 6307, 'liriano': 7786, 'ardmore': 702, 'kaikohe': 7286, 'pilot': 9906, 'licence': 7704, 'problematic': 10345, 'heightened': 6155, 'endlessly': 4402, 'riku': 11245, 'rub': 11369, 'extract': 4773, 'overreacted': 9442, 'bunking': 1790, 'kindaish': 7382, 'patted': 9650, 'sighhh': 12013, 'irritate': 7024, 'playwright': 9998, 'robert': 11289, 'reid': 10914, 'posto': 10150, 'portugu': 10120, 'boredwithquinn': 1559, 'popeye': 10097, 'cartoons': 2012, 'nano': 8812, 'levi': 7689, 'treading': 13808, 'osteopath': 9362, 'boulder': 1584, 'glimpses': 5669, 'articulating': 755, 'snappy': 12260, 'bayou': 1135, 'cypress': 3204, 'wildlife': 14840, 'lest': 7672, 'unpaved': 14184, 'undergraduate': 14059, 'humanly': 6439, 'stubs': 12847, 'stadiums': 12604, 'shailene': 11830, 'spew': 12489, 'annulment': 575, 'intuitive': 6969, 'sectret': 11682, 'egf': 4245, 'repairing': 11019, 'jar': 7112, 'sparkleapple': 12447, 'akward': 371, 'surged': 13053, 'powerlessness': 10178, 'sends': 11736, 'tizzy': 13611, 'haagen': 5921, 'dazs': 3299, 'indisputably': 6728, 'postings': 10149, 'slapped': 12141, 'appeals': 649, 'doorknob': 3933, 'cloest': 2401, 'privately': 10334, 'growled': 5859, 'nevercontrary': 8931, 'congratulation': 2707, 'cuddles': 3132, 'jake': 7092, 'mongoose': 8566, 'tai': 13191, 'chi': 2223, 'hasan': 6044, 'retiring': 11159, 'modest': 8524, 'schadenfreude': 11575, 'voyeur': 14541, 'neurosurgeons': 8926, 'ick': 6513, 'rubbed': 11370, 'feauture': 4923, 'feautures': 4924, 'selena': 11717, 'rupture': 11407, 'minimal': 8433, 'skid': 12108, 'churchy': 2299, 'cheesy': 2207, 'caretakers': 1985, 'hourglass': 6400, 'rfttttttttttsjiowefmklldkavsvdsbtwrsbdvfocxfibjxrklrgrmvaeridubneosdvfrwfd': 11208, 'gen': 5546, 'xers': 15056, 'heeled': 6147, 'finalists': 5040, 'expend': 4716, 'boasting': 1488, 'tasked': 13248, 'miscreants': 8459, 'diagnostician': 3619, 'lauper': 7556, '02quotesforhim': 0, 'travis': 13804, 'heighten': 6154, 'crucial': 3098, 'expatriates': 4708, 'budgetary': 1752, 'fascinating': 4880, 'ants': 603, 'cudnt': 3134, 'frens': 5371, 'dat': 3271, 'rapid': 10695, 'br': 1614, 'roman': 11317, 'freaky': 5357, 'monarch': 8558, 'geographically': 5579, 'removed': 11007, 'australians': 923, 'overemotional': 9429, 'donna': 3918, 'jtwoo': 7229, 'fixable': 5094, 'cuss': 3178, 'horrifying': 6379, 'tenderness': 13350, 'overconfident': 9421, 'mohdashif': 8532, 'underappreciated': 14055, 'mcraven': 8228, 'ut': 14314, 'plusone': 10027, 'wilcfry': 14837, 'freud': 5382, 'irma': 7006, 'injection': 6802, 'completion': 2616, 'treasure': 13811, 'lifespan': 7716, 'mumbled': 8723, 'alli': 418, 'twiggy': 13956, 'holder': 6291, 'neon': 8901, 'shizz': 11921, 'toenail': 13630, 'vancouver': 14354, 'oppressive': 9305, 'swirl': 13139, 'sniff': 12271, 'rockette': 11300, 'expects': 4714, 'releasing': 10950, 'feminine': 4962, 'masculine': 8165, 'stipulation': 12726, 'skeered': 12101, 'console': 2753, 'allusion': 430, 'massou': 8175, 'puters': 10568, 'invasion': 6974, 'lik': 7737, 'debra': 3326, 'woodston': 14955, 'kansas': 7295, 'assemblies': 807, 'fiesty': 5005, 'haggle': 5934, 'willfully': 14845, 'tops': 13674, 'nickey': 8962, 'outs': 9397, 'popcorn': 10096, 'pinot': 9926, 'gris': 5837, 'passenger': 9613, 'obbie': 9134, 'emergency': 4326, 'issued': 7050, 'supplied': 13024, 'consulate': 2772, 'bangs': 1063, 'shinobi': 11907, 'infp': 6777, 'hassle': 6047, 'curly': 3164, 'straighten': 12764, 'tabby': 13174, 'routes': 11357, 'creek': 3045, 'meadow': 8233, 'fighter': 5010, 'binging': 1334, 'upholstered': 14264, 'timeless': 13574, 'savour': 11534, 'gertrude': 5591, 'stuckin': 12849, 'knotting': 7431, 'discombobulated': 3735, 'frequent': 5374, 'posters': 10146, 'thread': 13499, 'bryangregorylewis': 1732, 'blogland': 1440, 'dunnno': 4112, 'stretched': 12803, 'miniature': 8431, 'alcoholic': 387, 'dribbling': 4028, 'dispute': 3802, 'universalized': 14158, 'desired': 3530, 'imperfection': 6613, 'coerced': 2455, 'mocked': 8516, 'produced': 10363, 'sexist': 11815, 'whisperings': 14792, 'diss': 3813, 'fug': 5435, 'keynotes': 7346, 'comparisons': 2588, 'hypocrisy': 6500, 'wantig': 14598, 'yawning': 15078, 'thankk': 13409, 'manged': 8079, 'retaining': 11152, 'flourish': 5184, 'rpgs': 11364, 'jrpgs': 7225, 'gamers': 5497, 'pouring': 10170, 'righteousness': 11235, 'weren': 14730, 'yomis': 15116, 'unprofessional': 14193, 'boosted': 1549, 'detroit': 3583, 'imperfect': 6612, 'oilers': 9223, 'pt': 10496, 'gloom': 5677, 'pushes': 10561, 'overheated': 9432, 'finest': 5054, 'ren': 11009, 'stimpy': 12717, 'gemini': 5545, 'scorpio': 11610, 'gardening': 5510, 'slr': 12192, 'registered': 10902, 'goer': 5705, 'zz': 15179, 'keychain': 7344, 'tltg': 13613, 'peach': 9678, 'delve': 3440, 'weaved': 14683, 'mystified': 8778, 'karate': 7298, 'diagonal': 3620, 'kendo': 7334, 'frog': 5403, 'downstream': 3968, 'motel': 8628, 'char': 2152, 'cleary': 2367, 'flashed': 5116, 'assurance': 836, 'merson': 8336, 'swans': 13103, 'borrow': 1563, 'badger': 1019, 'arse': 747, 'blend': 1406, 'wolfiewolfgang': 14932, 'numbingly': 9105, 'nuances': 9093, 'nudists': 9098, 'repress': 11051, 'sl': 12133, 'snorkeling': 12286, 'overcomes': 9417, 'activations': 168, 'eclipse': 4190, 'examined': 4629, 'pond': 10084, 'stamp': 12620, 'scramble': 11616, 'meticulously': 8360, 'frightening': 5397, 'frightful': 5398, 'chops': 2271, 'winetasting': 14867, 'purchasing': 10544, 'genetic': 5566, 'neferet': 8880, 'kuribayashi': 7462, 'psssh': 10481, 'rear': 10772, 'hesei': 6205, 'kamen': 7291, 'americas': 481, 'descend': 3510, 'sooooooooper': 12397, 'photoshoot': 9853, 'conclude': 2659, 'handfuls': 5972, 'backpacks': 1010, 'advertised': 265, 'rocketed': 11299, 'satire': 11511, 'springy': 12565, 'camwhore': 1909, 'pudding': 10513, 'anotehr': 578, 'apps': 686, 'ftw': 5425, 'paramilitary': 9570, 'intimidating': 6952, 'provocation': 10469, 'nagged': 8789, 'tody': 13628, 'decal': 3333, 'derided': 3507, 'referees': 10861, 'swearing': 13108, 'apocalypses': 633, 'dragons': 3988, 'attacking': 879, 'ica': 6510, 'loosen': 7890, 'historians': 6260, 'eras': 4513, 'infatuation': 6754, 'civilization': 2325, 'vase': 14369, 'questionnaire': 10604, 'budding': 1748, 'buoied': 1795, 'tryin': 13898, 'gud': 5876, 'pal': 9528, 'understad': 14066, 'abt': 75, 'dats': 3279, 'problemn': 10346, 'carin': 1989, 'cape': 1942, 'akron': 369, 'odkh': 9189, 'photographers': 9847, 'kilter': 7376, 'waft': 14551, 'shameless': 11843, 'blond': 1448, 'hottest': 6398, 'gunna': 5903, 'venerable': 14396, 'calmly': 1893, 'forwards': 5306, 'hymn': 6489, 'proffers': 10379, 'modeling': 8519, 'duet': 4091, 'tallest': 13218, 'buildings': 1763, 'oops': 9276, 'conqueror': 2726, 'wretch': 15016, 'pissy': 9940, 'preform': 10233, 'awed': 966, 'dumbass': 4100, 'rukia': 11391, 'wiki': 14836, 'accusing': 134, 'rudely': 11379, 'flooded': 5168, 'influx': 6770, 'alsways': 444, 'matching': 8185, 'bows': 1605, 'monitor': 8568, 'intubate': 6967, 'iming': 6588, 'pokes': 10057, 'hunch': 6459, 'disruption': 3811, 'salute': 11464, 'strapped': 12777, 'beholding': 1213, 'gop': 5728, 'drinky': 4038, 'lemur': 7649, 'animated': 551, 'slobby': 12176, 'incestuous': 6675, 'twoyear': 13969, 'abhorrent': 47, 'clodia': 2400, 'everitt': 4591, 'kina': 7379, 'darkest': 3257, 'peice': 9706, 'bicycle': 1313, 'obrian': 9152, 'characterisation': 2154, 'wettest': 14740, 'rec': 10788, 'thompson': 13487, 'fluff': 5194, 'entranced': 4472, 'eepctqlhiafjwnrrmas': 4222, 'permitting': 9765, 'flour': 5183, 'tote': 13695, 'tricky': 13843, 'stitched': 12731, 'complement': 2610, 'chic': 2225, 'structured': 12837, 'wizarding': 14922, 'mudbloods': 8698, 'whatnot': 14750, 'canadians': 1914, 'hockney': 6285, 'saloon': 11459, 'undertone': 14074, 'convo': 2856, 'teared': 13287, 'aj': 366, 'frowned': 5413, 'burnout': 1814, 'helena': 6163, 'bonham': 1532, 'carter': 2010, 'johnnykaje': 7184, 'scotched': 11611, 'expedition': 4715, 'amazingness': 467, 'noticeably': 9067, 'ideally': 6524, 'acim': 148, 'integrated': 6886, 'abraham': 62, 'tolerating': 13641, 'caramel': 1955, 'syrup': 13168, 'shhh': 11890, 'laddies': 7488, 'marking': 8135, 'crib': 3055, 'vantage': 14357, 'cleanse': 2359, 'flagellating': 5102, 'priest': 10309, 'hmm': 6269, 'rhyme': 11211, 'potion': 10159, 'dessen': 3547, 'freaks': 5356, 'muslims': 8759, 'generalizing': 5555, 'retaliation': 11154, 'opera': 9285, 'shhhhhhh': 11891, 'hella': 6165, 'outweigh': 9406, 'juggling': 7243, 'resumes': 11147, 'navigate': 8849, 'amazement': 464, 'overhearing': 9431, 'trigonometry': 13849, 'tutee': 13940, 'shuffle': 11984, 'liable': 7694, 'aussy': 919, 'paulo': 9656, 'coelho': 2453, 'pending': 9714, 'preschooler': 10258, 'miller': 8405, 'trickery': 13841, 'dullness': 4097, 'evoked': 4612, 'fraudulent': 5347, 'yearns': 15091, 'labelled': 7472, 'endeavor': 4395, 'geography': 5580, 'rosary': 11338, 'treachery': 13806, 'documents': 3889, 'xl': 15058, 'mens': 8310, 'pajama': 9524, 'gimme': 5624, 'effin': 4237, 'spout': 12553, 'lulu': 7958, 'isms': 7038, 'movers': 8672, 'ann': 558, 'blew': 1414, 'supplicate': 13023, 'celexa': 2085, 'se': 11650, 'organizing': 9338, 'spectra': 12473, 'gfb': 5602, 'finale': 5039, 'bookworms': 1546, 'kiddies': 7361, 'choc': 2258, 'bloc': 1430, 'yawwwn': 15079, 'freshly': 5380, 'doodlesandscrapsofme': 3927, 'guitars': 5896, 'bal': 1037, 'thackerey': 13397, 'buzz': 1848, 'palpably': 9536, 'diazepam': 3633, 'takeing': 13198, 'clozapine': 2418, 'thatd': 13413, 'representatives': 11047, 'advertisement': 266, 'sepang': 11763, 'axilla': 980, 'morla': 8608, 'transformers': 13774, 'fluidly': 5198, 'jude': 7232, 'asciatic': 777, 'nikolas': 8987, 'torward': 13686, 'organ': 9328, 'moisturized': 8537, 'tryst': 13900, 'jurer': 7268, 'constructions': 2767, 'pulpit': 10520, 'efficacy': 4234, 'varsities': 14367, 'thinkings': 13474, 'tangles': 13226, 'fortunately': 5301, 'weaving': 14684, 'shapes': 11849, 'muster': 8761, 'tim': 13572, 'congregation': 2710, 'plead': 10000, 'empathise': 4346, 'trailer': 13750, 'taxation': 13264, 'mayor': 8217, 'byron': 1853, 'sized': 12096, 'haka': 5948, 'pointy': 10050, 'floss': 5180, 'medicated': 8260, 'jog': 7179, 'cus': 3175, 'overnight': 9437, 'ahem': 342, 'arty': 767, 'ahkman': 344, 'maniacal': 8083, 'rants': 10689, 'aboard': 55, 'socialising': 12314, 'attributed': 903, 'ideals': 6525, 'regaining': 10891, 'gillard': 5623, 'undefinable': 14051, 'bleh': 1405, 'irreparably': 7014, 'noleans': 9012, 'wihtout': 14835, 'needin': 8871, 'beth': 1285, 'kindda': 7383, 'researching': 11075, 'punched': 10529, 'brunch': 1727, 'trumpeter': 13884, 'waldo': 14569, 'flinched': 5153, 'seasonal': 11664, 'airtime': 364, 'unrealistically': 14198, 'hubbie': 6421, 'biscuit': 1352, 'tin': 13584, 'chanting': 2146, 'reverberate': 11185, 'remotional': 11005, 'clammy': 2331, 'flashes': 5117, 'flaunt': 5126, 'tripping': 13859, 'cotton': 2923, 'snakes': 12254, 'barker': 1087, 'horrors': 6381, 'proudly': 10456, 'pottering': 10163, 'mimm': 8414, 'thislifeissparkling': 13482, 'tinsel': 13591, 'headband': 6086, 'brooch': 1706, 'cracker': 2985, 'nuance': 9092, 'nashville': 8826, 'shaved': 11867, 'refrence': 10878, 'comics': 2538, 'mallrat': 8060, 'torch': 13676, 'communicates': 2567, 'burrowing': 1818, 'tickling': 13552, 'posh': 10125, 'cushy': 3177, 'clamouring': 2332, 'exicting': 4690, 'nannying': 8811, 'snark': 12263, 'greetings': 5816, 'avenue': 942, 'goin': 5707, 'moshav': 8623, 'dancin': 3244, 'beatles': 1159, 'prosecutor': 10434, 'dc': 3301, 'legal': 7629, 'blundering': 1473, 'downtown': 3971, 'terrribly': 13376, 'livejournals': 7813, 'enabling': 4376, 'transformation': 13771, 'deleted': 3423, 'ryota': 11427, 'keita': 7330, 'kota': 7450, 'undeniably': 14052, 'iggy': 6546, 'azealea': 983, 'louboutins': 7916, 'rita': 11268, 'ora': 9314, 'vivienne': 14506, 'westwood': 14737, 'channeled': 2145, 'managment': 8075, 'criticisms': 3074, 'rural': 11408, 'vocref': 14515, 'ontology': 9271, 'caterpillar': 2041, 'caterpillars': 2042, 'crawling': 3016, 'showcasing': 11970, 'affirmative': 292, 'reasoning': 10777, 'erupted': 4524, 'exploded': 4737, 'disastered': 3719, 'hosts': 6392, 'stylish': 12883, 'auction': 907, 'resentments': 11082, 'daley': 3225, 'bronze': 1705, 'wi': 14819, 'carnivores': 1995, 'councillors': 2933, 'audre': 913, 'lorde': 7897, 'antidepressants': 594, 'miraculously': 8452, 'conquer': 2723, 'brach': 1618, 'chipmunk': 2253, 'vibes': 14432, 'heartbeats': 6115, 'elegance': 4275, 'succeeding': 12929, 'jonah': 7202, 'slump': 12200, 'vulturous': 14546, 'sic': 11994, 'poisonous': 10053, 'psychiatry': 10485, 'grumbled': 5866, 'gfs': 5603, 'vivek': 14504, 'oberoi': 9137, 'towed': 13722, 'analysing': 513, 'herbs': 6186, 'arrow': 745, 'jerome': 7148, 'supersensitive': 13013, 'contamination': 2795, 'tower': 13724, 'abbigail': 41, 'apraxia': 688, 'completeness': 2614, 'sobered': 12308, 'everyfuckingthing': 4597, 'passive': 9625, '2craft': 14, 'sparkly': 12448, 'evolving': 4616, 'policemen': 10064, 'exercised': 4671, 'mammals': 8064, 'accompaniment': 113, 'overlapping': 9434, 'squeek': 12584, 'grossed': 5845, 'underlying': 14062, 'hachi': 5926, 'rushes': 11411, 'nobu': 9000, 'nana': 8808, 'riotousrambling': 11254, 'ps': 10479, 'odeon': 9188, 'portugal': 10119, 'philosophical': 9835, 'lev': 7685, 'rubbing': 11372, 'eachother': 4140, 'kill1': 7370, 'terrorised': 13375, 'isobelmeg': 7041, 'squirmed': 12588, 'calf': 1877, 'ribcage': 11216, 'japan': 7110, 'manchester': 8076, 'aunty': 917, 'disconsolate': 3741, 'crises': 3067, 'bungalow': 1786, 'inspect': 6847, 'samples': 11473, 'superstitions': 13015, 'rituals': 11272, 'paste': 9630, 'pandora': 9541, 'cosmopolitian': 2915, 'monkees': 8570, 'tearing': 13289, 'celebrities': 2083, 'irrelevant': 7013, 'braeden': 1621, 'calvin': 1898, 'beanbag': 1149, 'subbing': 12888}\n"
     ]
    }
   ],
   "source": [
    "# Extracting Count Vectors Parameters\n",
    "count_vect = CountVectorizer(analyzer='word')\n",
    "count_vect.fit(data_train.iloc[:,0].astype('U'))\n",
    "X_train_count =  count_vect.transform(X_train.astype('U'))\n",
    "X_val_count =  count_vect.transform(X_val.astype('U'))\n",
    "print(count_vect.vocabulary_)"
   ]
  },
  {
   "cell_type": "code",
   "execution_count": 10,
   "metadata": {},
   "outputs": [
    {
     "name": "stdout",
     "output_type": "stream",
     "text": [
      "(16000, 15180)\n"
     ]
    },
    {
     "data": {
      "image/png": "[encoded data removed]",
      "text/plain": [
       "<Figure size 1080x720 with 1 Axes>"
      ]
     },
     "metadata": {
      "needs_background": "light"
     },
     "output_type": "display_data"
    }
   ],
   "source": [
    "bow = count_vect.fit_transform(data_train.iloc[:,0].astype('U'))\n",
    "print(bow.shape)\n",
    "word_freq = dict(zip(count_vect.get_feature_names(), np.asarray(bow.sum(axis=0)).ravel()))\n",
    "word_counter = collections.Counter(word_freq)\n",
    "word_counter_df = pd.DataFrame(word_counter.most_common(30), columns = ['word', 'freq'])\n",
    "fig, ax = plt.subplots(figsize=(15, 10))\n",
    "sns.barplot(x=\"word\", y=\"freq\", data= word_counter_df, ax=ax, palette=\"plasma\")\n",
    "plt.show();"
   ]
  },
  {
   "cell_type": "markdown",
   "metadata": {},
   "source": [
    "# Building models using different classifiers (Count vectorizer)"
   ]
  },
  {
   "cell_type": "code",
   "execution_count": 11,
   "metadata": {},
   "outputs": [],
   "source": [
    "from sklearn.metrics import f1_score\n",
    "from sklearn.metrics import precision_score\n",
    "from sklearn.metrics import recall_score\n",
    "from sklearn.metrics import confusion_matrix\n",
    "from sklearn.metrics import classification_report"
   ]
  },
  {
   "cell_type": "markdown",
   "metadata": {},
   "source": [
    "if you have a binary classification problem where the positive class is underrepresented in the data, then you may encounter a ValueError when computing the precision or recall for the positive class. This is because the evaluation metric is computed using the number of true positives, false positives, or false negatives for the positive class, and if there are very few positive examples in the data, then the count of these quantities may be zero.\n",
    "\n",
    "To avoid this issue, you can try using the average parameter in the evaluation metric functions. The average parameter specifies how to compute the metric when there are multiple classes. By setting average to weighted, you can account for the class imbalance in the data.\n"
   ]
  },
  {
   "cell_type": "code",
   "execution_count": null,
   "metadata": {},
   "outputs": [],
   "source": [
    "nb1 = MultinomialNB()\n",
    "nb1.fit(X_train_count, y_train)\n",
    "y_pred = nb1.predict(X_val_count)\n",
    "accuracy = accuracy_score(y_val, y_pred)\n",
    "conf_matrix_nb = confusion_matrix(y_val, y_pred)\n",
    "class_report = classification_report(y_val, y_pred)\n",
    "print(\"Accuracy:\", accuracy)\n",
    "print(\"Confusion matrix:\\n\", conf_matrix_nb)\n",
    "print(\"Classification report:\\n\", class_report)"
   ]
  },
  {
   "cell_type": "code",
   "execution_count": null,
   "metadata": {},
   "outputs": [],
   "source": [
    "from sklearn.metrics import roc_curve, auc\n",
    "from sklearn.preprocessing import label_binarize\n",
    "from itertools import cycle\n",
    "import matplotlib.pyplot as plt\n",
    "\n",
    "# Convert y_val to binary format\n",
    "n_classes = len(np.unique(y_train))\n",
    "y_val_bin = label_binarize(y_val, classes=np.arange(n_classes))\n",
    "\n",
    "# Train and predict on the validation set\n",
    "nb1.fit(X_train_count, y_train)\n",
    "y_pred_proba = nb1.predict_proba(X_val_count)\n",
    "\n",
    "# Compute ROC curve and AUC for each class\n",
    "fpr = dict()\n",
    "tpr = dict()\n",
    "roc_auc = dict()\n",
    "for i in range(n_classes):\n",
    "    fpr[i], tpr[i], _ = roc_curve(y_val_bin[:, i], y_pred_proba[:, i])\n",
    "    roc_auc[i] = auc(fpr[i], tpr[i])\n",
    "\n",
    "# Compute micro-average ROC curve and AUC\n",
    "fpr[\"micro\"], tpr[\"micro\"], _ = roc_curve(y_val_bin.ravel(), y_pred_proba.ravel())\n",
    "roc_auc[\"micro\"] = auc(fpr[\"micro\"], tpr[\"micro\"])\n",
    "\n",
    "# Plot ROC curve for each class and micro-average\n",
    "plt.figure()\n",
    "lw = 2\n",
    "colors = cycle(['darkorange', 'cornflowerblue', 'green'])\n",
    "for i, color in zip(range(n_classes), colors):\n",
    "    plt.plot(fpr[i], tpr[i], color=color, lw=lw,\n",
    "             label='ROC curve of class {0} (AUC = {1:0.2f})'\n",
    "             ''.format(i, roc_auc[i]))\n",
    "\n",
    "plt.plot(fpr[\"micro\"], tpr[\"micro\"], color='red', lw=lw,\n",
    "         label='micro-average ROC curve (AUC = {0:0.2f})'\n",
    "         ''.format(roc_auc[\"micro\"]))\n",
    "\n",
    "plt.plot([0, 1], [0, 1], 'k--', lw=lw)\n",
    "plt.xlim([0.0, 1.0])\n",
    "plt.ylim([0.0, 1.05])\n",
    "plt.xlabel('False Positive Rate')\n",
    "plt.ylabel('True Positive Rate')\n",
    "#plt.title('Receiver operating characteristic for multiclass')\n",
    "#plt.legend(loc=\"lower right\")\n",
    "plt.savefig('ROC_GRAPH_for_nb.png')\n",
    "plt.show()"
   ]
  },
  {
   "cell_type": "code",
   "execution_count": null,
   "metadata": {},
   "outputs": [],
   "source": [
    "sns.heatmap(conf_matrix_nb, annot=True, fmt='d', cmap='Blues')\n",
    "plt.title('Confusion Matrix Navie bayes')\n",
    "plt.xlabel('Predicted Labels')\n",
    "plt.ylabel('True Labels')\n",
    "plt.show()"
   ]
  },
  {
   "cell_type": "code",
   "execution_count": 12,
   "metadata": {},
   "outputs": [
    {
     "name": "stdout",
     "output_type": "stream",
     "text": [
      "Accuracy: 0.8835416666666667\n",
      "Confusion matrix:\n",
      " [[1313   51    4   30   30    2]\n",
      " [  36 1472   49    7    7    7]\n",
      " [   8   76  288    5    1    0]\n",
      " [  42   41    4  549   19    1]\n",
      " [  30   19    2   18  502   22]\n",
      " [  10   14    0    2   22  117]]\n",
      "Classification report:\n",
      "               precision    recall  f1-score   support\n",
      "\n",
      "           1       0.91      0.92      0.92      1430\n",
      "           2       0.88      0.93      0.91      1578\n",
      "           3       0.83      0.76      0.79       378\n",
      "           4       0.90      0.84      0.87       656\n",
      "           5       0.86      0.85      0.86       593\n",
      "           6       0.79      0.71      0.75       165\n",
      "\n",
      "    accuracy                           0.88      4800\n",
      "   macro avg       0.86      0.83      0.85      4800\n",
      "weighted avg       0.88      0.88      0.88      4800\n",
      "\n"
     ]
    }
   ],
   "source": [
    "logreg1 = LogisticRegression(C=1, max_iter=500)\n",
    "logreg1.fit(X_train_count, y_train)\n",
    "y_pred = logreg1.predict(X_val_count)\n",
    "accuracy = accuracy_score(y_val, y_pred)\n",
    "conf_matrix_lr = confusion_matrix(y_val, y_pred)\n",
    "class_report = classification_report(y_val, y_pred)\n",
    "print(\"Accuracy:\", accuracy)\n",
    "print(\"Confusion matrix:\\n\", conf_matrix_lr)\n",
    "print(\"Classification report:\\n\", class_report)"
   ]
  },
  {
   "cell_type": "code",
   "execution_count": null,
   "metadata": {},
   "outputs": [],
   "source": [
    "from sklearn.metrics import roc_auc_score\n",
    "\n",
    "# Fit the logistic regression model and predict on validation set\n",
    "logreg1 = LogisticRegression(C=1, max_iter=500)\n",
    "logreg1.fit(X_train_count, y_train)\n",
    "y_pred_prob = logreg1.predict_proba(X_val_count)\n",
    "\n",
    "# Calculate ROC AUC score for each class\n",
    "roc_auc = roc_auc_score(y_val, y_pred_prob, multi_class='ovr')\n",
    "\n",
    "# Print ROC AUC score\n",
    "print(\"ROC AUC score:\", roc_auc)\n",
    "\n"
   ]
  },
  {
   "cell_type": "code",
   "execution_count": null,
   "metadata": {},
   "outputs": [],
   "source": [
    "from sklearn.metrics import roc_curve, auc\n",
    "from sklearn.preprocessing import label_binarize\n",
    "from itertools import cycle\n",
    "\n",
    "# Convert y_val to binary format\n",
    "n_classes = len(np.unique(y_train))\n",
    "y_val_bin = label_binarize(y_val, classes=np.arange(n_classes))\n",
    "\n",
    "# Train and predict on the validation set\n",
    "logreg1.fit(X_train_count, y_train)\n",
    "y_pred_proba = logreg1.predict_proba(X_val_count)\n",
    "\n",
    "\n",
    "\n",
    "# Compute ROC curve and ROC area for each class\n",
    "fpr = dict()\n",
    "tpr = dict()\n",
    "roc_auc = dict()\n",
    "for i in range(n_classes):\n",
    "    fpr[i], tpr[i], _ = roc_curve(y_val_bin[:, i], y_pred_prob[:, i])\n",
    "    roc_auc[i] = auc(fpr[i], tpr[i])\n",
    "\n",
    "# Compute micro-average ROC curve and ROC area\n",
    "fpr[\"micro\"], tpr[\"micro\"], _ = roc_curve(y_val_bin.ravel(), y_pred_prob.ravel())\n",
    "roc_auc[\"micro\"] = auc(fpr[\"micro\"], tpr[\"micro\"])\n",
    "\n",
    "# Plot ROC curves for each class and micro-average\n",
    "plt.figure()\n",
    "lw = 2\n",
    "colors = cycle(['aqua', 'darkorange', 'cornflowerblue'])\n",
    "for i, color in zip(range(n_classes), colors):\n",
    "    plt.plot(fpr[i], tpr[i], color=color, lw=lw,\n",
    "             label='ROC curve of class {0} (AUC = {1:0.2f})'\n",
    "             ''.format(i, roc_auc[i]))\n",
    "\n",
    "plt.plot(fpr[\"micro\"], tpr[\"micro\"], color='deeppink', lw=lw,\n",
    "         label='micro-average ROC curve (AUC = {0:0.2f})'\n",
    "         ''.format(roc_auc[\"micro\"]))\n",
    "\n",
    "plt.plot([0, 1], [0, 1], 'k--', lw=lw)\n",
    "plt.xlim([0.0, 1.0])\n",
    "plt.ylim([0.0, 1.05])\n",
    "plt.xlabel('False Positive Rate')\n",
    "plt.ylabel('True Positive Rate')\n",
    "#plt.title('ROC curves for multi-class classification')\n",
    "#plt.legend(loc=\"lower right\")\n",
    "plt.savefig('ROC_GRAPH_for_logreg.png')\n",
    "plt.show()\n",
    "\n",
    "\n"
   ]
  },
  {
   "cell_type": "code",
   "execution_count": null,
   "metadata": {},
   "outputs": [],
   "source": [
    "sns.heatmap(conf_matrix_lr, annot=True, fmt='d', cmap='Blues')\n",
    "plt.title('Confusion Matrix LOGISTIC REGRESSION')\n",
    "plt.xlabel('Predicted Labels')\n",
    "plt.ylabel('True Labels')\n",
    "plt.savefig('confusion_matrix_for_logreg.png')\n",
    "plt.show()"
   ]
  },
  {
   "cell_type": "code",
   "execution_count": null,
   "metadata": {},
   "outputs": [],
   "source": [
    "lsvm1 = SGDClassifier(alpha=0.001, random_state=5, max_iter=2, tol=None,loss='modified_huber')\n",
    "lsvm1.fit(X_train_count, y_train)\n",
    "y_pred = lsvm1.predict(X_val_count)\n",
    "accuracy = accuracy_score(y_val, y_pred)\n",
    "conf_matrix_lvsm = confusion_matrix(y_val, y_pred)\n",
    "class_report = classification_report(y_val, y_pred)\n",
    "print(\"Accuracy:\", accuracy)\n",
    "print(\"Confusion matrix:\\n\", conf_matrix_lvsm)\n",
    "print(\"Classification report:\\n\", class_report)"
   ]
  },
  {
   "cell_type": "code",
   "execution_count": null,
   "metadata": {},
   "outputs": [],
   "source": [
    "from sklearn.metrics import roc_curve, auc\n",
    "from sklearn.preprocessing import label_binarize\n",
    "from itertools import cycle\n",
    "\n",
    "# Convert y_val to binary format\n",
    "n_classes = len(np.unique(y_train))\n",
    "y_val_bin = label_binarize(y_val, classes=np.arange(n_classes))\n",
    "\n",
    "# Train and predict on the validation set\n",
    "lsvm1.fit(X_train_count, y_train)\n",
    "y_pred_proba = lsvm1.predict_proba(X_val_count)\n",
    "\n",
    "\n",
    "\n",
    "# Compute ROC curve and ROC area for each class\n",
    "fpr = dict()\n",
    "tpr = dict()\n",
    "roc_auc = dict()\n",
    "for i in range(n_classes):\n",
    "    fpr[i], tpr[i], _ = roc_curve(y_val_bin[:, i], y_pred_prob[:, i])\n",
    "    roc_auc[i] = auc(fpr[i], tpr[i])\n",
    "\n",
    "# Compute micro-average ROC curve and ROC area\n",
    "fpr[\"micro\"], tpr[\"micro\"], _ = roc_curve(y_val_bin.ravel(), y_pred_prob.ravel())\n",
    "roc_auc[\"micro\"] = auc(fpr[\"micro\"], tpr[\"micro\"])\n",
    "\n",
    "# Plot ROC curves for each class and micro-average\n",
    "plt.figure()\n",
    "lw = 2\n",
    "colors = cycle(['aqua', 'darkorange', 'cornflowerblue'])\n",
    "for i, color in zip(range(n_classes), colors):\n",
    "    plt.plot(fpr[i], tpr[i], color=color, lw=lw,\n",
    "             label='ROC curve of class {0} (AUC = {1:0.2f})'\n",
    "             ''.format(i, roc_auc[i]))\n",
    "\n",
    "plt.plot(fpr[\"micro\"], tpr[\"micro\"], color='deeppink', lw=lw,\n",
    "         label='micro-average ROC curve (AUC = {0:0.2f})'\n",
    "         ''.format(roc_auc[\"micro\"]))\n",
    "\n",
    "plt.plot([0, 1], [0, 1], 'k--', lw=lw)\n",
    "plt.xlim([0.0, 1.0])\n",
    "plt.ylim([0.0, 1.05])\n",
    "plt.xlabel('False Positive Rate')\n",
    "plt.ylabel('True Positive Rate')\n",
    "#plt.title('ROC curves for multi-class classification')\n",
    "#plt.legend(loc=\"lower right\")\n",
    "plt.savefig('ROC_GRAPH_for_lvsm1.png')\n",
    "plt.show()"
   ]
  },
  {
   "cell_type": "code",
   "execution_count": null,
   "metadata": {},
   "outputs": [],
   "source": [
    "sns.heatmap(conf_matrix_lvsm, annot=True, fmt='d', cmap='Blues')\n",
    "plt.title('Confusion Matrix Linear svm')\n",
    "plt.xlabel('Predicted Labels')\n",
    "plt.ylabel('True Labels')\n",
    "plt.show()"
   ]
  },
  {
   "cell_type": "code",
   "execution_count": null,
   "metadata": {},
   "outputs": [],
   "source": [
    "from sklearn.svm import SVC"
   ]
  },
  {
   "cell_type": "code",
   "execution_count": null,
   "metadata": {},
   "outputs": [],
   "source": [
    "svclinear = SVC(kernel='linear', C=1000,probability=True)\n",
    "svclinear.fit(X_train_count, y_train)\n",
    "y_pred = svclinear.predict(X_val_count)\n",
    "accuracy = accuracy_score(y_val, y_pred)\n",
    "conf_matrix_svcl = confusion_matrix(y_val, y_pred)\n",
    "class_report = classification_report(y_val, y_pred)\n",
    "print(\"Accuracy:\", accuracy)\n",
    "print(\"Confusion matrix:\\n\", conf_matrix_svcl)\n",
    "print(\"Classification report:\\n\", class_report)"
   ]
  },
  {
   "cell_type": "code",
   "execution_count": null,
   "metadata": {},
   "outputs": [],
   "source": [
    "from sklearn.metrics import roc_curve, auc\n",
    "from sklearn.preprocessing import label_binarize\n",
    "from itertools import cycle\n",
    "\n",
    "# Convert y_val to binary format\n",
    "n_classes = len(np.unique(y_train))\n",
    "y_val_bin = label_binarize(y_val, classes=np.arange(n_classes))\n",
    "\n",
    "# Train and predict on the validation set\n",
    "svclinear.fit(X_train_count, y_train)\n",
    "y_pred_proba = svclinear.predict_proba(X_val_count)\n",
    "\n",
    "\n",
    "\n",
    "# Compute ROC curve and ROC area for each class\n",
    "fpr = dict()\n",
    "tpr = dict()\n",
    "roc_auc = dict()\n",
    "for i in range(n_classes):\n",
    "    fpr[i], tpr[i], _ = roc_curve(y_val_bin[:, i], y_pred_prob[:, i])\n",
    "    roc_auc[i] = auc(fpr[i], tpr[i])\n",
    "\n",
    "# Compute micro-average ROC curve and ROC area\n",
    "fpr[\"micro\"], tpr[\"micro\"], _ = roc_curve(y_val_bin.ravel(), y_pred_prob.ravel())\n",
    "roc_auc[\"micro\"] = auc(fpr[\"micro\"], tpr[\"micro\"])\n",
    "\n",
    "# Plot ROC curves for each class and micro-average\n",
    "plt.figure()\n",
    "lw = 2\n",
    "colors = cycle(['aqua', 'darkorange', 'cornflowerblue'])\n",
    "for i, color in zip(range(n_classes), colors):\n",
    "    plt.plot(fpr[i], tpr[i], color=color, lw=lw,\n",
    "             label='ROC curve of class {0} (AUC = {1:0.2f})'\n",
    "             ''.format(i, roc_auc[i]))\n",
    "\n",
    "plt.plot(fpr[\"micro\"], tpr[\"micro\"], color='deeppink', lw=lw,\n",
    "         label='micro-average ROC curve (AUC = {0:0.2f})'\n",
    "         ''.format(roc_auc[\"micro\"]))\n",
    "\n",
    "plt.plot([0, 1], [0, 1], 'k--', lw=lw)\n",
    "plt.xlim([0.0, 1.0])\n",
    "plt.ylim([0.0, 1.05])\n",
    "plt.xlabel('False Positive Rate')\n",
    "plt.ylabel('True Positive Rate')\n",
    "#plt.title('ROC curves for multi-class classification')\n",
    "#plt.legend(loc=\"lower right\")\n",
    "plt.savefig('ROC_GRAPH_for_svclinear.png')\n",
    "plt.show()"
   ]
  },
  {
   "cell_type": "code",
   "execution_count": null,
   "metadata": {},
   "outputs": [],
   "source": [
    "sns.heatmap(conf_matrix_svcl, annot=True, fmt='d', cmap='Blues')\n",
    "plt.title('Confusion Matrix SVC LINEAR')\n",
    "plt.xlabel('Predicted Labels')\n",
    "plt.ylabel('True Labels')\n",
    "plt.show()"
   ]
  },
  {
   "cell_type": "code",
   "execution_count": null,
   "metadata": {},
   "outputs": [],
   "source": [
    "svcrbf = SVC(kernel='rbf', C=1000,probability=True)\n",
    "svcrbf.fit(X_train_count, y_train)\n",
    "y_pred = svcrbf.predict(X_val_count)\n",
    "accuracy = accuracy_score(y_val, y_pred)\n",
    "conf_matrix_rbf = confusion_matrix(y_val, y_pred)\n",
    "class_report = classification_report(y_val, y_pred)\n",
    "print(\"Accuracy:\", accuracy)\n",
    "print(\"Confusion matrix:\\n\", conf_matrix_rbf)\n",
    "print(\"Classification report:\\n\", class_report)"
   ]
  },
  {
   "cell_type": "code",
   "execution_count": null,
   "metadata": {},
   "outputs": [],
   "source": [
    "from sklearn.metrics import roc_curve, auc\n",
    "from sklearn.preprocessing import label_binarize\n",
    "from itertools import cycle\n",
    "\n",
    "# Convert y_val to binary format\n",
    "n_classes = len(np.unique(y_train))\n",
    "y_val_bin = label_binarize(y_val, classes=np.arange(n_classes))\n",
    "\n",
    "# Train and predict on the validation set\n",
    "svcrbf.fit(X_train_count, y_train)\n",
    "y_pred_proba = svcrbf.predict_proba(X_val_count)\n",
    "\n",
    "\n",
    "\n",
    "# Compute ROC curve and ROC area for each class\n",
    "fpr = dict()\n",
    "tpr = dict()\n",
    "roc_auc = dict()\n",
    "for i in range(n_classes):\n",
    "    fpr[i], tpr[i], _ = roc_curve(y_val_bin[:, i], y_pred_prob[:, i])\n",
    "    roc_auc[i] = auc(fpr[i], tpr[i])\n",
    "\n",
    "# Compute micro-average ROC curve and ROC area\n",
    "fpr[\"micro\"], tpr[\"micro\"], _ = roc_curve(y_val_bin.ravel(), y_pred_prob.ravel())\n",
    "roc_auc[\"micro\"] = auc(fpr[\"micro\"], tpr[\"micro\"])\n",
    "\n",
    "# Plot ROC curves for each class and micro-average\n",
    "plt.figure()\n",
    "lw = 2\n",
    "colors = cycle(['aqua', 'darkorange', 'cornflowerblue'])\n",
    "for i, color in zip(range(n_classes), colors):\n",
    "    plt.plot(fpr[i], tpr[i], color=color, lw=lw,\n",
    "             label='ROC curve of class {0} (AUC = {1:0.2f})'\n",
    "             ''.format(i, roc_auc[i]))\n",
    "\n",
    "plt.plot(fpr[\"micro\"], tpr[\"micro\"], color='deeppink', lw=lw,\n",
    "         label='micro-average ROC curve (AUC = {0:0.2f})'\n",
    "         ''.format(roc_auc[\"micro\"]))\n",
    "\n",
    "plt.plot([0, 1], [0, 1], 'k--', lw=lw)\n",
    "plt.xlim([0.0, 1.0])\n",
    "plt.ylim([0.0, 1.05])\n",
    "plt.xlabel('False Positive Rate')\n",
    "plt.ylabel('True Positive Rate')\n",
    "#plt.title('ROC curves for multi-class classification')\n",
    "#plt.legend(loc=\"lower right\")\n",
    "plt.savefig('ROC_GRAPH_for_svcrbf.png')\n",
    "plt.show()"
   ]
  },
  {
   "cell_type": "code",
   "execution_count": null,
   "metadata": {},
   "outputs": [],
   "source": [
    "sns.heatmap(conf_matrix_rbf, annot=True, fmt='d', cmap='Blues')\n",
    "plt.title('Confusion Matrix SVC RBF')\n",
    "plt.xlabel('Predicted Labels')\n",
    "plt.ylabel('True Labels')\n",
    "plt.show()"
   ]
  },
  {
   "cell_type": "code",
   "execution_count": null,
   "metadata": {},
   "outputs": [],
   "source": [
    "from sklearn.ensemble import RandomForestClassifier"
   ]
  },
  {
   "cell_type": "code",
   "execution_count": null,
   "metadata": {},
   "outputs": [],
   "source": [
    "Rf = RandomForestClassifier(n_estimators=10,max_features='auto',random_state=101)\n",
    "Rf.fit(X_train_count, y_train)\n",
    "y_pred = Rf.predict(X_val_count)\n",
    "accuracy = accuracy_score(y_val, y_pred)\n",
    "conf_matrix_rf = confusion_matrix(y_val, y_pred)\n",
    "class_report = classification_report(y_val, y_pred)\n",
    "print(\"Accuracy:\", accuracy)\n",
    "print(\"Confusion matrix:\\n\", conf_matrix_rf)\n",
    "print(\"Classification report:\\n\", class_report)"
   ]
  },
  {
   "cell_type": "code",
   "execution_count": null,
   "metadata": {},
   "outputs": [],
   "source": [
    "from sklearn.metrics import roc_curve, auc\n",
    "from sklearn.preprocessing import label_binarize\n",
    "from itertools import cycle\n",
    "\n",
    "# Convert y_val to binary format\n",
    "n_classes = len(np.unique(y_train))\n",
    "y_val_bin = label_binarize(y_val, classes=np.arange(n_classes))\n",
    "\n",
    "# Train and predict on the validation set\n",
    "Rf.fit(X_train_count, y_train)\n",
    "y_pred_proba = Rf.predict_proba(X_val_count)\n",
    "\n",
    "\n",
    "\n",
    "# Compute ROC curve and ROC area for each class\n",
    "fpr = dict()\n",
    "tpr = dict()\n",
    "roc_auc = dict()\n",
    "for i in range(n_classes):\n",
    "    fpr[i], tpr[i], _ = roc_curve(y_val_bin[:, i], y_pred_prob[:, i])\n",
    "    roc_auc[i] = auc(fpr[i], tpr[i])\n",
    "\n",
    "# Compute micro-average ROC curve and ROC area\n",
    "fpr[\"micro\"], tpr[\"micro\"], _ = roc_curve(y_val_bin.ravel(), y_pred_prob.ravel())\n",
    "roc_auc[\"micro\"] = auc(fpr[\"micro\"], tpr[\"micro\"])\n",
    "\n",
    "# Plot ROC curves for each class and micro-average\n",
    "plt.figure()\n",
    "lw = 2\n",
    "colors = cycle(['aqua', 'darkorange', 'cornflowerblue'])\n",
    "for i, color in zip(range(n_classes), colors):\n",
    "    plt.plot(fpr[i], tpr[i], color=color, lw=lw,\n",
    "             label='ROC curve of class {0} (AUC = {1:0.2f})'\n",
    "             ''.format(i, roc_auc[i]))\n",
    "\n",
    "plt.plot(fpr[\"micro\"], tpr[\"micro\"], color='deeppink', lw=lw,\n",
    "         label='micro-average ROC curve (AUC = {0:0.2f})'\n",
    "         ''.format(roc_auc[\"micro\"]))\n",
    "\n",
    "plt.plot([0, 1], [0, 1], 'k--', lw=lw)\n",
    "plt.xlim([0.0, 1.0])\n",
    "plt.ylim([0.0, 1.05])\n",
    "plt.xlabel('False Positive Rate')\n",
    "plt.ylabel('True Positive Rate')\n",
    "#plt.title('ROC curves for multi-class classification')\n",
    "#plt.legend(loc=\"lower right\")\n",
    "plt.savefig('ROC_GRAPH_for_Rf.png')\n",
    "plt.show()"
   ]
  },
  {
   "cell_type": "code",
   "execution_count": null,
   "metadata": {},
   "outputs": [],
   "source": [
    "sns.heatmap(conf_matrix_rf, annot=True, fmt='d', cmap='Blues')\n",
    "plt.title('Confusion Matrix RANDOM FOREST')\n",
    "plt.xlabel('Predicted Labels')\n",
    "plt.ylabel('True Labels')\n",
    "plt.show()"
   ]
  },
  {
   "cell_type": "code",
   "execution_count": null,
   "metadata": {},
   "outputs": [],
   "source": [
    "from sklearn.tree import DecisionTreeClassifier"
   ]
  },
  {
   "cell_type": "code",
   "execution_count": null,
   "metadata": {},
   "outputs": [],
   "source": [
    "Dt = DecisionTreeClassifier()\n",
    "Dt.fit(X_train_count, y_train)\n",
    "y_pred = Dt.predict(X_val_count)\n",
    "accuracy = accuracy_score(y_val, y_pred)\n",
    "conf_matrix_dt = confusion_matrix(y_val, y_pred)\n",
    "class_report = classification_report(y_val, y_pred)\n",
    "print(\"Accuracy:\", accuracy)\n",
    "print(\"Confusion matrix:\\n\", conf_matrix_dt)\n",
    "print(\"Classification report:\\n\", class_report)"
   ]
  },
  {
   "cell_type": "code",
   "execution_count": null,
   "metadata": {},
   "outputs": [],
   "source": [
    "from sklearn.metrics import roc_curve, auc\n",
    "from sklearn.preprocessing import label_binarize\n",
    "from itertools import cycle\n",
    "\n",
    "# Convert y_val to binary format\n",
    "n_classes = len(np.unique(y_train))\n",
    "y_val_bin = label_binarize(y_val, classes=np.arange(n_classes))\n",
    "\n",
    "# Train and predict on the validation set\n",
    "Dt.fit(X_train_count, y_train)\n",
    "y_pred_proba = Dt.predict_proba(X_val_count)\n",
    "\n",
    "\n",
    "\n",
    "# Compute ROC curve and ROC area for each class\n",
    "fpr = dict()\n",
    "tpr = dict()\n",
    "roc_auc = dict()\n",
    "for i in range(n_classes):\n",
    "    fpr[i], tpr[i], _ = roc_curve(y_val_bin[:, i], y_pred_prob[:, i])\n",
    "    roc_auc[i] = auc(fpr[i], tpr[i])\n",
    "\n",
    "# Compute micro-average ROC curve and ROC area\n",
    "fpr[\"micro\"], tpr[\"micro\"], _ = roc_curve(y_val_bin.ravel(), y_pred_prob.ravel())\n",
    "roc_auc[\"micro\"] = auc(fpr[\"micro\"], tpr[\"micro\"])\n",
    "\n",
    "# Plot ROC curves for each class and micro-average\n",
    "plt.figure()\n",
    "lw = 2\n",
    "colors = cycle(['aqua', 'darkorange', 'cornflowerblue'])\n",
    "for i, color in zip(range(n_classes), colors):\n",
    "    plt.plot(fpr[i], tpr[i], color=color, lw=lw,\n",
    "             label='ROC curve of class {0} (AUC = {1:0.2f})'\n",
    "             ''.format(i, roc_auc[i]))\n",
    "\n",
    "plt.plot(fpr[\"micro\"], tpr[\"micro\"], color='deeppink', lw=lw,\n",
    "         label='micro-average ROC curve (AUC = {0:0.2f})'\n",
    "         ''.format(roc_auc[\"micro\"]))\n",
    "\n",
    "plt.plot([0, 1], [0, 1], 'k--', lw=lw)\n",
    "plt.xlim([0.0, 1.0])\n",
    "plt.ylim([0.0, 1.05])\n",
    "plt.xlabel('False Positive Rate')\n",
    "plt.ylabel('True Positive Rate')\n",
    "#plt.title('ROC curves for multi-class classification')\n",
    "#plt.legend(loc=\"lower right\")\n",
    "plt.savefig('ROC_GRAPH_for_Dt.png')\n",
    "plt.show()"
   ]
  },
  {
   "cell_type": "code",
   "execution_count": null,
   "metadata": {},
   "outputs": [],
   "source": [
    "sns.heatmap(conf_matrix_dt, annot=True, fmt='d', cmap='Blues')\n",
    "plt.title('Confusion Matrix DECISON TREE')\n",
    "plt.xlabel('Predicted Labels')\n",
    "plt.ylabel('True Labels')\n",
    "plt.show()"
   ]
  },
  {
   "cell_type": "code",
   "execution_count": null,
   "metadata": {},
   "outputs": [],
   "source": [
    "from sklearn.ensemble import RandomForestClassifier\n",
    "from sklearn.ensemble import AdaBoostClassifier"
   ]
  },
  {
   "cell_type": "code",
   "execution_count": null,
   "metadata": {},
   "outputs": [],
   "source": [
    "print(y_pred)"
   ]
  },
  {
   "cell_type": "markdown",
   "metadata": {},
   "source": [
    "bagging"
   ]
  },
  {
   "cell_type": "code",
   "execution_count": null,
   "metadata": {},
   "outputs": [],
   "source": [
    "rfcb = RandomForestClassifier(n_estimators=10, bootstrap=True)\n",
    "rfcb.fit(X_train_count, y_train)\n",
    "y_pred = rfcb.predict(X_val_count)\n",
    "accuracy = accuracy_score(y_val, y_pred)\n",
    "conf_matrix_rfcb = confusion_matrix(y_val, y_pred)\n",
    "class_report = classification_report(y_val, y_pred)\n",
    "print(\"Accuracy:\", accuracy)\n",
    "print(\"Confusion matrix:\\n\", conf_matrix_rfcb)\n",
    "print(\"Classification report:\\n\", class_report)"
   ]
  },
  {
   "cell_type": "code",
   "execution_count": null,
   "metadata": {},
   "outputs": [],
   "source": [
    "from sklearn.metrics import roc_curve, auc\n",
    "from sklearn.preprocessing import label_binarize\n",
    "from itertools import cycle\n",
    "\n",
    "# Convert y_val to binary format\n",
    "n_classes = len(np.unique(y_train))\n",
    "y_val_bin = label_binarize(y_val, classes=np.arange(n_classes))\n",
    "\n",
    "# Train and predict on the validation set\n",
    "rfcb.fit(X_train_count, y_train)\n",
    "y_pred_proba = rfcb.predict_proba(X_val_count)\n",
    "\n",
    "\n",
    "\n",
    "# Compute ROC curve and ROC area for each class\n",
    "fpr = dict()\n",
    "tpr = dict()\n",
    "roc_auc = dict()\n",
    "for i in range(n_classes):\n",
    "    fpr[i], tpr[i], _ = roc_curve(y_val_bin[:, i], y_pred_prob[:, i])\n",
    "    roc_auc[i] = auc(fpr[i], tpr[i])\n",
    "\n",
    "# Compute micro-average ROC curve and ROC area\n",
    "fpr[\"micro\"], tpr[\"micro\"], _ = roc_curve(y_val_bin.ravel(), y_pred_prob.ravel())\n",
    "roc_auc[\"micro\"] = auc(fpr[\"micro\"], tpr[\"micro\"])\n",
    "\n",
    "# Plot ROC curves for each class and micro-average\n",
    "plt.figure()\n",
    "lw = 2\n",
    "colors = cycle(['aqua', 'darkorange', 'cornflowerblue'])\n",
    "for i, color in zip(range(n_classes), colors):\n",
    "    plt.plot(fpr[i], tpr[i], color=color, lw=lw,\n",
    "             label='ROC curve of class {0} (AUC = {1:0.2f})'\n",
    "             ''.format(i, roc_auc[i]))\n",
    "\n",
    "plt.plot(fpr[\"micro\"], tpr[\"micro\"], color='deeppink', lw=lw,\n",
    "         label='micro-average ROC curve (AUC = {0:0.2f})'\n",
    "         ''.format(roc_auc[\"micro\"]))\n",
    "\n",
    "plt.plot([0, 1], [0, 1], 'k--', lw=lw)\n",
    "plt.xlim([0.0, 1.0])\n",
    "plt.ylim([0.0, 1.05])\n",
    "plt.xlabel('False Positive Rate')\n",
    "plt.ylabel('True Positive Rate')\n",
    "#plt.title('ROC curves for multi-class classification')\n",
    "#plt.legend(loc=\"lower right\")\n",
    "plt.savefig('ROC_GRAPH_for_rfcb.png')\n",
    "plt.show()\n",
    "\n"
   ]
  },
  {
   "cell_type": "code",
   "execution_count": null,
   "metadata": {},
   "outputs": [],
   "source": [
    "sns.heatmap(conf_matrix_rfcb, annot=True, fmt='d', cmap='Blues')\n",
    "plt.title('Confusion Matrix RANDOM FOREST BAGGING')\n",
    "plt.xlabel('Predicted Labels')\n",
    "plt.ylabel('True Labels')\n",
    "plt.show()"
   ]
  },
  {
   "cell_type": "code",
   "execution_count": null,
   "metadata": {},
   "outputs": [],
   "source": [
    "x_values = ['SVM','RANDOMFOREST','DECISIONTREE','NAVIEBAYES','LOGISTICREGRESSION','SVCLINEAR','SVCRBF(Radial Basis Function)','RANDOMFORESTBAGGING']\n",
    "y_values = [85,80,86,72,88,84,81,81]\n",
    "fig, ax = plt.subplots()\n",
    "ax.bar(x_values, y_values)\n",
    "ax.set_xlabel('MODEL NAMES')\n",
    "ax.set_ylabel('ACCURACIES')\n",
    "ax.set_xticklabels(x_values, rotation=90)\n",
    "plt.savefig('accuracies1.jpg')\n",
    "plt.show()\n"
   ]
  },
  {
   "cell_type": "code",
   "execution_count": null,
   "metadata": {},
   "outputs": [],
   "source": [
    "import numpy as np\n",
    "import matplotlib.pyplot as plt\n",
    "from sklearn.metrics import roc_curve, auc\n",
    "\n",
    "# Data\n",
    "x_values = ['SVM','RANDOMFOREST','DECISIONTREE','NAVIEBAYES','LOGISTICREGRESSION','SVCLINEAR','SVCRBF(Radial Basis Function)','RANDOMFORESTBAGGING']\n",
    "y_true = np.array([1, 0, 1, 0, 1, 1, 0, 1]) # true labels (1 = positive, 0 = negative)\n",
    "y_scores = np.array([0.85, 0.8, 0.86, 0.72, 0.88, 0.84, 0.81, 0.81]) # predicted scores (probabilities)\n",
    "\n",
    "# Calculate ROC curve for each model\n",
    "fprs = []\n",
    "tprs = []\n",
    "aucs = []\n",
    "for i in range(len(x_values)):\n",
    "    fpr, tpr, _ = roc_curve(y_true, y_scores, pos_label=1)\n",
    "    fprs.append(fpr)\n",
    "    tprs.append(tpr)\n",
    "    aucs.append(auc(fpr, tpr))\n",
    "\n",
    "# Plot ROC curves\n",
    "plt.figure()\n",
    "plt.plot([0, 1], [0, 1], color='gray', linestyle='--')\n",
    "for i in range(len(x_values)):\n",
    "    plt.plot(fprs[i], tprs[i], label='{} (AUC = {:.2f})'.format(x_values[i], aucs[i]))\n",
    "plt.xlabel('False Positive Rate')\n",
    "plt.ylabel('True Positive Rate')\n",
    "plt.title('ROC Curve')\n",
    "plt.legend(loc='lower right')\n",
    "plt.savefig(\"roc cruve of all graphs.png\")\n",
    "plt.show()\n"
   ]
  },
  {
   "cell_type": "code",
   "execution_count": 13,
   "metadata": {},
   "outputs": [],
   "source": [
    "import pickle"
   ]
  },
  {
   "cell_type": "code",
   "execution_count": 14,
   "metadata": {},
   "outputs": [],
   "source": [
    "with open(\"model.pkl\", 'wb') as file:\n",
    "    pickle.dump(logreg1, file)"
   ]
  },
  {
   "cell_type": "code",
   "execution_count": 16,
   "metadata": {},
   "outputs": [],
   "source": [
    "tweets = pd.DataFrame([\"For instance, giving a kiss to your younger sibling daily after waking up in the morning and showing him how much you love them. For some happiness means loving life and seeing others happy. While some finds happiness in writing stories. Some conquer happiness in being simple yet the best person they can ever be. Everyone has their own unique way to feel happy by finding things that they never expected to find.\", # happy\n",
    "        \"Love is the key to happiness. We all want to lead a happy life. People look around for happiness in power, fashion, wealth, drugs etc. But these things can only give temporary pleasures. The power of love can create miracles. Love can create unity among nations and its citizens. Love is the most beautiful feeling in the world. Love has given different meaning by different people depending upon how they have experienced this wonderful feeling.\", # love\n",
    "        \"One day I was studying in my room when, all of a sudden, i heard hot words being exchanged between two persons in the street. I paid no attention, thinking it would be a minor quarrel but soon I heard the voices of a large number of people. I peeped from the window and saw that there was a street quarrel. I went downstairs and reached the spot in the twinkling of an eyes. I was at my wits end on seeing that both of them had come to blows. The people were standing around them and enjoying their quarrel but none tried to pacify them.\", # sad\n",
    "        \"I am so angry at you!!!!!\", # anger\n",
    "        \"you ve hit a new low with a danger of blm fascist slogan please stop it before too late stop\", # anger\n",
    "        \"I love my doggg\", # love\n",
    "        \"I think i'm gonna be sick :'‑(\", # sad\n",
    "        \"I hate you so much\", # anger\n",
    "        \"I'm at work\", # neutral\n",
    "        \"@TheTombert i was watching Harpers Island, lol... there was no vodka involved\", # neutral\n",
    "        \"sometimes i wish things could go back to the way they were the beginning of last summer\", # sad\n",
    "        \"it's your 18th birthday finally!!! yippeeeee\", # happy\n",
    "        \"still waiting in line\", # neutral\n",
    "        \"aarrgghh - fu*k.....a hose has leaked water all over the new floating floor\", # anger\n",
    "        \"that b*tch is so ugly\", # anger\n",
    "        \"oh no he is hospitalised!!!\", # sad\n",
    "       ])\n",
    "\n",
    "tweet_count = count_vect.transform(tweets[0])"
   ]
  },
  {
   "cell_type": "code",
   "execution_count": 17,
   "metadata": {},
   "outputs": [
    {
     "name": "stdout",
     "output_type": "stream",
     "text": [
      "[2 2 5 4 1 2 1 2 2 2 1 2 2 1 1 1]\n"
     ]
    },
    {
     "data": {
      "text/plain": [
       "0     For instance, giving a kiss to your younger si...\n",
       "1     Love is the key to happiness. We all want to l...\n",
       "2     One day I was studying in my room when, all of...\n",
       "3                             I am so angry at you!!!!!\n",
       "4     you ve hit a new low with a danger of blm fasc...\n",
       "5                                       I love my doggg\n",
       "6                        I think i'm gonna be sick :'‑(\n",
       "7                                    I hate you so much\n",
       "8                                           I'm at work\n",
       "9     @TheTombert i was watching Harpers Island, lol...\n",
       "10    sometimes i wish things could go back to the w...\n",
       "11         it's your 18th birthday finally!!! yippeeeee\n",
       "12                                still waiting in line\n",
       "13    aarrgghh - fu*k.....a hose has leaked water al...\n",
       "14                                that b*tch is so ugly\n",
       "15                          oh no he is hospitalised!!!\n",
       "Name: 0, dtype: object"
      ]
     },
     "execution_count": 17,
     "metadata": {},
     "output_type": "execute_result"
    }
   ],
   "source": [
    "#Predicting the emotion of the tweet \n",
    "tweet_pred = logreg1.predict(tweet_count)\n",
    "print(tweet_pred)\n",
    "tweets[0]"
   ]
  },
  {
   "cell_type": "code",
   "execution_count": 19,
   "metadata": {},
   "outputs": [],
   "source": [
    "final_result=tweets.copy()"
   ]
  },
  {
   "cell_type": "code",
   "execution_count": 20,
   "metadata": {},
   "outputs": [
    {
     "data": {
      "text/html": [
       "<div>\n",
       "<style scoped>\n",
       "    .dataframe tbody tr th:only-of-type {\n",
       "        vertical-align: middle;\n",
       "    }\n",
       "\n",
       "    .dataframe tbody tr th {\n",
       "        vertical-align: top;\n",
       "    }\n",
       "\n",
       "    .dataframe thead th {\n",
       "        text-align: right;\n",
       "    }\n",
       "</style>\n",
       "<table border=\"1\" class=\"dataframe\">\n",
       "  <thead>\n",
       "    <tr style=\"text-align: right;\">\n",
       "      <th></th>\n",
       "      <th>tweets</th>\n",
       "      <th>predicted_emotion</th>\n",
       "    </tr>\n",
       "  </thead>\n",
       "  <tbody>\n",
       "    <tr>\n",
       "      <th>0</th>\n",
       "      <td>For instance, giving a kiss to your younger si...</td>\n",
       "      <td>love</td>\n",
       "    </tr>\n",
       "    <tr>\n",
       "      <th>1</th>\n",
       "      <td>Love is the key to happiness. We all want to l...</td>\n",
       "      <td>love</td>\n",
       "    </tr>\n",
       "    <tr>\n",
       "      <th>2</th>\n",
       "      <td>One day I was studying in my room when, all of...</td>\n",
       "      <td>neutral</td>\n",
       "    </tr>\n",
       "    <tr>\n",
       "      <th>3</th>\n",
       "      <td>I am so angry at you!!!!!</td>\n",
       "      <td>fear</td>\n",
       "    </tr>\n",
       "    <tr>\n",
       "      <th>4</th>\n",
       "      <td>you ve hit a new low with a danger of blm fasc...</td>\n",
       "      <td>joy</td>\n",
       "    </tr>\n",
       "    <tr>\n",
       "      <th>5</th>\n",
       "      <td>I love my doggg</td>\n",
       "      <td>love</td>\n",
       "    </tr>\n",
       "    <tr>\n",
       "      <th>6</th>\n",
       "      <td>I think i'm gonna be sick :'‑(</td>\n",
       "      <td>joy</td>\n",
       "    </tr>\n",
       "    <tr>\n",
       "      <th>7</th>\n",
       "      <td>I hate you so much</td>\n",
       "      <td>love</td>\n",
       "    </tr>\n",
       "    <tr>\n",
       "      <th>8</th>\n",
       "      <td>I'm at work</td>\n",
       "      <td>love</td>\n",
       "    </tr>\n",
       "    <tr>\n",
       "      <th>9</th>\n",
       "      <td>@TheTombert i was watching Harpers Island, lol...</td>\n",
       "      <td>love</td>\n",
       "    </tr>\n",
       "    <tr>\n",
       "      <th>10</th>\n",
       "      <td>sometimes i wish things could go back to the w...</td>\n",
       "      <td>joy</td>\n",
       "    </tr>\n",
       "    <tr>\n",
       "      <th>11</th>\n",
       "      <td>it's your 18th birthday finally!!! yippeeeee</td>\n",
       "      <td>love</td>\n",
       "    </tr>\n",
       "    <tr>\n",
       "      <th>12</th>\n",
       "      <td>still waiting in line</td>\n",
       "      <td>love</td>\n",
       "    </tr>\n",
       "    <tr>\n",
       "      <th>13</th>\n",
       "      <td>aarrgghh - fu*k.....a hose has leaked water al...</td>\n",
       "      <td>joy</td>\n",
       "    </tr>\n",
       "    <tr>\n",
       "      <th>14</th>\n",
       "      <td>that b*tch is so ugly</td>\n",
       "      <td>joy</td>\n",
       "    </tr>\n",
       "    <tr>\n",
       "      <th>15</th>\n",
       "      <td>oh no he is hospitalised!!!</td>\n",
       "      <td>joy</td>\n",
       "    </tr>\n",
       "  </tbody>\n",
       "</table>\n",
       "</div>"
      ],
      "text/plain": [
       "                                               tweets predicted_emotion\n",
       "0   For instance, giving a kiss to your younger si...              love\n",
       "1   Love is the key to happiness. We all want to l...              love\n",
       "2   One day I was studying in my room when, all of...           neutral\n",
       "3                           I am so angry at you!!!!!              fear\n",
       "4   you ve hit a new low with a danger of blm fasc...               joy\n",
       "5                                     I love my doggg              love\n",
       "6                      I think i'm gonna be sick :'‑(               joy\n",
       "7                                  I hate you so much              love\n",
       "8                                         I'm at work              love\n",
       "9   @TheTombert i was watching Harpers Island, lol...              love\n",
       "10  sometimes i wish things could go back to the w...               joy\n",
       "11       it's your 18th birthday finally!!! yippeeeee              love\n",
       "12                              still waiting in line              love\n",
       "13  aarrgghh - fu*k.....a hose has leaked water al...               joy\n",
       "14                              that b*tch is so ugly               joy\n",
       "15                        oh no he is hospitalised!!!               joy"
      ]
     },
     "execution_count": 20,
     "metadata": {},
     "output_type": "execute_result"
    }
   ],
   "source": [
    "final_result['result']=tweet_pred\n",
    "final_result=final_result.rename(columns={0:\"tweets\"})\n",
    "final_result=final_result.rename(columns={\"result\":\"predicted_emotion\"})\n",
    "final_result=final_result.replace({0: 'sadness', 1: 'joy', 2: 'love', 3: 'anger', 4: 'fear', 5: 'neutral'})\n",
    "final_result"
   ]
  },
  {
   "cell_type": "code",
   "execution_count": 21,
   "metadata": {},
   "outputs": [],
   "source": [
    "import pickle\n",
    "from flask import Flask,request, jsonify,render_template"
   ]
  },
  {
   "cell_type": "code",
   "execution_count": 22,
   "metadata": {},
   "outputs": [],
   "source": [
    "app = Flask(__name__)"
   ]
  },
  {
   "cell_type": "code",
   "execution_count": 23,
   "metadata": {},
   "outputs": [],
   "source": [
    "model = pickle.load(open(\"model.pkl\", \"rb\"))"
   ]
  },
  {
   "cell_type": "code",
   "execution_count": 24,
   "metadata": {},
   "outputs": [],
   "source": [
    "@app.route('/')\n",
    "def home():\n",
    "    return render_template('home.html')"
   ]
  },
  {
   "cell_type": "code",
   "execution_count": 25,
   "metadata": {},
   "outputs": [],
   "source": [
    "@app.route('/templates/result.html')\n",
    "def results():\n",
    "    return render_template('templates/result.html')"
   ]
  },
  {
   "cell_type": "code",
   "execution_count": 26,
   "metadata": {},
   "outputs": [],
   "source": [
    "def prediction_emotion(tweets):\n",
    "    tweet_count = count_vect.transform(tweets)\n",
    "    tweet_pred = model.predict(tweet_count)\n",
    "    final_result=tweets.copy()\n",
    "    final_result=final_result.rename(columns={0:\"tweets\"})\n",
    "    final_result=final_result.rename(columns={\"result\":\"predicted_emotion\"})\n",
    "    final_result=final_result.replace({0: 'sadness', 1: 'joy', 2: 'love', 3: 'anger', 4: 'fear', 5: 'neutral'})"
   ]
  },
  {
   "cell_type": "code",
   "execution_count": 27,
   "metadata": {},
   "outputs": [],
   "source": [
    "from flask import jsonify\n",
    "\n",
    "@app.route('/predict', methods=['POST'])\n",
    "def predict():\n",
    "    text = request.form['text']\n",
    "    prediction = prediction_emotion(text)\n",
    "    return jsonify({'result': prediction})"
   ]
  },
  {
   "cell_type": "code",
   "execution_count": 29,
   "metadata": {},
   "outputs": [
    {
     "name": "stdout",
     "output_type": "stream",
     "text": [
      " * Serving Flask app \"__main__\" (lazy loading)\n",
      " * Environment: production\n",
      "\u001b[31m   WARNING: This is a development server. Do not use it in a production deployment.\u001b[0m\n",
      "\u001b[2m   Use a production WSGI server instead.\u001b[0m\n",
      " * Debug mode: off\n"
     ]
    },
    {
     "name": "stderr",
     "output_type": "stream",
     "text": [
      " * Running on http://127.0.0.1:5000/ (Press CTRL+C to quit)\n"
     ]
    }
   ],
   "source": [
    "if __name__ == \"__main__\":\n",
    "    app.run()\n",
    "   "
   ]
  },
  {
   "cell_type": "code",
   "execution_count": null,
   "metadata": {},
   "outputs": [],
   "source": []
  }
 ],
 "metadata": {
  "kernelspec": {
   "display_name": "Python 3 (ipykernel)",
   "language": "python",
   "name": "python3"
  },
  "language_info": {
   "codemirror_mode": {
    "name": "ipython",
    "version": 3
   },
   "file_extension": ".py",
   "mimetype": "text/x-python",
   "name": "python",
   "nbconvert_exporter": "python",
   "pygments_lexer": "ipython3",
   "version": "3.9.7"
  }
 },
 "nbformat": 4,
 "nbformat_minor": 4
}
